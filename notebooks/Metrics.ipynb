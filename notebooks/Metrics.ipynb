{
 "cells": [
  {
   "cell_type": "code",
   "execution_count": 1,
   "metadata": {},
   "outputs": [],
   "source": [
    "import argparse\n",
    "import tqdm\n",
    "import numpy as np\n",
    "import torch\n",
    "import torch.nn as nn\n",
    "import torch.nn.functional as F\n",
    "import torch.optim as optim\n",
    "from torchvision import datasets, transforms, models\n",
    "from torch.optim.lr_scheduler import StepLR\n",
    "import matplotlib.pyplot as plt\n",
    "from foolbox import PyTorchModel, accuracy, samples\n",
    "from foolbox.attacks import LinfPGD, FGSM\n",
    "from advertorch.attacks import LinfSPSAAttack\n",
    "from src.trainers import Trainer, FGSMTrainer\n",
    "from robustbench.model_zoo.models import Carmon2019UnlabeledNet\n",
    "from src.utils import adversarial_accuracy, fgsm_\n",
    "from src.gradient_masking_tests import gradient_norm, fgsm_pgd_cos_dif, multi_scale_fgsm\n",
    "import eagerpy as ep\n",
    "from src.Nets import CIFAR_Wide_Res_Net, CIFAR_Res_Net, CIFAR_Net, ResNet18GradReg\n",
    "%load_ext autoreload\n",
    "%autoreload 2\n",
    "%aimport src.Nets, src.trainers, src.gradient_masking_tests"
   ]
  },
  {
   "cell_type": "code",
   "execution_count": 2,
   "metadata": {},
   "outputs": [
    {
     "name": "stdout",
     "output_type": "stream",
     "text": [
      "Files already downloaded and verified\n",
      "Files already downloaded and verified\n"
     ]
    }
   ],
   "source": [
    "# setup\n",
    "device = torch.device(\"cuda\")\n",
    "batch_size = 128\n",
    "# remove the normalize\n",
    "transform = transform = transforms.Compose(\n",
    "            [transforms.ToTensor()]\n",
    ")\n",
    "        \n",
    "normalized_min = (0 - 0.5) / 0.5\n",
    "normalized_max = (1 - 0.5) / 0.5\n",
    "train_dataset = datasets.CIFAR10(root='../data', train=True,\n",
    "                                download=True, transform=transform)\n",
    "train_loader = torch.utils.data.DataLoader(train_dataset, batch_size=batch_size,\n",
    "                                  shuffle=True, num_workers=2)\n",
    "test_dataset = datasets.CIFAR10(root='../data', train=False,\n",
    "                               download=True, transform=transform)\n",
    "test_loader = torch.utils.data.DataLoader(test_dataset, batch_size=batch_size,\n",
    "                                 shuffle=False, num_workers=2)\n",
    "classes = classes = ('plane', 'car', 'bird', 'cat',\n",
    "   'deer', 'dog', 'frog', 'horse', 'ship', 'truck')"
   ]
  },
  {
   "cell_type": "markdown",
   "metadata": {},
   "source": [
    "## Load CIFAR-10 models"
   ]
  },
  {
   "cell_type": "code",
   "execution_count": 3,
   "metadata": {},
   "outputs": [
    {
     "data": {
      "text/plain": [
       "<All keys matched successfully>"
      ]
     },
     "execution_count": 3,
     "metadata": {},
     "output_type": "execute_result"
    }
   ],
   "source": [
    "# # Regular CIFAR-10  ResNet Model\n",
    "model = CIFAR_Res_Net(device).eval()\n",
    "model.load_state_dict(torch.load(\"../models/cifar_res_net.model\"))\n",
    "# CIFAR-10  ResNet Model trained with large FGSM steps\n",
    "fgsm_model = CIFAR_Res_Net(device).eval()\n",
    "fgsm_model.load_state_dict(torch.load(\"../models/cifar_res_net_fgsm06.model\"))\n",
    "# # # CIFAR-10  ResNet Model trained with small FGSM steps\n",
    "fgsm_model_small = CIFAR_Res_Net(device).eval()\n",
    "fgsm_model_small.load_state_dict(torch.load(\"../models/cifar_res_net_20e_fgsm03.model\"))\n",
    "# # # CIFAR-10  ResNet Model trained with large Step-ll steps\n",
    "step_ll_model = CIFAR_Res_Net(device).eval()\n",
    "step_ll_model.load_state_dict(torch.load(\"../models/cifar_res_net_20e_stepll.model\"))\n",
    "# # CIFAR-10  ResNet Model trained through input gradient regularization\n",
    "gradient_norm_model = CIFAR_Res_Net(device).eval()\n",
    "state_dict = torch.load(\"D:/Libraries/Documents/tulip/cifar10/logs/cifar10/ResNet18/200e/best.pth.tar\")['state_dict']\n",
    "gradient_norm_model.load_state_dict(state_dict)"
   ]
  },
  {
   "cell_type": "markdown",
   "metadata": {},
   "source": [
    "### Check gradient norms\n",
    "Gradients seem to blow up after FGSM training"
   ]
  },
  {
   "cell_type": "code",
   "execution_count": 4,
   "metadata": {},
   "outputs": [],
   "source": [
    "subset_size = 5000\n",
    "subset = torch.utils.data.Subset(train_dataset, np.random.randint(0, len(test_dataset), size=subset_size).tolist())\n",
    "subset_loader = torch.utils.data.DataLoader(subset, batch_size=batch_size,\n",
    "                                 shuffle=False, num_workers=2)"
   ]
  },
  {
   "cell_type": "code",
   "execution_count": 12,
   "metadata": {},
   "outputs": [
    {
     "data": {
      "image/png": "[encoded data removed]",
      "text/plain": [
       "<Figure size 432x288 with 1 Axes>"
      ]
     },
     "metadata": {
      "needs_background": "light"
     },
     "output_type": "display_data"
    }
   ],
   "source": [
    "plt.hist(gradient_norm(model, subset_loader, device=device).detach().cpu().numpy(), bins=100)\n",
    "plt.show()"
   ]
  },
  {
   "cell_type": "code",
   "execution_count": 13,
   "metadata": {},
   "outputs": [
    {
     "data": {
      "image/png": "[encoded data removed]",
      "text/plain": [
       "<Figure size 432x288 with 1 Axes>"
      ]
     },
     "metadata": {
      "needs_background": "light"
     },
     "output_type": "display_data"
    }
   ],
   "source": [
    "plt.hist(gradient_norm(fgsm_model, subset_loader, device=device).detach().cpu().numpy(), bins=100)\n",
    "plt.show()"
   ]
  },
  {
   "cell_type": "code",
   "execution_count": 5,
   "metadata": {},
   "outputs": [
    {
     "data": {
      "image/png": "[encoded data removed]",
      "text/plain": [
       "<Figure size 432x288 with 1 Axes>"
      ]
     },
     "metadata": {
      "needs_background": "light"
     },
     "output_type": "display_data"
    }
   ],
   "source": [
    "plt.hist(gradient_norm(gradient_norm_model, subset_loader, device=device).detach().cpu().numpy(), bins=100)\n",
    "plt.show()"
   ]
  },
  {
   "cell_type": "code",
   "execution_count": 12,
   "metadata": {},
   "outputs": [
    {
     "data": {
      "image/png": "[encoded data removed]",
      "text/plain": [
       "<Figure size 432x288 with 1 Axes>"
      ]
     },
     "metadata": {
      "needs_background": "light"
     },
     "output_type": "display_data"
    }
   ],
   "source": [
    "plt.hist(gradient_norm(step_ll_model, subset_loader, device=device).detach().cpu().numpy(), bins=100)\n",
    "plt.show()"
   ]
  },
  {
   "cell_type": "code",
   "execution_count": 4,
   "metadata": {},
   "outputs": [
    {
     "name": "stderr",
     "output_type": "stream",
     "text": [
      "100%|██████████████████████████████████████████████████████████████████████████████████| 40/40 [01:23<00:00,  2.09s/it]\n"
     ]
    },
    {
     "data": {
      "text/plain": [
       "(tensor(0.9981, device='cuda:0'),\n",
       " tensor(0.9977, device='cuda:0'),\n",
       " tensor(1.7800, device='cuda:0'))"
      ]
     },
     "execution_count": 4,
     "metadata": {},
     "output_type": "execute_result"
    }
   ],
   "source": [
    "cos_dif, dist, success_fgsm, success_pgd, success_adjusted_fgsm = fgsm_pgd_cos_dif(model, test_dataset, epsilon=0.03, device=device, batch_size=batch_size, subset_size=5000, n_steps_pgd=20)\n",
    "cos_dif[(~success_fgsm & success_pgd)].mean(), cos_dif[success_fgsm].mean(), dist.mean()"
   ]
  },
  {
   "cell_type": "code",
   "execution_count": 5,
   "metadata": {},
   "outputs": [
    {
     "data": {
      "text/plain": [
       "(tensor(4773, device='cuda:0'),\n",
       " tensor(5000, device='cuda:0'),\n",
       " tensor(4724, device='cuda:0'))"
      ]
     },
     "execution_count": 5,
     "metadata": {},
     "output_type": "execute_result"
    }
   ],
   "source": [
    "success_fgsm.sum(), success_pgd.sum(), success_adjusted_fgsm.sum()"
   ]
  },
  {
   "cell_type": "code",
   "execution_count": 6,
   "metadata": {},
   "outputs": [
    {
     "name": "stderr",
     "output_type": "stream",
     "text": [
      "100%|██████████████████████████████████████████████████████████████████████████████████| 40/40 [01:22<00:00,  2.05s/it]\n"
     ]
    },
    {
     "data": {
      "text/plain": [
       "(tensor(0.9973, device='cuda:0'),\n",
       " tensor(0.9969, device='cuda:0'),\n",
       " tensor(1.9531, device='cuda:0'))"
      ]
     },
     "execution_count": 6,
     "metadata": {},
     "output_type": "execute_result"
    }
   ],
   "source": [
    "cos_dif, dist, success_fgsm, success_pgd, success_adjusted_fgsm = fgsm_pgd_cos_dif(fgsm_model, test_dataset, epsilon=0.03, device=device, batch_size=batch_size, subset_size=5000, n_steps_pgd=20)\n",
    "cos_dif[(~success_fgsm & success_pgd)].mean(), cos_dif[success_fgsm].mean(), dist.mean()"
   ]
  },
  {
   "cell_type": "code",
   "execution_count": 7,
   "metadata": {},
   "outputs": [
    {
     "data": {
      "text/plain": [
       "(tensor(1290, device='cuda:0'),\n",
       " tensor(5000, device='cuda:0'),\n",
       " tensor(2789, device='cuda:0'))"
      ]
     },
     "execution_count": 7,
     "metadata": {},
     "output_type": "execute_result"
    }
   ],
   "source": [
    "success_fgsm.sum(), success_pgd.sum(), success_adjusted_fgsm.sum()"
   ]
  },
  {
   "cell_type": "code",
   "execution_count": 8,
   "metadata": {},
   "outputs": [
    {
     "name": "stderr",
     "output_type": "stream",
     "text": [
      "100%|██████████████████████████████████████████████████████████████████████████████████| 40/40 [01:21<00:00,  2.04s/it]\n"
     ]
    },
    {
     "data": {
      "text/plain": [
       "(tensor(0.9981, device='cuda:0'),\n",
       " tensor(0.9977, device='cuda:0'),\n",
       " tensor(1.7645, device='cuda:0'))"
      ]
     },
     "execution_count": 8,
     "metadata": {},
     "output_type": "execute_result"
    }
   ],
   "source": [
    "cos_dif, dist, success_fgsm, success_pgd, success_adjusted_fgsm = fgsm_pgd_cos_dif(gradient_norm_model, test_dataset, epsilon=0.03, device=device, batch_size=batch_size, subset_size=5000, n_steps_pgd=20)\n",
    "cos_dif[(~success_fgsm & success_pgd)].mean(), cos_dif[success_fgsm].mean(), dist.mean()"
   ]
  },
  {
   "cell_type": "code",
   "execution_count": 9,
   "metadata": {},
   "outputs": [
    {
     "data": {
      "text/plain": [
       "(tensor(4350, device='cuda:0'),\n",
       " tensor(4974, device='cuda:0'),\n",
       " tensor(4272, device='cuda:0'))"
      ]
     },
     "execution_count": 9,
     "metadata": {},
     "output_type": "execute_result"
    }
   ],
   "source": [
    "success_fgsm.sum(), success_pgd.sum(), success_adjusted_fgsm.sum()"
   ]
  },
  {
   "cell_type": "code",
   "execution_count": 10,
   "metadata": {},
   "outputs": [
    {
     "name": "stderr",
     "output_type": "stream",
     "text": [
      "100%|██████████████████████████████████████████████████████████████████████████████████| 40/40 [01:23<00:00,  2.09s/it]\n"
     ]
    },
    {
     "data": {
      "text/plain": [
       "(tensor(0.9974, device='cuda:0'),\n",
       " tensor(0.9968, device='cuda:0'),\n",
       " tensor(1.8595, device='cuda:0'))"
      ]
     },
     "execution_count": 10,
     "metadata": {},
     "output_type": "execute_result"
    }
   ],
   "source": [
    "cos_dif, dist, success_fgsm, success_pgd, success_adjusted_fgsm = fgsm_pgd_cos_dif(step_ll_model, train_dataset, epsilon=0.03, device=device, batch_size=batch_size, subset_size=5000, n_steps_pgd=20)\n",
    "cos_dif[(~success_fgsm & success_pgd)].mean(), cos_dif[success_fgsm].mean(), dist.mean()"
   ]
  },
  {
   "cell_type": "code",
   "execution_count": 11,
   "metadata": {},
   "outputs": [
    {
     "data": {
      "text/plain": [
       "(tensor(21, device='cuda:0'),\n",
       " tensor(4317, device='cuda:0'),\n",
       " tensor(74, device='cuda:0'))"
      ]
     },
     "execution_count": 11,
     "metadata": {},
     "output_type": "execute_result"
    }
   ],
   "source": [
    "success_fgsm.sum(), success_pgd.sum(), success_adjusted_fgsm.sum()"
   ]
  }
 ],
 "metadata": {
  "kernelspec": {
   "display_name": "Python [conda env:pytorch-env] *",
   "language": "python",
   "name": "conda-env-pytorch-env-py"
  },
  "language_info": {
   "codemirror_mode": {
    "name": "ipython",
    "version": 3
   },
   "file_extension": ".py",
   "mimetype": "text/x-python",
   "name": "python",
   "nbconvert_exporter": "python",
   "pygments_lexer": "ipython3",
   "version": "3.8.5"
  }
 },
 "nbformat": 4,
 "nbformat_minor": 4
}
