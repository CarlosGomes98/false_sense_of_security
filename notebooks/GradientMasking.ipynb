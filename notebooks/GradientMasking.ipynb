{
 "cells": [
  {
   "cell_type": "markdown",
   "metadata": {},
   "source": [
    "# Evaluate Gradient Masking\n",
    "\n",
    "This notebook runs some checks to determine if the networks may be gradient masked.\n",
    "These checks may take some time and are not necessarily suitable as metrics themselves."
   ]
  },
  {
   "cell_type": "code",
   "execution_count": 1,
   "metadata": {},
   "outputs": [],
   "source": [
    "import argparse\n",
    "import tqdm\n",
    "import numpy as np\n",
    "import torch\n",
    "import torch.nn as nn\n",
    "import torch.nn.functional as F\n",
    "import torch.optim as optim\n",
    "from torchvision import datasets, transforms, models\n",
    "from torch.optim.lr_scheduler import StepLR\n",
    "import matplotlib.pyplot as plt\n",
    "from foolbox import PyTorchModel, accuracy, samples\n",
    "from foolbox.attacks import LinfPGD, FGSM\n",
    "from advertorch.attacks import LinfSPSAAttack\n",
    "from src.trainers import Trainer, FGSMTrainer\n",
    "from robustbench.model_zoo.models import Carmon2019UnlabeledNet\n",
    "from src.utils import adversarial_accuracy, fgsm_\n",
    "import eagerpy as ep\n",
    "from src.Nets import CIFAR_Wide_Res_Net, CIFAR_Res_Net, CIFAR_Net, ResNet18GradReg\n",
    "from src.gradient_masking_tests import run_masking_benchmarks\n",
    "%load_ext autoreload\n",
    "%autoreload 2\n",
    "%aimport src.Nets, src.trainers"
   ]
  },
  {
   "cell_type": "markdown",
   "metadata": {},
   "source": [
    "## Setup to import trained CIFAR-10 Models"
   ]
  },
  {
   "cell_type": "code",
   "execution_count": 2,
   "metadata": {},
   "outputs": [
    {
     "name": "stdout",
     "output_type": "stream",
     "text": [
      "Files already downloaded and verified\n",
      "Files already downloaded and verified\n"
     ]
    }
   ],
   "source": [
    "# setup\n",
    "device = torch.device(\"cuda\")\n",
    "batch_size = 32\n",
    "# remove the normalize\n",
    "transform = transform = transforms.Compose(\n",
    "            [transforms.ToTensor()]\n",
    ")\n",
    "        \n",
    "normalized_min = (0 - 0.5) / 0.5\n",
    "normalized_max = (1 - 0.5) / 0.5\n",
    "train_dataset = datasets.CIFAR10(root='../data', train=True,\n",
    "                                download=True, transform=transform)\n",
    "train_loader = torch.utils.data.DataLoader(train_dataset, batch_size=batch_size,\n",
    "                                  shuffle=True, num_workers=2)\n",
    "test_dataset = datasets.CIFAR10(root='../data', train=False,\n",
    "                               download=True, transform=transform)\n",
    "test_loader = torch.utils.data.DataLoader(test_dataset, batch_size=batch_size,\n",
    "                                 shuffle=False, num_workers=2)\n",
    "classes = classes = ('plane', 'car', 'bird', 'cat',\n",
    "   'deer', 'dog', 'frog', 'horse', 'ship', 'truck')"
   ]
  },
  {
   "cell_type": "markdown",
   "metadata": {},
   "source": [
    "## Load Trained Models"
   ]
  },
  {
   "cell_type": "code",
   "execution_count": 4,
   "metadata": {
    "scrolled": true
   },
   "outputs": [
    {
     "data": {
      "text/plain": [
       "<All keys matched successfully>"
      ]
     },
     "execution_count": 4,
     "metadata": {},
     "output_type": "execute_result"
    }
   ],
   "source": [
    "# # Regular CIFAR-10  ResNet Model\n",
    "# model = CIFAR_Res_Net(device).eval()\n",
    "# model.load_state_dict(torch.load(\"../models/cifar_res_net.model\"))\n",
    "# # CIFAR-10  ResNet Model trained with large FGSM steps\n",
    "# fgsm_model = CIFAR_Wide_Res_Net(device).eval()\n",
    "# fgsm_model.load_state_dict(torch.load(\"../models/cifar_res_net_fgsm06.model\"))\n",
    "# # CIFAR-10  ResNet Model trained with small FGSM steps\n",
    "# fgsm_model_small = CIFAR_Res_Net(device).eval()\n",
    "# fgsm_model_small.load_state_dict(torch.load(\"../models/cifar_res_net_20e_fgsm03.model\"))\n",
    "# # CIFAR-10  ResNet Model trained with large Step-ll steps\n",
    "# step_ll_model = CIFAR_Res_Net(device).eval()\n",
    "# step_ll_model.load_state_dict(torch.load(\"../models/cifar_res_net_20e_stepll.model\"))\n",
    "# CIFAR-10  ResNet Model trained through input gradient regularization\n",
    "gradient_norm_model = CIFAR_Res_Net(device).eval()\n",
    "state_dict = torch.load(\"D:/Libraries/Documents/tulip/cifar10/logs/cifar10/ResNet18/200e/best.pth.tar\")['state_dict']\n",
    "gradient_norm_model.load_state_dict(state_dict)"
   ]
  },
  {
   "cell_type": "markdown",
   "metadata": {},
   "source": [
    "# Run Benchmarks\n",
    "### The benchmarks consist of:\n",
    "- Standard Accuracy\n",
    "- FGSM attack at different epsilons\n",
    "- PGD attack\n",
    "- Unbounded PGD attack\n",
    "- Black Box (SPSA) Attack\n",
    "\n",
    "For a gradient masked model, we might expect that:\n",
    "- FGSM accuracy does not drop as epsilon increases\n",
    "- PGD preforms worse than FGSM (turns out to not ever be the case)\n",
    "- Unbounded PGD attack does not reach 0% accuracy\n",
    "- Black box accuracy is lower than white box accuracy "
   ]
  },
  {
   "cell_type": "code",
   "execution_count": 39,
   "metadata": {},
   "outputs": [
    {
     "name": "stderr",
     "output_type": "stream",
     "text": [
      "100%|████████████████████████████████████████████████████████████████████████████████| 313/313 [00:04<00:00, 71.73it/s]\n",
      "  0%|                                                                                          | 0/313 [00:00<?, ?it/s]"
     ]
    },
    {
     "name": "stdout",
     "output_type": "stream",
     "text": [
      "Model accuracy: 84.86%\n"
     ]
    },
    {
     "name": "stderr",
     "output_type": "stream",
     "text": [
      "100%|████████████████████████████████████████████████████████████████████████████████| 313/313 [00:11<00:00, 27.88it/s]\n",
      "100%|████████████████████████████████████████████████████████████████████████████████| 313/313 [00:11<00:00, 27.75it/s]\n",
      "100%|████████████████████████████████████████████████████████████████████████████████| 313/313 [00:11<00:00, 27.47it/s]\n",
      "  0%|                                                                                          | 0/313 [00:00<?, ?it/s]"
     ]
    },
    {
     "name": "stdout",
     "output_type": "stream",
     "text": [
      "FGSM attack model accuracy -- eps = 0.006: 36.870000000000005%, eps = 0.03: 4.58%, eps = 0.06: 1.87%\n"
     ]
    },
    {
     "name": "stderr",
     "output_type": "stream",
     "text": [
      "100%|████████████████████████████████████████████████████████████████████████████████| 313/313 [02:21<00:00,  2.21it/s]\n",
      "  0%|                                                                                          | 0/313 [00:00<?, ?it/s]"
     ]
    },
    {
     "name": "stdout",
     "output_type": "stream",
     "text": [
      "PGD accuracy: 0.0%\n"
     ]
    },
    {
     "name": "stderr",
     "output_type": "stream",
     "text": [
      "100%|████████████████████████████████████████████████████████████████████████████████| 313/313 [02:20<00:00,  2.22it/s]\n",
      "  0%|                                                                                           | 0/13 [00:00<?, ?it/s]"
     ]
    },
    {
     "name": "stdout",
     "output_type": "stream",
     "text": [
      "Unbounded PGD model accuracy: 0.0%\n"
     ]
    },
    {
     "name": "stderr",
     "output_type": "stream",
     "text": [
      "100%|██████████████████████████████████████████████████████████████████████████████████| 13/13 [00:35<00:00,  2.71s/it]"
     ]
    },
    {
     "name": "stdout",
     "output_type": "stream",
     "text": [
      "SPSA accuracy: 15.0%\n"
     ]
    },
    {
     "name": "stderr",
     "output_type": "stream",
     "text": [
      "\n"
     ]
    }
   ],
   "source": [
    "# Regular Model\n",
    "run_masking_benchmarks(model, test_dataset, epsilon=0.06, device=device, batch_size=batch_size)"
   ]
  },
  {
   "cell_type": "markdown",
   "metadata": {},
   "source": [
    "Strangely, the fgsm model with large steps produces a model where increasing epsilon not only does not make the attack stronger, but instead, makes it much weaker.\n",
    "\n",
    "In contrast, the model is significantly less robust at small epsilons.\n",
    "\n",
    "It might be the case that we have created a subspace, beyond the decision boundary, making the model appear robust there.\n",
    "\n",
    "However, this still does not explain how the model is now much more susceptible at smaller epsilons!\n",
    "\n",
    "This seems to indicate the gradient is still informative?"
   ]
  },
  {
   "cell_type": "code",
   "execution_count": 40,
   "metadata": {},
   "outputs": [
    {
     "name": "stderr",
     "output_type": "stream",
     "text": [
      "100%|████████████████████████████████████████████████████████████████████████████████| 313/313 [00:04<00:00, 73.58it/s]\n",
      "100%|████████████████████████████████████████████████████████████████████████████████| 313/313 [00:11<00:00, 27.77it/s]\n",
      "100%|████████████████████████████████████████████████████████████████████████████████| 313/313 [00:11<00:00, 27.85it/s]\n",
      "100%|████████████████████████████████████████████████████████████████████████████████| 313/313 [00:11<00:00, 27.87it/s]\n",
      "100%|████████████████████████████████████████████████████████████████████████████████| 313/313 [02:21<00:00,  2.22it/s]\n",
      "100%|████████████████████████████████████████████████████████████████████████████████| 313/313 [02:21<00:00,  2.21it/s]\n",
      "100%|██████████████████████████████████████████████████████████████████████████████████| 13/13 [00:35<00:00,  2.71s/it]"
     ]
    },
    {
     "name": "stdout",
     "output_type": "stream",
     "text": [
      "Model accuracy: 72.53%\n",
      "FGSM attack model accuracy -- eps = 0.006: 10.299999999999999%, eps = 0.03: 73.95%, eps = 0.06: 85.24000000000001%\n",
      "Gradient Masking Warning: Increasing epsilon did not improve the attack!!\n",
      "PGD accuracy: 0.0%\n",
      "Unbounded PGD model accuracy: 0.0%\n",
      "SPSA accuracy: 5.0%\n",
      "Gradient Masking Warning: Black Box attack was stronger than FGSM attack!!\n"
     ]
    },
    {
     "name": "stderr",
     "output_type": "stream",
     "text": [
      "\n"
     ]
    }
   ],
   "source": [
    "# fgsm model with large steps\n",
    "run_masking_benchmarks(fgsm_model, test_dataset, epsilon=0.06, device=device, batch_size=batch_size)"
   ]
  },
  {
   "cell_type": "code",
   "execution_count": 10,
   "metadata": {},
   "outputs": [
    {
     "name": "stderr",
     "output_type": "stream",
     "text": [
      "100%|████████████████████████████████████████████████████████████████████████████████| 313/313 [00:05<00:00, 61.57it/s]\n",
      "100%|████████████████████████████████████████████████████████████████████████████████| 313/313 [00:12<00:00, 25.05it/s]\n",
      "100%|████████████████████████████████████████████████████████████████████████████████| 313/313 [00:12<00:00, 25.85it/s]\n",
      "100%|████████████████████████████████████████████████████████████████████████████████| 313/313 [00:12<00:00, 25.79it/s]\n",
      "100%|████████████████████████████████████████████████████████████████████████████████| 313/313 [02:25<00:00,  2.15it/s]\n",
      "100%|████████████████████████████████████████████████████████████████████████████████| 313/313 [02:24<00:00,  2.16it/s]\n",
      "100%|██████████████████████████████████████████████████████████████████████████████████| 13/13 [00:37<00:00,  2.86s/it]"
     ]
    },
    {
     "name": "stdout",
     "output_type": "stream",
     "text": [
      "Model accuracy: 69.61%\n",
      "FGSM attack model accuracy -- eps = 0.006: 62.53999999999999%, eps = 0.03: 36.83%, eps = 0.06: 16.36%\n",
      "PGD accuracy: 7.1%\n",
      "Unbounded PGD model accuracy: 0.0%\n",
      "SPSA accuracy: 45.0%\n"
     ]
    },
    {
     "name": "stderr",
     "output_type": "stream",
     "text": [
      "\n"
     ]
    }
   ],
   "source": [
    "# fgsm model with small steps\n",
    "run_masking_benchmarks(fgsm_model_small, test_dataset, epsilon=0.06, device=device, batch_size=batch_size)"
   ]
  },
  {
   "cell_type": "markdown",
   "metadata": {},
   "source": [
    "### Step-ll potential gradient masking!\n",
    "We notice that increasing epsilon does not improve the attack. \n",
    "\n",
    "However, unlike with FGSM, the model is more robust at small epsilons.\n",
    "\n",
    "This together with black box outpreforming white box attacks, suggests an incidence of gradient masking"
   ]
  },
  {
   "cell_type": "code",
   "execution_count": 13,
   "metadata": {},
   "outputs": [
    {
     "name": "stderr",
     "output_type": "stream",
     "text": [
      "100%|████████████████████████████████████████████████████████████████████████████████| 313/313 [00:04<00:00, 70.20it/s]\n",
      "100%|████████████████████████████████████████████████████████████████████████████████| 313/313 [00:11<00:00, 27.12it/s]\n",
      "100%|████████████████████████████████████████████████████████████████████████████████| 313/313 [00:11<00:00, 27.22it/s]\n",
      "100%|████████████████████████████████████████████████████████████████████████████████| 313/313 [00:11<00:00, 27.15it/s]\n",
      "100%|████████████████████████████████████████████████████████████████████████████████| 313/313 [02:23<00:00,  2.18it/s]\n",
      "100%|████████████████████████████████████████████████████████████████████████████████| 313/313 [02:22<00:00,  2.19it/s]\n",
      "100%|██████████████████████████████████████████████████████████████████████████████████| 13/13 [00:35<00:00,  2.76s/it]"
     ]
    },
    {
     "name": "stdout",
     "output_type": "stream",
     "text": [
      "Model accuracy: 72.36%\n",
      "FGSM attack model accuracy -- eps = 0.006: 54.31%, eps = 0.03: 56.74%, eps = 0.06: 55.71%\n",
      "Gradient Masking Warning: Increasing epsilon did not improve the attack!!\n",
      "PGD accuracy: 0.4%\n",
      "Unbounded PGD model accuracy: 0.0%\n",
      "SPSA accuracy: 17.0%\n",
      "Gradient Masking Warning: Black Box attack was stronger than FGSM attack!!\n"
     ]
    },
    {
     "name": "stderr",
     "output_type": "stream",
     "text": [
      "\n"
     ]
    }
   ],
   "source": [
    "# step-ll model\n",
    "run_masking_benchmarks(step_ll_model, test_dataset, epsilon=0.06, device=device, batch_size=batch_size)"
   ]
  },
  {
   "cell_type": "markdown",
   "metadata": {},
   "source": [
    "Gradient normalization model does become more robust.\n",
    "\n",
    "Tried with 200 epochs, as in paper. all other nets 20e."
   ]
  },
  {
   "cell_type": "code",
   "execution_count": 5,
   "metadata": {},
   "outputs": [
    {
     "name": "stderr",
     "output_type": "stream",
     "text": [
      "100%|████████████████████████████████████████████████████████████████████████████████| 313/313 [00:06<00:00, 46.95it/s]\n",
      "100%|████████████████████████████████████████████████████████████████████████████████| 313/313 [00:11<00:00, 26.70it/s]\n",
      "100%|████████████████████████████████████████████████████████████████████████████████| 313/313 [00:11<00:00, 27.32it/s]\n",
      "100%|████████████████████████████████████████████████████████████████████████████████| 313/313 [00:11<00:00, 27.45it/s]\n",
      "100%|████████████████████████████████████████████████████████████████████████████████| 313/313 [00:53<00:00,  5.85it/s]\n",
      "100%|████████████████████████████████████████████████████████████████████████████████| 313/313 [00:53<00:00,  5.85it/s]\n",
      "100%|██████████████████████████████████████████████████████████████████████████████████| 13/13 [00:35<00:00,  2.72s/it]"
     ]
    },
    {
     "name": "stdout",
     "output_type": "stream",
     "text": [
      "Model accuracy: 92.29%\n",
      "FGSM attack model accuracy -- eps = 0.006: 71.89999999999999%, eps = 0.03: 13.489999999999998%, eps = 0.06: 3.5000000000000004%\n",
      "PGD accuracy: 0.0%\n",
      "Unbounded PGD model accuracy: 0.0%\n",
      "SPSA accuracy: 9.0%\n"
     ]
    },
    {
     "name": "stderr",
     "output_type": "stream",
     "text": [
      "\n"
     ]
    }
   ],
   "source": [
    "run_masking_benchmarks(gradient_norm_model, test_dataset, epsilon=0.06, device=device, batch_size=batch_size)"
   ]
  },
  {
   "cell_type": "markdown",
   "metadata": {},
   "source": [
    "## Wide RESNET Model"
   ]
  },
  {
   "cell_type": "code",
   "execution_count": 7,
   "metadata": {},
   "outputs": [
    {
     "name": "stderr",
     "output_type": "stream",
     "text": [
      "100%|████████████████████████████████████████████████████████████████████████████████| 313/313 [00:28<00:00, 11.02it/s]\n",
      "100%|████████████████████████████████████████████████████████████████████████████████| 313/313 [00:46<00:00,  6.78it/s]\n",
      "100%|████████████████████████████████████████████████████████████████████████████████| 313/313 [00:46<00:00,  6.79it/s]\n",
      "100%|████████████████████████████████████████████████████████████████████████████████| 313/313 [00:46<00:00,  6.73it/s]\n",
      "100%|████████████████████████████████████████████████████████████████████████████████| 313/313 [10:44<00:00,  2.06s/it]\n",
      "100%|████████████████████████████████████████████████████████████████████████████████| 313/313 [10:43<00:00,  2.05s/it]\n",
      "100%|██████████████████████████████████████████████████████████████████████████████████| 13/13 [03:41<00:00, 17.02s/it]"
     ]
    },
    {
     "name": "stdout",
     "output_type": "stream",
     "text": [
      "Model accuracy: 84.27%\n",
      "FGSM attack model accuracy -- eps = 0.006: 31.900000000000002%, eps = 0.03: 5.33%, eps = 0.06: 4.5600000000000005%\n",
      "PGD accuracy: 0.0%\n",
      "Unbounded PGD model accuracy: 0.0%\n",
      "SPSA accuracy: 11.0%\n"
     ]
    },
    {
     "name": "stderr",
     "output_type": "stream",
     "text": [
      "\n"
     ]
    }
   ],
   "source": [
    "run_masking_benchmarks(wide_model, test_dataset, epsilon=0.06, device=device, batch_size=batch_size)"
   ]
  },
  {
   "cell_type": "code",
   "execution_count": 8,
   "metadata": {},
   "outputs": [
    {
     "name": "stderr",
     "output_type": "stream",
     "text": [
      "100%|████████████████████████████████████████████████████████████████████████████████| 313/313 [00:15<00:00, 20.21it/s]\n",
      "100%|████████████████████████████████████████████████████████████████████████████████| 313/313 [00:46<00:00,  6.70it/s]\n",
      "100%|████████████████████████████████████████████████████████████████████████████████| 313/313 [00:46<00:00,  6.77it/s]\n",
      "100%|████████████████████████████████████████████████████████████████████████████████| 313/313 [00:45<00:00,  6.85it/s]\n",
      "100%|████████████████████████████████████████████████████████████████████████████████| 313/313 [10:28<00:00,  2.01s/it]\n",
      "100%|████████████████████████████████████████████████████████████████████████████████| 313/313 [10:26<00:00,  2.00s/it]\n",
      "100%|██████████████████████████████████████████████████████████████████████████████████| 13/13 [03:34<00:00, 16.49s/it]"
     ]
    },
    {
     "name": "stdout",
     "output_type": "stream",
     "text": [
      "Model accuracy: 63.190000000000005%\n",
      "FGSM attack model accuracy -- eps = 0.006: 12.4%, eps = 0.03: 72.77%, eps = 0.06: 85.47%\n",
      "Gradient Masking Warning: Increasing epsilon did not improve the attack!!\n",
      "PGD accuracy: 0.0%\n",
      "Unbounded PGD model accuracy: 0.0%\n",
      "SPSA accuracy: 0.0%\n",
      "Gradient Masking Warning: Black Box attack was stronger than FGSM attack!!\n"
     ]
    },
    {
     "name": "stderr",
     "output_type": "stream",
     "text": [
      "\n"
     ]
    }
   ],
   "source": [
    "run_masking_benchmarks(wide_fgsm_model, test_dataset, epsilon=0.06, device=device, batch_size=batch_size)"
   ]
  }
 ],
 "metadata": {
  "kernelspec": {
   "display_name": "Python 3",
   "language": "python",
   "name": "python3"
  },
  "language_info": {
   "codemirror_mode": {
    "name": "ipython",
    "version": 3
   },
   "file_extension": ".py",
   "mimetype": "text/x-python",
   "name": "python",
   "nbconvert_exporter": "python",
   "pygments_lexer": "ipython3",
   "version": "3.8.5"
  }
 },
 "nbformat": 4,
 "nbformat_minor": 4
}
