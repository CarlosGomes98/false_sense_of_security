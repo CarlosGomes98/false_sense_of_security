{
 "cells": [
  {
   "cell_type": "markdown",
   "metadata": {
    "id": "nOIe0LH8jCAy"
   },
   "source": [
    "# Evaluate Gradient Masking\n",
    "\n",
    "This notebook runs some checks to determine if the networks may be gradient masked.\n",
    "These checks may take some time and are not necessarily suitable as metrics themselves."
   ]
  },
  {
   "cell_type": "code",
   "execution_count": 1,
   "metadata": {
    "id": "HVtNIBHojCA4"
   },
   "outputs": [],
   "source": [
    "import argparse\n",
    "import tqdm\n",
    "import numpy as np\n",
    "import torch\n",
    "import torch.nn as nn\n",
    "import torch.nn.functional as F\n",
    "import torch.optim as optim\n",
    "from torchvision import datasets, transforms, models\n",
    "from torch.optim.lr_scheduler import StepLR\n",
    "import matplotlib.pyplot as plt\n",
    "from foolbox import PyTorchModel, accuracy, samples\n",
    "from foolbox.attacks import LinfPGD, FGSM\n",
    "from advertorch.attacks import LinfSPSAAttack\n",
    "from src.trainers import Trainer, FGSMTrainer\n",
    "from src.utils import adversarial_accuracy, fgsm_, pgd_\n",
    "from src.load_architecture import CIFAR_Wide_Res_Net, CIFAR_Res_Net, CIFAR_Net, CUREResNet18, StepResNet18\n",
    "from src.gradient_masking_tests import run_masking_benchmarks, get_accuracy, pgd_collinearity"
   ]
  },
  {
   "cell_type": "markdown",
   "metadata": {
    "id": "MtHZ2ltHjCA5"
   },
   "source": [
    "## Setup to import trained CIFAR-10 Models"
   ]
  },
  {
   "cell_type": "code",
   "execution_count": 2,
   "metadata": {
    "colab": {
     "base_uri": "https://localhost:8080/",
     "height": 119,
     "referenced_widgets": [
      "d25693e000da4dae82776f3c08a3f476",
      "4ebb97c13df74524a77515da6342929e",
      "64d652750b8d488980c6e755e5a77a41",
      "4ef9fde7fff34b51ac803b4cbf693627",
      "0aa4c283af4e46ce845cecff615593df",
      "983ab773d9484722b8351eec80c55487",
      "40aa9aa36c7d46939cc6d3ba985f6f13",
      "4b18b9502cf84d4baf8fc48a0e8316fb"
     ]
    },
    "id": "Qkrp_nlxjCA5",
    "outputId": "14176ac6-ef77-45b0-d6fe-67f7f261f612"
   },
   "outputs": [
    {
     "name": "stdout",
     "output_type": "stream",
     "text": [
      "Files already downloaded and verified\n",
      "Files already downloaded and verified\n"
     ]
    }
   ],
   "source": [
    "# setup\n",
    "device = torch.device(\"cpu\")\n",
    "batch_size = 128\n",
    "# remove the normalize\n",
    "transform = transform = transforms.Compose(\n",
    "            [transforms.ToTensor()]\n",
    ")\n",
    "        \n",
    "normalized_min = (0 - 0.5) / 0.5\n",
    "normalized_max = (1 - 0.5) / 0.5\n",
    "train_dataset = datasets.CIFAR10(root='../data', train=True,\n",
    "                                download=True, transform=transform)\n",
    "train_loader = torch.utils.data.DataLoader(train_dataset, batch_size=batch_size,\n",
    "                                  shuffle=True, num_workers=2)\n",
    "test_dataset = datasets.CIFAR10(root='../data', train=False,\n",
    "                               download=True, transform=transform)\n",
    "test_loader = torch.utils.data.DataLoader(test_dataset, batch_size=batch_size,\n",
    "                                 shuffle=False, num_workers=2)\n",
    "classes = classes = ('plane', 'car', 'bird', 'cat',\n",
    "   'deer', 'dog', 'frog', 'horse', 'ship', 'truck')"
   ]
  },
  {
   "cell_type": "markdown",
   "metadata": {
    "id": "0Thh8dwpjCA6"
   },
   "source": [
    "## Load Trained Models"
   ]
  },
  {
   "cell_type": "code",
   "execution_count": 3,
   "metadata": {
    "colab": {
     "base_uri": "https://localhost:8080/"
    },
    "id": "Egu4dwGxjCA6",
    "outputId": "6946019a-b146-4430-d6d8-495be09ac0f1",
    "scrolled": true
   },
   "outputs": [
    {
     "data": {
      "text/plain": [
       "<All keys matched successfully>"
      ]
     },
     "execution_count": 3,
     "metadata": {},
     "output_type": "execute_result"
    }
   ],
   "source": [
    "model = CIFAR_Res_Net().eval().to(device)\n",
    "model.load_state_dict(torch.load(\"../models/normal_20e.model\", map_location=device))\n",
    "fgsm_model = CIFAR_Res_Net().eval().to(device)\n",
    "fgsm_model.load_state_dict(torch.load(\"../models/fgsm_e16_20e.model\", map_location=device))\n",
    "fgsm_model_small = CIFAR_Res_Net().eval().to(device)\n",
    "fgsm_model_small.load_state_dict(torch.load(\"../models/fgsm_e8_20e.model\", map_location=device))\n",
    "fgsm_model_small_2 = CIFAR_Res_Net().eval().to(device)\n",
    "fgsm_model_small_2.load_state_dict(torch.load(\"../models/fgsm_e8_20e_2.model\", map_location=device))\n",
    "step_ll_model = CIFAR_Res_Net().eval().to(device)\n",
    "step_ll_model.load_state_dict(torch.load(\"../models/step_ll_e16_20e.model\", map_location=device))\n",
    "step_ll_model_small = CIFAR_Res_Net().eval().to(device)\n",
    "step_ll_model_small.load_state_dict(torch.load(\"../models/step_ll_e8_20e.model\", map_location=device))\n",
    "pgd_model = CIFAR_Res_Net().eval().to(device)\n",
    "pgd_model.load_state_dict(torch.load(\"../models/pgd_e16_20e.model\", map_location=device))\n",
    "pgd_model_small = CIFAR_Res_Net().eval().to(device)\n",
    "pgd_model_small.load_state_dict(torch.load(\"../models/pgd_e8_20e.model\", map_location=device))\n",
    "grad_reg_model = CIFAR_Res_Net().eval().to(device)\n",
    "grad_reg_model.load_state_dict(torch.load(\"../models/grad_reg_ld01_20e.model\", map_location=device))\n",
    "cure = CUREResNet18().to(device).eval()\n",
    "cure[1].load_state_dict(torch.load(\"../models/RN18_CURE.pth\", map_location=device)['net'])\n",
    "step_convergence = StepResNet18().to(device).eval()\n",
    "model_dict = torch.load(\"../models/rn18_std_step_convergence1.pt\", map_location=device)\n",
    "model_state_dict = {key[2:].replace('downsample', 'shortcut').replace('fc', 'linear'): val for (key, val) in model_dict['model_state_dict'].items()}\n",
    "step_convergence[1].load_state_dict(model_state_dict)"
   ]
  },
  {
   "cell_type": "markdown",
   "metadata": {
    "id": "Q9gU97pfjCA6"
   },
   "source": [
    "# Run Benchmarks\n",
    "### The benchmarks consist of:\n",
    "- Standard Accuracy\n",
    "- FGSM attack at different epsilons\n",
    "- PGD attack\n",
    "- Unbounded PGD attack\n",
    "- Black Box (SPSA) Attack\n",
    "\n",
    "For a gradient masked model, we might expect that:\n",
    "- FGSM accuracy does not drop as epsilon increases\n",
    "- PGD preforms worse than FGSM (turns out to not ever be the case)\n",
    "- Unbounded PGD attack does not reach 0% accuracy\n",
    "- Black box accuracy is lower than white box accuracy \n",
    "\n",
    "Notice that random attacks are stronger as epsilon increases"
   ]
  },
  {
   "cell_type": "code",
   "execution_count": 21,
   "metadata": {},
   "outputs": [
    {
     "data": {
      "text/plain": [
       "0.8456"
      ]
     },
     "execution_count": 21,
     "metadata": {},
     "output_type": "execute_result"
    }
   ],
   "source": [
    "get_accuracy(model, test_dataset)"
   ]
  },
  {
   "cell_type": "code",
   "execution_count": 4,
   "metadata": {},
   "outputs": [
    {
     "name": "stdout",
     "output_type": "stream",
     "text": [
      "0.181640625\n"
     ]
    }
   ],
   "source": [
    "count = 0\n",
    "with torch.no_grad():\n",
    "    correct = 0\n",
    "    for data, labels in train_loader:\n",
    "        if count > 1000:\n",
    "            break\n",
    "        predictions = step_convergence(data).argmax(-1)\n",
    "        correct += (predictions == labels).sum().item()\n",
    "        count += batch_size\n",
    "    print (correct/count)"
   ]
  },
  {
   "cell_type": "markdown",
   "metadata": {
    "id": "RBoWQyv_jCA7"
   },
   "source": [
    "### Test Dataset"
   ]
  },
  {
   "cell_type": "code",
   "execution_count": null,
   "metadata": {
    "colab": {
     "base_uri": "https://localhost:8080/",
     "height": 689,
     "referenced_widgets": [
      "2a0f55513eb744df80bf120acc2c2ea4",
      "4f988263d1ec4b3c9445016b21875e42",
      "cd9c91e94c7343178ca90efe306b838f",
      "5dc301e55bff486a8b6fb8540f58e50f",
      "2c4b8cfd74114426820c5a648157092d",
      "66bc6343485f4064ae61ce486bf09841",
      "5ad2b15d417d49db8013ea21187432de",
      "bdd2ba0903ed495e962ff8a3bc0181f0"
     ]
    },
    "id": "hdk72zODjCA7",
    "outputId": "479c338d-11ae-457f-cce4-562f5b571776"
   },
   "outputs": [
    {
     "data": {
      "application/vnd.jupyter.widget-view+json": {
       "model_id": "2a0f55513eb744df80bf120acc2c2ea4",
       "version_major": 2,
       "version_minor": 0
      },
      "text/plain": [
       "HBox(children=(FloatProgress(value=0.0, description='Description', max=6.0, style=ProgressStyle(description_wi…"
      ]
     },
     "metadata": {
      "tags": []
     },
     "output_type": "display_data"
    },
    {
     "name": "stdout",
     "output_type": "stream",
     "text": [
      "Model accuracy: 83.87%\n",
      "FGSM accuracy - eps = 0.06: 2.03%\n",
      "FGSM accuracy - eps = 0.03: 3.6799999999999997%\n",
      "PGD accuracy - eps = 0.06: 0.0%\n",
      "PGD accuracy - eps = 0.03: 0.0%\n",
      "Unbounded PGD model accuracy: 0.0%\n",
      "SPSA accuracy - eps = 0.06: 12.6%\n",
      "SPSA accuracy - eps = 0.03: 10.0%\n",
      "\n"
     ]
    },
    {
     "data": {
      "image/png": "[encoded data removed]",
      "text/plain": [
       "<Figure size 864x576 with 1 Axes>"
      ]
     },
     "metadata": {
      "tags": []
     },
     "output_type": "display_data"
    }
   ],
   "source": [
    "# Regular Model\n",
    "run_masking_benchmarks(model, test_dataset, epsilon=0.06, device=device, batch_size=batch_size)"
   ]
  },
  {
   "cell_type": "code",
   "execution_count": null,
   "metadata": {
    "colab": {
     "base_uri": "https://localhost:8080/"
    },
    "id": "gKbfdX4nvZt7",
    "outputId": "d042a746-4680-4ee4-d382-63cc97983723"
   },
   "outputs": [
    {
     "data": {
      "text/plain": [
       "0.0"
      ]
     },
     "execution_count": 9,
     "metadata": {
      "tags": []
     },
     "output_type": "execute_result"
    }
   ],
   "source": [
    "# at eps=0.5, accuracy should be very close to 0. (every pixel can be set to gray)\n",
    "get_accuracy(\n",
    "            model,\n",
    "            test_dataset,\n",
    "            epsilon=0.5,\n",
    "            device=device,\n",
    "            batch_size=batch_size,\n",
    "            attack=LinfPGD(steps=7, rel_stepsize=1 / 4)\n",
    "        ) * 100"
   ]
  },
  {
   "cell_type": "code",
   "execution_count": null,
   "metadata": {
    "colab": {
     "base_uri": "https://localhost:8080/",
     "height": 689,
     "referenced_widgets": [
      "fa2cd2fa4c3548f989332810c5100f79",
      "8a75f6419d0e458398650d72f7d83ad4",
      "d76cf5d03375435fbb99d855e274e1a6",
      "7513b1a1e50949649a04b548a9b1726a",
      "637b49e5730b4fb5af9bf77d9fd103bc",
      "58cc3d08550d492b9a36e9e26b690f48",
      "b017224078e140faa8116c818de24440",
      "f9bb53b51a8c42bf94de3ca789055492"
     ]
    },
    "id": "M7cHFLYZjCA7",
    "outputId": "c521b777-026f-4a19-ebc5-60b2bfcdbef3"
   },
   "outputs": [
    {
     "data": {
      "application/vnd.jupyter.widget-view+json": {
       "model_id": "fa2cd2fa4c3548f989332810c5100f79",
       "version_major": 2,
       "version_minor": 0
      },
      "text/plain": [
       "HBox(children=(FloatProgress(value=0.0, description='Description', max=6.0, style=ProgressStyle(description_wi…"
      ]
     },
     "metadata": {
      "tags": []
     },
     "output_type": "display_data"
    },
    {
     "name": "stdout",
     "output_type": "stream",
     "text": [
      "Model accuracy: 56.13%\n",
      "FGSM accuracy - eps = 0.06: 30.25%\n",
      "FGSM accuracy - eps = 0.03: 42.07%\n",
      "PGD accuracy - eps = 0.06: 27.6%\n",
      "PGD accuracy - eps = 0.03: 41.86%\n",
      "Unbounded PGD model accuracy: 0.0%\n",
      "SPSA accuracy - eps = 0.06: 49.8%\n",
      "SPSA accuracy - eps = 0.03: 50.0%\n",
      "\n"
     ]
    },
    {
     "data": {
      "image/png": "[encoded data removed]",
      "text/plain": [
       "<Figure size 864x576 with 1 Axes>"
      ]
     },
     "metadata": {
      "tags": []
     },
     "output_type": "display_data"
    }
   ],
   "source": [
    "# pgd model with large steps\n",
    "run_masking_benchmarks(pgd_model, test_dataset, epsilon=0.06, device=device, batch_size=batch_size)"
   ]
  },
  {
   "cell_type": "code",
   "execution_count": null,
   "metadata": {
    "colab": {
     "base_uri": "https://localhost:8080/"
    },
    "id": "6-2La5NuvzvS",
    "outputId": "9d201f7b-587f-4e12-975d-52b8dba8037f"
   },
   "outputs": [
    {
     "data": {
      "text/plain": [
       "0.0"
      ]
     },
     "execution_count": 10,
     "metadata": {
      "tags": []
     },
     "output_type": "execute_result"
    }
   ],
   "source": [
    "# at eps=0.5, accuracy should be very close to 0. (every pixel can be set to gray)\n",
    "get_accuracy(\n",
    "            pgd_model,\n",
    "            test_dataset,\n",
    "            epsilon=0.5,\n",
    "            device=device,\n",
    "            batch_size=batch_size,\n",
    "            attack=LinfPGD(steps=7, rel_stepsize=1 / 4)\n",
    "        ) * 100"
   ]
  },
  {
   "cell_type": "code",
   "execution_count": null,
   "metadata": {
    "colab": {
     "base_uri": "https://localhost:8080/",
     "height": 689,
     "referenced_widgets": [
      "d1929819be984cf7adfae7cc41af54cb",
      "5896e236b613430789a861b67da88113",
      "23847c38fb814d219c7d119b614ac365",
      "43e9d7612ae042f0b6b92f22e34186e1",
      "44458c7483e147a99632ba9b46c7cad6",
      "716611010eb6456b869b4f966373ac4c",
      "6c5a78ce7d434452b802d6f12c46137d",
      "9fd1aad072734986b7ce90a4168b9c8c"
     ]
    },
    "id": "1LkeP1FdjCA8",
    "outputId": "b0e86d6d-62c4-4c9f-f186-9f6d62ba41da"
   },
   "outputs": [
    {
     "data": {
      "application/vnd.jupyter.widget-view+json": {
       "model_id": "d1929819be984cf7adfae7cc41af54cb",
       "version_major": 2,
       "version_minor": 0
      },
      "text/plain": [
       "HBox(children=(FloatProgress(value=0.0, description='Description', max=6.0, style=ProgressStyle(description_wi…"
      ]
     },
     "metadata": {
      "tags": []
     },
     "output_type": "display_data"
    },
    {
     "name": "stdout",
     "output_type": "stream",
     "text": [
      "Model accuracy: 70.03%\n",
      "FGSM accuracy - eps = 0.06: 19.2%\n",
      "FGSM accuracy - eps = 0.03: 39.14%\n",
      "PGD accuracy - eps = 0.06: 12.280000000000001%\n",
      "PGD accuracy - eps = 0.03: 35.07%\n",
      "Unbounded PGD model accuracy: 0.0%\n",
      "SPSA accuracy - eps = 0.06: 38.4%\n",
      "SPSA accuracy - eps = 0.03: 52.400000000000006%\n",
      "\n"
     ]
    },
    {
     "data": {
      "image/png": "[encoded data removed]",
      "text/plain": [
       "<Figure size 864x576 with 1 Axes>"
      ]
     },
     "metadata": {
      "tags": []
     },
     "output_type": "display_data"
    }
   ],
   "source": [
    "# pgd model with small steps\n",
    "run_masking_benchmarks(pgd_model_small, test_dataset, epsilon=0.06, device=device, batch_size=batch_size)"
   ]
  },
  {
   "cell_type": "code",
   "execution_count": null,
   "metadata": {
    "colab": {
     "base_uri": "https://localhost:8080/"
    },
    "id": "KnnYbQrSv5uB",
    "outputId": "40250ae7-ed57-4b87-ffa3-a54d07192df9"
   },
   "outputs": [
    {
     "data": {
      "text/plain": [
       "0.0"
      ]
     },
     "execution_count": 11,
     "metadata": {
      "tags": []
     },
     "output_type": "execute_result"
    }
   ],
   "source": [
    "# at eps=0.5, accuracy should be very close to 0. (every pixel can be set to gray)\n",
    "get_accuracy(\n",
    "            pgd_model_small,\n",
    "            test_dataset,\n",
    "            epsilon=0.5,\n",
    "            device=device,\n",
    "            batch_size=batch_size,\n",
    "            attack=LinfPGD(steps=7, rel_stepsize=1 / 4)\n",
    "        ) * 100"
   ]
  },
  {
   "cell_type": "markdown",
   "metadata": {
    "id": "DbkbTMwkjCA8"
   },
   "source": [
    "Strangely, the fgsm model with large steps produces a model where increasing epsilon not only does not make the attack stronger, but instead, makes it much weaker.\n",
    "\n",
    "In contrast, the model is significantly less robust at small epsilons.\n",
    "\n",
    "It might be the case that we have created a subspace, beyond the decision boundary, making the model appear robust there.\n",
    "\n",
    "However, this still does not explain how the model is now much more susceptible at smaller epsilons!\n",
    "\n",
    "This seems to indicate the gradient is still informative?\n",
    "\n",
    "Possibility of label leaking?\n",
    "#### The fgsm attack on eps=0.06 is WORSE than no attack at all!\n",
    "\n",
    "Random attacks do not really get stronger as epsilon increases"
   ]
  },
  {
   "cell_type": "code",
   "execution_count": null,
   "metadata": {
    "colab": {
     "base_uri": "https://localhost:8080/",
     "height": 689,
     "referenced_widgets": [
      "3238b0b1d81b4caea2a112244345fbdf",
      "879e5547a5c2434b9a0983d63a5ced33",
      "e3cf2877636941ae9d2baf94e1dd92a5",
      "563d161440c748c8bf8bc5c33903110b",
      "b2e447228a1c443faedb24a6b202248f",
      "fe9963fb738c4a6bbd1ecc053b61da4d",
      "cfb9fb8968b049cba169459430d5d1d4",
      "b60050961e794f6ca93ea3ace99b5a76"
     ]
    },
    "id": "uvJKdhJljCA8",
    "outputId": "fb77c2a2-972c-428f-f2ed-239539c6dd4f"
   },
   "outputs": [
    {
     "data": {
      "application/vnd.jupyter.widget-view+json": {
       "model_id": "3238b0b1d81b4caea2a112244345fbdf",
       "version_major": 2,
       "version_minor": 0
      },
      "text/plain": [
       "HBox(children=(FloatProgress(value=0.0, description='Description', max=6.0, style=ProgressStyle(description_wi…"
      ]
     },
     "metadata": {
      "tags": []
     },
     "output_type": "display_data"
    },
    {
     "name": "stdout",
     "output_type": "stream",
     "text": [
      "Model accuracy: 72.44%\n",
      "FGSM accuracy - eps = 0.06: 91.27%\n",
      "FGSM accuracy - eps = 0.03: 79.14%\n",
      "PGD accuracy - eps = 0.06: 0.0%\n",
      "PGD accuracy - eps = 0.03: 0.0%\n",
      "Unbounded PGD model accuracy: 0.0%\n",
      "SPSA accuracy - eps = 0.06: 1.7999999999999998%\n",
      "SPSA accuracy - eps = 0.03: 2.4%\n",
      "\n"
     ]
    },
    {
     "data": {
      "image/png": "[encoded data removed]",
      "text/plain": [
       "<Figure size 864x576 with 1 Axes>"
      ]
     },
     "metadata": {
      "tags": []
     },
     "output_type": "display_data"
    }
   ],
   "source": [
    "# fgsm model with large steps\n",
    "run_masking_benchmarks(fgsm_model, test_dataset, epsilon=0.06, device=device, batch_size=batch_size)"
   ]
  },
  {
   "cell_type": "code",
   "execution_count": null,
   "metadata": {
    "colab": {
     "background_save": true
    },
    "id": "AyBIk738v-XM",
    "outputId": "3b196488-0b3c-4a69-a293-6ff768bb2f76"
   },
   "outputs": [
    {
     "data": {
      "text/plain": [
       "0.0"
      ]
     },
     "execution_count": 0,
     "metadata": {
      "tags": []
     },
     "output_type": "execute_result"
    }
   ],
   "source": [
    "# at eps=0.5, accuracy should be very close to 0. (every pixel can be set to gray)\n",
    "get_accuracy(\n",
    "            fgsm_model,\n",
    "            test_dataset,\n",
    "            epsilon=0.5,\n",
    "            device=device,\n",
    "            batch_size=batch_size,\n",
    "            attack=LinfPGD(steps=7, rel_stepsize=1 / 4)\n",
    "        ) * 100"
   ]
  },
  {
   "cell_type": "markdown",
   "metadata": {
    "id": "WRkubSPljCA9"
   },
   "source": [
    "With smaller epsilon during training, we get a super unstable training process! \n",
    "\n",
    "The first result below shows a model that heavily gradient masks.\n",
    "\n",
    "The second shows what we would expect from a more robust model: increased robustness that tapers off as epsilon increases\n",
    "\n",
    "These were both trained the exact same way!!"
   ]
  },
  {
   "cell_type": "code",
   "execution_count": null,
   "metadata": {
    "colab": {
     "base_uri": "https://localhost:8080/",
     "height": 689,
     "referenced_widgets": [
      "f087d35148dc4538b2066fc60bccb043",
      "c4c3c4d5ae314e28900ba4f02dc6ebd9",
      "243786c76bff4b7c8dbaf98e6e67ba81",
      "3996014b059c47aab5d18b75d8657c13",
      "21148701f5994067891e94f8f6fcb540",
      "3feb2feb859d44e09df73872b76e53d3",
      "d7a3204eb3524a1fbb9a595a15c5ce27",
      "56e9eb87008c43018d236c0158804e73"
     ]
    },
    "id": "Srzif9U7jCA9",
    "outputId": "2a94ca87-cda8-4fae-f061-38163baff7f4"
   },
   "outputs": [
    {
     "data": {
      "application/vnd.jupyter.widget-view+json": {
       "model_id": "f087d35148dc4538b2066fc60bccb043",
       "version_major": 2,
       "version_minor": 0
      },
      "text/plain": [
       "HBox(children=(FloatProgress(value=0.0, description='Description', max=6.0, style=ProgressStyle(description_wi…"
      ]
     },
     "metadata": {
      "tags": []
     },
     "output_type": "display_data"
    },
    {
     "name": "stdout",
     "output_type": "stream",
     "text": [
      "Model accuracy: 78.91%\n",
      "FGSM accuracy - eps = 0.06: 60.589999999999996%\n",
      "FGSM accuracy - eps = 0.03: 75.9%\n",
      "PGD accuracy - eps = 0.06: 0.08%\n",
      "PGD accuracy - eps = 0.03: 0.33%\n",
      "Unbounded PGD model accuracy: 0.0%\n",
      "SPSA accuracy - eps = 0.06: 5.4%\n",
      "SPSA accuracy - eps = 0.03: 5.800000000000001%\n",
      "\n"
     ]
    },
    {
     "data": {
      "image/png": "[encoded data removed]",
      "text/plain": [
       "<Figure size 864x576 with 1 Axes>"
      ]
     },
     "metadata": {
      "tags": []
     },
     "output_type": "display_data"
    }
   ],
   "source": [
    "# fgsm model with small steps\n",
    "run_masking_benchmarks(fgsm_model_small, test_dataset, epsilon=0.06, device=device, batch_size=batch_size)"
   ]
  },
  {
   "cell_type": "code",
   "execution_count": null,
   "metadata": {
    "id": "qcwIWRP6wCTl"
   },
   "outputs": [],
   "source": [
    "# at eps=0.5, accuracy should be very close to 0. (every pixel can be set to gray)\n",
    "get_accuracy(\n",
    "            fgsm_model_small,\n",
    "            test_dataset,\n",
    "            epsilon=0.5,\n",
    "            device=device,\n",
    "            batch_size=batch_size,\n",
    "            attack=LinfPGD(steps=7, rel_stepsize=1 / 4)\n",
    "        ) * 100"
   ]
  },
  {
   "cell_type": "code",
   "execution_count": null,
   "metadata": {
    "colab": {
     "base_uri": "https://localhost:8080/",
     "height": 689,
     "referenced_widgets": [
      "6400ac7ed7394131a5df33f432135e61",
      "1b1c69f1c7f74ac28b46d4cb14c43c85",
      "1149b28beb3447eb98a36704ec89d0a2",
      "1725158e2b2144d5897a185f3f84a030",
      "c9fa184357404575a76382e951e6248a",
      "f7197fbb16814fe291c4b66329db23ff",
      "f4469f81982844a6b5057471b7fcaf2c",
      "9960705012bf4acd9438b8a9c3b609fd"
     ]
    },
    "id": "rN0IPgnKHIv3",
    "outputId": "f7d43f95-0cd6-48ca-90f4-7a2c85600bfa"
   },
   "outputs": [
    {
     "data": {
      "application/vnd.jupyter.widget-view+json": {
       "model_id": "6400ac7ed7394131a5df33f432135e61",
       "version_major": 2,
       "version_minor": 0
      },
      "text/plain": [
       "HBox(children=(FloatProgress(value=0.0, description='Description', max=6.0, style=ProgressStyle(description_wi…"
      ]
     },
     "metadata": {
      "tags": []
     },
     "output_type": "display_data"
    },
    {
     "name": "stdout",
     "output_type": "stream",
     "text": [
      "Model accuracy: 69.95%\n",
      "FGSM accuracy - eps = 0.06: 16.86%\n",
      "FGSM accuracy - eps = 0.03: 35.56%\n",
      "PGD accuracy - eps = 0.06: 8.86%\n",
      "PGD accuracy - eps = 0.03: 32.24%\n",
      "Unbounded PGD model accuracy: 0.0%\n",
      "SPSA accuracy - eps = 0.06: 40.0%\n",
      "SPSA accuracy - eps = 0.03: 47.8%\n",
      "\n"
     ]
    },
    {
     "data": {
      "image/png": "[encoded data removed]",
      "text/plain": [
       "<Figure size 864x576 with 1 Axes>"
      ]
     },
     "metadata": {
      "tags": []
     },
     "output_type": "display_data"
    }
   ],
   "source": [
    "# fgsm model with small steps (no gradient masking)\n",
    "run_masking_benchmarks(fgsm_model_small_2, test_dataset, epsilon=0.06, device=device, batch_size=batch_size)"
   ]
  },
  {
   "cell_type": "code",
   "execution_count": null,
   "metadata": {
    "colab": {
     "background_save": true
    },
    "id": "PqKfaishwFuO",
    "outputId": "97cd72e2-589c-49d0-d82e-49a4d6272820"
   },
   "outputs": [
    {
     "data": {
      "text/plain": [
       "0.0"
      ]
     },
     "execution_count": 0,
     "metadata": {
      "tags": []
     },
     "output_type": "execute_result"
    }
   ],
   "source": [
    "# at eps=0.5, accuracy should be very close to 0. (every pixel can be set to gray)\n",
    "get_accuracy(\n",
    "            fgsm_model_small_2,\n",
    "            test_dataset,\n",
    "            epsilon=0.5,\n",
    "            device=device,\n",
    "            batch_size=batch_size,\n",
    "            attack=LinfPGD(steps=7, rel_stepsize=1 / 4)\n",
    "        ) * 100"
   ]
  },
  {
   "cell_type": "markdown",
   "metadata": {
    "id": "YEA5EXIgjCA-"
   },
   "source": [
    "### Step-ll potential gradient masking!\n",
    "We notice that increasing epsilon does not improve the attack. \n",
    "\n",
    "However, unlike with FGSM, the model is more robust at small epsilons.\n",
    "\n",
    "This together with black box outpreforming white box attacks, suggests an incidence of gradient masking\n",
    "\n",
    "Random attacks do not really get stronger (actually get a bit weaker) as epsilon increases"
   ]
  },
  {
   "cell_type": "code",
   "execution_count": null,
   "metadata": {
    "colab": {
     "base_uri": "https://localhost:8080/",
     "height": 689,
     "referenced_widgets": [
      "f85216e0886f46a3ac0043b4c8284d60",
      "f1f64aa8b51a477594d80bf54afdb453",
      "9b4b627d2d3a4b9fb524dc836f581fea",
      "d0356992e79a434aa4fc4e923af53ff6",
      "bafb2a28dcd0431eac106b236007e951",
      "b67b8a850e0f4e338a65ffef01e1e14e",
      "88a833cd371e493c833e3f0cb7c02080",
      "59ecea872ed0480e9c7e19453fda3e5d"
     ]
    },
    "id": "-xJ9RnvhjCA-",
    "outputId": "4c5b11b6-4877-45e9-8ae7-5b0914839649"
   },
   "outputs": [
    {
     "data": {
      "application/vnd.jupyter.widget-view+json": {
       "model_id": "f85216e0886f46a3ac0043b4c8284d60",
       "version_major": 2,
       "version_minor": 0
      },
      "text/plain": [
       "HBox(children=(FloatProgress(value=0.0, description='Description', max=6.0, style=ProgressStyle(description_wi…"
      ]
     },
     "metadata": {
      "tags": []
     },
     "output_type": "display_data"
    },
    {
     "name": "stdout",
     "output_type": "stream",
     "text": [
      "Model accuracy: 71.49%\n",
      "FGSM accuracy - eps = 0.06: 37.940000000000005%\n",
      "FGSM accuracy - eps = 0.03: 46.129999999999995%\n",
      "PGD accuracy - eps = 0.06: 3.1399999999999997%\n",
      "PGD accuracy - eps = 0.03: 12.58%\n",
      "Unbounded PGD model accuracy: 0.0%\n",
      "SPSA accuracy - eps = 0.06: 19.0%\n",
      "SPSA accuracy - eps = 0.03: 34.2%\n",
      "\n"
     ]
    },
    {
     "data": {
      "image/png": "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\n",
      "text/plain": [
       "<Figure size 864x576 with 1 Axes>"
      ]
     },
     "metadata": {
      "tags": []
     },
     "output_type": "display_data"
    }
   ],
   "source": [
    "# step-ll model\n",
    "run_masking_benchmarks(step_ll_model, test_dataset, epsilon=0.06, device=device, batch_size=batch_size)"
   ]
  },
  {
   "cell_type": "code",
   "execution_count": null,
   "metadata": {
    "colab": {
     "background_save": true
    },
    "id": "Ld8BOmNLwL_4",
    "outputId": "9054e3e3-204f-4bf1-c485-319e69e65363"
   },
   "outputs": [
    {
     "data": {
      "text/plain": [
       "0.0"
      ]
     },
     "execution_count": 0,
     "metadata": {
      "tags": []
     },
     "output_type": "execute_result"
    }
   ],
   "source": [
    "# at eps=0.5, accuracy should be very close to 0. (every pixel can be set to gray)\n",
    "get_accuracy(\n",
    "            step_ll_model,\n",
    "            test_dataset,\n",
    "            epsilon=0.5,\n",
    "            device=device,\n",
    "            batch_size=batch_size,\n",
    "            attack=LinfPGD(steps=7, rel_stepsize=1 / 4)\n",
    "        ) * 100"
   ]
  },
  {
   "cell_type": "code",
   "execution_count": null,
   "metadata": {
    "colab": {
     "base_uri": "https://localhost:8080/",
     "height": 689,
     "referenced_widgets": [
      "dcaf54dd33fd41fea49219921520d1cd",
      "8e80e4f434654efa9bca283e2a3eb738",
      "6ea15582d13f407ba9d988ca7fdc1f17",
      "c19b7be2ab454f02adf6d1df08739806",
      "5abe9c2d986d4167ac56c3813fd9565a",
      "d5dde60013924ef28ff844153def8546",
      "9524d6004f0c4e37b99568a07b83f5d7",
      "926eb33026684c1c83fee6da5ecd149b"
     ]
    },
    "id": "hTbnPUvOjCA-",
    "outputId": "91b311dc-3d9c-4b0a-9700-15096e437557"
   },
   "outputs": [
    {
     "data": {
      "application/vnd.jupyter.widget-view+json": {
       "model_id": "dcaf54dd33fd41fea49219921520d1cd",
       "version_major": 2,
       "version_minor": 0
      },
      "text/plain": [
       "HBox(children=(FloatProgress(value=0.0, description='Description', max=6.0, style=ProgressStyle(description_wi…"
      ]
     },
     "metadata": {
      "tags": []
     },
     "output_type": "display_data"
    },
    {
     "name": "stdout",
     "output_type": "stream",
     "text": [
      "Model accuracy: 78.38000000000001%\n",
      "FGSM accuracy - eps = 0.06: 11.3%\n",
      "FGSM accuracy - eps = 0.03: 31.1%\n",
      "PGD accuracy - eps = 0.06: 4.3%\n",
      "PGD accuracy - eps = 0.03: 24.2%\n",
      "Unbounded PGD model accuracy: 0.0%\n",
      "SPSA accuracy - eps = 0.06: 33.800000000000004%\n",
      "SPSA accuracy - eps = 0.03: 50.8%\n",
      "\n"
     ]
    },
    {
     "data": {
      "image/png": "[encoded data removed]",
      "text/plain": [
       "<Figure size 864x576 with 1 Axes>"
      ]
     },
     "metadata": {
      "tags": []
     },
     "output_type": "display_data"
    }
   ],
   "source": [
    "# step-ll model\n",
    "run_masking_benchmarks(step_ll_model_small, test_dataset, epsilon=0.06, device=device, batch_size=batch_size)"
   ]
  },
  {
   "cell_type": "code",
   "execution_count": null,
   "metadata": {
    "id": "ea3K4xQUwICO"
   },
   "outputs": [],
   "source": [
    "# at eps=0.5, accuracy should be very close to 0. (every pixel can be set to gray)\n",
    "get_accuracy(\n",
    "            step_ll_model_small,\n",
    "            test_dataset,\n",
    "            epsilon=0.5,\n",
    "            device=device,\n",
    "            batch_size=batch_size,\n",
    "            attack=LinfPGD(steps=7, rel_stepsize=1 / 4)\n",
    "        ) * 100"
   ]
  },
  {
   "cell_type": "markdown",
   "metadata": {
    "id": "vI2IgTAbjCA_"
   },
   "source": [
    "I have had trouble making gradient regularization models work at all"
   ]
  },
  {
   "cell_type": "code",
   "execution_count": null,
   "metadata": {
    "colab": {
     "base_uri": "https://localhost:8080/",
     "height": 689,
     "referenced_widgets": [
      "75a0e844cf0e42bdabad24ee4170c2ec",
      "576bce4a44b24ab895002086e4e6ec19",
      "1380cf3399954d2993fc659d8a95f106",
      "1a8e556de1f64e3ba698d56bfdcfd365",
      "8b61ae21b522409083a2e9e74ebd0f8b",
      "0821615f6ab44e6395dc7ae5de10af7f",
      "c9cb321839a14246a193b52c9990969e",
      "c67f35bd6e144bfc83bed3fefc17e021"
     ]
    },
    "id": "RQcHHoGDjCA_",
    "outputId": "1a7166b9-4fc4-4e7e-b1c1-c9fb4908478e"
   },
   "outputs": [
    {
     "data": {
      "application/vnd.jupyter.widget-view+json": {
       "model_id": "75a0e844cf0e42bdabad24ee4170c2ec",
       "version_major": 2,
       "version_minor": 0
      },
      "text/plain": [
       "HBox(children=(FloatProgress(value=0.0, description='Description', max=6.0, style=ProgressStyle(description_wi…"
      ]
     },
     "metadata": {
      "tags": []
     },
     "output_type": "display_data"
    },
    {
     "name": "stdout",
     "output_type": "stream",
     "text": [
      "Model accuracy: 73.83%\n",
      "FGSM accuracy - eps = 0.06: 6.74%\n",
      "FGSM accuracy - eps = 0.03: 27.18%\n",
      "PGD accuracy - eps = 0.06: 3.32%\n",
      "PGD accuracy - eps = 0.03: 24.54%\n",
      "Unbounded PGD model accuracy: 0.0%\n",
      "SPSA accuracy - eps = 0.06: 38.2%\n",
      "SPSA accuracy - eps = 0.03: 49.0%\n",
      "\n"
     ]
    },
    {
     "data": {
      "image/png": "[encoded data removed]",
      "text/plain": [
       "<Figure size 864x576 with 1 Axes>"
      ]
     },
     "metadata": {
      "tags": []
     },
     "output_type": "display_data"
    }
   ],
   "source": [
    "run_masking_benchmarks(grad_reg_model, test_dataset, epsilon=0.06, device=device, batch_size=batch_size)"
   ]
  },
  {
   "cell_type": "code",
   "execution_count": null,
   "metadata": {
    "colab": {
     "base_uri": "https://localhost:8080/",
     "height": 689,
     "referenced_widgets": [
      "5245aa7670d7439e8e951307c79b71b3",
      "68ff0a4f26054c7e94376ca2583508c1",
      "41ac3dcc03be406f84d51d296ef768ce",
      "fdeb7c9d08a147fd9d08f31ddaf93ff8",
      "cc0d405c1d864c4d891ac0f3a6a29986",
      "24f1e897dcf0415391f72a6c5810f99c",
      "122bb6706831480ca58a9eff18cfd8a1",
      "28ea695b6a7a4961a0130e537f307f10"
     ]
    },
    "id": "6J5QDFbtjCA_",
    "outputId": "25f44ceb-d5e7-465f-801c-f8f50e677b65"
   },
   "outputs": [
    {
     "data": {
      "application/vnd.jupyter.widget-view+json": {
       "model_id": "5245aa7670d7439e8e951307c79b71b3",
       "version_major": 2,
       "version_minor": 0
      },
      "text/plain": [
       "HBox(children=(FloatProgress(value=0.0, description='Description', max=6.0, style=ProgressStyle(description_wi…"
      ]
     },
     "metadata": {
      "tags": []
     },
     "output_type": "display_data"
    },
    {
     "name": "stdout",
     "output_type": "stream",
     "text": [
      "Model accuracy: 80.14%\n",
      "FGSM accuracy - eps = 0.06: 17.51%\n",
      "FGSM accuracy - eps = 0.03: 43.769999999999996%\n",
      "PGD accuracy - eps = 0.06: 11.39%\n",
      "PGD accuracy - eps = 0.03: 42.059999999999995%\n",
      "Unbounded PGD model accuracy: 0.0%\n",
      "SPSA accuracy - eps = 0.06: 53.6%\n",
      "SPSA accuracy - eps = 0.03: 57.99999999999999%\n",
      "\n"
     ]
    },
    {
     "data": {
      "image/png": "[encoded data removed]",
      "text/plain": [
       "<Figure size 864x576 with 1 Axes>"
      ]
     },
     "metadata": {
      "tags": []
     },
     "output_type": "display_data"
    }
   ],
   "source": [
    "run_masking_benchmarks(cure, test_dataset, epsilon=0.06, device=device, batch_size=batch_size)"
   ]
  },
  {
   "cell_type": "markdown",
   "metadata": {
    "id": "QdN1U4UMjCA_"
   },
   "source": [
    "## Wide RESNET Model"
   ]
  },
  {
   "cell_type": "code",
   "execution_count": null,
   "metadata": {
    "id": "7XfyHq97jCBA"
   },
   "outputs": [],
   "source": [
    "#run_masking_benchmarks(wide_model, test_dataset, epsilon=0.06, device=device, batch_size=batch_size, epsilon_step=10)"
   ]
  },
  {
   "cell_type": "code",
   "execution_count": null,
   "metadata": {
    "id": "KLzX9oSxjCBA"
   },
   "outputs": [],
   "source": [
    "#run_masking_benchmarks(wide_fgsm_model, test_dataset, epsilon=0.06, device=device, batch_size=batch_size, epsilon_step=10)"
   ]
  },
  {
   "cell_type": "markdown",
   "metadata": {
    "id": "RhJNhxYajCBA"
   },
   "source": [
    "### Train Dataset"
   ]
  },
  {
   "cell_type": "code",
   "execution_count": null,
   "metadata": {
    "colab": {
     "base_uri": "https://localhost:8080/",
     "height": 689,
     "referenced_widgets": [
      "5b8c623579154292810a07658f9afd28",
      "b6298679d5374369aae449bd0242dfe2",
      "8e4492f9ac4945f4ac1061ddffa3b01d",
      "7c333ff0f63349efbba93d3fd8188343",
      "c9010855d3584acd9944e8cfb42207e2",
      "597b3c43ccd6488d8b843b03c6ede6e6",
      "9f7cea4d96d344288409dec261a41df7",
      "649c1b6a5ace4178810ed69225f7c83a"
     ]
    },
    "id": "xuIFJpE-jCBA",
    "outputId": "1bce690e-b873-46fb-d19a-b27e899a37d4"
   },
   "outputs": [
    {
     "data": {
      "application/vnd.jupyter.widget-view+json": {
       "model_id": "5b8c623579154292810a07658f9afd28",
       "version_major": 2,
       "version_minor": 0
      },
      "text/plain": [
       "HBox(children=(FloatProgress(value=0.0, description='Description', max=6.0, style=ProgressStyle(description_wi…"
      ]
     },
     "metadata": {
      "tags": []
     },
     "output_type": "display_data"
    },
    {
     "name": "stdout",
     "output_type": "stream",
     "text": [
      "Model accuracy: 100.0%\n",
      "FGSM accuracy - eps = 0.06: 2.33%\n",
      "FGSM accuracy - eps = 0.03: 3.56%\n",
      "PGD accuracy - eps = 0.06: 0.0%\n",
      "PGD accuracy - eps = 0.03: 0.01%\n",
      "Unbounded PGD model accuracy: 0.0%\n",
      "SPSA accuracy - eps = 0.06: 10.6%\n",
      "SPSA accuracy - eps = 0.03: 16.0%\n",
      "\n"
     ]
    },
    {
     "data": {
      "image/png": "[encoded data removed]",
      "text/plain": [
       "<Figure size 864x576 with 1 Axes>"
      ]
     },
     "metadata": {
      "tags": []
     },
     "output_type": "display_data"
    }
   ],
   "source": [
    "# Regular Model\n",
    "run_masking_benchmarks(model, train_dataset, epsilon=0.06, device=device, batch_size=batch_size)"
   ]
  },
  {
   "cell_type": "code",
   "execution_count": null,
   "metadata": {
    "colab": {
     "base_uri": "https://localhost:8080/",
     "height": 689,
     "referenced_widgets": [
      "7e033f3080004da794bfa6df6a2edcb8",
      "1883a2e3a2d14e2e849e16410b6761af",
      "9c9d9979157341b19818ecff847d52d1",
      "58e9e17399cb45f79e4a1fcb980608b8",
      "4cc4cd9c2a904dcbaf1cfb074e89c531",
      "0b0f2208ac334bd3b6ff8b9e3dd398dc",
      "81cedbb7ac5f4a8698e7d252553e94bf",
      "4f57f73a42e348868458add621a29b07"
     ]
    },
    "id": "MCPCkLDbjCBA",
    "outputId": "e69886ec-bb71-447e-abd3-8a0d81467898"
   },
   "outputs": [
    {
     "data": {
      "application/vnd.jupyter.widget-view+json": {
       "model_id": "7e033f3080004da794bfa6df6a2edcb8",
       "version_major": 2,
       "version_minor": 0
      },
      "text/plain": [
       "HBox(children=(FloatProgress(value=0.0, description='Description', max=6.0, style=ProgressStyle(description_wi…"
      ]
     },
     "metadata": {
      "tags": []
     },
     "output_type": "display_data"
    },
    {
     "name": "stdout",
     "output_type": "stream",
     "text": [
      "Model accuracy: 64.62%\n",
      "FGSM accuracy - eps = 0.06: 39.7%\n",
      "FGSM accuracy - eps = 0.03: 52.349999999999994%\n",
      "PGD accuracy - eps = 0.06: 37.75%\n",
      "PGD accuracy - eps = 0.03: 52.05%\n",
      "Unbounded PGD model accuracy: 0.0%\n",
      "SPSA accuracy - eps = 0.06: 55.400000000000006%\n",
      "SPSA accuracy - eps = 0.03: 59.199999999999996%\n",
      "\n"
     ]
    },
    {
     "data": {
      "image/png": "[encoded data removed]",
      "text/plain": [
       "<Figure size 864x576 with 1 Axes>"
      ]
     },
     "metadata": {
      "tags": []
     },
     "output_type": "display_data"
    }
   ],
   "source": [
    "# pgd model with large steps\n",
    "run_masking_benchmarks(pgd_model, train_dataset, epsilon=0.06, device=device, batch_size=batch_size)"
   ]
  },
  {
   "cell_type": "code",
   "execution_count": null,
   "metadata": {
    "colab": {
     "base_uri": "https://localhost:8080/",
     "height": 689,
     "referenced_widgets": [
      "4c39daa8b6d9453aa45f182bfb1d50e8",
      "172da9273bcc4d3e9e2715e7ec9ec658",
      "451430dc1ad14ae48055a70e48c8a6d8",
      "c4fbbc33961448ab8df6e5ad75514a65",
      "42e68ebbacdd414a88154142dfb32cad",
      "81d0774c42a84c789c969c68cd5f00e8",
      "97612305ebcb4fe9bef36470d9464301",
      "bde8d2f7f91545b388c78b3397aeeaae"
     ]
    },
    "id": "A8b9CkMqjCBB",
    "outputId": "705aabf5-4611-44a4-c5f5-ff8acfb9215b"
   },
   "outputs": [
    {
     "data": {
      "application/vnd.jupyter.widget-view+json": {
       "model_id": "4c39daa8b6d9453aa45f182bfb1d50e8",
       "version_major": 2,
       "version_minor": 0
      },
      "text/plain": [
       "HBox(children=(FloatProgress(value=0.0, description='Description', max=6.0, style=ProgressStyle(description_wi…"
      ]
     },
     "metadata": {
      "tags": []
     },
     "output_type": "display_data"
    },
    {
     "name": "stdout",
     "output_type": "stream",
     "text": [
      "Model accuracy: 94.99%\n",
      "FGSM accuracy - eps = 0.06: 48.88%\n",
      "FGSM accuracy - eps = 0.03: 81.5%\n",
      "PGD accuracy - eps = 0.06: 28.7%\n",
      "PGD accuracy - eps = 0.03: 78.8%\n",
      "Unbounded PGD model accuracy: 0.0%\n",
      "SPSA accuracy - eps = 0.06: 82.19999999999999%\n",
      "SPSA accuracy - eps = 0.03: 88.8%\n",
      "\n"
     ]
    },
    {
     "data": {
      "image/png": "[encoded data removed]",
      "text/plain": [
       "<Figure size 864x576 with 1 Axes>"
      ]
     },
     "metadata": {
      "tags": []
     },
     "output_type": "display_data"
    }
   ],
   "source": [
    "# pgd model with small steps\n",
    "run_masking_benchmarks(pgd_model_small, train_dataset, epsilon=0.06, device=device, batch_size=batch_size)"
   ]
  },
  {
   "cell_type": "code",
   "execution_count": null,
   "metadata": {
    "colab": {
     "base_uri": "https://localhost:8080/",
     "height": 689,
     "referenced_widgets": [
      "3c7508bae2c644888d37608858bb2d27",
      "69f2dbea0063422ca81319c16a725fa4",
      "aa082753756642ceb9840ed16a5eb504",
      "f6392537d5eb4dfb9470e96221ca8a50",
      "10a691f2441049c794a0e342b4f31440",
      "1f24dfabd15e4130b11e4408487509b8",
      "5864c5ad89fe46c78d798c7e962a82ec",
      "bf882c6f63774a1fb99f075934b8e005"
     ]
    },
    "id": "gT-KPM5QjCBB",
    "outputId": "64748f49-5e2b-4464-998a-662a01d14386"
   },
   "outputs": [
    {
     "data": {
      "application/vnd.jupyter.widget-view+json": {
       "model_id": "3c7508bae2c644888d37608858bb2d27",
       "version_major": 2,
       "version_minor": 0
      },
      "text/plain": [
       "HBox(children=(FloatProgress(value=0.0, description='Description', max=6.0, style=ProgressStyle(description_wi…"
      ]
     },
     "metadata": {
      "tags": []
     },
     "output_type": "display_data"
    },
    {
     "name": "stdout",
     "output_type": "stream",
     "text": [
      "Model accuracy: 82.19999999999999%\n",
      "FGSM accuracy - eps = 0.06: 97.92999999999999%\n",
      "FGSM accuracy - eps = 0.03: 88.05%\n",
      "PGD accuracy - eps = 0.06: 0.0%\n",
      "PGD accuracy - eps = 0.03: 0.0%\n",
      "Unbounded PGD model accuracy: 0.0%\n",
      "SPSA accuracy - eps = 0.06: 3.8%\n",
      "SPSA accuracy - eps = 0.03: 2.4%\n",
      "\n"
     ]
    },
    {
     "data": {
      "image/png": "[encoded data removed]",
      "text/plain": [
       "<Figure size 864x576 with 1 Axes>"
      ]
     },
     "metadata": {
      "tags": []
     },
     "output_type": "display_data"
    }
   ],
   "source": [
    "# fgsm model with large steps\n",
    "run_masking_benchmarks(fgsm_model, train_dataset, epsilon=0.06, device=device, batch_size=batch_size)"
   ]
  },
  {
   "cell_type": "code",
   "execution_count": null,
   "metadata": {
    "colab": {
     "base_uri": "https://localhost:8080/",
     "height": 689,
     "referenced_widgets": [
      "0925bf3bdf384ec983a6fabdc242593e",
      "6376ae9dbbe043db85a1510ae0e3b51a",
      "59dd09f494ba40d195571f615c33028d",
      "a4fad225171f43d3abbfb51981c981d8",
      "7785cb94177245e29da8092bb57eefa9",
      "e6cc2643fbf14e07b560bd812c760dc9",
      "83b6366346bc4046a54c1a773af0cfa9",
      "70c251674bee489dab8cb22d4e969078"
     ]
    },
    "id": "c1dyD-TgjCBB",
    "outputId": "766c305f-c4af-44ce-9d97-79f01bdbdcfa"
   },
   "outputs": [
    {
     "data": {
      "application/vnd.jupyter.widget-view+json": {
       "model_id": "0925bf3bdf384ec983a6fabdc242593e",
       "version_major": 2,
       "version_minor": 0
      },
      "text/plain": [
       "HBox(children=(FloatProgress(value=0.0, description='Description', max=6.0, style=ProgressStyle(description_wi…"
      ]
     },
     "metadata": {
      "tags": []
     },
     "output_type": "display_data"
    },
    {
     "name": "stdout",
     "output_type": "stream",
     "text": [
      "Model accuracy: 97.36%\n",
      "FGSM accuracy - eps = 0.06: 79.85%\n",
      "FGSM accuracy - eps = 0.03: 97.24000000000001%\n",
      "PGD accuracy - eps = 0.06: 0.1%\n",
      "PGD accuracy - eps = 0.03: 0.27%\n",
      "Unbounded PGD model accuracy: 0.0%\n",
      "SPSA accuracy - eps = 0.06: 6.6000000000000005%\n",
      "SPSA accuracy - eps = 0.03: 8.4%\n",
      "\n"
     ]
    },
    {
     "data": {
      "image/png": "[encoded data removed]",
      "text/plain": [
       "<Figure size 864x576 with 1 Axes>"
      ]
     },
     "metadata": {
      "tags": []
     },
     "output_type": "display_data"
    }
   ],
   "source": [
    "# fgsm model with small steps\n",
    "run_masking_benchmarks(fgsm_model_small, train_dataset, epsilon=0.06, device=device, batch_size=batch_size)"
   ]
  },
  {
   "cell_type": "code",
   "execution_count": null,
   "metadata": {
    "colab": {
     "base_uri": "https://localhost:8080/",
     "height": 689,
     "referenced_widgets": [
      "b5828faf827f4aa7be834ff7c2a27140",
      "e45370b27c64474a8fd823a47e1f5533",
      "3ed0c47ca8fb45c5a52ae2ac1a735c90",
      "b1c253102a79466cbb2b5ceeb2cae197",
      "8b69866c775c43ddae2fcaf7994762f8",
      "c8926d88b41d47e091bf48f837adcd09",
      "289d92e928d54a7fac9a72ccae3d8d6d",
      "1a3a9b1560db45f0a61031ed9ba21ef7"
     ]
    },
    "id": "5om39JyajCBB",
    "outputId": "b6767d49-0147-455f-e5b4-fe5c9939093d"
   },
   "outputs": [
    {
     "data": {
      "application/vnd.jupyter.widget-view+json": {
       "model_id": "b5828faf827f4aa7be834ff7c2a27140",
       "version_major": 2,
       "version_minor": 0
      },
      "text/plain": [
       "HBox(children=(FloatProgress(value=0.0, description='Description', max=6.0, style=ProgressStyle(description_wi…"
      ]
     },
     "metadata": {
      "tags": []
     },
     "output_type": "display_data"
    },
    {
     "name": "stdout",
     "output_type": "stream",
     "text": [
      "Model accuracy: 96.87%\n",
      "FGSM accuracy - eps = 0.06: 90.57%\n",
      "FGSM accuracy - eps = 0.03: 95.39999999999999%\n",
      "PGD accuracy - eps = 0.06: 5.6000000000000005%\n",
      "PGD accuracy - eps = 0.03: 34.31%\n",
      "Unbounded PGD model accuracy: 0.0%\n",
      "SPSA accuracy - eps = 0.06: 58.599999999999994%\n",
      "SPSA accuracy - eps = 0.03: 79.60000000000001%\n",
      "\n"
     ]
    },
    {
     "data": {
      "image/png": "[encoded data removed]",
      "text/plain": [
       "<Figure size 864x576 with 1 Axes>"
      ]
     },
     "metadata": {
      "tags": []
     },
     "output_type": "display_data"
    }
   ],
   "source": [
    "# step-ll model\n",
    "run_masking_benchmarks(step_ll_model, train_dataset, epsilon=0.06, device=device, batch_size=batch_size)"
   ]
  },
  {
   "cell_type": "code",
   "execution_count": null,
   "metadata": {
    "colab": {
     "base_uri": "https://localhost:8080/",
     "height": 689,
     "referenced_widgets": [
      "bf05604218fa427bb3e56497b3ff3734",
      "939ffea825904f0fa898ee19adbae94a",
      "47b5882f6401460e8f613cf6e57c9091",
      "7b0898899a4643dfa54b52a7ef86a182",
      "5d3c2029bf7341b09f86f583716fcd57",
      "09bc8d777efc4e5bbdb9f750d3c59f3c",
      "75e41f5e7232496f81334967a32cb292",
      "f509a3a02525455eb6554fd0e1533dc4"
     ]
    },
    "id": "JBTEsDvfjCBC",
    "outputId": "7a12fd62-e05f-491c-d032-af87375e5814"
   },
   "outputs": [
    {
     "data": {
      "application/vnd.jupyter.widget-view+json": {
       "model_id": "bf05604218fa427bb3e56497b3ff3734",
       "version_major": 2,
       "version_minor": 0
      },
      "text/plain": [
       "HBox(children=(FloatProgress(value=0.0, description='Description', max=6.0, style=ProgressStyle(description_wi…"
      ]
     },
     "metadata": {
      "tags": []
     },
     "output_type": "display_data"
    },
    {
     "name": "stdout",
     "output_type": "stream",
     "text": [
      "Model accuracy: 99.7%\n",
      "FGSM accuracy - eps = 0.06: 21.98%\n",
      "FGSM accuracy - eps = 0.03: 78.58000000000001%\n",
      "PGD accuracy - eps = 0.06: 6.39%\n",
      "PGD accuracy - eps = 0.03: 62.78%\n",
      "Unbounded PGD model accuracy: 0.0%\n",
      "SPSA accuracy - eps = 0.06: 87.0%\n",
      "SPSA accuracy - eps = 0.03: 98.2%\n",
      "\n"
     ]
    },
    {
     "data": {
      "image/png": "[encoded data removed]",
      "text/plain": [
       "<Figure size 864x576 with 1 Axes>"
      ]
     },
     "metadata": {
      "tags": []
     },
     "output_type": "display_data"
    }
   ],
   "source": [
    "# step-ll model\n",
    "run_masking_benchmarks(step_ll_model_small, train_dataset, epsilon=0.06, device=device, batch_size=batch_size)"
   ]
  },
  {
   "cell_type": "code",
   "execution_count": null,
   "metadata": {
    "colab": {
     "background_save": true,
     "base_uri": "https://localhost:8080/",
     "height": 689,
     "referenced_widgets": [
      "10a4f4644fdf49f7a5943786a7ef5b5f",
      "69028f218ce74a60b8b182befa9e36a1",
      "41fcbea835894b2b8062782aae0c7c06",
      "1b43ec517ca54ea785f778b41aa024e9",
      "9982d930d2984570a6f5ceb279b3cdf2",
      "ca1801b7f6dc46a4a8604809c7e1be0a",
      "a4b3e93393594a9aa0969becb2eb999b",
      "cdccf0e46af845f49eb8175cea759be0"
     ]
    },
    "id": "zhB2iXoMjCBC",
    "outputId": "f57c5e0b-464d-4ed1-a3a0-53b4c1a9d603"
   },
   "outputs": [
    {
     "data": {
      "application/vnd.jupyter.widget-view+json": {
       "model_id": "10a4f4644fdf49f7a5943786a7ef5b5f",
       "version_major": 2,
       "version_minor": 0
      },
      "text/plain": [
       "HBox(children=(FloatProgress(value=0.0, description='Description', max=6.0, style=ProgressStyle(description_wi…"
      ]
     },
     "metadata": {
      "tags": []
     },
     "output_type": "display_data"
    },
    {
     "name": "stdout",
     "output_type": "stream",
     "text": [
      "Model accuracy: 82.01%\n",
      "FGSM accuracy - eps = 0.06: 7.4399999999999995%\n",
      "FGSM accuracy - eps = 0.03: 30.59%\n",
      "PGD accuracy - eps = 0.06: 3.7199999999999998%\n",
      "PGD accuracy - eps = 0.03: 27.47%\n",
      "Unbounded PGD model accuracy: 0.0%\n",
      "SPSA accuracy - eps = 0.06: 37.4%\n",
      "SPSA accuracy - eps = 0.03: 56.99999999999999%\n",
      "\n"
     ]
    },
    {
     "data": {
      "image/png": "[encoded data removed]",
      "text/plain": [
       "<Figure size 864x576 with 1 Axes>"
      ]
     },
     "metadata": {
      "tags": []
     },
     "output_type": "display_data"
    }
   ],
   "source": [
    "run_masking_benchmarks(grad_reg_model, train_dataset, epsilon=0.06, device=device, batch_size=batch_size)"
   ]
  },
  {
   "cell_type": "code",
   "execution_count": null,
   "metadata": {
    "colab": {
     "base_uri": "https://localhost:8080/",
     "height": 689,
     "referenced_widgets": [
      "fc5a80f859014763ab772fe9bb03c286",
      "2686d878b8074b82a577c4cfc6ad6fec",
      "1ace8fa5b60940b393c85982c42c69b5",
      "9cbb2b8bbd724516996ab4712a1153c2",
      "05e31b972fd44c0e9071d601696b2b8b",
      "3b8c272871554733b9cb46c2ad49dd28",
      "7c91f9cf06c845149941a124f51a8fe0",
      "36a54eec7d464b2ea956470682dd9bae"
     ]
    },
    "id": "IMPV8jGnjCBC",
    "outputId": "a99dd3c4-339e-4f0d-f90e-f80a940ff094"
   },
   "outputs": [
    {
     "data": {
      "application/vnd.jupyter.widget-view+json": {
       "model_id": "fc5a80f859014763ab772fe9bb03c286",
       "version_major": 2,
       "version_minor": 0
      },
      "text/plain": [
       "HBox(children=(FloatProgress(value=0.0, description='Description', max=6.0, style=ProgressStyle(description_wi…"
      ]
     },
     "metadata": {
      "tags": []
     },
     "output_type": "display_data"
    },
    {
     "name": "stdout",
     "output_type": "stream",
     "text": [
      "Model accuracy: 91.78%\n",
      "FGSM accuracy - eps = 0.06: 21.63%\n",
      "FGSM accuracy - eps = 0.03: 56.14%\n",
      "PGD accuracy - eps = 0.06: 12.479999999999999%\n",
      "PGD accuracy - eps = 0.03: 53.290000000000006%\n",
      "Unbounded PGD model accuracy: 0.0%\n",
      "SPSA accuracy - eps = 0.06: 65.4%\n",
      "SPSA accuracy - eps = 0.03: 75.0%\n",
      "\n"
     ]
    },
    {
     "data": {
      "image/png": "[encoded data removed]",
      "text/plain": [
       "<Figure size 864x576 with 1 Axes>"
      ]
     },
     "metadata": {
      "tags": []
     },
     "output_type": "display_data"
    }
   ],
   "source": [
    "run_masking_benchmarks(cure, train_dataset, epsilon=0.06, device=device, batch_size=batch_size)"
   ]
  }
 ],
 "metadata": {
  "accelerator": "GPU",
  "colab": {
   "collapsed_sections": [],
   "name": "GradientMasking.ipynb",
   "provenance": [],
   "toc_visible": true
  },
  "kernelspec": {
   "display_name": "Python 3",
   "language": "python",
   "name": "python3"
  },
  "language_info": {
   "codemirror_mode": {
    "name": "ipython",
    "version": 3
   },
   "file_extension": ".py",
   "mimetype": "text/x-python",
   "name": "python",
   "nbconvert_exporter": "python",
   "pygments_lexer": "ipython3",
   "version": "3.7.9"
  },
  "widgets": {
   "application/vnd.jupyter.widget-state+json": {
    "05e31b972fd44c0e9071d601696b2b8b": {
     "model_module": "@jupyter-widgets/base",
     "model_name": "LayoutModel",
     "state": {
      "_model_module": "@jupyter-widgets/base",
      "_model_module_version": "1.2.0",
      "_model_name": "LayoutModel",
      "_view_count": null,
      "_view_module": "@jupyter-widgets/base",
      "_view_module_version": "1.2.0",
      "_view_name": "LayoutView",
      "align_content": null,
      "align_items": null,
      "align_self": null,
      "border": null,
      "bottom": null,
      "display": null,
      "flex": null,
      "flex_flow": null,
      "grid_area": null,
      "grid_auto_columns": null,
      "grid_auto_flow": null,
      "grid_auto_rows": null,
      "grid_column": null,
      "grid_gap": null,
      "grid_row": null,
      "grid_template_areas": null,
      "grid_template_columns": null,
      "grid_template_rows": null,
      "height": null,
      "justify_content": null,
      "justify_items": null,
      "left": null,
      "margin": null,
      "max_height": null,
      "max_width": null,
      "min_height": null,
      "min_width": null,
      "object_fit": null,
      "object_position": null,
      "order": null,
      "overflow": null,
      "overflow_x": null,
      "overflow_y": null,
      "padding": null,
      "right": null,
      "top": null,
      "visibility": null,
      "width": null
     }
    },
    "0821615f6ab44e6395dc7ae5de10af7f": {
     "model_module": "@jupyter-widgets/controls",
     "model_name": "ProgressStyleModel",
     "state": {
      "_model_module": "@jupyter-widgets/controls",
      "_model_module_version": "1.5.0",
      "_model_name": "ProgressStyleModel",
      "_view_count": null,
      "_view_module": "@jupyter-widgets/base",
      "_view_module_version": "1.2.0",
      "_view_name": "StyleView",
      "bar_color": null,
      "description_width": "initial"
     }
    },
    "0925bf3bdf384ec983a6fabdc242593e": {
     "model_module": "@jupyter-widgets/controls",
     "model_name": "HBoxModel",
     "state": {
      "_dom_classes": [],
      "_model_module": "@jupyter-widgets/controls",
      "_model_module_version": "1.5.0",
      "_model_name": "HBoxModel",
      "_view_count": null,
      "_view_module": "@jupyter-widgets/controls",
      "_view_module_version": "1.5.0",
      "_view_name": "HBoxView",
      "box_style": "",
      "children": [
       "IPY_MODEL_6376ae9dbbe043db85a1510ae0e3b51a",
       "IPY_MODEL_59dd09f494ba40d195571f615c33028d"
      ],
      "layout": "IPY_MODEL_a4fad225171f43d3abbfb51981c981d8"
     }
    },
    "09bc8d777efc4e5bbdb9f750d3c59f3c": {
     "model_module": "@jupyter-widgets/controls",
     "model_name": "ProgressStyleModel",
     "state": {
      "_model_module": "@jupyter-widgets/controls",
      "_model_module_version": "1.5.0",
      "_model_name": "ProgressStyleModel",
      "_view_count": null,
      "_view_module": "@jupyter-widgets/base",
      "_view_module_version": "1.2.0",
      "_view_name": "StyleView",
      "bar_color": null,
      "description_width": "initial"
     }
    },
    "0aa4c283af4e46ce845cecff615593df": {
     "model_module": "@jupyter-widgets/base",
     "model_name": "LayoutModel",
     "state": {
      "_model_module": "@jupyter-widgets/base",
      "_model_module_version": "1.2.0",
      "_model_name": "LayoutModel",
      "_view_count": null,
      "_view_module": "@jupyter-widgets/base",
      "_view_module_version": "1.2.0",
      "_view_name": "LayoutView",
      "align_content": null,
      "align_items": null,
      "align_self": null,
      "border": null,
      "bottom": null,
      "display": null,
      "flex": null,
      "flex_flow": null,
      "grid_area": null,
      "grid_auto_columns": null,
      "grid_auto_flow": null,
      "grid_auto_rows": null,
      "grid_column": null,
      "grid_gap": null,
      "grid_row": null,
      "grid_template_areas": null,
      "grid_template_columns": null,
      "grid_template_rows": null,
      "height": null,
      "justify_content": null,
      "justify_items": null,
      "left": null,
      "margin": null,
      "max_height": null,
      "max_width": null,
      "min_height": null,
      "min_width": null,
      "object_fit": null,
      "object_position": null,
      "order": null,
      "overflow": null,
      "overflow_x": null,
      "overflow_y": null,
      "padding": null,
      "right": null,
      "top": null,
      "visibility": null,
      "width": null
     }
    },
    "0b0f2208ac334bd3b6ff8b9e3dd398dc": {
     "model_module": "@jupyter-widgets/controls",
     "model_name": "ProgressStyleModel",
     "state": {
      "_model_module": "@jupyter-widgets/controls",
      "_model_module_version": "1.5.0",
      "_model_name": "ProgressStyleModel",
      "_view_count": null,
      "_view_module": "@jupyter-widgets/base",
      "_view_module_version": "1.2.0",
      "_view_name": "StyleView",
      "bar_color": null,
      "description_width": "initial"
     }
    },
    "10a4f4644fdf49f7a5943786a7ef5b5f": {
     "model_module": "@jupyter-widgets/controls",
     "model_name": "HBoxModel",
     "state": {
      "_dom_classes": [],
      "_model_module": "@jupyter-widgets/controls",
      "_model_module_version": "1.5.0",
      "_model_name": "HBoxModel",
      "_view_count": null,
      "_view_module": "@jupyter-widgets/controls",
      "_view_module_version": "1.5.0",
      "_view_name": "HBoxView",
      "box_style": "",
      "children": [
       "IPY_MODEL_69028f218ce74a60b8b182befa9e36a1",
       "IPY_MODEL_41fcbea835894b2b8062782aae0c7c06"
      ],
      "layout": "IPY_MODEL_1b43ec517ca54ea785f778b41aa024e9"
     }
    },
    "10a691f2441049c794a0e342b4f31440": {
     "model_module": "@jupyter-widgets/base",
     "model_name": "LayoutModel",
     "state": {
      "_model_module": "@jupyter-widgets/base",
      "_model_module_version": "1.2.0",
      "_model_name": "LayoutModel",
      "_view_count": null,
      "_view_module": "@jupyter-widgets/base",
      "_view_module_version": "1.2.0",
      "_view_name": "LayoutView",
      "align_content": null,
      "align_items": null,
      "align_self": null,
      "border": null,
      "bottom": null,
      "display": null,
      "flex": null,
      "flex_flow": null,
      "grid_area": null,
      "grid_auto_columns": null,
      "grid_auto_flow": null,
      "grid_auto_rows": null,
      "grid_column": null,
      "grid_gap": null,
      "grid_row": null,
      "grid_template_areas": null,
      "grid_template_columns": null,
      "grid_template_rows": null,
      "height": null,
      "justify_content": null,
      "justify_items": null,
      "left": null,
      "margin": null,
      "max_height": null,
      "max_width": null,
      "min_height": null,
      "min_width": null,
      "object_fit": null,
      "object_position": null,
      "order": null,
      "overflow": null,
      "overflow_x": null,
      "overflow_y": null,
      "padding": null,
      "right": null,
      "top": null,
      "visibility": null,
      "width": null
     }
    },
    "1149b28beb3447eb98a36704ec89d0a2": {
     "model_module": "@jupyter-widgets/controls",
     "model_name": "HTMLModel",
     "state": {
      "_dom_classes": [],
      "_model_module": "@jupyter-widgets/controls",
      "_model_module_version": "1.5.0",
      "_model_name": "HTMLModel",
      "_view_count": null,
      "_view_module": "@jupyter-widgets/controls",
      "_view_module_version": "1.5.0",
      "_view_name": "HTMLView",
      "description": "",
      "description_tooltip": null,
      "layout": "IPY_MODEL_f4469f81982844a6b5057471b7fcaf2c",
      "placeholder": "​",
      "style": "IPY_MODEL_9960705012bf4acd9438b8a9c3b609fd",
      "value": " 6/6 [18:45&lt;00:00, 187.56s/it]"
     }
    },
    "122bb6706831480ca58a9eff18cfd8a1": {
     "model_module": "@jupyter-widgets/base",
     "model_name": "LayoutModel",
     "state": {
      "_model_module": "@jupyter-widgets/base",
      "_model_module_version": "1.2.0",
      "_model_name": "LayoutModel",
      "_view_count": null,
      "_view_module": "@jupyter-widgets/base",
      "_view_module_version": "1.2.0",
      "_view_name": "LayoutView",
      "align_content": null,
      "align_items": null,
      "align_self": null,
      "border": null,
      "bottom": null,
      "display": null,
      "flex": null,
      "flex_flow": null,
      "grid_area": null,
      "grid_auto_columns": null,
      "grid_auto_flow": null,
      "grid_auto_rows": null,
      "grid_column": null,
      "grid_gap": null,
      "grid_row": null,
      "grid_template_areas": null,
      "grid_template_columns": null,
      "grid_template_rows": null,
      "height": null,
      "justify_content": null,
      "justify_items": null,
      "left": null,
      "margin": null,
      "max_height": null,
      "max_width": null,
      "min_height": null,
      "min_width": null,
      "object_fit": null,
      "object_position": null,
      "order": null,
      "overflow": null,
      "overflow_x": null,
      "overflow_y": null,
      "padding": null,
      "right": null,
      "top": null,
      "visibility": null,
      "width": null
     }
    },
    "1380cf3399954d2993fc659d8a95f106": {
     "model_module": "@jupyter-widgets/controls",
     "model_name": "HTMLModel",
     "state": {
      "_dom_classes": [],
      "_model_module": "@jupyter-widgets/controls",
      "_model_module_version": "1.5.0",
      "_model_name": "HTMLModel",
      "_view_count": null,
      "_view_module": "@jupyter-widgets/controls",
      "_view_module_version": "1.5.0",
      "_view_name": "HTMLView",
      "description": "",
      "description_tooltip": null,
      "layout": "IPY_MODEL_c9cb321839a14246a193b52c9990969e",
      "placeholder": "​",
      "style": "IPY_MODEL_c67f35bd6e144bfc83bed3fefc17e021",
      "value": " 6/6 [20:00&lt;00:00, 200.09s/it]"
     }
    },
    "1725158e2b2144d5897a185f3f84a030": {
     "model_module": "@jupyter-widgets/base",
     "model_name": "LayoutModel",
     "state": {
      "_model_module": "@jupyter-widgets/base",
      "_model_module_version": "1.2.0",
      "_model_name": "LayoutModel",
      "_view_count": null,
      "_view_module": "@jupyter-widgets/base",
      "_view_module_version": "1.2.0",
      "_view_name": "LayoutView",
      "align_content": null,
      "align_items": null,
      "align_self": null,
      "border": null,
      "bottom": null,
      "display": null,
      "flex": null,
      "flex_flow": null,
      "grid_area": null,
      "grid_auto_columns": null,
      "grid_auto_flow": null,
      "grid_auto_rows": null,
      "grid_column": null,
      "grid_gap": null,
      "grid_row": null,
      "grid_template_areas": null,
      "grid_template_columns": null,
      "grid_template_rows": null,
      "height": null,
      "justify_content": null,
      "justify_items": null,
      "left": null,
      "margin": null,
      "max_height": null,
      "max_width": null,
      "min_height": null,
      "min_width": null,
      "object_fit": null,
      "object_position": null,
      "order": null,
      "overflow": null,
      "overflow_x": null,
      "overflow_y": null,
      "padding": null,
      "right": null,
      "top": null,
      "visibility": null,
      "width": null
     }
    },
    "172da9273bcc4d3e9e2715e7ec9ec658": {
     "model_module": "@jupyter-widgets/controls",
     "model_name": "FloatProgressModel",
     "state": {
      "_dom_classes": [],
      "_model_module": "@jupyter-widgets/controls",
      "_model_module_version": "1.5.0",
      "_model_name": "FloatProgressModel",
      "_view_count": null,
      "_view_module": "@jupyter-widgets/controls",
      "_view_module_version": "1.5.0",
      "_view_name": "ProgressView",
      "bar_style": "success",
      "description": "Plotting: 100%",
      "description_tooltip": null,
      "layout": "IPY_MODEL_42e68ebbacdd414a88154142dfb32cad",
      "max": 6,
      "min": 0,
      "orientation": "horizontal",
      "style": "IPY_MODEL_81d0774c42a84c789c969c68cd5f00e8",
      "value": 6
     }
    },
    "1883a2e3a2d14e2e849e16410b6761af": {
     "model_module": "@jupyter-widgets/controls",
     "model_name": "FloatProgressModel",
     "state": {
      "_dom_classes": [],
      "_model_module": "@jupyter-widgets/controls",
      "_model_module_version": "1.5.0",
      "_model_name": "FloatProgressModel",
      "_view_count": null,
      "_view_module": "@jupyter-widgets/controls",
      "_view_module_version": "1.5.0",
      "_view_name": "ProgressView",
      "bar_style": "success",
      "description": "Plotting: 100%",
      "description_tooltip": null,
      "layout": "IPY_MODEL_4cc4cd9c2a904dcbaf1cfb074e89c531",
      "max": 6,
      "min": 0,
      "orientation": "horizontal",
      "style": "IPY_MODEL_0b0f2208ac334bd3b6ff8b9e3dd398dc",
      "value": 6
     }
    },
    "1a3a9b1560db45f0a61031ed9ba21ef7": {
     "model_module": "@jupyter-widgets/controls",
     "model_name": "DescriptionStyleModel",
     "state": {
      "_model_module": "@jupyter-widgets/controls",
      "_model_module_version": "1.5.0",
      "_model_name": "DescriptionStyleModel",
      "_view_count": null,
      "_view_module": "@jupyter-widgets/base",
      "_view_module_version": "1.2.0",
      "_view_name": "StyleView",
      "description_width": ""
     }
    },
    "1a8e556de1f64e3ba698d56bfdcfd365": {
     "model_module": "@jupyter-widgets/base",
     "model_name": "LayoutModel",
     "state": {
      "_model_module": "@jupyter-widgets/base",
      "_model_module_version": "1.2.0",
      "_model_name": "LayoutModel",
      "_view_count": null,
      "_view_module": "@jupyter-widgets/base",
      "_view_module_version": "1.2.0",
      "_view_name": "LayoutView",
      "align_content": null,
      "align_items": null,
      "align_self": null,
      "border": null,
      "bottom": null,
      "display": null,
      "flex": null,
      "flex_flow": null,
      "grid_area": null,
      "grid_auto_columns": null,
      "grid_auto_flow": null,
      "grid_auto_rows": null,
      "grid_column": null,
      "grid_gap": null,
      "grid_row": null,
      "grid_template_areas": null,
      "grid_template_columns": null,
      "grid_template_rows": null,
      "height": null,
      "justify_content": null,
      "justify_items": null,
      "left": null,
      "margin": null,
      "max_height": null,
      "max_width": null,
      "min_height": null,
      "min_width": null,
      "object_fit": null,
      "object_position": null,
      "order": null,
      "overflow": null,
      "overflow_x": null,
      "overflow_y": null,
      "padding": null,
      "right": null,
      "top": null,
      "visibility": null,
      "width": null
     }
    },
    "1ace8fa5b60940b393c85982c42c69b5": {
     "model_module": "@jupyter-widgets/controls",
     "model_name": "HTMLModel",
     "state": {
      "_dom_classes": [],
      "_model_module": "@jupyter-widgets/controls",
      "_model_module_version": "1.5.0",
      "_model_name": "HTMLModel",
      "_view_count": null,
      "_view_module": "@jupyter-widgets/controls",
      "_view_module_version": "1.5.0",
      "_view_name": "HTMLView",
      "description": "",
      "description_tooltip": null,
      "layout": "IPY_MODEL_7c91f9cf06c845149941a124f51a8fe0",
      "placeholder": "​",
      "style": "IPY_MODEL_36a54eec7d464b2ea956470682dd9bae",
      "value": " 6/6 [19:48&lt;00:00, 198.00s/it]"
     }
    },
    "1b1c69f1c7f74ac28b46d4cb14c43c85": {
     "model_module": "@jupyter-widgets/controls",
     "model_name": "FloatProgressModel",
     "state": {
      "_dom_classes": [],
      "_model_module": "@jupyter-widgets/controls",
      "_model_module_version": "1.5.0",
      "_model_name": "FloatProgressModel",
      "_view_count": null,
      "_view_module": "@jupyter-widgets/controls",
      "_view_module_version": "1.5.0",
      "_view_name": "ProgressView",
      "bar_style": "success",
      "description": "Plotting: 100%",
      "description_tooltip": null,
      "layout": "IPY_MODEL_c9fa184357404575a76382e951e6248a",
      "max": 6,
      "min": 0,
      "orientation": "horizontal",
      "style": "IPY_MODEL_f7197fbb16814fe291c4b66329db23ff",
      "value": 6
     }
    },
    "1b43ec517ca54ea785f778b41aa024e9": {
     "model_module": "@jupyter-widgets/base",
     "model_name": "LayoutModel",
     "state": {
      "_model_module": "@jupyter-widgets/base",
      "_model_module_version": "1.2.0",
      "_model_name": "LayoutModel",
      "_view_count": null,
      "_view_module": "@jupyter-widgets/base",
      "_view_module_version": "1.2.0",
      "_view_name": "LayoutView",
      "align_content": null,
      "align_items": null,
      "align_self": null,
      "border": null,
      "bottom": null,
      "display": null,
      "flex": null,
      "flex_flow": null,
      "grid_area": null,
      "grid_auto_columns": null,
      "grid_auto_flow": null,
      "grid_auto_rows": null,
      "grid_column": null,
      "grid_gap": null,
      "grid_row": null,
      "grid_template_areas": null,
      "grid_template_columns": null,
      "grid_template_rows": null,
      "height": null,
      "justify_content": null,
      "justify_items": null,
      "left": null,
      "margin": null,
      "max_height": null,
      "max_width": null,
      "min_height": null,
      "min_width": null,
      "object_fit": null,
      "object_position": null,
      "order": null,
      "overflow": null,
      "overflow_x": null,
      "overflow_y": null,
      "padding": null,
      "right": null,
      "top": null,
      "visibility": null,
      "width": null
     }
    },
    "1f24dfabd15e4130b11e4408487509b8": {
     "model_module": "@jupyter-widgets/controls",
     "model_name": "ProgressStyleModel",
     "state": {
      "_model_module": "@jupyter-widgets/controls",
      "_model_module_version": "1.5.0",
      "_model_name": "ProgressStyleModel",
      "_view_count": null,
      "_view_module": "@jupyter-widgets/base",
      "_view_module_version": "1.2.0",
      "_view_name": "StyleView",
      "bar_color": null,
      "description_width": "initial"
     }
    },
    "21148701f5994067891e94f8f6fcb540": {
     "model_module": "@jupyter-widgets/base",
     "model_name": "LayoutModel",
     "state": {
      "_model_module": "@jupyter-widgets/base",
      "_model_module_version": "1.2.0",
      "_model_name": "LayoutModel",
      "_view_count": null,
      "_view_module": "@jupyter-widgets/base",
      "_view_module_version": "1.2.0",
      "_view_name": "LayoutView",
      "align_content": null,
      "align_items": null,
      "align_self": null,
      "border": null,
      "bottom": null,
      "display": null,
      "flex": null,
      "flex_flow": null,
      "grid_area": null,
      "grid_auto_columns": null,
      "grid_auto_flow": null,
      "grid_auto_rows": null,
      "grid_column": null,
      "grid_gap": null,
      "grid_row": null,
      "grid_template_areas": null,
      "grid_template_columns": null,
      "grid_template_rows": null,
      "height": null,
      "justify_content": null,
      "justify_items": null,
      "left": null,
      "margin": null,
      "max_height": null,
      "max_width": null,
      "min_height": null,
      "min_width": null,
      "object_fit": null,
      "object_position": null,
      "order": null,
      "overflow": null,
      "overflow_x": null,
      "overflow_y": null,
      "padding": null,
      "right": null,
      "top": null,
      "visibility": null,
      "width": null
     }
    },
    "23847c38fb814d219c7d119b614ac365": {
     "model_module": "@jupyter-widgets/controls",
     "model_name": "HTMLModel",
     "state": {
      "_dom_classes": [],
      "_model_module": "@jupyter-widgets/controls",
      "_model_module_version": "1.5.0",
      "_model_name": "HTMLModel",
      "_view_count": null,
      "_view_module": "@jupyter-widgets/controls",
      "_view_module_version": "1.5.0",
      "_view_name": "HTMLView",
      "description": "",
      "description_tooltip": null,
      "layout": "IPY_MODEL_6c5a78ce7d434452b802d6f12c46137d",
      "placeholder": "​",
      "style": "IPY_MODEL_9fd1aad072734986b7ce90a4168b9c8c",
      "value": " 6/6 [19:33&lt;00:00, 195.60s/it]"
     }
    },
    "243786c76bff4b7c8dbaf98e6e67ba81": {
     "model_module": "@jupyter-widgets/controls",
     "model_name": "HTMLModel",
     "state": {
      "_dom_classes": [],
      "_model_module": "@jupyter-widgets/controls",
      "_model_module_version": "1.5.0",
      "_model_name": "HTMLModel",
      "_view_count": null,
      "_view_module": "@jupyter-widgets/controls",
      "_view_module_version": "1.5.0",
      "_view_name": "HTMLView",
      "description": "",
      "description_tooltip": null,
      "layout": "IPY_MODEL_d7a3204eb3524a1fbb9a595a15c5ce27",
      "placeholder": "​",
      "style": "IPY_MODEL_56e9eb87008c43018d236c0158804e73",
      "value": " 6/6 [19:54&lt;00:00, 199.12s/it]"
     }
    },
    "24f1e897dcf0415391f72a6c5810f99c": {
     "model_module": "@jupyter-widgets/controls",
     "model_name": "ProgressStyleModel",
     "state": {
      "_model_module": "@jupyter-widgets/controls",
      "_model_module_version": "1.5.0",
      "_model_name": "ProgressStyleModel",
      "_view_count": null,
      "_view_module": "@jupyter-widgets/base",
      "_view_module_version": "1.2.0",
      "_view_name": "StyleView",
      "bar_color": null,
      "description_width": "initial"
     }
    },
    "2686d878b8074b82a577c4cfc6ad6fec": {
     "model_module": "@jupyter-widgets/controls",
     "model_name": "FloatProgressModel",
     "state": {
      "_dom_classes": [],
      "_model_module": "@jupyter-widgets/controls",
      "_model_module_version": "1.5.0",
      "_model_name": "FloatProgressModel",
      "_view_count": null,
      "_view_module": "@jupyter-widgets/controls",
      "_view_module_version": "1.5.0",
      "_view_name": "ProgressView",
      "bar_style": "success",
      "description": "Plotting: 100%",
      "description_tooltip": null,
      "layout": "IPY_MODEL_05e31b972fd44c0e9071d601696b2b8b",
      "max": 6,
      "min": 0,
      "orientation": "horizontal",
      "style": "IPY_MODEL_3b8c272871554733b9cb46c2ad49dd28",
      "value": 6
     }
    },
    "289d92e928d54a7fac9a72ccae3d8d6d": {
     "model_module": "@jupyter-widgets/base",
     "model_name": "LayoutModel",
     "state": {
      "_model_module": "@jupyter-widgets/base",
      "_model_module_version": "1.2.0",
      "_model_name": "LayoutModel",
      "_view_count": null,
      "_view_module": "@jupyter-widgets/base",
      "_view_module_version": "1.2.0",
      "_view_name": "LayoutView",
      "align_content": null,
      "align_items": null,
      "align_self": null,
      "border": null,
      "bottom": null,
      "display": null,
      "flex": null,
      "flex_flow": null,
      "grid_area": null,
      "grid_auto_columns": null,
      "grid_auto_flow": null,
      "grid_auto_rows": null,
      "grid_column": null,
      "grid_gap": null,
      "grid_row": null,
      "grid_template_areas": null,
      "grid_template_columns": null,
      "grid_template_rows": null,
      "height": null,
      "justify_content": null,
      "justify_items": null,
      "left": null,
      "margin": null,
      "max_height": null,
      "max_width": null,
      "min_height": null,
      "min_width": null,
      "object_fit": null,
      "object_position": null,
      "order": null,
      "overflow": null,
      "overflow_x": null,
      "overflow_y": null,
      "padding": null,
      "right": null,
      "top": null,
      "visibility": null,
      "width": null
     }
    },
    "28ea695b6a7a4961a0130e537f307f10": {
     "model_module": "@jupyter-widgets/controls",
     "model_name": "DescriptionStyleModel",
     "state": {
      "_model_module": "@jupyter-widgets/controls",
      "_model_module_version": "1.5.0",
      "_model_name": "DescriptionStyleModel",
      "_view_count": null,
      "_view_module": "@jupyter-widgets/base",
      "_view_module_version": "1.2.0",
      "_view_name": "StyleView",
      "description_width": ""
     }
    },
    "2a0f55513eb744df80bf120acc2c2ea4": {
     "model_module": "@jupyter-widgets/controls",
     "model_name": "HBoxModel",
     "state": {
      "_dom_classes": [],
      "_model_module": "@jupyter-widgets/controls",
      "_model_module_version": "1.5.0",
      "_model_name": "HBoxModel",
      "_view_count": null,
      "_view_module": "@jupyter-widgets/controls",
      "_view_module_version": "1.5.0",
      "_view_name": "HBoxView",
      "box_style": "",
      "children": [
       "IPY_MODEL_4f988263d1ec4b3c9445016b21875e42",
       "IPY_MODEL_cd9c91e94c7343178ca90efe306b838f"
      ],
      "layout": "IPY_MODEL_5dc301e55bff486a8b6fb8540f58e50f"
     }
    },
    "2c4b8cfd74114426820c5a648157092d": {
     "model_module": "@jupyter-widgets/base",
     "model_name": "LayoutModel",
     "state": {
      "_model_module": "@jupyter-widgets/base",
      "_model_module_version": "1.2.0",
      "_model_name": "LayoutModel",
      "_view_count": null,
      "_view_module": "@jupyter-widgets/base",
      "_view_module_version": "1.2.0",
      "_view_name": "LayoutView",
      "align_content": null,
      "align_items": null,
      "align_self": null,
      "border": null,
      "bottom": null,
      "display": null,
      "flex": null,
      "flex_flow": null,
      "grid_area": null,
      "grid_auto_columns": null,
      "grid_auto_flow": null,
      "grid_auto_rows": null,
      "grid_column": null,
      "grid_gap": null,
      "grid_row": null,
      "grid_template_areas": null,
      "grid_template_columns": null,
      "grid_template_rows": null,
      "height": null,
      "justify_content": null,
      "justify_items": null,
      "left": null,
      "margin": null,
      "max_height": null,
      "max_width": null,
      "min_height": null,
      "min_width": null,
      "object_fit": null,
      "object_position": null,
      "order": null,
      "overflow": null,
      "overflow_x": null,
      "overflow_y": null,
      "padding": null,
      "right": null,
      "top": null,
      "visibility": null,
      "width": null
     }
    },
    "3238b0b1d81b4caea2a112244345fbdf": {
     "model_module": "@jupyter-widgets/controls",
     "model_name": "HBoxModel",
     "state": {
      "_dom_classes": [],
      "_model_module": "@jupyter-widgets/controls",
      "_model_module_version": "1.5.0",
      "_model_name": "HBoxModel",
      "_view_count": null,
      "_view_module": "@jupyter-widgets/controls",
      "_view_module_version": "1.5.0",
      "_view_name": "HBoxView",
      "box_style": "",
      "children": [
       "IPY_MODEL_879e5547a5c2434b9a0983d63a5ced33",
       "IPY_MODEL_e3cf2877636941ae9d2baf94e1dd92a5"
      ],
      "layout": "IPY_MODEL_563d161440c748c8bf8bc5c33903110b"
     }
    },
    "36a54eec7d464b2ea956470682dd9bae": {
     "model_module": "@jupyter-widgets/controls",
     "model_name": "DescriptionStyleModel",
     "state": {
      "_model_module": "@jupyter-widgets/controls",
      "_model_module_version": "1.5.0",
      "_model_name": "DescriptionStyleModel",
      "_view_count": null,
      "_view_module": "@jupyter-widgets/base",
      "_view_module_version": "1.2.0",
      "_view_name": "StyleView",
      "description_width": ""
     }
    },
    "3996014b059c47aab5d18b75d8657c13": {
     "model_module": "@jupyter-widgets/base",
     "model_name": "LayoutModel",
     "state": {
      "_model_module": "@jupyter-widgets/base",
      "_model_module_version": "1.2.0",
      "_model_name": "LayoutModel",
      "_view_count": null,
      "_view_module": "@jupyter-widgets/base",
      "_view_module_version": "1.2.0",
      "_view_name": "LayoutView",
      "align_content": null,
      "align_items": null,
      "align_self": null,
      "border": null,
      "bottom": null,
      "display": null,
      "flex": null,
      "flex_flow": null,
      "grid_area": null,
      "grid_auto_columns": null,
      "grid_auto_flow": null,
      "grid_auto_rows": null,
      "grid_column": null,
      "grid_gap": null,
      "grid_row": null,
      "grid_template_areas": null,
      "grid_template_columns": null,
      "grid_template_rows": null,
      "height": null,
      "justify_content": null,
      "justify_items": null,
      "left": null,
      "margin": null,
      "max_height": null,
      "max_width": null,
      "min_height": null,
      "min_width": null,
      "object_fit": null,
      "object_position": null,
      "order": null,
      "overflow": null,
      "overflow_x": null,
      "overflow_y": null,
      "padding": null,
      "right": null,
      "top": null,
      "visibility": null,
      "width": null
     }
    },
    "3b8c272871554733b9cb46c2ad49dd28": {
     "model_module": "@jupyter-widgets/controls",
     "model_name": "ProgressStyleModel",
     "state": {
      "_model_module": "@jupyter-widgets/controls",
      "_model_module_version": "1.5.0",
      "_model_name": "ProgressStyleModel",
      "_view_count": null,
      "_view_module": "@jupyter-widgets/base",
      "_view_module_version": "1.2.0",
      "_view_name": "StyleView",
      "bar_color": null,
      "description_width": "initial"
     }
    },
    "3c7508bae2c644888d37608858bb2d27": {
     "model_module": "@jupyter-widgets/controls",
     "model_name": "HBoxModel",
     "state": {
      "_dom_classes": [],
      "_model_module": "@jupyter-widgets/controls",
      "_model_module_version": "1.5.0",
      "_model_name": "HBoxModel",
      "_view_count": null,
      "_view_module": "@jupyter-widgets/controls",
      "_view_module_version": "1.5.0",
      "_view_name": "HBoxView",
      "box_style": "",
      "children": [
       "IPY_MODEL_69f2dbea0063422ca81319c16a725fa4",
       "IPY_MODEL_aa082753756642ceb9840ed16a5eb504"
      ],
      "layout": "IPY_MODEL_f6392537d5eb4dfb9470e96221ca8a50"
     }
    },
    "3ed0c47ca8fb45c5a52ae2ac1a735c90": {
     "model_module": "@jupyter-widgets/controls",
     "model_name": "HTMLModel",
     "state": {
      "_dom_classes": [],
      "_model_module": "@jupyter-widgets/controls",
      "_model_module_version": "1.5.0",
      "_model_name": "HTMLModel",
      "_view_count": null,
      "_view_module": "@jupyter-widgets/controls",
      "_view_module_version": "1.5.0",
      "_view_name": "HTMLView",
      "description": "",
      "description_tooltip": null,
      "layout": "IPY_MODEL_289d92e928d54a7fac9a72ccae3d8d6d",
      "placeholder": "​",
      "style": "IPY_MODEL_1a3a9b1560db45f0a61031ed9ba21ef7",
      "value": " 6/6 [19:52&lt;00:00, 198.71s/it]"
     }
    },
    "3feb2feb859d44e09df73872b76e53d3": {
     "model_module": "@jupyter-widgets/controls",
     "model_name": "ProgressStyleModel",
     "state": {
      "_model_module": "@jupyter-widgets/controls",
      "_model_module_version": "1.5.0",
      "_model_name": "ProgressStyleModel",
      "_view_count": null,
      "_view_module": "@jupyter-widgets/base",
      "_view_module_version": "1.2.0",
      "_view_name": "StyleView",
      "bar_color": null,
      "description_width": "initial"
     }
    },
    "40aa9aa36c7d46939cc6d3ba985f6f13": {
     "model_module": "@jupyter-widgets/base",
     "model_name": "LayoutModel",
     "state": {
      "_model_module": "@jupyter-widgets/base",
      "_model_module_version": "1.2.0",
      "_model_name": "LayoutModel",
      "_view_count": null,
      "_view_module": "@jupyter-widgets/base",
      "_view_module_version": "1.2.0",
      "_view_name": "LayoutView",
      "align_content": null,
      "align_items": null,
      "align_self": null,
      "border": null,
      "bottom": null,
      "display": null,
      "flex": null,
      "flex_flow": null,
      "grid_area": null,
      "grid_auto_columns": null,
      "grid_auto_flow": null,
      "grid_auto_rows": null,
      "grid_column": null,
      "grid_gap": null,
      "grid_row": null,
      "grid_template_areas": null,
      "grid_template_columns": null,
      "grid_template_rows": null,
      "height": null,
      "justify_content": null,
      "justify_items": null,
      "left": null,
      "margin": null,
      "max_height": null,
      "max_width": null,
      "min_height": null,
      "min_width": null,
      "object_fit": null,
      "object_position": null,
      "order": null,
      "overflow": null,
      "overflow_x": null,
      "overflow_y": null,
      "padding": null,
      "right": null,
      "top": null,
      "visibility": null,
      "width": null
     }
    },
    "41ac3dcc03be406f84d51d296ef768ce": {
     "model_module": "@jupyter-widgets/controls",
     "model_name": "HTMLModel",
     "state": {
      "_dom_classes": [],
      "_model_module": "@jupyter-widgets/controls",
      "_model_module_version": "1.5.0",
      "_model_name": "HTMLModel",
      "_view_count": null,
      "_view_module": "@jupyter-widgets/controls",
      "_view_module_version": "1.5.0",
      "_view_name": "HTMLView",
      "description": "",
      "description_tooltip": null,
      "layout": "IPY_MODEL_122bb6706831480ca58a9eff18cfd8a1",
      "placeholder": "​",
      "style": "IPY_MODEL_28ea695b6a7a4961a0130e537f307f10",
      "value": " 6/6 [19:57&lt;00:00, 199.59s/it]"
     }
    },
    "41fcbea835894b2b8062782aae0c7c06": {
     "model_module": "@jupyter-widgets/controls",
     "model_name": "HTMLModel",
     "state": {
      "_dom_classes": [],
      "_model_module": "@jupyter-widgets/controls",
      "_model_module_version": "1.5.0",
      "_model_name": "HTMLModel",
      "_view_count": null,
      "_view_module": "@jupyter-widgets/controls",
      "_view_module_version": "1.5.0",
      "_view_name": "HTMLView",
      "description": "",
      "description_tooltip": null,
      "layout": "IPY_MODEL_a4b3e93393594a9aa0969becb2eb999b",
      "placeholder": "​",
      "style": "IPY_MODEL_cdccf0e46af845f49eb8175cea759be0",
      "value": " 6/6 [19:58&lt;00:00, 199.71s/it]"
     }
    },
    "42e68ebbacdd414a88154142dfb32cad": {
     "model_module": "@jupyter-widgets/base",
     "model_name": "LayoutModel",
     "state": {
      "_model_module": "@jupyter-widgets/base",
      "_model_module_version": "1.2.0",
      "_model_name": "LayoutModel",
      "_view_count": null,
      "_view_module": "@jupyter-widgets/base",
      "_view_module_version": "1.2.0",
      "_view_name": "LayoutView",
      "align_content": null,
      "align_items": null,
      "align_self": null,
      "border": null,
      "bottom": null,
      "display": null,
      "flex": null,
      "flex_flow": null,
      "grid_area": null,
      "grid_auto_columns": null,
      "grid_auto_flow": null,
      "grid_auto_rows": null,
      "grid_column": null,
      "grid_gap": null,
      "grid_row": null,
      "grid_template_areas": null,
      "grid_template_columns": null,
      "grid_template_rows": null,
      "height": null,
      "justify_content": null,
      "justify_items": null,
      "left": null,
      "margin": null,
      "max_height": null,
      "max_width": null,
      "min_height": null,
      "min_width": null,
      "object_fit": null,
      "object_position": null,
      "order": null,
      "overflow": null,
      "overflow_x": null,
      "overflow_y": null,
      "padding": null,
      "right": null,
      "top": null,
      "visibility": null,
      "width": null
     }
    },
    "43e9d7612ae042f0b6b92f22e34186e1": {
     "model_module": "@jupyter-widgets/base",
     "model_name": "LayoutModel",
     "state": {
      "_model_module": "@jupyter-widgets/base",
      "_model_module_version": "1.2.0",
      "_model_name": "LayoutModel",
      "_view_count": null,
      "_view_module": "@jupyter-widgets/base",
      "_view_module_version": "1.2.0",
      "_view_name": "LayoutView",
      "align_content": null,
      "align_items": null,
      "align_self": null,
      "border": null,
      "bottom": null,
      "display": null,
      "flex": null,
      "flex_flow": null,
      "grid_area": null,
      "grid_auto_columns": null,
      "grid_auto_flow": null,
      "grid_auto_rows": null,
      "grid_column": null,
      "grid_gap": null,
      "grid_row": null,
      "grid_template_areas": null,
      "grid_template_columns": null,
      "grid_template_rows": null,
      "height": null,
      "justify_content": null,
      "justify_items": null,
      "left": null,
      "margin": null,
      "max_height": null,
      "max_width": null,
      "min_height": null,
      "min_width": null,
      "object_fit": null,
      "object_position": null,
      "order": null,
      "overflow": null,
      "overflow_x": null,
      "overflow_y": null,
      "padding": null,
      "right": null,
      "top": null,
      "visibility": null,
      "width": null
     }
    },
    "44458c7483e147a99632ba9b46c7cad6": {
     "model_module": "@jupyter-widgets/base",
     "model_name": "LayoutModel",
     "state": {
      "_model_module": "@jupyter-widgets/base",
      "_model_module_version": "1.2.0",
      "_model_name": "LayoutModel",
      "_view_count": null,
      "_view_module": "@jupyter-widgets/base",
      "_view_module_version": "1.2.0",
      "_view_name": "LayoutView",
      "align_content": null,
      "align_items": null,
      "align_self": null,
      "border": null,
      "bottom": null,
      "display": null,
      "flex": null,
      "flex_flow": null,
      "grid_area": null,
      "grid_auto_columns": null,
      "grid_auto_flow": null,
      "grid_auto_rows": null,
      "grid_column": null,
      "grid_gap": null,
      "grid_row": null,
      "grid_template_areas": null,
      "grid_template_columns": null,
      "grid_template_rows": null,
      "height": null,
      "justify_content": null,
      "justify_items": null,
      "left": null,
      "margin": null,
      "max_height": null,
      "max_width": null,
      "min_height": null,
      "min_width": null,
      "object_fit": null,
      "object_position": null,
      "order": null,
      "overflow": null,
      "overflow_x": null,
      "overflow_y": null,
      "padding": null,
      "right": null,
      "top": null,
      "visibility": null,
      "width": null
     }
    },
    "451430dc1ad14ae48055a70e48c8a6d8": {
     "model_module": "@jupyter-widgets/controls",
     "model_name": "HTMLModel",
     "state": {
      "_dom_classes": [],
      "_model_module": "@jupyter-widgets/controls",
      "_model_module_version": "1.5.0",
      "_model_name": "HTMLModel",
      "_view_count": null,
      "_view_module": "@jupyter-widgets/controls",
      "_view_module_version": "1.5.0",
      "_view_name": "HTMLView",
      "description": "",
      "description_tooltip": null,
      "layout": "IPY_MODEL_97612305ebcb4fe9bef36470d9464301",
      "placeholder": "​",
      "style": "IPY_MODEL_bde8d2f7f91545b388c78b3397aeeaae",
      "value": " 6/6 [19:46&lt;00:00, 197.81s/it]"
     }
    },
    "47b5882f6401460e8f613cf6e57c9091": {
     "model_module": "@jupyter-widgets/controls",
     "model_name": "HTMLModel",
     "state": {
      "_dom_classes": [],
      "_model_module": "@jupyter-widgets/controls",
      "_model_module_version": "1.5.0",
      "_model_name": "HTMLModel",
      "_view_count": null,
      "_view_module": "@jupyter-widgets/controls",
      "_view_module_version": "1.5.0",
      "_view_name": "HTMLView",
      "description": "",
      "description_tooltip": null,
      "layout": "IPY_MODEL_75e41f5e7232496f81334967a32cb292",
      "placeholder": "​",
      "style": "IPY_MODEL_f509a3a02525455eb6554fd0e1533dc4",
      "value": " 6/6 [19:49&lt;00:00, 198.21s/it]"
     }
    },
    "4b18b9502cf84d4baf8fc48a0e8316fb": {
     "model_module": "@jupyter-widgets/controls",
     "model_name": "DescriptionStyleModel",
     "state": {
      "_model_module": "@jupyter-widgets/controls",
      "_model_module_version": "1.5.0",
      "_model_name": "DescriptionStyleModel",
      "_view_count": null,
      "_view_module": "@jupyter-widgets/base",
      "_view_module_version": "1.2.0",
      "_view_name": "StyleView",
      "description_width": ""
     }
    },
    "4c39daa8b6d9453aa45f182bfb1d50e8": {
     "model_module": "@jupyter-widgets/controls",
     "model_name": "HBoxModel",
     "state": {
      "_dom_classes": [],
      "_model_module": "@jupyter-widgets/controls",
      "_model_module_version": "1.5.0",
      "_model_name": "HBoxModel",
      "_view_count": null,
      "_view_module": "@jupyter-widgets/controls",
      "_view_module_version": "1.5.0",
      "_view_name": "HBoxView",
      "box_style": "",
      "children": [
       "IPY_MODEL_172da9273bcc4d3e9e2715e7ec9ec658",
       "IPY_MODEL_451430dc1ad14ae48055a70e48c8a6d8"
      ],
      "layout": "IPY_MODEL_c4fbbc33961448ab8df6e5ad75514a65"
     }
    },
    "4cc4cd9c2a904dcbaf1cfb074e89c531": {
     "model_module": "@jupyter-widgets/base",
     "model_name": "LayoutModel",
     "state": {
      "_model_module": "@jupyter-widgets/base",
      "_model_module_version": "1.2.0",
      "_model_name": "LayoutModel",
      "_view_count": null,
      "_view_module": "@jupyter-widgets/base",
      "_view_module_version": "1.2.0",
      "_view_name": "LayoutView",
      "align_content": null,
      "align_items": null,
      "align_self": null,
      "border": null,
      "bottom": null,
      "display": null,
      "flex": null,
      "flex_flow": null,
      "grid_area": null,
      "grid_auto_columns": null,
      "grid_auto_flow": null,
      "grid_auto_rows": null,
      "grid_column": null,
      "grid_gap": null,
      "grid_row": null,
      "grid_template_areas": null,
      "grid_template_columns": null,
      "grid_template_rows": null,
      "height": null,
      "justify_content": null,
      "justify_items": null,
      "left": null,
      "margin": null,
      "max_height": null,
      "max_width": null,
      "min_height": null,
      "min_width": null,
      "object_fit": null,
      "object_position": null,
      "order": null,
      "overflow": null,
      "overflow_x": null,
      "overflow_y": null,
      "padding": null,
      "right": null,
      "top": null,
      "visibility": null,
      "width": null
     }
    },
    "4ebb97c13df74524a77515da6342929e": {
     "model_module": "@jupyter-widgets/controls",
     "model_name": "FloatProgressModel",
     "state": {
      "_dom_classes": [],
      "_model_module": "@jupyter-widgets/controls",
      "_model_module_version": "1.5.0",
      "_model_name": "FloatProgressModel",
      "_view_count": null,
      "_view_module": "@jupyter-widgets/controls",
      "_view_module_version": "1.5.0",
      "_view_name": "ProgressView",
      "bar_style": "success",
      "description": "",
      "description_tooltip": null,
      "layout": "IPY_MODEL_0aa4c283af4e46ce845cecff615593df",
      "max": 1,
      "min": 0,
      "orientation": "horizontal",
      "style": "IPY_MODEL_983ab773d9484722b8351eec80c55487",
      "value": 1
     }
    },
    "4ef9fde7fff34b51ac803b4cbf693627": {
     "model_module": "@jupyter-widgets/base",
     "model_name": "LayoutModel",
     "state": {
      "_model_module": "@jupyter-widgets/base",
      "_model_module_version": "1.2.0",
      "_model_name": "LayoutModel",
      "_view_count": null,
      "_view_module": "@jupyter-widgets/base",
      "_view_module_version": "1.2.0",
      "_view_name": "LayoutView",
      "align_content": null,
      "align_items": null,
      "align_self": null,
      "border": null,
      "bottom": null,
      "display": null,
      "flex": null,
      "flex_flow": null,
      "grid_area": null,
      "grid_auto_columns": null,
      "grid_auto_flow": null,
      "grid_auto_rows": null,
      "grid_column": null,
      "grid_gap": null,
      "grid_row": null,
      "grid_template_areas": null,
      "grid_template_columns": null,
      "grid_template_rows": null,
      "height": null,
      "justify_content": null,
      "justify_items": null,
      "left": null,
      "margin": null,
      "max_height": null,
      "max_width": null,
      "min_height": null,
      "min_width": null,
      "object_fit": null,
      "object_position": null,
      "order": null,
      "overflow": null,
      "overflow_x": null,
      "overflow_y": null,
      "padding": null,
      "right": null,
      "top": null,
      "visibility": null,
      "width": null
     }
    },
    "4f57f73a42e348868458add621a29b07": {
     "model_module": "@jupyter-widgets/controls",
     "model_name": "DescriptionStyleModel",
     "state": {
      "_model_module": "@jupyter-widgets/controls",
      "_model_module_version": "1.5.0",
      "_model_name": "DescriptionStyleModel",
      "_view_count": null,
      "_view_module": "@jupyter-widgets/base",
      "_view_module_version": "1.2.0",
      "_view_name": "StyleView",
      "description_width": ""
     }
    },
    "4f988263d1ec4b3c9445016b21875e42": {
     "model_module": "@jupyter-widgets/controls",
     "model_name": "FloatProgressModel",
     "state": {
      "_dom_classes": [],
      "_model_module": "@jupyter-widgets/controls",
      "_model_module_version": "1.5.0",
      "_model_name": "FloatProgressModel",
      "_view_count": null,
      "_view_module": "@jupyter-widgets/controls",
      "_view_module_version": "1.5.0",
      "_view_name": "ProgressView",
      "bar_style": "success",
      "description": "Plotting: 100%",
      "description_tooltip": null,
      "layout": "IPY_MODEL_2c4b8cfd74114426820c5a648157092d",
      "max": 6,
      "min": 0,
      "orientation": "horizontal",
      "style": "IPY_MODEL_66bc6343485f4064ae61ce486bf09841",
      "value": 6
     }
    },
    "5245aa7670d7439e8e951307c79b71b3": {
     "model_module": "@jupyter-widgets/controls",
     "model_name": "HBoxModel",
     "state": {
      "_dom_classes": [],
      "_model_module": "@jupyter-widgets/controls",
      "_model_module_version": "1.5.0",
      "_model_name": "HBoxModel",
      "_view_count": null,
      "_view_module": "@jupyter-widgets/controls",
      "_view_module_version": "1.5.0",
      "_view_name": "HBoxView",
      "box_style": "",
      "children": [
       "IPY_MODEL_68ff0a4f26054c7e94376ca2583508c1",
       "IPY_MODEL_41ac3dcc03be406f84d51d296ef768ce"
      ],
      "layout": "IPY_MODEL_fdeb7c9d08a147fd9d08f31ddaf93ff8"
     }
    },
    "563d161440c748c8bf8bc5c33903110b": {
     "model_module": "@jupyter-widgets/base",
     "model_name": "LayoutModel",
     "state": {
      "_model_module": "@jupyter-widgets/base",
      "_model_module_version": "1.2.0",
      "_model_name": "LayoutModel",
      "_view_count": null,
      "_view_module": "@jupyter-widgets/base",
      "_view_module_version": "1.2.0",
      "_view_name": "LayoutView",
      "align_content": null,
      "align_items": null,
      "align_self": null,
      "border": null,
      "bottom": null,
      "display": null,
      "flex": null,
      "flex_flow": null,
      "grid_area": null,
      "grid_auto_columns": null,
      "grid_auto_flow": null,
      "grid_auto_rows": null,
      "grid_column": null,
      "grid_gap": null,
      "grid_row": null,
      "grid_template_areas": null,
      "grid_template_columns": null,
      "grid_template_rows": null,
      "height": null,
      "justify_content": null,
      "justify_items": null,
      "left": null,
      "margin": null,
      "max_height": null,
      "max_width": null,
      "min_height": null,
      "min_width": null,
      "object_fit": null,
      "object_position": null,
      "order": null,
      "overflow": null,
      "overflow_x": null,
      "overflow_y": null,
      "padding": null,
      "right": null,
      "top": null,
      "visibility": null,
      "width": null
     }
    },
    "56e9eb87008c43018d236c0158804e73": {
     "model_module": "@jupyter-widgets/controls",
     "model_name": "DescriptionStyleModel",
     "state": {
      "_model_module": "@jupyter-widgets/controls",
      "_model_module_version": "1.5.0",
      "_model_name": "DescriptionStyleModel",
      "_view_count": null,
      "_view_module": "@jupyter-widgets/base",
      "_view_module_version": "1.2.0",
      "_view_name": "StyleView",
      "description_width": ""
     }
    },
    "576bce4a44b24ab895002086e4e6ec19": {
     "model_module": "@jupyter-widgets/controls",
     "model_name": "FloatProgressModel",
     "state": {
      "_dom_classes": [],
      "_model_module": "@jupyter-widgets/controls",
      "_model_module_version": "1.5.0",
      "_model_name": "FloatProgressModel",
      "_view_count": null,
      "_view_module": "@jupyter-widgets/controls",
      "_view_module_version": "1.5.0",
      "_view_name": "ProgressView",
      "bar_style": "success",
      "description": "Plotting: 100%",
      "description_tooltip": null,
      "layout": "IPY_MODEL_8b61ae21b522409083a2e9e74ebd0f8b",
      "max": 6,
      "min": 0,
      "orientation": "horizontal",
      "style": "IPY_MODEL_0821615f6ab44e6395dc7ae5de10af7f",
      "value": 6
     }
    },
    "5864c5ad89fe46c78d798c7e962a82ec": {
     "model_module": "@jupyter-widgets/base",
     "model_name": "LayoutModel",
     "state": {
      "_model_module": "@jupyter-widgets/base",
      "_model_module_version": "1.2.0",
      "_model_name": "LayoutModel",
      "_view_count": null,
      "_view_module": "@jupyter-widgets/base",
      "_view_module_version": "1.2.0",
      "_view_name": "LayoutView",
      "align_content": null,
      "align_items": null,
      "align_self": null,
      "border": null,
      "bottom": null,
      "display": null,
      "flex": null,
      "flex_flow": null,
      "grid_area": null,
      "grid_auto_columns": null,
      "grid_auto_flow": null,
      "grid_auto_rows": null,
      "grid_column": null,
      "grid_gap": null,
      "grid_row": null,
      "grid_template_areas": null,
      "grid_template_columns": null,
      "grid_template_rows": null,
      "height": null,
      "justify_content": null,
      "justify_items": null,
      "left": null,
      "margin": null,
      "max_height": null,
      "max_width": null,
      "min_height": null,
      "min_width": null,
      "object_fit": null,
      "object_position": null,
      "order": null,
      "overflow": null,
      "overflow_x": null,
      "overflow_y": null,
      "padding": null,
      "right": null,
      "top": null,
      "visibility": null,
      "width": null
     }
    },
    "5896e236b613430789a861b67da88113": {
     "model_module": "@jupyter-widgets/controls",
     "model_name": "FloatProgressModel",
     "state": {
      "_dom_classes": [],
      "_model_module": "@jupyter-widgets/controls",
      "_model_module_version": "1.5.0",
      "_model_name": "FloatProgressModel",
      "_view_count": null,
      "_view_module": "@jupyter-widgets/controls",
      "_view_module_version": "1.5.0",
      "_view_name": "ProgressView",
      "bar_style": "success",
      "description": "Plotting: 100%",
      "description_tooltip": null,
      "layout": "IPY_MODEL_44458c7483e147a99632ba9b46c7cad6",
      "max": 6,
      "min": 0,
      "orientation": "horizontal",
      "style": "IPY_MODEL_716611010eb6456b869b4f966373ac4c",
      "value": 6
     }
    },
    "58cc3d08550d492b9a36e9e26b690f48": {
     "model_module": "@jupyter-widgets/controls",
     "model_name": "ProgressStyleModel",
     "state": {
      "_model_module": "@jupyter-widgets/controls",
      "_model_module_version": "1.5.0",
      "_model_name": "ProgressStyleModel",
      "_view_count": null,
      "_view_module": "@jupyter-widgets/base",
      "_view_module_version": "1.2.0",
      "_view_name": "StyleView",
      "bar_color": null,
      "description_width": "initial"
     }
    },
    "58e9e17399cb45f79e4a1fcb980608b8": {
     "model_module": "@jupyter-widgets/base",
     "model_name": "LayoutModel",
     "state": {
      "_model_module": "@jupyter-widgets/base",
      "_model_module_version": "1.2.0",
      "_model_name": "LayoutModel",
      "_view_count": null,
      "_view_module": "@jupyter-widgets/base",
      "_view_module_version": "1.2.0",
      "_view_name": "LayoutView",
      "align_content": null,
      "align_items": null,
      "align_self": null,
      "border": null,
      "bottom": null,
      "display": null,
      "flex": null,
      "flex_flow": null,
      "grid_area": null,
      "grid_auto_columns": null,
      "grid_auto_flow": null,
      "grid_auto_rows": null,
      "grid_column": null,
      "grid_gap": null,
      "grid_row": null,
      "grid_template_areas": null,
      "grid_template_columns": null,
      "grid_template_rows": null,
      "height": null,
      "justify_content": null,
      "justify_items": null,
      "left": null,
      "margin": null,
      "max_height": null,
      "max_width": null,
      "min_height": null,
      "min_width": null,
      "object_fit": null,
      "object_position": null,
      "order": null,
      "overflow": null,
      "overflow_x": null,
      "overflow_y": null,
      "padding": null,
      "right": null,
      "top": null,
      "visibility": null,
      "width": null
     }
    },
    "597b3c43ccd6488d8b843b03c6ede6e6": {
     "model_module": "@jupyter-widgets/controls",
     "model_name": "ProgressStyleModel",
     "state": {
      "_model_module": "@jupyter-widgets/controls",
      "_model_module_version": "1.5.0",
      "_model_name": "ProgressStyleModel",
      "_view_count": null,
      "_view_module": "@jupyter-widgets/base",
      "_view_module_version": "1.2.0",
      "_view_name": "StyleView",
      "bar_color": null,
      "description_width": "initial"
     }
    },
    "59dd09f494ba40d195571f615c33028d": {
     "model_module": "@jupyter-widgets/controls",
     "model_name": "HTMLModel",
     "state": {
      "_dom_classes": [],
      "_model_module": "@jupyter-widgets/controls",
      "_model_module_version": "1.5.0",
      "_model_name": "HTMLModel",
      "_view_count": null,
      "_view_module": "@jupyter-widgets/controls",
      "_view_module_version": "1.5.0",
      "_view_name": "HTMLView",
      "description": "",
      "description_tooltip": null,
      "layout": "IPY_MODEL_83b6366346bc4046a54c1a773af0cfa9",
      "placeholder": "​",
      "style": "IPY_MODEL_70c251674bee489dab8cb22d4e969078",
      "value": " 6/6 [19:51&lt;00:00, 198.64s/it]"
     }
    },
    "59ecea872ed0480e9c7e19453fda3e5d": {
     "model_module": "@jupyter-widgets/controls",
     "model_name": "DescriptionStyleModel",
     "state": {
      "_model_module": "@jupyter-widgets/controls",
      "_model_module_version": "1.5.0",
      "_model_name": "DescriptionStyleModel",
      "_view_count": null,
      "_view_module": "@jupyter-widgets/base",
      "_view_module_version": "1.2.0",
      "_view_name": "StyleView",
      "description_width": ""
     }
    },
    "5abe9c2d986d4167ac56c3813fd9565a": {
     "model_module": "@jupyter-widgets/base",
     "model_name": "LayoutModel",
     "state": {
      "_model_module": "@jupyter-widgets/base",
      "_model_module_version": "1.2.0",
      "_model_name": "LayoutModel",
      "_view_count": null,
      "_view_module": "@jupyter-widgets/base",
      "_view_module_version": "1.2.0",
      "_view_name": "LayoutView",
      "align_content": null,
      "align_items": null,
      "align_self": null,
      "border": null,
      "bottom": null,
      "display": null,
      "flex": null,
      "flex_flow": null,
      "grid_area": null,
      "grid_auto_columns": null,
      "grid_auto_flow": null,
      "grid_auto_rows": null,
      "grid_column": null,
      "grid_gap": null,
      "grid_row": null,
      "grid_template_areas": null,
      "grid_template_columns": null,
      "grid_template_rows": null,
      "height": null,
      "justify_content": null,
      "justify_items": null,
      "left": null,
      "margin": null,
      "max_height": null,
      "max_width": null,
      "min_height": null,
      "min_width": null,
      "object_fit": null,
      "object_position": null,
      "order": null,
      "overflow": null,
      "overflow_x": null,
      "overflow_y": null,
      "padding": null,
      "right": null,
      "top": null,
      "visibility": null,
      "width": null
     }
    },
    "5ad2b15d417d49db8013ea21187432de": {
     "model_module": "@jupyter-widgets/base",
     "model_name": "LayoutModel",
     "state": {
      "_model_module": "@jupyter-widgets/base",
      "_model_module_version": "1.2.0",
      "_model_name": "LayoutModel",
      "_view_count": null,
      "_view_module": "@jupyter-widgets/base",
      "_view_module_version": "1.2.0",
      "_view_name": "LayoutView",
      "align_content": null,
      "align_items": null,
      "align_self": null,
      "border": null,
      "bottom": null,
      "display": null,
      "flex": null,
      "flex_flow": null,
      "grid_area": null,
      "grid_auto_columns": null,
      "grid_auto_flow": null,
      "grid_auto_rows": null,
      "grid_column": null,
      "grid_gap": null,
      "grid_row": null,
      "grid_template_areas": null,
      "grid_template_columns": null,
      "grid_template_rows": null,
      "height": null,
      "justify_content": null,
      "justify_items": null,
      "left": null,
      "margin": null,
      "max_height": null,
      "max_width": null,
      "min_height": null,
      "min_width": null,
      "object_fit": null,
      "object_position": null,
      "order": null,
      "overflow": null,
      "overflow_x": null,
      "overflow_y": null,
      "padding": null,
      "right": null,
      "top": null,
      "visibility": null,
      "width": null
     }
    },
    "5b8c623579154292810a07658f9afd28": {
     "model_module": "@jupyter-widgets/controls",
     "model_name": "HBoxModel",
     "state": {
      "_dom_classes": [],
      "_model_module": "@jupyter-widgets/controls",
      "_model_module_version": "1.5.0",
      "_model_name": "HBoxModel",
      "_view_count": null,
      "_view_module": "@jupyter-widgets/controls",
      "_view_module_version": "1.5.0",
      "_view_name": "HBoxView",
      "box_style": "",
      "children": [
       "IPY_MODEL_b6298679d5374369aae449bd0242dfe2",
       "IPY_MODEL_8e4492f9ac4945f4ac1061ddffa3b01d"
      ],
      "layout": "IPY_MODEL_7c333ff0f63349efbba93d3fd8188343"
     }
    },
    "5d3c2029bf7341b09f86f583716fcd57": {
     "model_module": "@jupyter-widgets/base",
     "model_name": "LayoutModel",
     "state": {
      "_model_module": "@jupyter-widgets/base",
      "_model_module_version": "1.2.0",
      "_model_name": "LayoutModel",
      "_view_count": null,
      "_view_module": "@jupyter-widgets/base",
      "_view_module_version": "1.2.0",
      "_view_name": "LayoutView",
      "align_content": null,
      "align_items": null,
      "align_self": null,
      "border": null,
      "bottom": null,
      "display": null,
      "flex": null,
      "flex_flow": null,
      "grid_area": null,
      "grid_auto_columns": null,
      "grid_auto_flow": null,
      "grid_auto_rows": null,
      "grid_column": null,
      "grid_gap": null,
      "grid_row": null,
      "grid_template_areas": null,
      "grid_template_columns": null,
      "grid_template_rows": null,
      "height": null,
      "justify_content": null,
      "justify_items": null,
      "left": null,
      "margin": null,
      "max_height": null,
      "max_width": null,
      "min_height": null,
      "min_width": null,
      "object_fit": null,
      "object_position": null,
      "order": null,
      "overflow": null,
      "overflow_x": null,
      "overflow_y": null,
      "padding": null,
      "right": null,
      "top": null,
      "visibility": null,
      "width": null
     }
    },
    "5dc301e55bff486a8b6fb8540f58e50f": {
     "model_module": "@jupyter-widgets/base",
     "model_name": "LayoutModel",
     "state": {
      "_model_module": "@jupyter-widgets/base",
      "_model_module_version": "1.2.0",
      "_model_name": "LayoutModel",
      "_view_count": null,
      "_view_module": "@jupyter-widgets/base",
      "_view_module_version": "1.2.0",
      "_view_name": "LayoutView",
      "align_content": null,
      "align_items": null,
      "align_self": null,
      "border": null,
      "bottom": null,
      "display": null,
      "flex": null,
      "flex_flow": null,
      "grid_area": null,
      "grid_auto_columns": null,
      "grid_auto_flow": null,
      "grid_auto_rows": null,
      "grid_column": null,
      "grid_gap": null,
      "grid_row": null,
      "grid_template_areas": null,
      "grid_template_columns": null,
      "grid_template_rows": null,
      "height": null,
      "justify_content": null,
      "justify_items": null,
      "left": null,
      "margin": null,
      "max_height": null,
      "max_width": null,
      "min_height": null,
      "min_width": null,
      "object_fit": null,
      "object_position": null,
      "order": null,
      "overflow": null,
      "overflow_x": null,
      "overflow_y": null,
      "padding": null,
      "right": null,
      "top": null,
      "visibility": null,
      "width": null
     }
    },
    "6376ae9dbbe043db85a1510ae0e3b51a": {
     "model_module": "@jupyter-widgets/controls",
     "model_name": "FloatProgressModel",
     "state": {
      "_dom_classes": [],
      "_model_module": "@jupyter-widgets/controls",
      "_model_module_version": "1.5.0",
      "_model_name": "FloatProgressModel",
      "_view_count": null,
      "_view_module": "@jupyter-widgets/controls",
      "_view_module_version": "1.5.0",
      "_view_name": "ProgressView",
      "bar_style": "success",
      "description": "Plotting: 100%",
      "description_tooltip": null,
      "layout": "IPY_MODEL_7785cb94177245e29da8092bb57eefa9",
      "max": 6,
      "min": 0,
      "orientation": "horizontal",
      "style": "IPY_MODEL_e6cc2643fbf14e07b560bd812c760dc9",
      "value": 6
     }
    },
    "637b49e5730b4fb5af9bf77d9fd103bc": {
     "model_module": "@jupyter-widgets/base",
     "model_name": "LayoutModel",
     "state": {
      "_model_module": "@jupyter-widgets/base",
      "_model_module_version": "1.2.0",
      "_model_name": "LayoutModel",
      "_view_count": null,
      "_view_module": "@jupyter-widgets/base",
      "_view_module_version": "1.2.0",
      "_view_name": "LayoutView",
      "align_content": null,
      "align_items": null,
      "align_self": null,
      "border": null,
      "bottom": null,
      "display": null,
      "flex": null,
      "flex_flow": null,
      "grid_area": null,
      "grid_auto_columns": null,
      "grid_auto_flow": null,
      "grid_auto_rows": null,
      "grid_column": null,
      "grid_gap": null,
      "grid_row": null,
      "grid_template_areas": null,
      "grid_template_columns": null,
      "grid_template_rows": null,
      "height": null,
      "justify_content": null,
      "justify_items": null,
      "left": null,
      "margin": null,
      "max_height": null,
      "max_width": null,
      "min_height": null,
      "min_width": null,
      "object_fit": null,
      "object_position": null,
      "order": null,
      "overflow": null,
      "overflow_x": null,
      "overflow_y": null,
      "padding": null,
      "right": null,
      "top": null,
      "visibility": null,
      "width": null
     }
    },
    "6400ac7ed7394131a5df33f432135e61": {
     "model_module": "@jupyter-widgets/controls",
     "model_name": "HBoxModel",
     "state": {
      "_dom_classes": [],
      "_model_module": "@jupyter-widgets/controls",
      "_model_module_version": "1.5.0",
      "_model_name": "HBoxModel",
      "_view_count": null,
      "_view_module": "@jupyter-widgets/controls",
      "_view_module_version": "1.5.0",
      "_view_name": "HBoxView",
      "box_style": "",
      "children": [
       "IPY_MODEL_1b1c69f1c7f74ac28b46d4cb14c43c85",
       "IPY_MODEL_1149b28beb3447eb98a36704ec89d0a2"
      ],
      "layout": "IPY_MODEL_1725158e2b2144d5897a185f3f84a030"
     }
    },
    "649c1b6a5ace4178810ed69225f7c83a": {
     "model_module": "@jupyter-widgets/controls",
     "model_name": "DescriptionStyleModel",
     "state": {
      "_model_module": "@jupyter-widgets/controls",
      "_model_module_version": "1.5.0",
      "_model_name": "DescriptionStyleModel",
      "_view_count": null,
      "_view_module": "@jupyter-widgets/base",
      "_view_module_version": "1.2.0",
      "_view_name": "StyleView",
      "description_width": ""
     }
    },
    "64d652750b8d488980c6e755e5a77a41": {
     "model_module": "@jupyter-widgets/controls",
     "model_name": "HTMLModel",
     "state": {
      "_dom_classes": [],
      "_model_module": "@jupyter-widgets/controls",
      "_model_module_version": "1.5.0",
      "_model_name": "HTMLModel",
      "_view_count": null,
      "_view_module": "@jupyter-widgets/controls",
      "_view_module_version": "1.5.0",
      "_view_name": "HTMLView",
      "description": "",
      "description_tooltip": null,
      "layout": "IPY_MODEL_40aa9aa36c7d46939cc6d3ba985f6f13",
      "placeholder": "​",
      "style": "IPY_MODEL_4b18b9502cf84d4baf8fc48a0e8316fb",
      "value": " 170500096/? [00:06&lt;00:00, 27646920.49it/s]"
     }
    },
    "66bc6343485f4064ae61ce486bf09841": {
     "model_module": "@jupyter-widgets/controls",
     "model_name": "ProgressStyleModel",
     "state": {
      "_model_module": "@jupyter-widgets/controls",
      "_model_module_version": "1.5.0",
      "_model_name": "ProgressStyleModel",
      "_view_count": null,
      "_view_module": "@jupyter-widgets/base",
      "_view_module_version": "1.2.0",
      "_view_name": "StyleView",
      "bar_color": null,
      "description_width": "initial"
     }
    },
    "68ff0a4f26054c7e94376ca2583508c1": {
     "model_module": "@jupyter-widgets/controls",
     "model_name": "FloatProgressModel",
     "state": {
      "_dom_classes": [],
      "_model_module": "@jupyter-widgets/controls",
      "_model_module_version": "1.5.0",
      "_model_name": "FloatProgressModel",
      "_view_count": null,
      "_view_module": "@jupyter-widgets/controls",
      "_view_module_version": "1.5.0",
      "_view_name": "ProgressView",
      "bar_style": "success",
      "description": "Plotting: 100%",
      "description_tooltip": null,
      "layout": "IPY_MODEL_cc0d405c1d864c4d891ac0f3a6a29986",
      "max": 6,
      "min": 0,
      "orientation": "horizontal",
      "style": "IPY_MODEL_24f1e897dcf0415391f72a6c5810f99c",
      "value": 6
     }
    },
    "69028f218ce74a60b8b182befa9e36a1": {
     "model_module": "@jupyter-widgets/controls",
     "model_name": "FloatProgressModel",
     "state": {
      "_dom_classes": [],
      "_model_module": "@jupyter-widgets/controls",
      "_model_module_version": "1.5.0",
      "_model_name": "FloatProgressModel",
      "_view_count": null,
      "_view_module": "@jupyter-widgets/controls",
      "_view_module_version": "1.5.0",
      "_view_name": "ProgressView",
      "bar_style": "success",
      "description": "Plotting: 100%",
      "description_tooltip": null,
      "layout": "IPY_MODEL_9982d930d2984570a6f5ceb279b3cdf2",
      "max": 6,
      "min": 0,
      "orientation": "horizontal",
      "style": "IPY_MODEL_ca1801b7f6dc46a4a8604809c7e1be0a",
      "value": 6
     }
    },
    "69f2dbea0063422ca81319c16a725fa4": {
     "model_module": "@jupyter-widgets/controls",
     "model_name": "FloatProgressModel",
     "state": {
      "_dom_classes": [],
      "_model_module": "@jupyter-widgets/controls",
      "_model_module_version": "1.5.0",
      "_model_name": "FloatProgressModel",
      "_view_count": null,
      "_view_module": "@jupyter-widgets/controls",
      "_view_module_version": "1.5.0",
      "_view_name": "ProgressView",
      "bar_style": "success",
      "description": "Plotting: 100%",
      "description_tooltip": null,
      "layout": "IPY_MODEL_10a691f2441049c794a0e342b4f31440",
      "max": 6,
      "min": 0,
      "orientation": "horizontal",
      "style": "IPY_MODEL_1f24dfabd15e4130b11e4408487509b8",
      "value": 6
     }
    },
    "6c5a78ce7d434452b802d6f12c46137d": {
     "model_module": "@jupyter-widgets/base",
     "model_name": "LayoutModel",
     "state": {
      "_model_module": "@jupyter-widgets/base",
      "_model_module_version": "1.2.0",
      "_model_name": "LayoutModel",
      "_view_count": null,
      "_view_module": "@jupyter-widgets/base",
      "_view_module_version": "1.2.0",
      "_view_name": "LayoutView",
      "align_content": null,
      "align_items": null,
      "align_self": null,
      "border": null,
      "bottom": null,
      "display": null,
      "flex": null,
      "flex_flow": null,
      "grid_area": null,
      "grid_auto_columns": null,
      "grid_auto_flow": null,
      "grid_auto_rows": null,
      "grid_column": null,
      "grid_gap": null,
      "grid_row": null,
      "grid_template_areas": null,
      "grid_template_columns": null,
      "grid_template_rows": null,
      "height": null,
      "justify_content": null,
      "justify_items": null,
      "left": null,
      "margin": null,
      "max_height": null,
      "max_width": null,
      "min_height": null,
      "min_width": null,
      "object_fit": null,
      "object_position": null,
      "order": null,
      "overflow": null,
      "overflow_x": null,
      "overflow_y": null,
      "padding": null,
      "right": null,
      "top": null,
      "visibility": null,
      "width": null
     }
    },
    "6ea15582d13f407ba9d988ca7fdc1f17": {
     "model_module": "@jupyter-widgets/controls",
     "model_name": "HTMLModel",
     "state": {
      "_dom_classes": [],
      "_model_module": "@jupyter-widgets/controls",
      "_model_module_version": "1.5.0",
      "_model_name": "HTMLModel",
      "_view_count": null,
      "_view_module": "@jupyter-widgets/controls",
      "_view_module_version": "1.5.0",
      "_view_name": "HTMLView",
      "description": "",
      "description_tooltip": null,
      "layout": "IPY_MODEL_9524d6004f0c4e37b99568a07b83f5d7",
      "placeholder": "​",
      "style": "IPY_MODEL_926eb33026684c1c83fee6da5ecd149b",
      "value": " 6/6 [19:49&lt;00:00, 198.27s/it]"
     }
    },
    "70c251674bee489dab8cb22d4e969078": {
     "model_module": "@jupyter-widgets/controls",
     "model_name": "DescriptionStyleModel",
     "state": {
      "_model_module": "@jupyter-widgets/controls",
      "_model_module_version": "1.5.0",
      "_model_name": "DescriptionStyleModel",
      "_view_count": null,
      "_view_module": "@jupyter-widgets/base",
      "_view_module_version": "1.2.0",
      "_view_name": "StyleView",
      "description_width": ""
     }
    },
    "716611010eb6456b869b4f966373ac4c": {
     "model_module": "@jupyter-widgets/controls",
     "model_name": "ProgressStyleModel",
     "state": {
      "_model_module": "@jupyter-widgets/controls",
      "_model_module_version": "1.5.0",
      "_model_name": "ProgressStyleModel",
      "_view_count": null,
      "_view_module": "@jupyter-widgets/base",
      "_view_module_version": "1.2.0",
      "_view_name": "StyleView",
      "bar_color": null,
      "description_width": "initial"
     }
    },
    "7513b1a1e50949649a04b548a9b1726a": {
     "model_module": "@jupyter-widgets/base",
     "model_name": "LayoutModel",
     "state": {
      "_model_module": "@jupyter-widgets/base",
      "_model_module_version": "1.2.0",
      "_model_name": "LayoutModel",
      "_view_count": null,
      "_view_module": "@jupyter-widgets/base",
      "_view_module_version": "1.2.0",
      "_view_name": "LayoutView",
      "align_content": null,
      "align_items": null,
      "align_self": null,
      "border": null,
      "bottom": null,
      "display": null,
      "flex": null,
      "flex_flow": null,
      "grid_area": null,
      "grid_auto_columns": null,
      "grid_auto_flow": null,
      "grid_auto_rows": null,
      "grid_column": null,
      "grid_gap": null,
      "grid_row": null,
      "grid_template_areas": null,
      "grid_template_columns": null,
      "grid_template_rows": null,
      "height": null,
      "justify_content": null,
      "justify_items": null,
      "left": null,
      "margin": null,
      "max_height": null,
      "max_width": null,
      "min_height": null,
      "min_width": null,
      "object_fit": null,
      "object_position": null,
      "order": null,
      "overflow": null,
      "overflow_x": null,
      "overflow_y": null,
      "padding": null,
      "right": null,
      "top": null,
      "visibility": null,
      "width": null
     }
    },
    "75a0e844cf0e42bdabad24ee4170c2ec": {
     "model_module": "@jupyter-widgets/controls",
     "model_name": "HBoxModel",
     "state": {
      "_dom_classes": [],
      "_model_module": "@jupyter-widgets/controls",
      "_model_module_version": "1.5.0",
      "_model_name": "HBoxModel",
      "_view_count": null,
      "_view_module": "@jupyter-widgets/controls",
      "_view_module_version": "1.5.0",
      "_view_name": "HBoxView",
      "box_style": "",
      "children": [
       "IPY_MODEL_576bce4a44b24ab895002086e4e6ec19",
       "IPY_MODEL_1380cf3399954d2993fc659d8a95f106"
      ],
      "layout": "IPY_MODEL_1a8e556de1f64e3ba698d56bfdcfd365"
     }
    },
    "75e41f5e7232496f81334967a32cb292": {
     "model_module": "@jupyter-widgets/base",
     "model_name": "LayoutModel",
     "state": {
      "_model_module": "@jupyter-widgets/base",
      "_model_module_version": "1.2.0",
      "_model_name": "LayoutModel",
      "_view_count": null,
      "_view_module": "@jupyter-widgets/base",
      "_view_module_version": "1.2.0",
      "_view_name": "LayoutView",
      "align_content": null,
      "align_items": null,
      "align_self": null,
      "border": null,
      "bottom": null,
      "display": null,
      "flex": null,
      "flex_flow": null,
      "grid_area": null,
      "grid_auto_columns": null,
      "grid_auto_flow": null,
      "grid_auto_rows": null,
      "grid_column": null,
      "grid_gap": null,
      "grid_row": null,
      "grid_template_areas": null,
      "grid_template_columns": null,
      "grid_template_rows": null,
      "height": null,
      "justify_content": null,
      "justify_items": null,
      "left": null,
      "margin": null,
      "max_height": null,
      "max_width": null,
      "min_height": null,
      "min_width": null,
      "object_fit": null,
      "object_position": null,
      "order": null,
      "overflow": null,
      "overflow_x": null,
      "overflow_y": null,
      "padding": null,
      "right": null,
      "top": null,
      "visibility": null,
      "width": null
     }
    },
    "7785cb94177245e29da8092bb57eefa9": {
     "model_module": "@jupyter-widgets/base",
     "model_name": "LayoutModel",
     "state": {
      "_model_module": "@jupyter-widgets/base",
      "_model_module_version": "1.2.0",
      "_model_name": "LayoutModel",
      "_view_count": null,
      "_view_module": "@jupyter-widgets/base",
      "_view_module_version": "1.2.0",
      "_view_name": "LayoutView",
      "align_content": null,
      "align_items": null,
      "align_self": null,
      "border": null,
      "bottom": null,
      "display": null,
      "flex": null,
      "flex_flow": null,
      "grid_area": null,
      "grid_auto_columns": null,
      "grid_auto_flow": null,
      "grid_auto_rows": null,
      "grid_column": null,
      "grid_gap": null,
      "grid_row": null,
      "grid_template_areas": null,
      "grid_template_columns": null,
      "grid_template_rows": null,
      "height": null,
      "justify_content": null,
      "justify_items": null,
      "left": null,
      "margin": null,
      "max_height": null,
      "max_width": null,
      "min_height": null,
      "min_width": null,
      "object_fit": null,
      "object_position": null,
      "order": null,
      "overflow": null,
      "overflow_x": null,
      "overflow_y": null,
      "padding": null,
      "right": null,
      "top": null,
      "visibility": null,
      "width": null
     }
    },
    "7b0898899a4643dfa54b52a7ef86a182": {
     "model_module": "@jupyter-widgets/base",
     "model_name": "LayoutModel",
     "state": {
      "_model_module": "@jupyter-widgets/base",
      "_model_module_version": "1.2.0",
      "_model_name": "LayoutModel",
      "_view_count": null,
      "_view_module": "@jupyter-widgets/base",
      "_view_module_version": "1.2.0",
      "_view_name": "LayoutView",
      "align_content": null,
      "align_items": null,
      "align_self": null,
      "border": null,
      "bottom": null,
      "display": null,
      "flex": null,
      "flex_flow": null,
      "grid_area": null,
      "grid_auto_columns": null,
      "grid_auto_flow": null,
      "grid_auto_rows": null,
      "grid_column": null,
      "grid_gap": null,
      "grid_row": null,
      "grid_template_areas": null,
      "grid_template_columns": null,
      "grid_template_rows": null,
      "height": null,
      "justify_content": null,
      "justify_items": null,
      "left": null,
      "margin": null,
      "max_height": null,
      "max_width": null,
      "min_height": null,
      "min_width": null,
      "object_fit": null,
      "object_position": null,
      "order": null,
      "overflow": null,
      "overflow_x": null,
      "overflow_y": null,
      "padding": null,
      "right": null,
      "top": null,
      "visibility": null,
      "width": null
     }
    },
    "7c333ff0f63349efbba93d3fd8188343": {
     "model_module": "@jupyter-widgets/base",
     "model_name": "LayoutModel",
     "state": {
      "_model_module": "@jupyter-widgets/base",
      "_model_module_version": "1.2.0",
      "_model_name": "LayoutModel",
      "_view_count": null,
      "_view_module": "@jupyter-widgets/base",
      "_view_module_version": "1.2.0",
      "_view_name": "LayoutView",
      "align_content": null,
      "align_items": null,
      "align_self": null,
      "border": null,
      "bottom": null,
      "display": null,
      "flex": null,
      "flex_flow": null,
      "grid_area": null,
      "grid_auto_columns": null,
      "grid_auto_flow": null,
      "grid_auto_rows": null,
      "grid_column": null,
      "grid_gap": null,
      "grid_row": null,
      "grid_template_areas": null,
      "grid_template_columns": null,
      "grid_template_rows": null,
      "height": null,
      "justify_content": null,
      "justify_items": null,
      "left": null,
      "margin": null,
      "max_height": null,
      "max_width": null,
      "min_height": null,
      "min_width": null,
      "object_fit": null,
      "object_position": null,
      "order": null,
      "overflow": null,
      "overflow_x": null,
      "overflow_y": null,
      "padding": null,
      "right": null,
      "top": null,
      "visibility": null,
      "width": null
     }
    },
    "7c91f9cf06c845149941a124f51a8fe0": {
     "model_module": "@jupyter-widgets/base",
     "model_name": "LayoutModel",
     "state": {
      "_model_module": "@jupyter-widgets/base",
      "_model_module_version": "1.2.0",
      "_model_name": "LayoutModel",
      "_view_count": null,
      "_view_module": "@jupyter-widgets/base",
      "_view_module_version": "1.2.0",
      "_view_name": "LayoutView",
      "align_content": null,
      "align_items": null,
      "align_self": null,
      "border": null,
      "bottom": null,
      "display": null,
      "flex": null,
      "flex_flow": null,
      "grid_area": null,
      "grid_auto_columns": null,
      "grid_auto_flow": null,
      "grid_auto_rows": null,
      "grid_column": null,
      "grid_gap": null,
      "grid_row": null,
      "grid_template_areas": null,
      "grid_template_columns": null,
      "grid_template_rows": null,
      "height": null,
      "justify_content": null,
      "justify_items": null,
      "left": null,
      "margin": null,
      "max_height": null,
      "max_width": null,
      "min_height": null,
      "min_width": null,
      "object_fit": null,
      "object_position": null,
      "order": null,
      "overflow": null,
      "overflow_x": null,
      "overflow_y": null,
      "padding": null,
      "right": null,
      "top": null,
      "visibility": null,
      "width": null
     }
    },
    "7e033f3080004da794bfa6df6a2edcb8": {
     "model_module": "@jupyter-widgets/controls",
     "model_name": "HBoxModel",
     "state": {
      "_dom_classes": [],
      "_model_module": "@jupyter-widgets/controls",
      "_model_module_version": "1.5.0",
      "_model_name": "HBoxModel",
      "_view_count": null,
      "_view_module": "@jupyter-widgets/controls",
      "_view_module_version": "1.5.0",
      "_view_name": "HBoxView",
      "box_style": "",
      "children": [
       "IPY_MODEL_1883a2e3a2d14e2e849e16410b6761af",
       "IPY_MODEL_9c9d9979157341b19818ecff847d52d1"
      ],
      "layout": "IPY_MODEL_58e9e17399cb45f79e4a1fcb980608b8"
     }
    },
    "81cedbb7ac5f4a8698e7d252553e94bf": {
     "model_module": "@jupyter-widgets/base",
     "model_name": "LayoutModel",
     "state": {
      "_model_module": "@jupyter-widgets/base",
      "_model_module_version": "1.2.0",
      "_model_name": "LayoutModel",
      "_view_count": null,
      "_view_module": "@jupyter-widgets/base",
      "_view_module_version": "1.2.0",
      "_view_name": "LayoutView",
      "align_content": null,
      "align_items": null,
      "align_self": null,
      "border": null,
      "bottom": null,
      "display": null,
      "flex": null,
      "flex_flow": null,
      "grid_area": null,
      "grid_auto_columns": null,
      "grid_auto_flow": null,
      "grid_auto_rows": null,
      "grid_column": null,
      "grid_gap": null,
      "grid_row": null,
      "grid_template_areas": null,
      "grid_template_columns": null,
      "grid_template_rows": null,
      "height": null,
      "justify_content": null,
      "justify_items": null,
      "left": null,
      "margin": null,
      "max_height": null,
      "max_width": null,
      "min_height": null,
      "min_width": null,
      "object_fit": null,
      "object_position": null,
      "order": null,
      "overflow": null,
      "overflow_x": null,
      "overflow_y": null,
      "padding": null,
      "right": null,
      "top": null,
      "visibility": null,
      "width": null
     }
    },
    "81d0774c42a84c789c969c68cd5f00e8": {
     "model_module": "@jupyter-widgets/controls",
     "model_name": "ProgressStyleModel",
     "state": {
      "_model_module": "@jupyter-widgets/controls",
      "_model_module_version": "1.5.0",
      "_model_name": "ProgressStyleModel",
      "_view_count": null,
      "_view_module": "@jupyter-widgets/base",
      "_view_module_version": "1.2.0",
      "_view_name": "StyleView",
      "bar_color": null,
      "description_width": "initial"
     }
    },
    "83b6366346bc4046a54c1a773af0cfa9": {
     "model_module": "@jupyter-widgets/base",
     "model_name": "LayoutModel",
     "state": {
      "_model_module": "@jupyter-widgets/base",
      "_model_module_version": "1.2.0",
      "_model_name": "LayoutModel",
      "_view_count": null,
      "_view_module": "@jupyter-widgets/base",
      "_view_module_version": "1.2.0",
      "_view_name": "LayoutView",
      "align_content": null,
      "align_items": null,
      "align_self": null,
      "border": null,
      "bottom": null,
      "display": null,
      "flex": null,
      "flex_flow": null,
      "grid_area": null,
      "grid_auto_columns": null,
      "grid_auto_flow": null,
      "grid_auto_rows": null,
      "grid_column": null,
      "grid_gap": null,
      "grid_row": null,
      "grid_template_areas": null,
      "grid_template_columns": null,
      "grid_template_rows": null,
      "height": null,
      "justify_content": null,
      "justify_items": null,
      "left": null,
      "margin": null,
      "max_height": null,
      "max_width": null,
      "min_height": null,
      "min_width": null,
      "object_fit": null,
      "object_position": null,
      "order": null,
      "overflow": null,
      "overflow_x": null,
      "overflow_y": null,
      "padding": null,
      "right": null,
      "top": null,
      "visibility": null,
      "width": null
     }
    },
    "879e5547a5c2434b9a0983d63a5ced33": {
     "model_module": "@jupyter-widgets/controls",
     "model_name": "FloatProgressModel",
     "state": {
      "_dom_classes": [],
      "_model_module": "@jupyter-widgets/controls",
      "_model_module_version": "1.5.0",
      "_model_name": "FloatProgressModel",
      "_view_count": null,
      "_view_module": "@jupyter-widgets/controls",
      "_view_module_version": "1.5.0",
      "_view_name": "ProgressView",
      "bar_style": "success",
      "description": "Plotting: 100%",
      "description_tooltip": null,
      "layout": "IPY_MODEL_b2e447228a1c443faedb24a6b202248f",
      "max": 6,
      "min": 0,
      "orientation": "horizontal",
      "style": "IPY_MODEL_fe9963fb738c4a6bbd1ecc053b61da4d",
      "value": 6
     }
    },
    "88a833cd371e493c833e3f0cb7c02080": {
     "model_module": "@jupyter-widgets/base",
     "model_name": "LayoutModel",
     "state": {
      "_model_module": "@jupyter-widgets/base",
      "_model_module_version": "1.2.0",
      "_model_name": "LayoutModel",
      "_view_count": null,
      "_view_module": "@jupyter-widgets/base",
      "_view_module_version": "1.2.0",
      "_view_name": "LayoutView",
      "align_content": null,
      "align_items": null,
      "align_self": null,
      "border": null,
      "bottom": null,
      "display": null,
      "flex": null,
      "flex_flow": null,
      "grid_area": null,
      "grid_auto_columns": null,
      "grid_auto_flow": null,
      "grid_auto_rows": null,
      "grid_column": null,
      "grid_gap": null,
      "grid_row": null,
      "grid_template_areas": null,
      "grid_template_columns": null,
      "grid_template_rows": null,
      "height": null,
      "justify_content": null,
      "justify_items": null,
      "left": null,
      "margin": null,
      "max_height": null,
      "max_width": null,
      "min_height": null,
      "min_width": null,
      "object_fit": null,
      "object_position": null,
      "order": null,
      "overflow": null,
      "overflow_x": null,
      "overflow_y": null,
      "padding": null,
      "right": null,
      "top": null,
      "visibility": null,
      "width": null
     }
    },
    "8a75f6419d0e458398650d72f7d83ad4": {
     "model_module": "@jupyter-widgets/controls",
     "model_name": "FloatProgressModel",
     "state": {
      "_dom_classes": [],
      "_model_module": "@jupyter-widgets/controls",
      "_model_module_version": "1.5.0",
      "_model_name": "FloatProgressModel",
      "_view_count": null,
      "_view_module": "@jupyter-widgets/controls",
      "_view_module_version": "1.5.0",
      "_view_name": "ProgressView",
      "bar_style": "success",
      "description": "Plotting: 100%",
      "description_tooltip": null,
      "layout": "IPY_MODEL_637b49e5730b4fb5af9bf77d9fd103bc",
      "max": 6,
      "min": 0,
      "orientation": "horizontal",
      "style": "IPY_MODEL_58cc3d08550d492b9a36e9e26b690f48",
      "value": 6
     }
    },
    "8b61ae21b522409083a2e9e74ebd0f8b": {
     "model_module": "@jupyter-widgets/base",
     "model_name": "LayoutModel",
     "state": {
      "_model_module": "@jupyter-widgets/base",
      "_model_module_version": "1.2.0",
      "_model_name": "LayoutModel",
      "_view_count": null,
      "_view_module": "@jupyter-widgets/base",
      "_view_module_version": "1.2.0",
      "_view_name": "LayoutView",
      "align_content": null,
      "align_items": null,
      "align_self": null,
      "border": null,
      "bottom": null,
      "display": null,
      "flex": null,
      "flex_flow": null,
      "grid_area": null,
      "grid_auto_columns": null,
      "grid_auto_flow": null,
      "grid_auto_rows": null,
      "grid_column": null,
      "grid_gap": null,
      "grid_row": null,
      "grid_template_areas": null,
      "grid_template_columns": null,
      "grid_template_rows": null,
      "height": null,
      "justify_content": null,
      "justify_items": null,
      "left": null,
      "margin": null,
      "max_height": null,
      "max_width": null,
      "min_height": null,
      "min_width": null,
      "object_fit": null,
      "object_position": null,
      "order": null,
      "overflow": null,
      "overflow_x": null,
      "overflow_y": null,
      "padding": null,
      "right": null,
      "top": null,
      "visibility": null,
      "width": null
     }
    },
    "8b69866c775c43ddae2fcaf7994762f8": {
     "model_module": "@jupyter-widgets/base",
     "model_name": "LayoutModel",
     "state": {
      "_model_module": "@jupyter-widgets/base",
      "_model_module_version": "1.2.0",
      "_model_name": "LayoutModel",
      "_view_count": null,
      "_view_module": "@jupyter-widgets/base",
      "_view_module_version": "1.2.0",
      "_view_name": "LayoutView",
      "align_content": null,
      "align_items": null,
      "align_self": null,
      "border": null,
      "bottom": null,
      "display": null,
      "flex": null,
      "flex_flow": null,
      "grid_area": null,
      "grid_auto_columns": null,
      "grid_auto_flow": null,
      "grid_auto_rows": null,
      "grid_column": null,
      "grid_gap": null,
      "grid_row": null,
      "grid_template_areas": null,
      "grid_template_columns": null,
      "grid_template_rows": null,
      "height": null,
      "justify_content": null,
      "justify_items": null,
      "left": null,
      "margin": null,
      "max_height": null,
      "max_width": null,
      "min_height": null,
      "min_width": null,
      "object_fit": null,
      "object_position": null,
      "order": null,
      "overflow": null,
      "overflow_x": null,
      "overflow_y": null,
      "padding": null,
      "right": null,
      "top": null,
      "visibility": null,
      "width": null
     }
    },
    "8e4492f9ac4945f4ac1061ddffa3b01d": {
     "model_module": "@jupyter-widgets/controls",
     "model_name": "HTMLModel",
     "state": {
      "_dom_classes": [],
      "_model_module": "@jupyter-widgets/controls",
      "_model_module_version": "1.5.0",
      "_model_name": "HTMLModel",
      "_view_count": null,
      "_view_module": "@jupyter-widgets/controls",
      "_view_module_version": "1.5.0",
      "_view_name": "HTMLView",
      "description": "",
      "description_tooltip": null,
      "layout": "IPY_MODEL_9f7cea4d96d344288409dec261a41df7",
      "placeholder": "​",
      "style": "IPY_MODEL_649c1b6a5ace4178810ed69225f7c83a",
      "value": " 6/6 [19:55&lt;00:00, 199.31s/it]"
     }
    },
    "8e80e4f434654efa9bca283e2a3eb738": {
     "model_module": "@jupyter-widgets/controls",
     "model_name": "FloatProgressModel",
     "state": {
      "_dom_classes": [],
      "_model_module": "@jupyter-widgets/controls",
      "_model_module_version": "1.5.0",
      "_model_name": "FloatProgressModel",
      "_view_count": null,
      "_view_module": "@jupyter-widgets/controls",
      "_view_module_version": "1.5.0",
      "_view_name": "ProgressView",
      "bar_style": "success",
      "description": "Plotting: 100%",
      "description_tooltip": null,
      "layout": "IPY_MODEL_5abe9c2d986d4167ac56c3813fd9565a",
      "max": 6,
      "min": 0,
      "orientation": "horizontal",
      "style": "IPY_MODEL_d5dde60013924ef28ff844153def8546",
      "value": 6
     }
    },
    "926eb33026684c1c83fee6da5ecd149b": {
     "model_module": "@jupyter-widgets/controls",
     "model_name": "DescriptionStyleModel",
     "state": {
      "_model_module": "@jupyter-widgets/controls",
      "_model_module_version": "1.5.0",
      "_model_name": "DescriptionStyleModel",
      "_view_count": null,
      "_view_module": "@jupyter-widgets/base",
      "_view_module_version": "1.2.0",
      "_view_name": "StyleView",
      "description_width": ""
     }
    },
    "939ffea825904f0fa898ee19adbae94a": {
     "model_module": "@jupyter-widgets/controls",
     "model_name": "FloatProgressModel",
     "state": {
      "_dom_classes": [],
      "_model_module": "@jupyter-widgets/controls",
      "_model_module_version": "1.5.0",
      "_model_name": "FloatProgressModel",
      "_view_count": null,
      "_view_module": "@jupyter-widgets/controls",
      "_view_module_version": "1.5.0",
      "_view_name": "ProgressView",
      "bar_style": "success",
      "description": "Plotting: 100%",
      "description_tooltip": null,
      "layout": "IPY_MODEL_5d3c2029bf7341b09f86f583716fcd57",
      "max": 6,
      "min": 0,
      "orientation": "horizontal",
      "style": "IPY_MODEL_09bc8d777efc4e5bbdb9f750d3c59f3c",
      "value": 6
     }
    },
    "9524d6004f0c4e37b99568a07b83f5d7": {
     "model_module": "@jupyter-widgets/base",
     "model_name": "LayoutModel",
     "state": {
      "_model_module": "@jupyter-widgets/base",
      "_model_module_version": "1.2.0",
      "_model_name": "LayoutModel",
      "_view_count": null,
      "_view_module": "@jupyter-widgets/base",
      "_view_module_version": "1.2.0",
      "_view_name": "LayoutView",
      "align_content": null,
      "align_items": null,
      "align_self": null,
      "border": null,
      "bottom": null,
      "display": null,
      "flex": null,
      "flex_flow": null,
      "grid_area": null,
      "grid_auto_columns": null,
      "grid_auto_flow": null,
      "grid_auto_rows": null,
      "grid_column": null,
      "grid_gap": null,
      "grid_row": null,
      "grid_template_areas": null,
      "grid_template_columns": null,
      "grid_template_rows": null,
      "height": null,
      "justify_content": null,
      "justify_items": null,
      "left": null,
      "margin": null,
      "max_height": null,
      "max_width": null,
      "min_height": null,
      "min_width": null,
      "object_fit": null,
      "object_position": null,
      "order": null,
      "overflow": null,
      "overflow_x": null,
      "overflow_y": null,
      "padding": null,
      "right": null,
      "top": null,
      "visibility": null,
      "width": null
     }
    },
    "97612305ebcb4fe9bef36470d9464301": {
     "model_module": "@jupyter-widgets/base",
     "model_name": "LayoutModel",
     "state": {
      "_model_module": "@jupyter-widgets/base",
      "_model_module_version": "1.2.0",
      "_model_name": "LayoutModel",
      "_view_count": null,
      "_view_module": "@jupyter-widgets/base",
      "_view_module_version": "1.2.0",
      "_view_name": "LayoutView",
      "align_content": null,
      "align_items": null,
      "align_self": null,
      "border": null,
      "bottom": null,
      "display": null,
      "flex": null,
      "flex_flow": null,
      "grid_area": null,
      "grid_auto_columns": null,
      "grid_auto_flow": null,
      "grid_auto_rows": null,
      "grid_column": null,
      "grid_gap": null,
      "grid_row": null,
      "grid_template_areas": null,
      "grid_template_columns": null,
      "grid_template_rows": null,
      "height": null,
      "justify_content": null,
      "justify_items": null,
      "left": null,
      "margin": null,
      "max_height": null,
      "max_width": null,
      "min_height": null,
      "min_width": null,
      "object_fit": null,
      "object_position": null,
      "order": null,
      "overflow": null,
      "overflow_x": null,
      "overflow_y": null,
      "padding": null,
      "right": null,
      "top": null,
      "visibility": null,
      "width": null
     }
    },
    "983ab773d9484722b8351eec80c55487": {
     "model_module": "@jupyter-widgets/controls",
     "model_name": "ProgressStyleModel",
     "state": {
      "_model_module": "@jupyter-widgets/controls",
      "_model_module_version": "1.5.0",
      "_model_name": "ProgressStyleModel",
      "_view_count": null,
      "_view_module": "@jupyter-widgets/base",
      "_view_module_version": "1.2.0",
      "_view_name": "StyleView",
      "bar_color": null,
      "description_width": "initial"
     }
    },
    "9960705012bf4acd9438b8a9c3b609fd": {
     "model_module": "@jupyter-widgets/controls",
     "model_name": "DescriptionStyleModel",
     "state": {
      "_model_module": "@jupyter-widgets/controls",
      "_model_module_version": "1.5.0",
      "_model_name": "DescriptionStyleModel",
      "_view_count": null,
      "_view_module": "@jupyter-widgets/base",
      "_view_module_version": "1.2.0",
      "_view_name": "StyleView",
      "description_width": ""
     }
    },
    "9982d930d2984570a6f5ceb279b3cdf2": {
     "model_module": "@jupyter-widgets/base",
     "model_name": "LayoutModel",
     "state": {
      "_model_module": "@jupyter-widgets/base",
      "_model_module_version": "1.2.0",
      "_model_name": "LayoutModel",
      "_view_count": null,
      "_view_module": "@jupyter-widgets/base",
      "_view_module_version": "1.2.0",
      "_view_name": "LayoutView",
      "align_content": null,
      "align_items": null,
      "align_self": null,
      "border": null,
      "bottom": null,
      "display": null,
      "flex": null,
      "flex_flow": null,
      "grid_area": null,
      "grid_auto_columns": null,
      "grid_auto_flow": null,
      "grid_auto_rows": null,
      "grid_column": null,
      "grid_gap": null,
      "grid_row": null,
      "grid_template_areas": null,
      "grid_template_columns": null,
      "grid_template_rows": null,
      "height": null,
      "justify_content": null,
      "justify_items": null,
      "left": null,
      "margin": null,
      "max_height": null,
      "max_width": null,
      "min_height": null,
      "min_width": null,
      "object_fit": null,
      "object_position": null,
      "order": null,
      "overflow": null,
      "overflow_x": null,
      "overflow_y": null,
      "padding": null,
      "right": null,
      "top": null,
      "visibility": null,
      "width": null
     }
    },
    "9b4b627d2d3a4b9fb524dc836f581fea": {
     "model_module": "@jupyter-widgets/controls",
     "model_name": "HTMLModel",
     "state": {
      "_dom_classes": [],
      "_model_module": "@jupyter-widgets/controls",
      "_model_module_version": "1.5.0",
      "_model_name": "HTMLModel",
      "_view_count": null,
      "_view_module": "@jupyter-widgets/controls",
      "_view_module_version": "1.5.0",
      "_view_name": "HTMLView",
      "description": "",
      "description_tooltip": null,
      "layout": "IPY_MODEL_88a833cd371e493c833e3f0cb7c02080",
      "placeholder": "​",
      "style": "IPY_MODEL_59ecea872ed0480e9c7e19453fda3e5d",
      "value": " 6/6 [19:52&lt;00:00, 198.81s/it]"
     }
    },
    "9c9d9979157341b19818ecff847d52d1": {
     "model_module": "@jupyter-widgets/controls",
     "model_name": "HTMLModel",
     "state": {
      "_dom_classes": [],
      "_model_module": "@jupyter-widgets/controls",
      "_model_module_version": "1.5.0",
      "_model_name": "HTMLModel",
      "_view_count": null,
      "_view_module": "@jupyter-widgets/controls",
      "_view_module_version": "1.5.0",
      "_view_name": "HTMLView",
      "description": "",
      "description_tooltip": null,
      "layout": "IPY_MODEL_81cedbb7ac5f4a8698e7d252553e94bf",
      "placeholder": "​",
      "style": "IPY_MODEL_4f57f73a42e348868458add621a29b07",
      "value": " 6/6 [19:46&lt;00:00, 197.73s/it]"
     }
    },
    "9cbb2b8bbd724516996ab4712a1153c2": {
     "model_module": "@jupyter-widgets/base",
     "model_name": "LayoutModel",
     "state": {
      "_model_module": "@jupyter-widgets/base",
      "_model_module_version": "1.2.0",
      "_model_name": "LayoutModel",
      "_view_count": null,
      "_view_module": "@jupyter-widgets/base",
      "_view_module_version": "1.2.0",
      "_view_name": "LayoutView",
      "align_content": null,
      "align_items": null,
      "align_self": null,
      "border": null,
      "bottom": null,
      "display": null,
      "flex": null,
      "flex_flow": null,
      "grid_area": null,
      "grid_auto_columns": null,
      "grid_auto_flow": null,
      "grid_auto_rows": null,
      "grid_column": null,
      "grid_gap": null,
      "grid_row": null,
      "grid_template_areas": null,
      "grid_template_columns": null,
      "grid_template_rows": null,
      "height": null,
      "justify_content": null,
      "justify_items": null,
      "left": null,
      "margin": null,
      "max_height": null,
      "max_width": null,
      "min_height": null,
      "min_width": null,
      "object_fit": null,
      "object_position": null,
      "order": null,
      "overflow": null,
      "overflow_x": null,
      "overflow_y": null,
      "padding": null,
      "right": null,
      "top": null,
      "visibility": null,
      "width": null
     }
    },
    "9f7cea4d96d344288409dec261a41df7": {
     "model_module": "@jupyter-widgets/base",
     "model_name": "LayoutModel",
     "state": {
      "_model_module": "@jupyter-widgets/base",
      "_model_module_version": "1.2.0",
      "_model_name": "LayoutModel",
      "_view_count": null,
      "_view_module": "@jupyter-widgets/base",
      "_view_module_version": "1.2.0",
      "_view_name": "LayoutView",
      "align_content": null,
      "align_items": null,
      "align_self": null,
      "border": null,
      "bottom": null,
      "display": null,
      "flex": null,
      "flex_flow": null,
      "grid_area": null,
      "grid_auto_columns": null,
      "grid_auto_flow": null,
      "grid_auto_rows": null,
      "grid_column": null,
      "grid_gap": null,
      "grid_row": null,
      "grid_template_areas": null,
      "grid_template_columns": null,
      "grid_template_rows": null,
      "height": null,
      "justify_content": null,
      "justify_items": null,
      "left": null,
      "margin": null,
      "max_height": null,
      "max_width": null,
      "min_height": null,
      "min_width": null,
      "object_fit": null,
      "object_position": null,
      "order": null,
      "overflow": null,
      "overflow_x": null,
      "overflow_y": null,
      "padding": null,
      "right": null,
      "top": null,
      "visibility": null,
      "width": null
     }
    },
    "9fd1aad072734986b7ce90a4168b9c8c": {
     "model_module": "@jupyter-widgets/controls",
     "model_name": "DescriptionStyleModel",
     "state": {
      "_model_module": "@jupyter-widgets/controls",
      "_model_module_version": "1.5.0",
      "_model_name": "DescriptionStyleModel",
      "_view_count": null,
      "_view_module": "@jupyter-widgets/base",
      "_view_module_version": "1.2.0",
      "_view_name": "StyleView",
      "description_width": ""
     }
    },
    "a4b3e93393594a9aa0969becb2eb999b": {
     "model_module": "@jupyter-widgets/base",
     "model_name": "LayoutModel",
     "state": {
      "_model_module": "@jupyter-widgets/base",
      "_model_module_version": "1.2.0",
      "_model_name": "LayoutModel",
      "_view_count": null,
      "_view_module": "@jupyter-widgets/base",
      "_view_module_version": "1.2.0",
      "_view_name": "LayoutView",
      "align_content": null,
      "align_items": null,
      "align_self": null,
      "border": null,
      "bottom": null,
      "display": null,
      "flex": null,
      "flex_flow": null,
      "grid_area": null,
      "grid_auto_columns": null,
      "grid_auto_flow": null,
      "grid_auto_rows": null,
      "grid_column": null,
      "grid_gap": null,
      "grid_row": null,
      "grid_template_areas": null,
      "grid_template_columns": null,
      "grid_template_rows": null,
      "height": null,
      "justify_content": null,
      "justify_items": null,
      "left": null,
      "margin": null,
      "max_height": null,
      "max_width": null,
      "min_height": null,
      "min_width": null,
      "object_fit": null,
      "object_position": null,
      "order": null,
      "overflow": null,
      "overflow_x": null,
      "overflow_y": null,
      "padding": null,
      "right": null,
      "top": null,
      "visibility": null,
      "width": null
     }
    },
    "a4fad225171f43d3abbfb51981c981d8": {
     "model_module": "@jupyter-widgets/base",
     "model_name": "LayoutModel",
     "state": {
      "_model_module": "@jupyter-widgets/base",
      "_model_module_version": "1.2.0",
      "_model_name": "LayoutModel",
      "_view_count": null,
      "_view_module": "@jupyter-widgets/base",
      "_view_module_version": "1.2.0",
      "_view_name": "LayoutView",
      "align_content": null,
      "align_items": null,
      "align_self": null,
      "border": null,
      "bottom": null,
      "display": null,
      "flex": null,
      "flex_flow": null,
      "grid_area": null,
      "grid_auto_columns": null,
      "grid_auto_flow": null,
      "grid_auto_rows": null,
      "grid_column": null,
      "grid_gap": null,
      "grid_row": null,
      "grid_template_areas": null,
      "grid_template_columns": null,
      "grid_template_rows": null,
      "height": null,
      "justify_content": null,
      "justify_items": null,
      "left": null,
      "margin": null,
      "max_height": null,
      "max_width": null,
      "min_height": null,
      "min_width": null,
      "object_fit": null,
      "object_position": null,
      "order": null,
      "overflow": null,
      "overflow_x": null,
      "overflow_y": null,
      "padding": null,
      "right": null,
      "top": null,
      "visibility": null,
      "width": null
     }
    },
    "aa082753756642ceb9840ed16a5eb504": {
     "model_module": "@jupyter-widgets/controls",
     "model_name": "HTMLModel",
     "state": {
      "_dom_classes": [],
      "_model_module": "@jupyter-widgets/controls",
      "_model_module_version": "1.5.0",
      "_model_name": "HTMLModel",
      "_view_count": null,
      "_view_module": "@jupyter-widgets/controls",
      "_view_module_version": "1.5.0",
      "_view_name": "HTMLView",
      "description": "",
      "description_tooltip": null,
      "layout": "IPY_MODEL_5864c5ad89fe46c78d798c7e962a82ec",
      "placeholder": "​",
      "style": "IPY_MODEL_bf882c6f63774a1fb99f075934b8e005",
      "value": " 6/6 [19:56&lt;00:00, 199.41s/it]"
     }
    },
    "b017224078e140faa8116c818de24440": {
     "model_module": "@jupyter-widgets/base",
     "model_name": "LayoutModel",
     "state": {
      "_model_module": "@jupyter-widgets/base",
      "_model_module_version": "1.2.0",
      "_model_name": "LayoutModel",
      "_view_count": null,
      "_view_module": "@jupyter-widgets/base",
      "_view_module_version": "1.2.0",
      "_view_name": "LayoutView",
      "align_content": null,
      "align_items": null,
      "align_self": null,
      "border": null,
      "bottom": null,
      "display": null,
      "flex": null,
      "flex_flow": null,
      "grid_area": null,
      "grid_auto_columns": null,
      "grid_auto_flow": null,
      "grid_auto_rows": null,
      "grid_column": null,
      "grid_gap": null,
      "grid_row": null,
      "grid_template_areas": null,
      "grid_template_columns": null,
      "grid_template_rows": null,
      "height": null,
      "justify_content": null,
      "justify_items": null,
      "left": null,
      "margin": null,
      "max_height": null,
      "max_width": null,
      "min_height": null,
      "min_width": null,
      "object_fit": null,
      "object_position": null,
      "order": null,
      "overflow": null,
      "overflow_x": null,
      "overflow_y": null,
      "padding": null,
      "right": null,
      "top": null,
      "visibility": null,
      "width": null
     }
    },
    "b1c253102a79466cbb2b5ceeb2cae197": {
     "model_module": "@jupyter-widgets/base",
     "model_name": "LayoutModel",
     "state": {
      "_model_module": "@jupyter-widgets/base",
      "_model_module_version": "1.2.0",
      "_model_name": "LayoutModel",
      "_view_count": null,
      "_view_module": "@jupyter-widgets/base",
      "_view_module_version": "1.2.0",
      "_view_name": "LayoutView",
      "align_content": null,
      "align_items": null,
      "align_self": null,
      "border": null,
      "bottom": null,
      "display": null,
      "flex": null,
      "flex_flow": null,
      "grid_area": null,
      "grid_auto_columns": null,
      "grid_auto_flow": null,
      "grid_auto_rows": null,
      "grid_column": null,
      "grid_gap": null,
      "grid_row": null,
      "grid_template_areas": null,
      "grid_template_columns": null,
      "grid_template_rows": null,
      "height": null,
      "justify_content": null,
      "justify_items": null,
      "left": null,
      "margin": null,
      "max_height": null,
      "max_width": null,
      "min_height": null,
      "min_width": null,
      "object_fit": null,
      "object_position": null,
      "order": null,
      "overflow": null,
      "overflow_x": null,
      "overflow_y": null,
      "padding": null,
      "right": null,
      "top": null,
      "visibility": null,
      "width": null
     }
    },
    "b2e447228a1c443faedb24a6b202248f": {
     "model_module": "@jupyter-widgets/base",
     "model_name": "LayoutModel",
     "state": {
      "_model_module": "@jupyter-widgets/base",
      "_model_module_version": "1.2.0",
      "_model_name": "LayoutModel",
      "_view_count": null,
      "_view_module": "@jupyter-widgets/base",
      "_view_module_version": "1.2.0",
      "_view_name": "LayoutView",
      "align_content": null,
      "align_items": null,
      "align_self": null,
      "border": null,
      "bottom": null,
      "display": null,
      "flex": null,
      "flex_flow": null,
      "grid_area": null,
      "grid_auto_columns": null,
      "grid_auto_flow": null,
      "grid_auto_rows": null,
      "grid_column": null,
      "grid_gap": null,
      "grid_row": null,
      "grid_template_areas": null,
      "grid_template_columns": null,
      "grid_template_rows": null,
      "height": null,
      "justify_content": null,
      "justify_items": null,
      "left": null,
      "margin": null,
      "max_height": null,
      "max_width": null,
      "min_height": null,
      "min_width": null,
      "object_fit": null,
      "object_position": null,
      "order": null,
      "overflow": null,
      "overflow_x": null,
      "overflow_y": null,
      "padding": null,
      "right": null,
      "top": null,
      "visibility": null,
      "width": null
     }
    },
    "b5828faf827f4aa7be834ff7c2a27140": {
     "model_module": "@jupyter-widgets/controls",
     "model_name": "HBoxModel",
     "state": {
      "_dom_classes": [],
      "_model_module": "@jupyter-widgets/controls",
      "_model_module_version": "1.5.0",
      "_model_name": "HBoxModel",
      "_view_count": null,
      "_view_module": "@jupyter-widgets/controls",
      "_view_module_version": "1.5.0",
      "_view_name": "HBoxView",
      "box_style": "",
      "children": [
       "IPY_MODEL_e45370b27c64474a8fd823a47e1f5533",
       "IPY_MODEL_3ed0c47ca8fb45c5a52ae2ac1a735c90"
      ],
      "layout": "IPY_MODEL_b1c253102a79466cbb2b5ceeb2cae197"
     }
    },
    "b60050961e794f6ca93ea3ace99b5a76": {
     "model_module": "@jupyter-widgets/controls",
     "model_name": "DescriptionStyleModel",
     "state": {
      "_model_module": "@jupyter-widgets/controls",
      "_model_module_version": "1.5.0",
      "_model_name": "DescriptionStyleModel",
      "_view_count": null,
      "_view_module": "@jupyter-widgets/base",
      "_view_module_version": "1.2.0",
      "_view_name": "StyleView",
      "description_width": ""
     }
    },
    "b6298679d5374369aae449bd0242dfe2": {
     "model_module": "@jupyter-widgets/controls",
     "model_name": "FloatProgressModel",
     "state": {
      "_dom_classes": [],
      "_model_module": "@jupyter-widgets/controls",
      "_model_module_version": "1.5.0",
      "_model_name": "FloatProgressModel",
      "_view_count": null,
      "_view_module": "@jupyter-widgets/controls",
      "_view_module_version": "1.5.0",
      "_view_name": "ProgressView",
      "bar_style": "success",
      "description": "Plotting: 100%",
      "description_tooltip": null,
      "layout": "IPY_MODEL_c9010855d3584acd9944e8cfb42207e2",
      "max": 6,
      "min": 0,
      "orientation": "horizontal",
      "style": "IPY_MODEL_597b3c43ccd6488d8b843b03c6ede6e6",
      "value": 6
     }
    },
    "b67b8a850e0f4e338a65ffef01e1e14e": {
     "model_module": "@jupyter-widgets/controls",
     "model_name": "ProgressStyleModel",
     "state": {
      "_model_module": "@jupyter-widgets/controls",
      "_model_module_version": "1.5.0",
      "_model_name": "ProgressStyleModel",
      "_view_count": null,
      "_view_module": "@jupyter-widgets/base",
      "_view_module_version": "1.2.0",
      "_view_name": "StyleView",
      "bar_color": null,
      "description_width": "initial"
     }
    },
    "bafb2a28dcd0431eac106b236007e951": {
     "model_module": "@jupyter-widgets/base",
     "model_name": "LayoutModel",
     "state": {
      "_model_module": "@jupyter-widgets/base",
      "_model_module_version": "1.2.0",
      "_model_name": "LayoutModel",
      "_view_count": null,
      "_view_module": "@jupyter-widgets/base",
      "_view_module_version": "1.2.0",
      "_view_name": "LayoutView",
      "align_content": null,
      "align_items": null,
      "align_self": null,
      "border": null,
      "bottom": null,
      "display": null,
      "flex": null,
      "flex_flow": null,
      "grid_area": null,
      "grid_auto_columns": null,
      "grid_auto_flow": null,
      "grid_auto_rows": null,
      "grid_column": null,
      "grid_gap": null,
      "grid_row": null,
      "grid_template_areas": null,
      "grid_template_columns": null,
      "grid_template_rows": null,
      "height": null,
      "justify_content": null,
      "justify_items": null,
      "left": null,
      "margin": null,
      "max_height": null,
      "max_width": null,
      "min_height": null,
      "min_width": null,
      "object_fit": null,
      "object_position": null,
      "order": null,
      "overflow": null,
      "overflow_x": null,
      "overflow_y": null,
      "padding": null,
      "right": null,
      "top": null,
      "visibility": null,
      "width": null
     }
    },
    "bdd2ba0903ed495e962ff8a3bc0181f0": {
     "model_module": "@jupyter-widgets/controls",
     "model_name": "DescriptionStyleModel",
     "state": {
      "_model_module": "@jupyter-widgets/controls",
      "_model_module_version": "1.5.0",
      "_model_name": "DescriptionStyleModel",
      "_view_count": null,
      "_view_module": "@jupyter-widgets/base",
      "_view_module_version": "1.2.0",
      "_view_name": "StyleView",
      "description_width": ""
     }
    },
    "bde8d2f7f91545b388c78b3397aeeaae": {
     "model_module": "@jupyter-widgets/controls",
     "model_name": "DescriptionStyleModel",
     "state": {
      "_model_module": "@jupyter-widgets/controls",
      "_model_module_version": "1.5.0",
      "_model_name": "DescriptionStyleModel",
      "_view_count": null,
      "_view_module": "@jupyter-widgets/base",
      "_view_module_version": "1.2.0",
      "_view_name": "StyleView",
      "description_width": ""
     }
    },
    "bf05604218fa427bb3e56497b3ff3734": {
     "model_module": "@jupyter-widgets/controls",
     "model_name": "HBoxModel",
     "state": {
      "_dom_classes": [],
      "_model_module": "@jupyter-widgets/controls",
      "_model_module_version": "1.5.0",
      "_model_name": "HBoxModel",
      "_view_count": null,
      "_view_module": "@jupyter-widgets/controls",
      "_view_module_version": "1.5.0",
      "_view_name": "HBoxView",
      "box_style": "",
      "children": [
       "IPY_MODEL_939ffea825904f0fa898ee19adbae94a",
       "IPY_MODEL_47b5882f6401460e8f613cf6e57c9091"
      ],
      "layout": "IPY_MODEL_7b0898899a4643dfa54b52a7ef86a182"
     }
    },
    "bf882c6f63774a1fb99f075934b8e005": {
     "model_module": "@jupyter-widgets/controls",
     "model_name": "DescriptionStyleModel",
     "state": {
      "_model_module": "@jupyter-widgets/controls",
      "_model_module_version": "1.5.0",
      "_model_name": "DescriptionStyleModel",
      "_view_count": null,
      "_view_module": "@jupyter-widgets/base",
      "_view_module_version": "1.2.0",
      "_view_name": "StyleView",
      "description_width": ""
     }
    },
    "c19b7be2ab454f02adf6d1df08739806": {
     "model_module": "@jupyter-widgets/base",
     "model_name": "LayoutModel",
     "state": {
      "_model_module": "@jupyter-widgets/base",
      "_model_module_version": "1.2.0",
      "_model_name": "LayoutModel",
      "_view_count": null,
      "_view_module": "@jupyter-widgets/base",
      "_view_module_version": "1.2.0",
      "_view_name": "LayoutView",
      "align_content": null,
      "align_items": null,
      "align_self": null,
      "border": null,
      "bottom": null,
      "display": null,
      "flex": null,
      "flex_flow": null,
      "grid_area": null,
      "grid_auto_columns": null,
      "grid_auto_flow": null,
      "grid_auto_rows": null,
      "grid_column": null,
      "grid_gap": null,
      "grid_row": null,
      "grid_template_areas": null,
      "grid_template_columns": null,
      "grid_template_rows": null,
      "height": null,
      "justify_content": null,
      "justify_items": null,
      "left": null,
      "margin": null,
      "max_height": null,
      "max_width": null,
      "min_height": null,
      "min_width": null,
      "object_fit": null,
      "object_position": null,
      "order": null,
      "overflow": null,
      "overflow_x": null,
      "overflow_y": null,
      "padding": null,
      "right": null,
      "top": null,
      "visibility": null,
      "width": null
     }
    },
    "c4c3c4d5ae314e28900ba4f02dc6ebd9": {
     "model_module": "@jupyter-widgets/controls",
     "model_name": "FloatProgressModel",
     "state": {
      "_dom_classes": [],
      "_model_module": "@jupyter-widgets/controls",
      "_model_module_version": "1.5.0",
      "_model_name": "FloatProgressModel",
      "_view_count": null,
      "_view_module": "@jupyter-widgets/controls",
      "_view_module_version": "1.5.0",
      "_view_name": "ProgressView",
      "bar_style": "success",
      "description": "Plotting: 100%",
      "description_tooltip": null,
      "layout": "IPY_MODEL_21148701f5994067891e94f8f6fcb540",
      "max": 6,
      "min": 0,
      "orientation": "horizontal",
      "style": "IPY_MODEL_3feb2feb859d44e09df73872b76e53d3",
      "value": 6
     }
    },
    "c4fbbc33961448ab8df6e5ad75514a65": {
     "model_module": "@jupyter-widgets/base",
     "model_name": "LayoutModel",
     "state": {
      "_model_module": "@jupyter-widgets/base",
      "_model_module_version": "1.2.0",
      "_model_name": "LayoutModel",
      "_view_count": null,
      "_view_module": "@jupyter-widgets/base",
      "_view_module_version": "1.2.0",
      "_view_name": "LayoutView",
      "align_content": null,
      "align_items": null,
      "align_self": null,
      "border": null,
      "bottom": null,
      "display": null,
      "flex": null,
      "flex_flow": null,
      "grid_area": null,
      "grid_auto_columns": null,
      "grid_auto_flow": null,
      "grid_auto_rows": null,
      "grid_column": null,
      "grid_gap": null,
      "grid_row": null,
      "grid_template_areas": null,
      "grid_template_columns": null,
      "grid_template_rows": null,
      "height": null,
      "justify_content": null,
      "justify_items": null,
      "left": null,
      "margin": null,
      "max_height": null,
      "max_width": null,
      "min_height": null,
      "min_width": null,
      "object_fit": null,
      "object_position": null,
      "order": null,
      "overflow": null,
      "overflow_x": null,
      "overflow_y": null,
      "padding": null,
      "right": null,
      "top": null,
      "visibility": null,
      "width": null
     }
    },
    "c67f35bd6e144bfc83bed3fefc17e021": {
     "model_module": "@jupyter-widgets/controls",
     "model_name": "DescriptionStyleModel",
     "state": {
      "_model_module": "@jupyter-widgets/controls",
      "_model_module_version": "1.5.0",
      "_model_name": "DescriptionStyleModel",
      "_view_count": null,
      "_view_module": "@jupyter-widgets/base",
      "_view_module_version": "1.2.0",
      "_view_name": "StyleView",
      "description_width": ""
     }
    },
    "c8926d88b41d47e091bf48f837adcd09": {
     "model_module": "@jupyter-widgets/controls",
     "model_name": "ProgressStyleModel",
     "state": {
      "_model_module": "@jupyter-widgets/controls",
      "_model_module_version": "1.5.0",
      "_model_name": "ProgressStyleModel",
      "_view_count": null,
      "_view_module": "@jupyter-widgets/base",
      "_view_module_version": "1.2.0",
      "_view_name": "StyleView",
      "bar_color": null,
      "description_width": "initial"
     }
    },
    "c9010855d3584acd9944e8cfb42207e2": {
     "model_module": "@jupyter-widgets/base",
     "model_name": "LayoutModel",
     "state": {
      "_model_module": "@jupyter-widgets/base",
      "_model_module_version": "1.2.0",
      "_model_name": "LayoutModel",
      "_view_count": null,
      "_view_module": "@jupyter-widgets/base",
      "_view_module_version": "1.2.0",
      "_view_name": "LayoutView",
      "align_content": null,
      "align_items": null,
      "align_self": null,
      "border": null,
      "bottom": null,
      "display": null,
      "flex": null,
      "flex_flow": null,
      "grid_area": null,
      "grid_auto_columns": null,
      "grid_auto_flow": null,
      "grid_auto_rows": null,
      "grid_column": null,
      "grid_gap": null,
      "grid_row": null,
      "grid_template_areas": null,
      "grid_template_columns": null,
      "grid_template_rows": null,
      "height": null,
      "justify_content": null,
      "justify_items": null,
      "left": null,
      "margin": null,
      "max_height": null,
      "max_width": null,
      "min_height": null,
      "min_width": null,
      "object_fit": null,
      "object_position": null,
      "order": null,
      "overflow": null,
      "overflow_x": null,
      "overflow_y": null,
      "padding": null,
      "right": null,
      "top": null,
      "visibility": null,
      "width": null
     }
    },
    "c9cb321839a14246a193b52c9990969e": {
     "model_module": "@jupyter-widgets/base",
     "model_name": "LayoutModel",
     "state": {
      "_model_module": "@jupyter-widgets/base",
      "_model_module_version": "1.2.0",
      "_model_name": "LayoutModel",
      "_view_count": null,
      "_view_module": "@jupyter-widgets/base",
      "_view_module_version": "1.2.0",
      "_view_name": "LayoutView",
      "align_content": null,
      "align_items": null,
      "align_self": null,
      "border": null,
      "bottom": null,
      "display": null,
      "flex": null,
      "flex_flow": null,
      "grid_area": null,
      "grid_auto_columns": null,
      "grid_auto_flow": null,
      "grid_auto_rows": null,
      "grid_column": null,
      "grid_gap": null,
      "grid_row": null,
      "grid_template_areas": null,
      "grid_template_columns": null,
      "grid_template_rows": null,
      "height": null,
      "justify_content": null,
      "justify_items": null,
      "left": null,
      "margin": null,
      "max_height": null,
      "max_width": null,
      "min_height": null,
      "min_width": null,
      "object_fit": null,
      "object_position": null,
      "order": null,
      "overflow": null,
      "overflow_x": null,
      "overflow_y": null,
      "padding": null,
      "right": null,
      "top": null,
      "visibility": null,
      "width": null
     }
    },
    "c9fa184357404575a76382e951e6248a": {
     "model_module": "@jupyter-widgets/base",
     "model_name": "LayoutModel",
     "state": {
      "_model_module": "@jupyter-widgets/base",
      "_model_module_version": "1.2.0",
      "_model_name": "LayoutModel",
      "_view_count": null,
      "_view_module": "@jupyter-widgets/base",
      "_view_module_version": "1.2.0",
      "_view_name": "LayoutView",
      "align_content": null,
      "align_items": null,
      "align_self": null,
      "border": null,
      "bottom": null,
      "display": null,
      "flex": null,
      "flex_flow": null,
      "grid_area": null,
      "grid_auto_columns": null,
      "grid_auto_flow": null,
      "grid_auto_rows": null,
      "grid_column": null,
      "grid_gap": null,
      "grid_row": null,
      "grid_template_areas": null,
      "grid_template_columns": null,
      "grid_template_rows": null,
      "height": null,
      "justify_content": null,
      "justify_items": null,
      "left": null,
      "margin": null,
      "max_height": null,
      "max_width": null,
      "min_height": null,
      "min_width": null,
      "object_fit": null,
      "object_position": null,
      "order": null,
      "overflow": null,
      "overflow_x": null,
      "overflow_y": null,
      "padding": null,
      "right": null,
      "top": null,
      "visibility": null,
      "width": null
     }
    },
    "ca1801b7f6dc46a4a8604809c7e1be0a": {
     "model_module": "@jupyter-widgets/controls",
     "model_name": "ProgressStyleModel",
     "state": {
      "_model_module": "@jupyter-widgets/controls",
      "_model_module_version": "1.5.0",
      "_model_name": "ProgressStyleModel",
      "_view_count": null,
      "_view_module": "@jupyter-widgets/base",
      "_view_module_version": "1.2.0",
      "_view_name": "StyleView",
      "bar_color": null,
      "description_width": "initial"
     }
    },
    "cc0d405c1d864c4d891ac0f3a6a29986": {
     "model_module": "@jupyter-widgets/base",
     "model_name": "LayoutModel",
     "state": {
      "_model_module": "@jupyter-widgets/base",
      "_model_module_version": "1.2.0",
      "_model_name": "LayoutModel",
      "_view_count": null,
      "_view_module": "@jupyter-widgets/base",
      "_view_module_version": "1.2.0",
      "_view_name": "LayoutView",
      "align_content": null,
      "align_items": null,
      "align_self": null,
      "border": null,
      "bottom": null,
      "display": null,
      "flex": null,
      "flex_flow": null,
      "grid_area": null,
      "grid_auto_columns": null,
      "grid_auto_flow": null,
      "grid_auto_rows": null,
      "grid_column": null,
      "grid_gap": null,
      "grid_row": null,
      "grid_template_areas": null,
      "grid_template_columns": null,
      "grid_template_rows": null,
      "height": null,
      "justify_content": null,
      "justify_items": null,
      "left": null,
      "margin": null,
      "max_height": null,
      "max_width": null,
      "min_height": null,
      "min_width": null,
      "object_fit": null,
      "object_position": null,
      "order": null,
      "overflow": null,
      "overflow_x": null,
      "overflow_y": null,
      "padding": null,
      "right": null,
      "top": null,
      "visibility": null,
      "width": null
     }
    },
    "cd9c91e94c7343178ca90efe306b838f": {
     "model_module": "@jupyter-widgets/controls",
     "model_name": "HTMLModel",
     "state": {
      "_dom_classes": [],
      "_model_module": "@jupyter-widgets/controls",
      "_model_module_version": "1.5.0",
      "_model_name": "HTMLModel",
      "_view_count": null,
      "_view_module": "@jupyter-widgets/controls",
      "_view_module_version": "1.5.0",
      "_view_name": "HTMLView",
      "description": "",
      "description_tooltip": null,
      "layout": "IPY_MODEL_5ad2b15d417d49db8013ea21187432de",
      "placeholder": "​",
      "style": "IPY_MODEL_bdd2ba0903ed495e962ff8a3bc0181f0",
      "value": " 6/6 [4:38:04&lt;00:00, 2780.77s/it]"
     }
    },
    "cdccf0e46af845f49eb8175cea759be0": {
     "model_module": "@jupyter-widgets/controls",
     "model_name": "DescriptionStyleModel",
     "state": {
      "_model_module": "@jupyter-widgets/controls",
      "_model_module_version": "1.5.0",
      "_model_name": "DescriptionStyleModel",
      "_view_count": null,
      "_view_module": "@jupyter-widgets/base",
      "_view_module_version": "1.2.0",
      "_view_name": "StyleView",
      "description_width": ""
     }
    },
    "cfb9fb8968b049cba169459430d5d1d4": {
     "model_module": "@jupyter-widgets/base",
     "model_name": "LayoutModel",
     "state": {
      "_model_module": "@jupyter-widgets/base",
      "_model_module_version": "1.2.0",
      "_model_name": "LayoutModel",
      "_view_count": null,
      "_view_module": "@jupyter-widgets/base",
      "_view_module_version": "1.2.0",
      "_view_name": "LayoutView",
      "align_content": null,
      "align_items": null,
      "align_self": null,
      "border": null,
      "bottom": null,
      "display": null,
      "flex": null,
      "flex_flow": null,
      "grid_area": null,
      "grid_auto_columns": null,
      "grid_auto_flow": null,
      "grid_auto_rows": null,
      "grid_column": null,
      "grid_gap": null,
      "grid_row": null,
      "grid_template_areas": null,
      "grid_template_columns": null,
      "grid_template_rows": null,
      "height": null,
      "justify_content": null,
      "justify_items": null,
      "left": null,
      "margin": null,
      "max_height": null,
      "max_width": null,
      "min_height": null,
      "min_width": null,
      "object_fit": null,
      "object_position": null,
      "order": null,
      "overflow": null,
      "overflow_x": null,
      "overflow_y": null,
      "padding": null,
      "right": null,
      "top": null,
      "visibility": null,
      "width": null
     }
    },
    "d0356992e79a434aa4fc4e923af53ff6": {
     "model_module": "@jupyter-widgets/base",
     "model_name": "LayoutModel",
     "state": {
      "_model_module": "@jupyter-widgets/base",
      "_model_module_version": "1.2.0",
      "_model_name": "LayoutModel",
      "_view_count": null,
      "_view_module": "@jupyter-widgets/base",
      "_view_module_version": "1.2.0",
      "_view_name": "LayoutView",
      "align_content": null,
      "align_items": null,
      "align_self": null,
      "border": null,
      "bottom": null,
      "display": null,
      "flex": null,
      "flex_flow": null,
      "grid_area": null,
      "grid_auto_columns": null,
      "grid_auto_flow": null,
      "grid_auto_rows": null,
      "grid_column": null,
      "grid_gap": null,
      "grid_row": null,
      "grid_template_areas": null,
      "grid_template_columns": null,
      "grid_template_rows": null,
      "height": null,
      "justify_content": null,
      "justify_items": null,
      "left": null,
      "margin": null,
      "max_height": null,
      "max_width": null,
      "min_height": null,
      "min_width": null,
      "object_fit": null,
      "object_position": null,
      "order": null,
      "overflow": null,
      "overflow_x": null,
      "overflow_y": null,
      "padding": null,
      "right": null,
      "top": null,
      "visibility": null,
      "width": null
     }
    },
    "d1929819be984cf7adfae7cc41af54cb": {
     "model_module": "@jupyter-widgets/controls",
     "model_name": "HBoxModel",
     "state": {
      "_dom_classes": [],
      "_model_module": "@jupyter-widgets/controls",
      "_model_module_version": "1.5.0",
      "_model_name": "HBoxModel",
      "_view_count": null,
      "_view_module": "@jupyter-widgets/controls",
      "_view_module_version": "1.5.0",
      "_view_name": "HBoxView",
      "box_style": "",
      "children": [
       "IPY_MODEL_5896e236b613430789a861b67da88113",
       "IPY_MODEL_23847c38fb814d219c7d119b614ac365"
      ],
      "layout": "IPY_MODEL_43e9d7612ae042f0b6b92f22e34186e1"
     }
    },
    "d25693e000da4dae82776f3c08a3f476": {
     "model_module": "@jupyter-widgets/controls",
     "model_name": "HBoxModel",
     "state": {
      "_dom_classes": [],
      "_model_module": "@jupyter-widgets/controls",
      "_model_module_version": "1.5.0",
      "_model_name": "HBoxModel",
      "_view_count": null,
      "_view_module": "@jupyter-widgets/controls",
      "_view_module_version": "1.5.0",
      "_view_name": "HBoxView",
      "box_style": "",
      "children": [
       "IPY_MODEL_4ebb97c13df74524a77515da6342929e",
       "IPY_MODEL_64d652750b8d488980c6e755e5a77a41"
      ],
      "layout": "IPY_MODEL_4ef9fde7fff34b51ac803b4cbf693627"
     }
    },
    "d5dde60013924ef28ff844153def8546": {
     "model_module": "@jupyter-widgets/controls",
     "model_name": "ProgressStyleModel",
     "state": {
      "_model_module": "@jupyter-widgets/controls",
      "_model_module_version": "1.5.0",
      "_model_name": "ProgressStyleModel",
      "_view_count": null,
      "_view_module": "@jupyter-widgets/base",
      "_view_module_version": "1.2.0",
      "_view_name": "StyleView",
      "bar_color": null,
      "description_width": "initial"
     }
    },
    "d76cf5d03375435fbb99d855e274e1a6": {
     "model_module": "@jupyter-widgets/controls",
     "model_name": "HTMLModel",
     "state": {
      "_dom_classes": [],
      "_model_module": "@jupyter-widgets/controls",
      "_model_module_version": "1.5.0",
      "_model_name": "HTMLModel",
      "_view_count": null,
      "_view_module": "@jupyter-widgets/controls",
      "_view_module_version": "1.5.0",
      "_view_name": "HTMLView",
      "description": "",
      "description_tooltip": null,
      "layout": "IPY_MODEL_b017224078e140faa8116c818de24440",
      "placeholder": "​",
      "style": "IPY_MODEL_f9bb53b51a8c42bf94de3ca789055492",
      "value": " 6/6 [19:37&lt;00:00, 196.28s/it]"
     }
    },
    "d7a3204eb3524a1fbb9a595a15c5ce27": {
     "model_module": "@jupyter-widgets/base",
     "model_name": "LayoutModel",
     "state": {
      "_model_module": "@jupyter-widgets/base",
      "_model_module_version": "1.2.0",
      "_model_name": "LayoutModel",
      "_view_count": null,
      "_view_module": "@jupyter-widgets/base",
      "_view_module_version": "1.2.0",
      "_view_name": "LayoutView",
      "align_content": null,
      "align_items": null,
      "align_self": null,
      "border": null,
      "bottom": null,
      "display": null,
      "flex": null,
      "flex_flow": null,
      "grid_area": null,
      "grid_auto_columns": null,
      "grid_auto_flow": null,
      "grid_auto_rows": null,
      "grid_column": null,
      "grid_gap": null,
      "grid_row": null,
      "grid_template_areas": null,
      "grid_template_columns": null,
      "grid_template_rows": null,
      "height": null,
      "justify_content": null,
      "justify_items": null,
      "left": null,
      "margin": null,
      "max_height": null,
      "max_width": null,
      "min_height": null,
      "min_width": null,
      "object_fit": null,
      "object_position": null,
      "order": null,
      "overflow": null,
      "overflow_x": null,
      "overflow_y": null,
      "padding": null,
      "right": null,
      "top": null,
      "visibility": null,
      "width": null
     }
    },
    "dcaf54dd33fd41fea49219921520d1cd": {
     "model_module": "@jupyter-widgets/controls",
     "model_name": "HBoxModel",
     "state": {
      "_dom_classes": [],
      "_model_module": "@jupyter-widgets/controls",
      "_model_module_version": "1.5.0",
      "_model_name": "HBoxModel",
      "_view_count": null,
      "_view_module": "@jupyter-widgets/controls",
      "_view_module_version": "1.5.0",
      "_view_name": "HBoxView",
      "box_style": "",
      "children": [
       "IPY_MODEL_8e80e4f434654efa9bca283e2a3eb738",
       "IPY_MODEL_6ea15582d13f407ba9d988ca7fdc1f17"
      ],
      "layout": "IPY_MODEL_c19b7be2ab454f02adf6d1df08739806"
     }
    },
    "e3cf2877636941ae9d2baf94e1dd92a5": {
     "model_module": "@jupyter-widgets/controls",
     "model_name": "HTMLModel",
     "state": {
      "_dom_classes": [],
      "_model_module": "@jupyter-widgets/controls",
      "_model_module_version": "1.5.0",
      "_model_name": "HTMLModel",
      "_view_count": null,
      "_view_module": "@jupyter-widgets/controls",
      "_view_module_version": "1.5.0",
      "_view_name": "HTMLView",
      "description": "",
      "description_tooltip": null,
      "layout": "IPY_MODEL_cfb9fb8968b049cba169459430d5d1d4",
      "placeholder": "​",
      "style": "IPY_MODEL_b60050961e794f6ca93ea3ace99b5a76",
      "value": " 6/6 [19:58&lt;00:00, 199.74s/it]"
     }
    },
    "e45370b27c64474a8fd823a47e1f5533": {
     "model_module": "@jupyter-widgets/controls",
     "model_name": "FloatProgressModel",
     "state": {
      "_dom_classes": [],
      "_model_module": "@jupyter-widgets/controls",
      "_model_module_version": "1.5.0",
      "_model_name": "FloatProgressModel",
      "_view_count": null,
      "_view_module": "@jupyter-widgets/controls",
      "_view_module_version": "1.5.0",
      "_view_name": "ProgressView",
      "bar_style": "success",
      "description": "Plotting: 100%",
      "description_tooltip": null,
      "layout": "IPY_MODEL_8b69866c775c43ddae2fcaf7994762f8",
      "max": 6,
      "min": 0,
      "orientation": "horizontal",
      "style": "IPY_MODEL_c8926d88b41d47e091bf48f837adcd09",
      "value": 6
     }
    },
    "e6cc2643fbf14e07b560bd812c760dc9": {
     "model_module": "@jupyter-widgets/controls",
     "model_name": "ProgressStyleModel",
     "state": {
      "_model_module": "@jupyter-widgets/controls",
      "_model_module_version": "1.5.0",
      "_model_name": "ProgressStyleModel",
      "_view_count": null,
      "_view_module": "@jupyter-widgets/base",
      "_view_module_version": "1.2.0",
      "_view_name": "StyleView",
      "bar_color": null,
      "description_width": "initial"
     }
    },
    "f087d35148dc4538b2066fc60bccb043": {
     "model_module": "@jupyter-widgets/controls",
     "model_name": "HBoxModel",
     "state": {
      "_dom_classes": [],
      "_model_module": "@jupyter-widgets/controls",
      "_model_module_version": "1.5.0",
      "_model_name": "HBoxModel",
      "_view_count": null,
      "_view_module": "@jupyter-widgets/controls",
      "_view_module_version": "1.5.0",
      "_view_name": "HBoxView",
      "box_style": "",
      "children": [
       "IPY_MODEL_c4c3c4d5ae314e28900ba4f02dc6ebd9",
       "IPY_MODEL_243786c76bff4b7c8dbaf98e6e67ba81"
      ],
      "layout": "IPY_MODEL_3996014b059c47aab5d18b75d8657c13"
     }
    },
    "f1f64aa8b51a477594d80bf54afdb453": {
     "model_module": "@jupyter-widgets/controls",
     "model_name": "FloatProgressModel",
     "state": {
      "_dom_classes": [],
      "_model_module": "@jupyter-widgets/controls",
      "_model_module_version": "1.5.0",
      "_model_name": "FloatProgressModel",
      "_view_count": null,
      "_view_module": "@jupyter-widgets/controls",
      "_view_module_version": "1.5.0",
      "_view_name": "ProgressView",
      "bar_style": "success",
      "description": "Plotting: 100%",
      "description_tooltip": null,
      "layout": "IPY_MODEL_bafb2a28dcd0431eac106b236007e951",
      "max": 6,
      "min": 0,
      "orientation": "horizontal",
      "style": "IPY_MODEL_b67b8a850e0f4e338a65ffef01e1e14e",
      "value": 6
     }
    },
    "f4469f81982844a6b5057471b7fcaf2c": {
     "model_module": "@jupyter-widgets/base",
     "model_name": "LayoutModel",
     "state": {
      "_model_module": "@jupyter-widgets/base",
      "_model_module_version": "1.2.0",
      "_model_name": "LayoutModel",
      "_view_count": null,
      "_view_module": "@jupyter-widgets/base",
      "_view_module_version": "1.2.0",
      "_view_name": "LayoutView",
      "align_content": null,
      "align_items": null,
      "align_self": null,
      "border": null,
      "bottom": null,
      "display": null,
      "flex": null,
      "flex_flow": null,
      "grid_area": null,
      "grid_auto_columns": null,
      "grid_auto_flow": null,
      "grid_auto_rows": null,
      "grid_column": null,
      "grid_gap": null,
      "grid_row": null,
      "grid_template_areas": null,
      "grid_template_columns": null,
      "grid_template_rows": null,
      "height": null,
      "justify_content": null,
      "justify_items": null,
      "left": null,
      "margin": null,
      "max_height": null,
      "max_width": null,
      "min_height": null,
      "min_width": null,
      "object_fit": null,
      "object_position": null,
      "order": null,
      "overflow": null,
      "overflow_x": null,
      "overflow_y": null,
      "padding": null,
      "right": null,
      "top": null,
      "visibility": null,
      "width": null
     }
    },
    "f509a3a02525455eb6554fd0e1533dc4": {
     "model_module": "@jupyter-widgets/controls",
     "model_name": "DescriptionStyleModel",
     "state": {
      "_model_module": "@jupyter-widgets/controls",
      "_model_module_version": "1.5.0",
      "_model_name": "DescriptionStyleModel",
      "_view_count": null,
      "_view_module": "@jupyter-widgets/base",
      "_view_module_version": "1.2.0",
      "_view_name": "StyleView",
      "description_width": ""
     }
    },
    "f6392537d5eb4dfb9470e96221ca8a50": {
     "model_module": "@jupyter-widgets/base",
     "model_name": "LayoutModel",
     "state": {
      "_model_module": "@jupyter-widgets/base",
      "_model_module_version": "1.2.0",
      "_model_name": "LayoutModel",
      "_view_count": null,
      "_view_module": "@jupyter-widgets/base",
      "_view_module_version": "1.2.0",
      "_view_name": "LayoutView",
      "align_content": null,
      "align_items": null,
      "align_self": null,
      "border": null,
      "bottom": null,
      "display": null,
      "flex": null,
      "flex_flow": null,
      "grid_area": null,
      "grid_auto_columns": null,
      "grid_auto_flow": null,
      "grid_auto_rows": null,
      "grid_column": null,
      "grid_gap": null,
      "grid_row": null,
      "grid_template_areas": null,
      "grid_template_columns": null,
      "grid_template_rows": null,
      "height": null,
      "justify_content": null,
      "justify_items": null,
      "left": null,
      "margin": null,
      "max_height": null,
      "max_width": null,
      "min_height": null,
      "min_width": null,
      "object_fit": null,
      "object_position": null,
      "order": null,
      "overflow": null,
      "overflow_x": null,
      "overflow_y": null,
      "padding": null,
      "right": null,
      "top": null,
      "visibility": null,
      "width": null
     }
    },
    "f7197fbb16814fe291c4b66329db23ff": {
     "model_module": "@jupyter-widgets/controls",
     "model_name": "ProgressStyleModel",
     "state": {
      "_model_module": "@jupyter-widgets/controls",
      "_model_module_version": "1.5.0",
      "_model_name": "ProgressStyleModel",
      "_view_count": null,
      "_view_module": "@jupyter-widgets/base",
      "_view_module_version": "1.2.0",
      "_view_name": "StyleView",
      "bar_color": null,
      "description_width": "initial"
     }
    },
    "f85216e0886f46a3ac0043b4c8284d60": {
     "model_module": "@jupyter-widgets/controls",
     "model_name": "HBoxModel",
     "state": {
      "_dom_classes": [],
      "_model_module": "@jupyter-widgets/controls",
      "_model_module_version": "1.5.0",
      "_model_name": "HBoxModel",
      "_view_count": null,
      "_view_module": "@jupyter-widgets/controls",
      "_view_module_version": "1.5.0",
      "_view_name": "HBoxView",
      "box_style": "",
      "children": [
       "IPY_MODEL_f1f64aa8b51a477594d80bf54afdb453",
       "IPY_MODEL_9b4b627d2d3a4b9fb524dc836f581fea"
      ],
      "layout": "IPY_MODEL_d0356992e79a434aa4fc4e923af53ff6"
     }
    },
    "f9bb53b51a8c42bf94de3ca789055492": {
     "model_module": "@jupyter-widgets/controls",
     "model_name": "DescriptionStyleModel",
     "state": {
      "_model_module": "@jupyter-widgets/controls",
      "_model_module_version": "1.5.0",
      "_model_name": "DescriptionStyleModel",
      "_view_count": null,
      "_view_module": "@jupyter-widgets/base",
      "_view_module_version": "1.2.0",
      "_view_name": "StyleView",
      "description_width": ""
     }
    },
    "fa2cd2fa4c3548f989332810c5100f79": {
     "model_module": "@jupyter-widgets/controls",
     "model_name": "HBoxModel",
     "state": {
      "_dom_classes": [],
      "_model_module": "@jupyter-widgets/controls",
      "_model_module_version": "1.5.0",
      "_model_name": "HBoxModel",
      "_view_count": null,
      "_view_module": "@jupyter-widgets/controls",
      "_view_module_version": "1.5.0",
      "_view_name": "HBoxView",
      "box_style": "",
      "children": [
       "IPY_MODEL_8a75f6419d0e458398650d72f7d83ad4",
       "IPY_MODEL_d76cf5d03375435fbb99d855e274e1a6"
      ],
      "layout": "IPY_MODEL_7513b1a1e50949649a04b548a9b1726a"
     }
    },
    "fc5a80f859014763ab772fe9bb03c286": {
     "model_module": "@jupyter-widgets/controls",
     "model_name": "HBoxModel",
     "state": {
      "_dom_classes": [],
      "_model_module": "@jupyter-widgets/controls",
      "_model_module_version": "1.5.0",
      "_model_name": "HBoxModel",
      "_view_count": null,
      "_view_module": "@jupyter-widgets/controls",
      "_view_module_version": "1.5.0",
      "_view_name": "HBoxView",
      "box_style": "",
      "children": [
       "IPY_MODEL_2686d878b8074b82a577c4cfc6ad6fec",
       "IPY_MODEL_1ace8fa5b60940b393c85982c42c69b5"
      ],
      "layout": "IPY_MODEL_9cbb2b8bbd724516996ab4712a1153c2"
     }
    },
    "fdeb7c9d08a147fd9d08f31ddaf93ff8": {
     "model_module": "@jupyter-widgets/base",
     "model_name": "LayoutModel",
     "state": {
      "_model_module": "@jupyter-widgets/base",
      "_model_module_version": "1.2.0",
      "_model_name": "LayoutModel",
      "_view_count": null,
      "_view_module": "@jupyter-widgets/base",
      "_view_module_version": "1.2.0",
      "_view_name": "LayoutView",
      "align_content": null,
      "align_items": null,
      "align_self": null,
      "border": null,
      "bottom": null,
      "display": null,
      "flex": null,
      "flex_flow": null,
      "grid_area": null,
      "grid_auto_columns": null,
      "grid_auto_flow": null,
      "grid_auto_rows": null,
      "grid_column": null,
      "grid_gap": null,
      "grid_row": null,
      "grid_template_areas": null,
      "grid_template_columns": null,
      "grid_template_rows": null,
      "height": null,
      "justify_content": null,
      "justify_items": null,
      "left": null,
      "margin": null,
      "max_height": null,
      "max_width": null,
      "min_height": null,
      "min_width": null,
      "object_fit": null,
      "object_position": null,
      "order": null,
      "overflow": null,
      "overflow_x": null,
      "overflow_y": null,
      "padding": null,
      "right": null,
      "top": null,
      "visibility": null,
      "width": null
     }
    },
    "fe9963fb738c4a6bbd1ecc053b61da4d": {
     "model_module": "@jupyter-widgets/controls",
     "model_name": "ProgressStyleModel",
     "state": {
      "_model_module": "@jupyter-widgets/controls",
      "_model_module_version": "1.5.0",
      "_model_name": "ProgressStyleModel",
      "_view_count": null,
      "_view_module": "@jupyter-widgets/base",
      "_view_module_version": "1.2.0",
      "_view_name": "StyleView",
      "bar_color": null,
      "description_width": "initial"
     }
    }
   }
  }
 },
 "nbformat": 4,
 "nbformat_minor": 4
}
