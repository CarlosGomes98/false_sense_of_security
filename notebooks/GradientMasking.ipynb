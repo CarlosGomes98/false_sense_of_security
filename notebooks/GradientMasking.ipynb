{
 "cells": [
  {
   "cell_type": "code",
   "execution_count": 1,
   "metadata": {},
   "outputs": [],
   "source": [
    "import argparse\n",
    "import tqdm\n",
    "import numpy as np\n",
    "import torch\n",
    "import torch.nn as nn\n",
    "import torch.nn.functional as F\n",
    "import torch.optim as optim\n",
    "from torchvision import datasets, transforms, models\n",
    "from torch.optim.lr_scheduler import StepLR\n",
    "import matplotlib.pyplot as plt\n",
    "from foolbox import PyTorchModel, accuracy, samples\n",
    "from foolbox.attacks import LinfPGD, FGSM\n",
    "from advertorch.attacks import LinfSPSAAttack\n",
    "from trainers import Trainer, FGSMTrainer\n",
    "from robustbench.model_zoo.models import Carmon2019UnlabeledNet\n",
    "from utils import adversarial_accuracy, fgsm_\n",
    "import eagerpy as ep\n",
    "from Nets import CIFAR_Wide_Res_Net, CIFAR_Res_Net, CIFAR_Net\n",
    "from gradient_masking_tests import run_masking_benchmarks\n",
    "%load_ext autoreload\n",
    "%autoreload 2\n",
    "%aimport Nets, trainers"
   ]
  },
  {
   "cell_type": "markdown",
   "metadata": {},
   "source": [
    "## Setup to import trained CIFAR-10 Models"
   ]
  },
  {
   "cell_type": "code",
   "execution_count": 2,
   "metadata": {},
   "outputs": [
    {
     "name": "stdout",
     "output_type": "stream",
     "text": [
      "Files already downloaded and verified\n",
      "Files already downloaded and verified\n"
     ]
    }
   ],
   "source": [
    "# setup\n",
    "device = torch.device(\"cuda\")\n",
    "batch_size = 32\n",
    "# remove the normalize\n",
    "transform = transform = transforms.Compose(\n",
    "            [transforms.ToTensor()]\n",
    ")\n",
    "        \n",
    "normalized_min = (0 - 0.5) / 0.5\n",
    "normalized_max = (1 - 0.5) / 0.5\n",
    "train_dataset = datasets.CIFAR10(root='./data', train=True,\n",
    "                                download=True, transform=transform)\n",
    "train_loader = torch.utils.data.DataLoader(train_dataset, batch_size=batch_size,\n",
    "                                  shuffle=True, num_workers=2)\n",
    "test_dataset = datasets.CIFAR10(root='./data', train=False,\n",
    "                               download=True, transform=transform)\n",
    "test_loader = torch.utils.data.DataLoader(test_dataset, batch_size=batch_size,\n",
    "                                 shuffle=False, num_workers=2)\n",
    "classes = classes = ('plane', 'car', 'bird', 'cat',\n",
    "   'deer', 'dog', 'frog', 'horse', 'ship', 'truck')"
   ]
  },
  {
   "cell_type": "markdown",
   "metadata": {},
   "source": [
    "## Load Regular CIFAR-10 Model"
   ]
  },
  {
   "cell_type": "code",
   "execution_count": 3,
   "metadata": {
    "scrolled": true
   },
   "outputs": [
    {
     "data": {
      "text/plain": [
       "<All keys matched successfully>"
      ]
     },
     "execution_count": 3,
     "metadata": {},
     "output_type": "execute_result"
    }
   ],
   "source": [
    "model = CIFAR_Net(device).eval()\n",
    "model.load_state_dict(torch.load(\"models/cifar_simple_net_50e.model\"))"
   ]
  },
  {
   "cell_type": "markdown",
   "metadata": {},
   "source": [
    "## Load CIFAR-10 Model trained with large FGSM steps"
   ]
  },
  {
   "cell_type": "code",
   "execution_count": 4,
   "metadata": {},
   "outputs": [
    {
     "data": {
      "text/plain": [
       "<All keys matched successfully>"
      ]
     },
     "execution_count": 4,
     "metadata": {},
     "output_type": "execute_result"
    }
   ],
   "source": [
    "fgsm_model = CIFAR_Net(device).eval()\n",
    "fgsm_model.load_state_dict(torch.load(\"models/cifar_simple_net_fgsm06_50e.model\"))"
   ]
  },
  {
   "cell_type": "markdown",
   "metadata": {},
   "source": [
    "## RESNET Models"
   ]
  },
  {
   "cell_type": "code",
   "execution_count": 39,
   "metadata": {},
   "outputs": [
    {
     "name": "stderr",
     "output_type": "stream",
     "text": [
      "100%|████████████████████████████████████████████████████████████████████████████████| 313/313 [00:04<00:00, 71.73it/s]\n",
      "  0%|                                                                                          | 0/313 [00:00<?, ?it/s]"
     ]
    },
    {
     "name": "stdout",
     "output_type": "stream",
     "text": [
      "Model accuracy: 84.86%\n"
     ]
    },
    {
     "name": "stderr",
     "output_type": "stream",
     "text": [
      "100%|████████████████████████████████████████████████████████████████████████████████| 313/313 [00:11<00:00, 27.88it/s]\n",
      "100%|████████████████████████████████████████████████████████████████████████████████| 313/313 [00:11<00:00, 27.75it/s]\n",
      "100%|████████████████████████████████████████████████████████████████████████████████| 313/313 [00:11<00:00, 27.47it/s]\n",
      "  0%|                                                                                          | 0/313 [00:00<?, ?it/s]"
     ]
    },
    {
     "name": "stdout",
     "output_type": "stream",
     "text": [
      "FGSM attack model accuracy -- eps = 0.006: 36.870000000000005%, eps = 0.03: 4.58%, eps = 0.06: 1.87%\n"
     ]
    },
    {
     "name": "stderr",
     "output_type": "stream",
     "text": [
      "100%|████████████████████████████████████████████████████████████████████████████████| 313/313 [02:21<00:00,  2.21it/s]\n",
      "  0%|                                                                                          | 0/313 [00:00<?, ?it/s]"
     ]
    },
    {
     "name": "stdout",
     "output_type": "stream",
     "text": [
      "PGD accuracy: 0.0%\n"
     ]
    },
    {
     "name": "stderr",
     "output_type": "stream",
     "text": [
      "100%|████████████████████████████████████████████████████████████████████████████████| 313/313 [02:20<00:00,  2.22it/s]\n",
      "  0%|                                                                                           | 0/13 [00:00<?, ?it/s]"
     ]
    },
    {
     "name": "stdout",
     "output_type": "stream",
     "text": [
      "Unbounded PGD model accuracy: 0.0%\n"
     ]
    },
    {
     "name": "stderr",
     "output_type": "stream",
     "text": [
      "100%|██████████████████████████████████████████████████████████████████████████████████| 13/13 [00:35<00:00,  2.71s/it]"
     ]
    },
    {
     "name": "stdout",
     "output_type": "stream",
     "text": [
      "SPSA accuracy: 15.0%\n"
     ]
    },
    {
     "name": "stderr",
     "output_type": "stream",
     "text": [
      "\n"
     ]
    }
   ],
   "source": [
    "run_masking_benchmarks(model, test_dataset, epsilon=0.06, device=device, batch_size=batch_size)"
   ]
  },
  {
   "cell_type": "code",
   "execution_count": 40,
   "metadata": {},
   "outputs": [
    {
     "name": "stderr",
     "output_type": "stream",
     "text": [
      "100%|████████████████████████████████████████████████████████████████████████████████| 313/313 [00:04<00:00, 73.58it/s]\n",
      "100%|████████████████████████████████████████████████████████████████████████████████| 313/313 [00:11<00:00, 27.77it/s]\n",
      "100%|████████████████████████████████████████████████████████████████████████████████| 313/313 [00:11<00:00, 27.85it/s]\n",
      "100%|████████████████████████████████████████████████████████████████████████████████| 313/313 [00:11<00:00, 27.87it/s]\n",
      "100%|████████████████████████████████████████████████████████████████████████████████| 313/313 [02:21<00:00,  2.22it/s]\n",
      "100%|████████████████████████████████████████████████████████████████████████████████| 313/313 [02:21<00:00,  2.21it/s]\n",
      "100%|██████████████████████████████████████████████████████████████████████████████████| 13/13 [00:35<00:00,  2.71s/it]"
     ]
    },
    {
     "name": "stdout",
     "output_type": "stream",
     "text": [
      "Model accuracy: 72.53%\n",
      "FGSM attack model accuracy -- eps = 0.006: 10.299999999999999%, eps = 0.03: 73.95%, eps = 0.06: 85.24000000000001%\n",
      "Gradient Masking Warning: Increasing epsilon did not improve the attack!!\n",
      "PGD accuracy: 0.0%\n",
      "Unbounded PGD model accuracy: 0.0%\n",
      "SPSA accuracy: 5.0%\n",
      "Gradient Masking Warning: Black Box attack was stronger than FGSM attack!!\n"
     ]
    },
    {
     "name": "stderr",
     "output_type": "stream",
     "text": [
      "\n"
     ]
    }
   ],
   "source": [
    "run_masking_benchmarks(fgsm_model, test_dataset, epsilon=0.06, device=device, batch_size=batch_size)"
   ]
  },
  {
   "cell_type": "markdown",
   "metadata": {},
   "source": [
    "## Simple models"
   ]
  },
  {
   "cell_type": "code",
   "execution_count": 5,
   "metadata": {},
   "outputs": [
    {
     "name": "stderr",
     "output_type": "stream",
     "text": [
      "100%|████████████████████████████████████████████████████████████████████████████████| 313/313 [00:11<00:00, 27.69it/s]\n",
      "100%|████████████████████████████████████████████████████████████████████████████████| 313/313 [00:03<00:00, 83.72it/s]\n",
      "100%|████████████████████████████████████████████████████████████████████████████████| 313/313 [00:03<00:00, 97.52it/s]\n",
      "100%|████████████████████████████████████████████████████████████████████████████████| 313/313 [00:03<00:00, 99.24it/s]\n",
      "100%|████████████████████████████████████████████████████████████████████████████████| 313/313 [00:18<00:00, 16.63it/s]\n",
      "100%|████████████████████████████████████████████████████████████████████████████████| 313/313 [00:18<00:00, 16.84it/s]\n",
      "100%|██████████████████████████████████████████████████████████████████████████████████| 13/13 [00:04<00:00,  3.03it/s]"
     ]
    },
    {
     "name": "stdout",
     "output_type": "stream",
     "text": [
      "Model accuracy: 68.76%\n",
      "FGSM attack model accuracy -- eps = 0.006: 35.5%, eps = 0.03: 19.23%, eps = 0.06: 16.07%\n",
      "PGD accuracy: 2.1%\n",
      "Unbounded PGD model accuracy: 0.0%\n",
      "SPSA accuracy: 24.0%\n"
     ]
    },
    {
     "name": "stderr",
     "output_type": "stream",
     "text": [
      "\n"
     ]
    }
   ],
   "source": [
    "run_masking_benchmarks(model, test_dataset, epsilon=0.06, device=device, batch_size=batch_size)"
   ]
  },
  {
   "cell_type": "code",
   "execution_count": 6,
   "metadata": {},
   "outputs": [
    {
     "name": "stderr",
     "output_type": "stream",
     "text": [
      "100%|███████████████████████████████████████████████████████████████████████████████| 313/313 [00:02<00:00, 143.94it/s]\n",
      "100%|████████████████████████████████████████████████████████████████████████████████| 313/313 [00:03<00:00, 98.21it/s]\n",
      "100%|████████████████████████████████████████████████████████████████████████████████| 313/313 [00:03<00:00, 99.41it/s]\n",
      "100%|████████████████████████████████████████████████████████████████████████████████| 313/313 [00:03<00:00, 99.13it/s]\n",
      "100%|████████████████████████████████████████████████████████████████████████████████| 313/313 [00:19<00:00, 15.98it/s]\n",
      "100%|████████████████████████████████████████████████████████████████████████████████| 313/313 [00:19<00:00, 16.43it/s]\n",
      "100%|██████████████████████████████████████████████████████████████████████████████████| 13/13 [00:04<00:00,  2.95it/s]"
     ]
    },
    {
     "name": "stdout",
     "output_type": "stream",
     "text": [
      "Model accuracy: 48.16%\n",
      "FGSM attack model accuracy -- eps = 0.006: 46.52%, eps = 0.03: 36.230000000000004%, eps = 0.06: 27.529999999999998%\n",
      "PGD accuracy: 21.88%\n",
      "Unbounded PGD model accuracy: 0.0%\n",
      "SPSA accuracy: 31.0%\n"
     ]
    },
    {
     "name": "stderr",
     "output_type": "stream",
     "text": [
      "\n"
     ]
    }
   ],
   "source": [
    "run_masking_benchmarks(fgsm_model, test_dataset, epsilon=0.06, device=device, batch_size=batch_size)"
   ]
  }
 ],
 "metadata": {
  "kernelspec": {
   "display_name": "Python 3",
   "language": "python",
   "name": "python3"
  },
  "language_info": {
   "codemirror_mode": {
    "name": "ipython",
    "version": 3
   },
   "file_extension": ".py",
   "mimetype": "text/x-python",
   "name": "python",
   "nbconvert_exporter": "python",
   "pygments_lexer": "ipython3",
   "version": "3.8.5"
  }
 },
 "nbformat": 4,
 "nbformat_minor": 4
}
