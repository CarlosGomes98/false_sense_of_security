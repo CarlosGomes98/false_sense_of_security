{
 "cells": [
  {
   "cell_type": "code",
   "execution_count": 72,
   "metadata": {},
   "outputs": [
    {
     "name": "stdout",
     "output_type": "stream",
     "text": [
      "The autoreload extension is already loaded. To reload it, use:\n",
      "  %reload_ext autoreload\n"
     ]
    }
   ],
   "source": [
    "import argparse\n",
    "import math\n",
    "import tqdm\n",
    "import pandas as pd\n",
    "import numpy as np\n",
    "import matplotlib.pyplot as plt\n",
    "import seaborn as sns\n",
    "import torch\n",
    "import torch.nn as nn\n",
    "import torch.nn.functional as F\n",
    "import torch.optim as optim\n",
    "from torchvision import datasets, transforms, models\n",
    "from torch.optim.lr_scheduler import StepLR\n",
    "from foolbox import PyTorchModel, accuracy, samples\n",
    "from foolbox.attacks import LinfPGD, FGSM\n",
    "from advertorch.attacks import LinfSPSAAttack\n",
    "from src.trainers import Trainer, FGSMTrainer\n",
    "from robustbench.model_zoo.models import Carmon2019UnlabeledNet\n",
    "from src.utils import adversarial_accuracy, fgsm_, compare_models_on_measure\n",
    "from src.gradient_masking_tests import gradient_norm, fgsm_pgd_cos_dif, multi_scale_fgsm, gradient_information, linearization_error\n",
    "import eagerpy as ep\n",
    "from src.Nets import CIFAR_Wide_Res_Net, CIFAR_Res_Net, CIFAR_Net, CUREResNet18\n",
    "%load_ext autoreload\n",
    "%autoreload 2\n",
    "%aimport src.Nets, src.trainers, src.gradient_masking_tests"
   ]
  },
  {
   "cell_type": "code",
   "execution_count": 15,
   "metadata": {},
   "outputs": [
    {
     "name": "stdout",
     "output_type": "stream",
     "text": [
      "Files already downloaded and verified\n",
      "Files already downloaded and verified\n"
     ]
    }
   ],
   "source": [
    "# setup\n",
    "device = torch.device(\"cpu\")\n",
    "batch_size = 128\n",
    "# remove the normalize\n",
    "transform = transform = transforms.Compose(\n",
    "            [transforms.ToTensor()]\n",
    ")\n",
    "        \n",
    "normalized_min = (0 - 0.5) / 0.5\n",
    "normalized_max = (1 - 0.5) / 0.5\n",
    "train_dataset = datasets.CIFAR10(root='../data', train=True,\n",
    "                                download=True, transform=transform)\n",
    "train_loader = torch.utils.data.DataLoader(train_dataset, batch_size=batch_size,\n",
    "                                  shuffle=True, num_workers=2)\n",
    "test_dataset = datasets.CIFAR10(root='../data', train=False,\n",
    "                               download=True, transform=transform)\n",
    "test_loader = torch.utils.data.DataLoader(test_dataset, batch_size=batch_size,\n",
    "                                 shuffle=False, num_workers=2)\n",
    "classes = classes = ('plane', 'car', 'bird', 'cat',\n",
    "   'deer', 'dog', 'frog', 'horse', 'ship', 'truck')"
   ]
  },
  {
   "cell_type": "markdown",
   "metadata": {},
   "source": [
    "## Load CIFAR-10 models"
   ]
  },
  {
   "cell_type": "code",
   "execution_count": 74,
   "metadata": {},
   "outputs": [],
   "source": [
    "# # Regular CIFAR-10  ResNet Model\n",
    "model = CIFAR_Res_Net().eval().to(device)\n",
    "model.load_state_dict(torch.load(\"../models/normal_20e.model\", map_location=device))\n",
    "# CIFAR-10  ResNet Model trained with pgd 03\n",
    "pgd_model = CIFAR_Res_Net().to(device).eval()\n",
    "pgd_model.load_state_dict(torch.load(\"../models/pgd_e8_20e.model\", map_location=device))\n",
    "#CIFAR-10  ResNet Model trained with pgd 06\n",
    "pgd_model_6 = CIFAR_Res_Net().to(device).eval()\n",
    "pgd_model_6.load_state_dict(torch.load(\"../models/pgd_e16_20e.model\", map_location=device))\n",
    "#CIFAR-10  ResNet Model trained with large FGSM steps\n",
    "fgsm_model = CIFAR_Res_Net().to(device).eval()\n",
    "fgsm_model.load_state_dict(torch.load(\"../models/fgsm_e16_20e.model\", map_location=device))\n",
    "# # # # CIFAR-10  ResNet Model trained with small FGSM steps\n",
    "fgsm_model_small = CIFAR_Res_Net().to(device).eval()\n",
    "fgsm_model_small.load_state_dict(torch.load(\"../models/fgsm_e8_20e.model\", map_location=device))\n",
    "# # # CIFAR-10  ResNet Model trained with large Step-ll steps\n",
    "step_ll_model = CIFAR_Res_Net().to(device).eval()\n",
    "step_ll_model.load_state_dict(torch.load(\"../models/step_ll_e16_20e.model\", map_location=device))\n",
    "# # # CIFAR-10  ResNet Model trained with small Step-ll steps\n",
    "step_ll_model_small = CIFAR_Res_Net().to(device).eval()\n",
    "step_ll_model_small.load_state_dict(torch.load(\"../models/step_ll_e8_20e.model\", map_location=device))\n",
    "# # CIFAR-10  ResNet Model trained through Jacobian regularization ld0.1\n",
    "jac_norm_model = CIFAR_Res_Net().to(device).eval()\n",
    "jac_norm_model.load_state_dict(torch.load(\"../models/grad_reg_ld01_20e.model\", map_location=device))\n",
    "## Pretrained CIFAR-10 RESNET trained using CURE\n",
    "cure = CUREResNet18().to(device).eval()\n",
    "cure[1].load_state_dict(torch.load(\"../models/RN18_CURE.pth\", map_location=device)['net'])\n",
    "\n",
    "models = [model, step_ll_model, step_ll_model_small, fgsm_model, fgsm_model_small, pgd_model_6, pgd_model, jac_norm_model, cure]\n",
    "names = ['normal', 'step ll', 'step ll small', 'fgsm', 'fgsm small', 'pgd', 'pgd small', 'grad norm', 'cure']"
   ]
  },
  {
   "cell_type": "markdown",
   "metadata": {},
   "source": [
    "### Check gradient norms\n",
    "Gradients seem to blow up after FGSM training"
   ]
  },
  {
   "cell_type": "code",
   "execution_count": 11,
   "metadata": {},
   "outputs": [],
   "source": [
    "subset_size = 5000\n",
    "train_subset = torch.utils.data.Subset(train_dataset, np.random.randint(0, len(train_dataset), size=subset_size).tolist())\n",
    "train_subset_loader = torch.utils.data.DataLoader(train_subset, batch_size=batch_size,\n",
    "                                 shuffle=False, num_workers=2)\n",
    "\n",
    "test_subset = torch.utils.data.Subset(test_dataset, np.random.randint(0, len(test_dataset), size=subset_size).tolist())\n",
    "test_subset_loader = torch.utils.data.DataLoader(test_subset, batch_size=batch_size,\n",
    "                                 shuffle=False, num_workers=2)"
   ]
  },
  {
   "cell_type": "code",
   "execution_count": 12,
   "metadata": {},
   "outputs": [],
   "source": [
    "def show_grad_histogram(model, data_loader, device='cpu'):\n",
    "    norm = gradient_norm(model, data_loader, device=device).detach().cpu().numpy()\n",
    "    plt.hist(norm, bins=100)\n",
    "    plt.show()\n",
    "    print(\"Max: {}, Min: {}, Mean: {}, Median: {}\".format(norm.max(), norm.min(), norm.mean(), np.median(norm)))\n",
    "\n",
    "def compare_models_grad(models, labels, data_loader, device='cpu', height=2):\n",
    "    norms = [gradient_norm(model, data_loader, device=device).detach().cpu().numpy() for model in models]\n",
    "    width = math.ceil(len(models)/height)\n",
    "    fig, ax = plt.subplots(height, width, figsize=(15, 15))\n",
    "    for index, norm in enumerate(norms):\n",
    "        axis = ax[index//width, index%width]\n",
    "        axis.hist(norm, bins=100)\n",
    "        axis.set_title(labels[index])\n",
    "        axis.text(0.5, -0.13, \"Max: {:.6f}, Min: {:.6f}, \\nMean: {:.6f}, Median: {:.6f}\".format(norm.max().item(), norm.min().item(), norm.mean().item(), np.median(norm).item()),\n",
    "                                            size=12, ha=\"center\", transform=axis.transAxes)\n",
    "    plt.show()"
   ]
  },
  {
   "cell_type": "markdown",
   "metadata": {},
   "source": [
    "### Using train dataset"
   ]
  },
  {
   "cell_type": "code",
   "execution_count": null,
   "metadata": {},
   "outputs": [],
   "source": [
    "compare_models_on_measure(gradient_norm, models, names, train_subset_loader, device=device, height=3)"
   ]
  },
  {
   "cell_type": "markdown",
   "metadata": {},
   "source": [
    "### Using test dataset"
   ]
  },
  {
   "cell_type": "code",
   "execution_count": null,
   "metadata": {},
   "outputs": [],
   "source": [
    "compare_models_on_measure(gradient_norm, models, names, test_subset_loader, device=device, height=3)"
   ]
  },
  {
   "cell_type": "markdown",
   "metadata": {},
   "source": [
    "## Cosine difference between FGSM and PGD"
   ]
  },
  {
   "cell_type": "markdown",
   "metadata": {},
   "source": [
    "### Using train dataset"
   ]
  },
  {
   "cell_type": "markdown",
   "metadata": {},
   "source": [
    "#### Normal model"
   ]
  },
  {
   "cell_type": "code",
   "execution_count": 6,
   "metadata": {},
   "outputs": [
    {
     "data": {
      "application/vnd.jupyter.widget-view+json": {
       "model_id": "4a3aa87091c647cfafa917e432ec4990",
       "version_major": 2,
       "version_minor": 0
      },
      "text/plain": [
       "HBox(children=(HTML(value=''), FloatProgress(value=0.0, max=40.0), HTML(value='')))"
      ]
     },
     "metadata": {},
     "output_type": "display_data"
    },
    {
     "name": "stdout",
     "output_type": "stream",
     "text": [
      "\n",
      "Epsilon = 0.03:\n",
      "Mean Cosine Difference: 0.3335760533809662, Mean Cosine Difference when FGSM does not succeed but PGD does: 0.2772107720375061, Mean l2 Distance: 1.7560908794403076\n",
      "FGSM success: 0.9501999616622925, PGD Success: 1.0, Rescaled FGSM success: 0.939799964427948\n"
     ]
    },
    {
     "data": {
      "application/vnd.jupyter.widget-view+json": {
       "model_id": "e3f1449dccba440ab184c48d534149df",
       "version_major": 2,
       "version_minor": 0
      },
      "text/plain": [
       "HBox(children=(HTML(value=''), FloatProgress(value=0.0, max=40.0), HTML(value='')))"
      ]
     },
     "metadata": {},
     "output_type": "display_data"
    },
    {
     "name": "stdout",
     "output_type": "stream",
     "text": [
      "\n",
      "Epsilon = 0.06:\n",
      "Mean Cosine Difference: 0.204548642039299, Mean Cosine Difference when FGSM does not succeed but PGD does: 0.1350550800561905, Mean l2 Distance: 3.771761178970337\n",
      "FGSM success: 0.9829999804496765, PGD Success: 1.0, Rescaled FGSM success: 0.9783999919891357\n"
     ]
    }
   ],
   "source": [
    "fgsm_pgd_cos_dif(model, train_dataset, epsilons=[0.03, 0.06], device=device, batch_size=batch_size, subset_size=5000, n_steps_pgd=20)"
   ]
  },
  {
   "cell_type": "markdown",
   "metadata": {},
   "source": [
    "#### FGSM Model"
   ]
  },
  {
   "cell_type": "code",
   "execution_count": 8,
   "metadata": {},
   "outputs": [
    {
     "data": {
      "application/vnd.jupyter.widget-view+json": {
       "model_id": "3f58bf4420254d9d8e5cabe328e6c9a6",
       "version_major": 2,
       "version_minor": 0
      },
      "text/plain": [
       "HBox(children=(HTML(value=''), FloatProgress(value=0.0, max=40.0), HTML(value='')))"
      ]
     },
     "metadata": {},
     "output_type": "display_data"
    },
    {
     "name": "stdout",
     "output_type": "stream",
     "text": [
      "\n",
      "Epsilon = 0.03:\n",
      "Mean Cosine Difference: 0.09495557099580765, Mean Cosine Difference when FGSM does not succeed but PGD does: 0.07238291203975677, Mean l2 Distance: 1.93947434425354\n",
      "FGSM success: 0.13699999451637268, PGD Success: 1.0, Rescaled FGSM success: 0.46959999203681946\n"
     ]
    },
    {
     "data": {
      "application/vnd.jupyter.widget-view+json": {
       "model_id": "498f0b39b2b84cafba18f70ec9bd4e2d",
       "version_major": 2,
       "version_minor": 0
      },
      "text/plain": [
       "HBox(children=(HTML(value=''), FloatProgress(value=0.0, max=40.0), HTML(value='')))"
      ]
     },
     "metadata": {},
     "output_type": "display_data"
    },
    {
     "name": "stdout",
     "output_type": "stream",
     "text": [
      "\n",
      "Epsilon = 0.06:\n",
      "Mean Cosine Difference: 0.029067358002066612, Mean Cosine Difference when FGSM does not succeed but PGD does: 0.030301837250590324, Mean l2 Distance: 3.941718578338623\n",
      "FGSM success: 0.0543999969959259, PGD Success: 1.0, Rescaled FGSM success: 0.04099999740719795\n"
     ]
    }
   ],
   "source": [
    "fgsm_pgd_cos_dif(fgsm_model, train_dataset, epsilons=[0.03, 0.06], device=device, batch_size=batch_size, subset_size=5000, n_steps_pgd=20)"
   ]
  },
  {
   "cell_type": "markdown",
   "metadata": {},
   "source": [
    "#### FGSM Model small steps"
   ]
  },
  {
   "cell_type": "code",
   "execution_count": 7,
   "metadata": {},
   "outputs": [
    {
     "data": {
      "application/vnd.jupyter.widget-view+json": {
       "model_id": "d96d65bc078344e8bfa4bb47edf382af",
       "version_major": 2,
       "version_minor": 0
      },
      "text/plain": [
       "HBox(children=(HTML(value=''), FloatProgress(value=0.0, max=40.0), HTML(value='')))"
      ]
     },
     "metadata": {},
     "output_type": "display_data"
    },
    {
     "name": "stdout",
     "output_type": "stream",
     "text": [
      "\n",
      "Epsilon = 0.03:\n",
      "Mean Cosine Difference: 0.6148859858512878, Mean Cosine Difference when FGSM does not succeed but PGD does: 0.5915178656578064, Mean l2 Distance: 1.3246660232543945\n",
      "FGSM success: 0.16599999368190765, PGD Success: 0.2507999837398529, Rescaled FGSM success: 0.1607999950647354\n"
     ]
    },
    {
     "data": {
      "application/vnd.jupyter.widget-view+json": {
       "model_id": "33a487034a73428baa91f46b7893b9ca",
       "version_major": 2,
       "version_minor": 0
      },
      "text/plain": [
       "HBox(children=(HTML(value=''), FloatProgress(value=0.0, max=40.0), HTML(value='')))"
      ]
     },
     "metadata": {},
     "output_type": "display_data"
    },
    {
     "name": "stdout",
     "output_type": "stream",
     "text": [
      "\n",
      "Epsilon = 0.06:\n",
      "Mean Cosine Difference: 0.4654251039028168, Mean Cosine Difference when FGSM does not succeed but PGD does: 0.4688422977924347, Mean l2 Distance: 3.2853798866271973\n",
      "FGSM success: 0.5525999665260315, PGD Success: 0.8509999513626099, Rescaled FGSM success: 0.515999972820282\n"
     ]
    }
   ],
   "source": [
    "fgsm_pgd_cos_dif(fgsm_model_small, train_dataset, epsilons=[0.03, 0.06], device=device, batch_size=batch_size, subset_size=5000, n_steps_pgd=20)"
   ]
  },
  {
   "cell_type": "markdown",
   "metadata": {},
   "source": [
    "#### PGD Model"
   ]
  },
  {
   "cell_type": "code",
   "execution_count": 15,
   "metadata": {},
   "outputs": [
    {
     "data": {
      "application/vnd.jupyter.widget-view+json": {
       "model_id": "00b7334eec3a4979a3c3aefb152e65a8",
       "version_major": 2,
       "version_minor": 0
      },
      "text/plain": [
       "HBox(children=(HTML(value=''), FloatProgress(value=0.0, max=40.0), HTML(value='')))"
      ]
     },
     "metadata": {},
     "output_type": "display_data"
    },
    {
     "name": "stdout",
     "output_type": "stream",
     "text": [
      "\n",
      "Epsilon = 0.03:\n",
      "Mean Cosine Difference: 0.735053539276123, Mean Cosine Difference when FGSM does not succeed but PGD does: 0.7200735807418823, Mean l2 Distance: 1.2345870733261108\n",
      "FGSM success: 0.5026000142097473, PGD Success: 0.5113999843597412, Rescaled FGSM success: 0.5005999803543091\n"
     ]
    },
    {
     "data": {
      "application/vnd.jupyter.widget-view+json": {
       "model_id": "968ccb1e38ff404f95830863f4988172",
       "version_major": 2,
       "version_minor": 0
      },
      "text/plain": [
       "HBox(children=(HTML(value=''), FloatProgress(value=0.0, max=40.0), HTML(value='')))"
      ]
     },
     "metadata": {},
     "output_type": "display_data"
    },
    {
     "name": "stdout",
     "output_type": "stream",
     "text": [
      "\n",
      "Epsilon = 0.06:\n",
      "Mean Cosine Difference: 0.6044542789459229, Mean Cosine Difference when FGSM does not succeed but PGD does: 0.5940747857093811, Mean l2 Distance: 2.7045068740844727\n",
      "FGSM success: 0.616599977016449, PGD Success: 0.6759999990463257, Rescaled FGSM success: 0.6083999872207642\n"
     ]
    }
   ],
   "source": [
    "fgsm_pgd_cos_dif(pgd_model_6, train_dataset, epsilons=[0.03, 0.06], device=device, batch_size=batch_size, subset_size=5000, n_steps_pgd=20)"
   ]
  },
  {
   "cell_type": "markdown",
   "metadata": {},
   "source": [
    "#### PGD Model small steps"
   ]
  },
  {
   "cell_type": "code",
   "execution_count": 16,
   "metadata": {},
   "outputs": [
    {
     "data": {
      "application/vnd.jupyter.widget-view+json": {
       "model_id": "2f305d9d2e5f4da08d4202c2cf2c26fa",
       "version_major": 2,
       "version_minor": 0
      },
      "text/plain": [
       "HBox(children=(HTML(value=''), FloatProgress(value=0.0, max=40.0), HTML(value='')))"
      ]
     },
     "metadata": {},
     "output_type": "display_data"
    },
    {
     "name": "stdout",
     "output_type": "stream",
     "text": [
      "\n",
      "Epsilon = 0.03:\n",
      "Mean Cosine Difference: 0.629551887512207, Mean Cosine Difference when FGSM does not succeed but PGD does: 0.5887507200241089, Mean l2 Distance: 1.4309372901916504\n",
      "FGSM success: 0.1785999983549118, PGD Success: 0.2629999816417694, Rescaled FGSM success: 0.17479999363422394\n"
     ]
    },
    {
     "data": {
      "application/vnd.jupyter.widget-view+json": {
       "model_id": "83d91dd9c82c44bf84ec9fec0c8efd4a",
       "version_major": 2,
       "version_minor": 0
      },
      "text/plain": [
       "HBox(children=(HTML(value=''), FloatProgress(value=0.0, max=40.0), HTML(value='')))"
      ]
     },
     "metadata": {},
     "output_type": "display_data"
    },
    {
     "name": "stdout",
     "output_type": "stream",
     "text": [
      "\n",
      "Epsilon = 0.06:\n",
      "Mean Cosine Difference: 0.4690273106098175, Mean Cosine Difference when FGSM does not succeed but PGD does: 0.47609037160873413, Mean l2 Distance: 3.121513843536377\n",
      "FGSM success: 0.5090000033378601, PGD Success: 0.8068000078201294, Rescaled FGSM success: 0.47839999198913574\n"
     ]
    }
   ],
   "source": [
    "fgsm_pgd_cos_dif(pgd_model, train_dataset, epsilons=[0.03, 0.06], device=device, batch_size=batch_size, subset_size=5000, n_steps_pgd=20)"
   ]
  },
  {
   "cell_type": "markdown",
   "metadata": {},
   "source": [
    "#### Gradient Regularization Model"
   ]
  },
  {
   "cell_type": "code",
   "execution_count": 17,
   "metadata": {},
   "outputs": [
    {
     "data": {
      "application/vnd.jupyter.widget-view+json": {
       "model_id": "54769841da9f48c2b56b29053108ef92",
       "version_major": 2,
       "version_minor": 0
      },
      "text/plain": [
       "HBox(children=(HTML(value=''), FloatProgress(value=0.0, max=40.0), HTML(value='')))"
      ]
     },
     "metadata": {},
     "output_type": "display_data"
    },
    {
     "name": "stdout",
     "output_type": "stream",
     "text": [
      "\n",
      "Epsilon = 0.03:\n",
      "Mean Cosine Difference: 0.6795960664749146, Mean Cosine Difference when FGSM does not succeed but PGD does: 0.7039350271224976, Mean l2 Distance: 1.1962990760803223\n",
      "FGSM success: 0.7325999736785889, PGD Success: 0.7907999753952026, Rescaled FGSM success: 0.7245999574661255\n"
     ]
    },
    {
     "data": {
      "application/vnd.jupyter.widget-view+json": {
       "model_id": "395bdcdacab94913a57bb1a5ce90721e",
       "version_major": 2,
       "version_minor": 0
      },
      "text/plain": [
       "HBox(children=(HTML(value=''), FloatProgress(value=0.0, max=40.0), HTML(value='')))"
      ]
     },
     "metadata": {},
     "output_type": "display_data"
    },
    {
     "name": "stdout",
     "output_type": "stream",
     "text": [
      "\n",
      "Epsilon = 0.06:\n",
      "Mean Cosine Difference: 0.48964768648147583, Mean Cosine Difference when FGSM does not succeed but PGD does: 0.5596106648445129, Mean l2 Distance: 3.055312156677246\n",
      "FGSM success: 0.9345999956130981, PGD Success: 0.9839999675750732, Rescaled FGSM success: 0.9273999929428101\n"
     ]
    }
   ],
   "source": [
    "fgsm_pgd_cos_dif(jac_norm_model, train_dataset, epsilons=[0.03, 0.06], device=device, batch_size=batch_size, subset_size=5000, n_steps_pgd=20)"
   ]
  },
  {
   "cell_type": "markdown",
   "metadata": {},
   "source": [
    "#### Step-ll Model"
   ]
  },
  {
   "cell_type": "code",
   "execution_count": 8,
   "metadata": {},
   "outputs": [
    {
     "data": {
      "application/vnd.jupyter.widget-view+json": {
       "model_id": "891f37dfbbb742bcbb74b8a1bf4b7e36",
       "version_major": 2,
       "version_minor": 0
      },
      "text/plain": [
       "HBox(children=(HTML(value=''), FloatProgress(value=0.0, max=40.0), HTML(value='')))"
      ]
     },
     "metadata": {},
     "output_type": "display_data"
    },
    {
     "name": "stdout",
     "output_type": "stream",
     "text": [
      "\n",
      "Epsilon = 0.03:\n",
      "Mean Cosine Difference: 0.24079076945781708, Mean Cosine Difference when FGSM does not succeed but PGD does: 0.22432973980903625, Mean l2 Distance: 1.8763231039047241\n",
      "FGSM success: 0.006199999712407589, PGD Success: 0.8769999742507935, Rescaled FGSM success: 0.020600000396370888\n"
     ]
    },
    {
     "data": {
      "application/vnd.jupyter.widget-view+json": {
       "model_id": "9c53327a426a45f8952086f8cb3e28f8",
       "version_major": 2,
       "version_minor": 0
      },
      "text/plain": [
       "HBox(children=(HTML(value=''), FloatProgress(value=0.0, max=40.0), HTML(value='')))"
      ]
     },
     "metadata": {},
     "output_type": "display_data"
    },
    {
     "name": "stdout",
     "output_type": "stream",
     "text": [
      "\n",
      "Epsilon = 0.06:\n",
      "Mean Cosine Difference: 0.14389684796333313, Mean Cosine Difference when FGSM does not succeed but PGD does: 0.12367715686559677, Mean l2 Distance: 3.8352019786834717\n",
      "FGSM success: 0.006399999838322401, PGD Success: 0.9923999905586243, Rescaled FGSM success: 0.0037999998312443495\n"
     ]
    },
    {
     "ename": "TypeError",
     "evalue": "cannot unpack non-iterable NoneType object",
     "output_type": "error",
     "traceback": [
      "\u001b[1;31m---------------------------------------------------------------------------\u001b[0m",
      "\u001b[1;31mTypeError\u001b[0m                                 Traceback (most recent call last)",
      "\u001b[1;32m<ipython-input-8-b4f66ba24f14>\u001b[0m in \u001b[0;36m<module>\u001b[1;34m\u001b[0m\n\u001b[1;32m----> 1\u001b[1;33m \u001b[0mcos_dif\u001b[0m\u001b[1;33m,\u001b[0m \u001b[0mdist\u001b[0m\u001b[1;33m,\u001b[0m \u001b[0msuccess_fgsm\u001b[0m\u001b[1;33m,\u001b[0m \u001b[0msuccess_pgd\u001b[0m\u001b[1;33m,\u001b[0m \u001b[0msuccess_adjusted_fgsm\u001b[0m \u001b[1;33m=\u001b[0m \u001b[0mfgsm_pgd_cos_dif\u001b[0m\u001b[1;33m(\u001b[0m\u001b[0mstep_ll_model\u001b[0m\u001b[1;33m,\u001b[0m \u001b[0mtrain_dataset\u001b[0m\u001b[1;33m,\u001b[0m \u001b[0mepsilons\u001b[0m\u001b[1;33m=\u001b[0m\u001b[1;33m[\u001b[0m\u001b[1;36m0.03\u001b[0m\u001b[1;33m,\u001b[0m \u001b[1;36m0.06\u001b[0m\u001b[1;33m]\u001b[0m\u001b[1;33m,\u001b[0m \u001b[0mdevice\u001b[0m\u001b[1;33m=\u001b[0m\u001b[0mdevice\u001b[0m\u001b[1;33m,\u001b[0m \u001b[0mbatch_size\u001b[0m\u001b[1;33m=\u001b[0m\u001b[0mbatch_size\u001b[0m\u001b[1;33m,\u001b[0m \u001b[0msubset_size\u001b[0m\u001b[1;33m=\u001b[0m\u001b[1;36m5000\u001b[0m\u001b[1;33m,\u001b[0m \u001b[0mn_steps_pgd\u001b[0m\u001b[1;33m=\u001b[0m\u001b[1;36m20\u001b[0m\u001b[1;33m)\u001b[0m\u001b[1;33m\u001b[0m\u001b[1;33m\u001b[0m\u001b[0m\n\u001b[0m",
      "\u001b[1;31mTypeError\u001b[0m: cannot unpack non-iterable NoneType object"
     ]
    }
   ],
   "source": [
    "fgsm_pgd_cos_dif(step_ll_model, train_dataset, epsilons=[0.03, 0.06], device=device, batch_size=batch_size, subset_size=5000, n_steps_pgd=20)"
   ]
  },
  {
   "cell_type": "code",
   "execution_count": 21,
   "metadata": {},
   "outputs": [
    {
     "data": {
      "application/vnd.jupyter.widget-view+json": {
       "model_id": "16c73408df284e87b100249f68612597",
       "version_major": 2,
       "version_minor": 0
      },
      "text/plain": [
       "HBox(children=(HTML(value=''), FloatProgress(value=0.0, max=40.0), HTML(value='')))"
      ]
     },
     "metadata": {},
     "output_type": "display_data"
    },
    {
     "name": "stdout",
     "output_type": "stream",
     "text": [
      "\n",
      "Epsilon = 0.03:\n",
      "Mean Cosine Difference: 0.6243112087249756, Mean Cosine Difference when FGSM does not succeed but PGD does: 0.5855385065078735, Mean l2 Distance: 1.5512077808380127\n",
      "FGSM success: 0.280599981546402, PGD Success: 0.5163999795913696, Rescaled FGSM success: 0.25920000672340393\n"
     ]
    },
    {
     "data": {
      "application/vnd.jupyter.widget-view+json": {
       "model_id": "e144fb275261448d9d6d705d0973142b",
       "version_major": 2,
       "version_minor": 0
      },
      "text/plain": [
       "HBox(children=(HTML(value=''), FloatProgress(value=0.0, max=40.0), HTML(value='')))"
      ]
     },
     "metadata": {},
     "output_type": "display_data"
    },
    {
     "name": "stdout",
     "output_type": "stream",
     "text": [
      "\n",
      "Epsilon = 0.06:\n",
      "Mean Cosine Difference: 0.4667837917804718, Mean Cosine Difference when FGSM does not succeed but PGD does: 0.3519720137119293, Mean l2 Distance: 3.220111131668091\n",
      "FGSM success: 0.7691999673843384, PGD Success: 0.9729999899864197, Rescaled FGSM success: 0.7505999803543091\n"
     ]
    }
   ],
   "source": [
    "fgsm_pgd_cos_dif(step_ll_model_small, train_dataset, epsilons=[0.03, 0.06], device=device, batch_size=batch_size, subset_size=5000, n_steps_pgd=20)"
   ]
  },
  {
   "cell_type": "code",
   "execution_count": 23,
   "metadata": {},
   "outputs": [
    {
     "data": {
      "application/vnd.jupyter.widget-view+json": {
       "model_id": "176ab04ae89147938ebe24cf42cf3943",
       "version_major": 2,
       "version_minor": 0
      },
      "text/plain": [
       "HBox(children=(HTML(value=''), FloatProgress(value=0.0, max=40.0), HTML(value='')))"
      ]
     },
     "metadata": {},
     "output_type": "display_data"
    },
    {
     "name": "stdout",
     "output_type": "stream",
     "text": [
      "\n",
      "Epsilon = 0.03:\n",
      "Mean Cosine Difference: 0.7266350388526917, Mean Cosine Difference when FGSM does not succeed but PGD does: 0.7165587544441223, Mean l2 Distance: 1.1422247886657715\n",
      "FGSM success: 0.4477999806404114, PGD Success: 0.5045999884605408, Rescaled FGSM success: 0.4399999976158142\n"
     ]
    },
    {
     "data": {
      "application/vnd.jupyter.widget-view+json": {
       "model_id": "895e647f9c7647e291eea68dfd241763",
       "version_major": 2,
       "version_minor": 0
      },
      "text/plain": [
       "HBox(children=(HTML(value=''), FloatProgress(value=0.0, max=40.0), HTML(value='')))"
      ]
     },
     "metadata": {},
     "output_type": "display_data"
    },
    {
     "name": "stdout",
     "output_type": "stream",
     "text": [
      "\n",
      "Epsilon = 0.06:\n",
      "Mean Cosine Difference: 0.5679991841316223, Mean Cosine Difference when FGSM does not succeed but PGD does: 0.5807271003723145, Mean l2 Distance: 2.9217920303344727\n",
      "FGSM success: 0.8082000017166138, PGD Success: 0.914199948310852, Rescaled FGSM success: 0.7945999503135681\n"
     ]
    }
   ],
   "source": [
    "fgsm_pgd_cos_dif(cure, train_dataset, epsilons=[0.03, 0.06], device=device, batch_size=batch_size, subset_size=5000, n_steps_pgd=20)"
   ]
  },
  {
   "cell_type": "markdown",
   "metadata": {},
   "source": [
    "### Using test dataset"
   ]
  },
  {
   "cell_type": "markdown",
   "metadata": {},
   "source": [
    "#### Normal Model"
   ]
  },
  {
   "cell_type": "code",
   "execution_count": 17,
   "metadata": {},
   "outputs": [
    {
     "data": {
      "application/vnd.jupyter.widget-view+json": {
       "model_id": "bd01bd81924742a2a188e333bc5f6238",
       "version_major": 2,
       "version_minor": 0
      },
      "text/plain": [
       "HBox(children=(HTML(value=''), FloatProgress(value=0.0, max=40.0), HTML(value='')))"
      ]
     },
     "metadata": {},
     "output_type": "display_data"
    },
    {
     "name": "stdout",
     "output_type": "stream",
     "text": [
      "\n",
      "Epsilon = 0.03:\n",
      "Mean Cosine Difference: 0.35395342111587524, Mean Cosine Difference when FGSM does not succeed but PGD does: 0.2613288462162018, Mean l2 Distance: 1.7340483665466309\n",
      "FGSM success: 0.9508000016212463, PGD Success: 1.0, Rescaled FGSM success: 0.9411999583244324\n"
     ]
    },
    {
     "data": {
      "application/vnd.jupyter.widget-view+json": {
       "model_id": "bb89627f4af8482e9adc4f9037b1708f",
       "version_major": 2,
       "version_minor": 0
      },
      "text/plain": [
       "HBox(children=(HTML(value=''), FloatProgress(value=0.0, max=40.0), HTML(value='')))"
      ]
     },
     "metadata": {},
     "output_type": "display_data"
    },
    {
     "name": "stdout",
     "output_type": "stream",
     "text": [
      "\n",
      "Epsilon = 0.06:\n",
      "Mean Cosine Difference: 0.2228918820619583, Mean Cosine Difference when FGSM does not succeed but PGD does: 0.1459217071533203, Mean l2 Distance: 3.7200064659118652\n",
      "FGSM success: 0.9819999933242798, PGD Success: 1.0, Rescaled FGSM success: 0.9789999723434448\n"
     ]
    }
   ],
   "source": [
    "fgsm_pgd_cos_dif(model, test_dataset, epsilons=[0.03, 0.06], device=device, batch_size=batch_size, subset_size=5000, n_steps_pgd=20)"
   ]
  },
  {
   "cell_type": "markdown",
   "metadata": {},
   "source": [
    "#### FGSM Model"
   ]
  },
  {
   "cell_type": "code",
   "execution_count": 18,
   "metadata": {},
   "outputs": [
    {
     "data": {
      "application/vnd.jupyter.widget-view+json": {
       "model_id": "a48d87bcb18a46d49f53553411f31a7a",
       "version_major": 2,
       "version_minor": 0
      },
      "text/plain": [
       "HBox(children=(HTML(value=''), FloatProgress(value=0.0, max=40.0), HTML(value='')))"
      ]
     },
     "metadata": {},
     "output_type": "display_data"
    },
    {
     "name": "stdout",
     "output_type": "stream",
     "text": [
      "\n",
      "Epsilon = 0.03:\n",
      "Mean Cosine Difference: 0.08936622738838196, Mean Cosine Difference when FGSM does not succeed but PGD does: 0.07271866500377655, Mean l2 Distance: 1.9675538539886475\n",
      "FGSM success: 0.2590000033378601, PGD Success: 1.0, Rescaled FGSM success: 0.5521999597549438\n"
     ]
    },
    {
     "data": {
      "application/vnd.jupyter.widget-view+json": {
       "model_id": "065fb6d262094486947f1f0e6fd3aa03",
       "version_major": 2,
       "version_minor": 0
      },
      "text/plain": [
       "HBox(children=(HTML(value=''), FloatProgress(value=0.0, max=40.0), HTML(value='')))"
      ]
     },
     "metadata": {},
     "output_type": "display_data"
    },
    {
     "name": "stdout",
     "output_type": "stream",
     "text": [
      "\n",
      "Epsilon = 0.06:\n",
      "Mean Cosine Difference: 0.03259320184588432, Mean Cosine Difference when FGSM does not succeed but PGD does: 0.029694553464651108, Mean l2 Distance: 3.8834316730499268\n",
      "FGSM success: 0.14219999313354492, PGD Success: 1.0, Rescaled FGSM success: 0.14019998908042908\n"
     ]
    }
   ],
   "source": [
    "fgsm_pgd_cos_dif(fgsm_model, test_dataset, epsilons=[0.03, 0.06], device=device, batch_size=batch_size, subset_size=5000, n_steps_pgd=20)"
   ]
  },
  {
   "cell_type": "markdown",
   "metadata": {},
   "source": [
    "#### PGD Model"
   ]
  },
  {
   "cell_type": "code",
   "execution_count": 18,
   "metadata": {},
   "outputs": [
    {
     "data": {
      "application/vnd.jupyter.widget-view+json": {
       "model_id": "3127557a6a334f54b02ab88acec38878",
       "version_major": 2,
       "version_minor": 0
      },
      "text/plain": [
       "HBox(children=(HTML(value=''), FloatProgress(value=0.0, max=40.0), HTML(value='')))"
      ]
     },
     "metadata": {},
     "output_type": "display_data"
    },
    {
     "name": "stdout",
     "output_type": "stream",
     "text": [
      "\n",
      "Epsilon = 0.03:\n",
      "Mean Cosine Difference: 0.7403298020362854, Mean Cosine Difference when FGSM does not succeed but PGD does: 0.7208808064460754, Mean l2 Distance: 1.171081781387329\n",
      "FGSM success: 0.589199960231781, PGD Success: 0.6001999974250793, Rescaled FGSM success: 0.5884000062942505\n"
     ]
    },
    {
     "data": {
      "application/vnd.jupyter.widget-view+json": {
       "model_id": "47de6f03fbc64271a6e2d04e69ddedd1",
       "version_major": 2,
       "version_minor": 0
      },
      "text/plain": [
       "HBox(children=(HTML(value=''), FloatProgress(value=0.0, max=40.0), HTML(value='')))"
      ]
     },
     "metadata": {},
     "output_type": "display_data"
    },
    {
     "name": "stdout",
     "output_type": "stream",
     "text": [
      "\n",
      "Epsilon = 0.06:\n",
      "Mean Cosine Difference: 0.6173502206802368, Mean Cosine Difference when FGSM does not succeed but PGD does: 0.5966373085975647, Mean l2 Distance: 2.7057061195373535\n",
      "FGSM success: 0.7073999643325806, PGD Success: 0.7577999830245972, Rescaled FGSM success: 0.7017999887466431\n"
     ]
    }
   ],
   "source": [
    "fgsm_pgd_cos_dif(pgd_model_6, test_dataset, epsilons=[0.03, 0.06], device=device, batch_size=batch_size, subset_size=5000, n_steps_pgd=20)"
   ]
  },
  {
   "cell_type": "markdown",
   "metadata": {},
   "source": [
    "#### PGD Model small steps"
   ]
  },
  {
   "cell_type": "code",
   "execution_count": 19,
   "metadata": {},
   "outputs": [
    {
     "data": {
      "application/vnd.jupyter.widget-view+json": {
       "model_id": "c1c31f2a15cf4db3a19855d0a777cd2d",
       "version_major": 2,
       "version_minor": 0
      },
      "text/plain": [
       "HBox(children=(HTML(value=''), FloatProgress(value=0.0, max=40.0), HTML(value='')))"
      ]
     },
     "metadata": {},
     "output_type": "display_data"
    },
    {
     "name": "stdout",
     "output_type": "stream",
     "text": [
      "\n",
      "Epsilon = 0.03:\n",
      "Mean Cosine Difference: 0.6655188202857971, Mean Cosine Difference when FGSM does not succeed but PGD does: 0.6270831227302551, Mean l2 Distance: 1.2524887323379517\n",
      "FGSM success: 0.6273999810218811, PGD Success: 0.6797999739646912, Rescaled FGSM success: 0.6215999722480774\n"
     ]
    },
    {
     "data": {
      "application/vnd.jupyter.widget-view+json": {
       "model_id": "5d8b6b000a8544e699cb6247127ecb86",
       "version_major": 2,
       "version_minor": 0
      },
      "text/plain": [
       "HBox(children=(HTML(value=''), FloatProgress(value=0.0, max=40.0), HTML(value='')))"
      ]
     },
     "metadata": {},
     "output_type": "display_data"
    },
    {
     "name": "stdout",
     "output_type": "stream",
     "text": [
      "\n",
      "Epsilon = 0.06:\n",
      "Mean Cosine Difference: 0.5185705423355103, Mean Cosine Difference when FGSM does not succeed but PGD does: 0.4975077509880066, Mean l2 Distance: 3.373537063598633\n",
      "FGSM success: 0.8255999684333801, PGD Success: 0.9177999496459961, Rescaled FGSM success: 0.8143999576568604\n"
     ]
    }
   ],
   "source": [
    "fgsm_pgd_cos_dif(pgd_model, test_dataset, epsilons=[0.03, 0.06], device=device, batch_size=batch_size, subset_size=5000, n_steps_pgd=20)"
   ]
  },
  {
   "cell_type": "markdown",
   "metadata": {},
   "source": [
    "#### Gradient Regularization Model"
   ]
  },
  {
   "cell_type": "code",
   "execution_count": 20,
   "metadata": {},
   "outputs": [
    {
     "data": {
      "application/vnd.jupyter.widget-view+json": {
       "model_id": "e7b10968c30044989da31fe4ff39b779",
       "version_major": 2,
       "version_minor": 0
      },
      "text/plain": [
       "HBox(children=(HTML(value=''), FloatProgress(value=0.0, max=40.0), HTML(value='')))"
      ]
     },
     "metadata": {},
     "output_type": "display_data"
    },
    {
     "name": "stdout",
     "output_type": "stream",
     "text": [
      "\n",
      "Epsilon = 0.03:\n",
      "Mean Cosine Difference: 0.681378185749054, Mean Cosine Difference when FGSM does not succeed but PGD does: 0.6890079975128174, Mean l2 Distance: 1.242175579071045\n",
      "FGSM success: 0.7545999884605408, PGD Success: 0.8053999543190002, Rescaled FGSM success: 0.7477999925613403\n"
     ]
    },
    {
     "data": {
      "application/vnd.jupyter.widget-view+json": {
       "model_id": "a1df6bd8c1364c7bb8f337e82cfe9ce1",
       "version_major": 2,
       "version_minor": 0
      },
      "text/plain": [
       "HBox(children=(HTML(value=''), FloatProgress(value=0.0, max=40.0), HTML(value='')))"
      ]
     },
     "metadata": {},
     "output_type": "display_data"
    },
    {
     "name": "stdout",
     "output_type": "stream",
     "text": [
      "\n",
      "Epsilon = 0.06:\n",
      "Mean Cosine Difference: 0.48985564708709717, Mean Cosine Difference when FGSM does not succeed but PGD does: 0.5543279051780701, Mean l2 Distance: 3.419525623321533\n",
      "FGSM success: 0.9369999766349792, PGD Success: 0.9813999533653259, Rescaled FGSM success: 0.9315999746322632\n"
     ]
    }
   ],
   "source": [
    "fgsm_pgd_cos_dif(jac_norm_model, test_dataset, epsilons=[0.03, 0.06], device=device, batch_size=batch_size, subset_size=5000, n_steps_pgd=20)"
   ]
  },
  {
   "cell_type": "markdown",
   "metadata": {},
   "source": [
    "#### Step-ll Model"
   ]
  },
  {
   "cell_type": "code",
   "execution_count": 21,
   "metadata": {},
   "outputs": [
    {
     "data": {
      "application/vnd.jupyter.widget-view+json": {
       "model_id": "746eedf3291f4b86977bdf2d2fd4e583",
       "version_major": 2,
       "version_minor": 0
      },
      "text/plain": [
       "HBox(children=(HTML(value=''), FloatProgress(value=0.0, max=40.0), HTML(value='')))"
      ]
     },
     "metadata": {},
     "output_type": "display_data"
    },
    {
     "name": "stdout",
     "output_type": "stream",
     "text": [
      "\n",
      "Epsilon = 0.03:\n",
      "Mean Cosine Difference: 0.23231205344200134, Mean Cosine Difference when FGSM does not succeed but PGD does: 0.2298101782798767, Mean l2 Distance: 1.8700395822525024\n",
      "FGSM success: 0.41920000314712524, PGD Success: 0.9339999556541443, Rescaled FGSM success: 0.45339998602867126\n"
     ]
    },
    {
     "data": {
      "application/vnd.jupyter.widget-view+json": {
       "model_id": "8fd3d6a09c8a4e189ac98ce5ca71eabf",
       "version_major": 2,
       "version_minor": 0
      },
      "text/plain": [
       "HBox(children=(HTML(value=''), FloatProgress(value=0.0, max=40.0), HTML(value='')))"
      ]
     },
     "metadata": {},
     "output_type": "display_data"
    },
    {
     "name": "stdout",
     "output_type": "stream",
     "text": [
      "\n",
      "Epsilon = 0.06:\n",
      "Mean Cosine Difference: 0.1347338706254959, Mean Cosine Difference when FGSM does not succeed but PGD does: 0.13164548575878143, Mean l2 Distance: 3.905555248260498\n",
      "FGSM success: 0.45659998059272766, PGD Success: 0.9945999979972839, Rescaled FGSM success: 0.4262000024318695\n"
     ]
    }
   ],
   "source": [
    "fgsm_pgd_cos_dif(step_ll_model, test_dataset, epsilons=[0.03, 0.06], device=device, batch_size=batch_size, subset_size=5000, n_steps_pgd=20)"
   ]
  },
  {
   "cell_type": "code",
   "execution_count": 22,
   "metadata": {},
   "outputs": [
    {
     "data": {
      "application/vnd.jupyter.widget-view+json": {
       "model_id": "93114b1446634942be68d1653fa96251",
       "version_major": 2,
       "version_minor": 0
      },
      "text/plain": [
       "HBox(children=(HTML(value=''), FloatProgress(value=0.0, max=40.0), HTML(value='')))"
      ]
     },
     "metadata": {},
     "output_type": "display_data"
    },
    {
     "name": "stdout",
     "output_type": "stream",
     "text": [
      "\n",
      "Epsilon = 0.03:\n",
      "Mean Cosine Difference: 0.6360668540000916, Mean Cosine Difference when FGSM does not succeed but PGD does: 0.5948304533958435, Mean l2 Distance: 1.4246094226837158\n",
      "FGSM success: 0.6943999528884888, PGD Success: 0.7651999592781067, Rescaled FGSM success: 0.6843999624252319\n"
     ]
    },
    {
     "data": {
      "application/vnd.jupyter.widget-view+json": {
       "model_id": "a3a90b5eeefe40acb559811464ad4d8c",
       "version_major": 2,
       "version_minor": 0
      },
      "text/plain": [
       "HBox(children=(HTML(value=''), FloatProgress(value=0.0, max=40.0), HTML(value='')))"
      ]
     },
     "metadata": {},
     "output_type": "display_data"
    },
    {
     "name": "stdout",
     "output_type": "stream",
     "text": [
      "\n",
      "Epsilon = 0.06:\n",
      "Mean Cosine Difference: 0.490384966135025, Mean Cosine Difference when FGSM does not succeed but PGD does: 0.34859323501586914, Mean l2 Distance: 3.3363327980041504\n",
      "FGSM success: 0.8727999925613403, PGD Success: 0.9817999601364136, Rescaled FGSM success: 0.8643999695777893\n"
     ]
    }
   ],
   "source": [
    "fgsm_pgd_cos_dif(step_ll_model_small, test_dataset, epsilons=[0.03, 0.06], device=device, batch_size=batch_size, subset_size=5000, n_steps_pgd=20)"
   ]
  },
  {
   "cell_type": "code",
   "execution_count": 24,
   "metadata": {},
   "outputs": [
    {
     "data": {
      "application/vnd.jupyter.widget-view+json": {
       "model_id": "40da67bb57384551813089a8a0376837",
       "version_major": 2,
       "version_minor": 0
      },
      "text/plain": [
       "HBox(children=(HTML(value=''), FloatProgress(value=0.0, max=40.0), HTML(value='')))"
      ]
     },
     "metadata": {},
     "output_type": "display_data"
    },
    {
     "name": "stdout",
     "output_type": "stream",
     "text": [
      "\n",
      "Epsilon = 0.03:\n",
      "Mean Cosine Difference: 0.7333496809005737, Mean Cosine Difference when FGSM does not succeed but PGD does: 0.731689453125, Mean l2 Distance: 1.170149326324463\n",
      "FGSM success: 0.5557999610900879, PGD Success: 0.6047999858856201, Rescaled FGSM success: 0.5489999651908875\n"
     ]
    },
    {
     "data": {
      "application/vnd.jupyter.widget-view+json": {
       "model_id": "a3a0ab77b63d43ce8c1d7a1961d0e3a4",
       "version_major": 2,
       "version_minor": 0
      },
      "text/plain": [
       "HBox(children=(HTML(value=''), FloatProgress(value=0.0, max=40.0), HTML(value='')))"
      ]
     },
     "metadata": {},
     "output_type": "display_data"
    },
    {
     "name": "stdout",
     "output_type": "stream",
     "text": [
      "\n",
      "Epsilon = 0.06:\n",
      "Mean Cosine Difference: 0.5726946592330933, Mean Cosine Difference when FGSM does not succeed but PGD does: 0.5840405821800232, Mean l2 Distance: 3.022047996520996\n",
      "FGSM success: 0.8145999908447266, PGD Success: 0.913599967956543, Rescaled FGSM success: 0.8075999617576599\n"
     ]
    }
   ],
   "source": [
    "fgsm_pgd_cos_dif(cure, test_dataset, epsilons=[0.03, 0.06], device=device, batch_size=batch_size, subset_size=5000, n_steps_pgd=20)"
   ]
  },
  {
   "cell_type": "markdown",
   "metadata": {},
   "source": [
    "## Linearizability of Model"
   ]
  },
  {
   "cell_type": "markdown",
   "metadata": {},
   "source": [
    "#### Training data"
   ]
  },
  {
   "cell_type": "code",
   "execution_count": 33,
   "metadata": {},
   "outputs": [
    {
     "name": "stdout",
     "output_type": "stream",
     "text": [
      "normal: \n",
      "Epsilon 0.003: 0.03307342529296875 error\n",
      "Epsilon 0.03: 0.3565625548362732 error\n",
      "Epsilon 0.06: 1.566001057624817 error\n",
      "Epsilon 0.1: 8.340760231018066 error\n",
      "step ll: \n",
      "Epsilon 0.003: 0.023074664175510406 error\n",
      "Epsilon 0.03: 0.2147114872932434 error\n",
      "Epsilon 0.06: 0.383059561252594 error\n",
      "Epsilon 0.1: 0.7022789716720581 error\n",
      "step ll small: \n",
      "Epsilon 0.003: 0.006576708983629942 error\n",
      "Epsilon 0.03: 0.06567896157503128 error\n",
      "Epsilon 0.06: 0.1467602550983429 error\n",
      "Epsilon 0.1: 0.32411131262779236 error\n",
      "fgsm: \n",
      "Epsilon 0.003: 0.14247646927833557 error\n",
      "Epsilon 0.03: 1.473429799079895 error\n",
      "Epsilon 0.06: 2.972611665725708 error\n",
      "Epsilon 0.1: 23.294282913208008 error\n",
      "fgsm small: \n",
      "Epsilon 0.003: 0.00502273952588439 error\n",
      "Epsilon 0.03: 0.04990667477250099 error\n",
      "Epsilon 0.06: 0.14848743379116058 error\n",
      "Epsilon 0.1: 0.24841904640197754 error\n",
      "pgd: \n",
      "Epsilon 0.003: 0.00624723918735981 error\n",
      "Epsilon 0.03: 0.06239868700504303 error\n",
      "Epsilon 0.06: 0.262955904006958 error\n",
      "Epsilon 0.1: 0.3219253718852997 error\n",
      "pgd small: \n",
      "Epsilon 0.003: 0.004791449289768934 error\n",
      "Epsilon 0.03: 0.050693780183792114 error\n",
      "Epsilon 0.06: 0.11102364957332611 error\n",
      "Epsilon 0.1: 0.21202035248279572 error\n",
      "grad norm: \n",
      "Epsilon 0.003: 0.012448391877114773 error\n",
      "Epsilon 0.03: 0.15195044875144958 error\n",
      "Epsilon 0.06: 5.6381516456604 error\n",
      "Epsilon 0.1: 0.6667421460151672 error\n",
      "cure: \n",
      "Epsilon 0.003: 0.005542414728552103 error\n",
      "Epsilon 0.03: 0.06728459149599075 error\n",
      "Epsilon 0.06: 0.1310022920370102 error\n",
      "Epsilon 0.1: 0.2766091823577881 error\n"
     ]
    }
   ],
   "source": [
    "models = [model, step_ll_model, step_ll_model_small, fgsm_model, fgsm_model_small, pgd_model_6, pgd_model, jac_norm_model, cure]\n",
    "names = ['normal', 'step ll', 'step ll small', 'fgsm', 'fgsm small', 'pgd', 'pgd small', 'grad norm', 'cure']\n",
    "linearization_data = [linearization_error(cur_model, train_dataset, epsilons=[0.003, 0.03, 0.06, 0.1], subset=1000, batch_size=32, n_perturbations=32, device=device) for cur_model in models]\n",
    "linearization_data = [pd.DataFrame(data) for data in linearization_data]\n",
    "for name, data in zip(names, linearization_data):\n",
    "    data['model'] = name\n",
    "\n",
    "long_form_data = pd.melt(pd.concat(linearization_data), id_vars=['model'], var_name='epsilon')\n",
    "sns.barplot(data=long_form_data, x='model', y='value', hue='epsilon')"
   ]
  },
  {
   "cell_type": "markdown",
   "metadata": {},
   "source": [
    "#### Testing data"
   ]
  },
  {
   "cell_type": "code",
   "execution_count": 34,
   "metadata": {},
   "outputs": [
    {
     "name": "stdout",
     "output_type": "stream",
     "text": [
      "normal: \n",
      "Epsilon 0.003: 0.0717787966132164 error\n",
      "Epsilon 0.03: 1.0048729181289673 error\n",
      "Epsilon 0.06: 5.74287748336792 error\n",
      "Epsilon 0.1: 16.59425926208496 error\n",
      "step ll: \n",
      "Epsilon 0.003: 0.05241377279162407 error\n",
      "Epsilon 0.03: 0.6117618680000305 error\n",
      "Epsilon 0.06: 1.2578635215759277 error\n",
      "Epsilon 0.1: 3.018287420272827 error\n",
      "step ll small: \n",
      "Epsilon 0.003: 0.0216224268078804 error\n",
      "Epsilon 0.03: 0.17331956326961517 error\n",
      "Epsilon 0.06: 0.752302348613739 error\n",
      "Epsilon 0.1: 1.4778895378112793 error\n",
      "fgsm: \n",
      "Epsilon 0.003: 0.18380463123321533 error\n",
      "Epsilon 0.03: 2.4682137966156006 error\n",
      "Epsilon 0.06: 10.37920093536377 error\n",
      "Epsilon 0.1: 38.12845230102539 error\n",
      "fgsm small: \n",
      "Epsilon 0.003: 0.014814087189733982 error\n",
      "Epsilon 0.03: 0.17861822247505188 error\n",
      "Epsilon 0.06: 0.4336315989494324 error\n",
      "Epsilon 0.1: 0.929533839225769 error\n",
      "pgd: \n",
      "Epsilon 0.003: 0.008690240792930126 error\n",
      "Epsilon 0.03: 0.13644909858703613 error\n",
      "Epsilon 0.06: 0.24094991385936737 error\n",
      "Epsilon 0.1: 0.7786321043968201 error\n",
      "pgd small: \n",
      "Epsilon 0.003: 0.014094715006649494 error\n",
      "Epsilon 0.03: 0.12566353380680084 error\n",
      "Epsilon 0.06: 0.47060588002204895 error\n",
      "Epsilon 0.1: 0.9516854286193848 error\n",
      "grad norm: \n",
      "Epsilon 0.003: 0.01656949333846569 error\n",
      "Epsilon 0.03: 0.2510901689529419 error\n",
      "Epsilon 0.06: 0.42130938172340393 error\n",
      "Epsilon 0.1: 0.7512273788452148 error\n",
      "cure: \n",
      "Epsilon 0.003: 0.0065429918467998505 error\n",
      "Epsilon 0.03: 0.08737599849700928 error\n",
      "Epsilon 0.06: 0.31907331943511963 error\n",
      "Epsilon 0.1: 0.30569136142730713 error\n"
     ]
    }
   ],
   "source": [
    "linearization_data = [linearization_error(cur_model, test_dataset, epsilons=[0.003, 0.03, 0.06, 0.1], subset=1000, batch_size=32, n_perturbations=32, device=device) for cur_model in models]\n",
    "linearization_data = [pd.DataFrame(data) for data in linearization_data]\n",
    "for name, data in zip(names, linearization_data):\n",
    "    data['model'] = name\n",
    "\n",
    "long_form_data = pd.melt(pd.concat(linearization_data), id_vars=['model'], var_name='epsilon')\n",
    "sns.barplot(data=long_form_data, x='model', y='value', hue='epsilon')"
   ]
  },
  {
   "cell_type": "markdown",
   "metadata": {},
   "source": [
    "## Gradient Information"
   ]
  },
  {
   "cell_type": "code",
   "execution_count": 80,
   "metadata": {},
   "outputs": [
    {
     "data": {
      "image/png": "[encoded data removed]",
      "text/plain": [
       "<Figure size 1080x1080 with 10 Axes>"
      ]
     },
     "metadata": {
      "needs_background": "light"
     },
     "output_type": "display_data"
    }
   ],
   "source": [
    "compare_models_on_measure(gradient_information, models, names, train_dataset, iters=5, height=3, bins=30, device=device, subset_size=10)"
   ]
  },
  {
   "cell_type": "markdown",
   "metadata": {},
   "source": [
    "#### Training data"
   ]
  },
  {
   "cell_type": "code",
   "execution_count": 31,
   "metadata": {},
   "outputs": [
    {
     "name": "stdout",
     "output_type": "stream",
     "text": [
      "normal: 0.08381164073944092\n",
      "step ll: 0.01806812360882759\n",
      "step ll small: 0.0999184250831604\n",
      "fgsm: 0.11507304757833481\n",
      "fgsm small: 0.03936716541647911\n",
      "pgd: 0.04062598943710327\n",
      "pgd small: 0.05712084844708443\n",
      "grad norm: 0.1348295509815216\n",
      "cure: 0.07283072918653488\n"
     ]
    }
   ],
   "source": [
    "for cur_model, name in zip([model, step_ll_model, step_ll_model_small, fgsm_model, fgsm_model_small, pgd_model_6, pgd_model, jac_norm_model, cure], ['normal', 'step ll', 'step ll small', 'fgsm', 'fgsm small', 'pgd', 'pgd small', 'grad norm', 'cure']):\n",
    "    print(name + ': ' + str(gradient_information(cur_model, train_dataset, iters=50, device=device, subset_size=1000).item()))"
   ]
  },
  {
   "cell_type": "markdown",
   "metadata": {},
   "source": [
    "#### Testing data"
   ]
  },
  {
   "cell_type": "code",
   "execution_count": 32,
   "metadata": {},
   "outputs": [
    {
     "name": "stdout",
     "output_type": "stream",
     "text": [
      "normal: 0.10207227617502213\n",
      "step ll: 0.03300695866346359\n",
      "step ll small: 0.0948532372713089\n",
      "fgsm: 0.11606040596961975\n",
      "fgsm small: 0.042634010314941406\n",
      "pgd: 0.026364196091890335\n",
      "pgd small: 0.03546912968158722\n",
      "grad norm: 0.13850928843021393\n",
      "cure: 0.0751025527715683\n"
     ]
    }
   ],
   "source": [
    "for cur_model, name in zip([model, step_ll_model, step_ll_model_small, fgsm_model, fgsm_model_small, pgd_model_6, pgd_model, jac_norm_model, cure], ['normal', 'step ll', 'step ll small', 'fgsm', 'fgsm small', 'pgd', 'pgd small', 'grad norm', 'cure']):\n",
    "    print(name + ': ' + str(gradient_information(cur_model, test_dataset, iters=50, device=device, subset_size=5000).item()))"
   ]
  }
 ],
 "metadata": {
  "kernelspec": {
   "display_name": "Python 3",
   "language": "python",
   "name": "python3"
  },
  "language_info": {
   "codemirror_mode": {
    "name": "ipython",
    "version": 3
   },
   "file_extension": ".py",
   "mimetype": "text/x-python",
   "name": "python",
   "nbconvert_exporter": "python",
   "pygments_lexer": "ipython3",
   "version": "3.7.9"
  }
 },
 "nbformat": 4,
 "nbformat_minor": 4
}
