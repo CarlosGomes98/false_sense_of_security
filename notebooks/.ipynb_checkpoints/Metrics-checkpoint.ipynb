{
 "cells": [
  {
   "cell_type": "code",
   "execution_count": 101,
   "metadata": {},
   "outputs": [
    {
     "name": "stdout",
     "output_type": "stream",
     "text": [
      "The autoreload extension is already loaded. To reload it, use:\n",
      "  %reload_ext autoreload\n"
     ]
    }
   ],
   "source": [
    "import argparse\n",
    "import tqdm\n",
    "import numpy as np\n",
    "import torch\n",
    "import torch.nn as nn\n",
    "import torch.nn.functional as F\n",
    "import torch.optim as optim\n",
    "from torchvision import datasets, transforms, models\n",
    "from torch.optim.lr_scheduler import StepLR\n",
    "import matplotlib.pyplot as plt\n",
    "from foolbox import PyTorchModel, accuracy, samples\n",
    "from foolbox.attacks import LinfPGD, FGSM\n",
    "from advertorch.attacks import LinfSPSAAttack\n",
    "from src.trainers import Trainer, FGSMTrainer\n",
    "from robustbench.model_zoo.models import Carmon2019UnlabeledNet\n",
    "from src.utils import adversarial_accuracy, fgsm_\n",
    "from src.gradient_masking_tests import gradient_norm, fgsm_pgd_cos_dif\n",
    "import eagerpy as ep\n",
    "from src.Nets import CIFAR_Wide_Res_Net, CIFAR_Res_Net, CIFAR_Net\n",
    "%load_ext autoreload\n",
    "%autoreload 2\n",
    "%aimport src.Nets, src.trainers"
   ]
  },
  {
   "cell_type": "code",
   "execution_count": 3,
   "metadata": {},
   "outputs": [
    {
     "name": "stdout",
     "output_type": "stream",
     "text": [
      "Files already downloaded and verified\n",
      "Files already downloaded and verified\n"
     ]
    }
   ],
   "source": [
    "# setup\n",
    "device = torch.device(\"cuda\")\n",
    "batch_size = 128\n",
    "# remove the normalize\n",
    "transform = transform = transforms.Compose(\n",
    "            [transforms.ToTensor()]\n",
    ")\n",
    "        \n",
    "normalized_min = (0 - 0.5) / 0.5\n",
    "normalized_max = (1 - 0.5) / 0.5\n",
    "train_dataset = datasets.CIFAR10(root='../data', train=True,\n",
    "                                download=True, transform=transform)\n",
    "train_loader = torch.utils.data.DataLoader(train_dataset, batch_size=batch_size,\n",
    "                                  shuffle=True, num_workers=2)\n",
    "test_dataset = datasets.CIFAR10(root='../data', train=False,\n",
    "                               download=True, transform=transform)\n",
    "test_loader = torch.utils.data.DataLoader(test_dataset, batch_size=batch_size,\n",
    "                                 shuffle=False, num_workers=2)\n",
    "classes = classes = ('plane', 'car', 'bird', 'cat',\n",
    "   'deer', 'dog', 'frog', 'horse', 'ship', 'truck')"
   ]
  },
  {
   "cell_type": "markdown",
   "metadata": {},
   "source": [
    "## Load Regular CIFAR-10 model"
   ]
  },
  {
   "cell_type": "code",
   "execution_count": 63,
   "metadata": {},
   "outputs": [
    {
     "name": "stdout",
     "output_type": "stream",
     "text": [
      "\n"
     ]
    },
    {
     "data": {
      "text/plain": [
       "<All keys matched successfully>"
      ]
     },
     "execution_count": 63,
     "metadata": {},
     "output_type": "execute_result"
    }
   ],
   "source": [
    "model = CIFAR_Res_Net(device).eval()\n",
    "model.load_state_dict(torch.load(\"../models/cifar_res_net.model\"))"
   ]
  },
  {
   "cell_type": "markdown",
   "metadata": {},
   "source": [
    "## Load CIFAR-10 Model trained with large FGSM steps"
   ]
  },
  {
   "cell_type": "code",
   "execution_count": 64,
   "metadata": {},
   "outputs": [
    {
     "data": {
      "text/plain": [
       "<All keys matched successfully>"
      ]
     },
     "execution_count": 64,
     "metadata": {},
     "output_type": "execute_result"
    }
   ],
   "source": [
    "fgsm_model = CIFAR_Res_Net(device).eval()\n",
    "fgsm_model.load_state_dict(torch.load(\"../models/cifar_res_net_fgsm06.model\"))"
   ]
  },
  {
   "cell_type": "markdown",
   "metadata": {},
   "source": [
    "### Check gradient norms\n",
    "Gradients seem to blow up after FGSM training"
   ]
  },
  {
   "cell_type": "code",
   "execution_count": 11,
   "metadata": {},
   "outputs": [],
   "source": [
    "subset_size = 5000\n",
    "subset = torch.utils.data.Subset(train_dataset, np.random.randint(0, len(test_dataset), size=subset_size).tolist())\n",
    "subset_loader = torch.utils.data.DataLoader(subset, batch_size=batch_size,\n",
    "                                 shuffle=False, num_workers=2)"
   ]
  },
  {
   "cell_type": "code",
   "execution_count": 12,
   "metadata": {},
   "outputs": [
    {
     "data": {
      "image/png": "[encoded data removed]",
      "text/plain": [
       "<Figure size 432x288 with 1 Axes>"
      ]
     },
     "metadata": {
      "needs_background": "light"
     },
     "output_type": "display_data"
    }
   ],
   "source": [
    "plt.hist(gradient_norm(model, subset_loader, device=device).detach().cpu().numpy(), bins=100)\n",
    "plt.show()"
   ]
  },
  {
   "cell_type": "code",
   "execution_count": 13,
   "metadata": {},
   "outputs": [
    {
     "data": {
      "image/png": "[encoded data removed]",
      "text/plain": [
       "<Figure size 432x288 with 1 Axes>"
      ]
     },
     "metadata": {
      "needs_background": "light"
     },
     "output_type": "display_data"
    }
   ],
   "source": [
    "plt.hist(gradient_norm(fgsm_model, subset_loader, device=device).detach().cpu().numpy(), bins=100)\n",
    "plt.show()"
   ]
  },
  {
   "cell_type": "code",
   "execution_count": 105,
   "metadata": {},
   "outputs": [
    {
     "name": "stderr",
     "output_type": "stream",
     "text": [
      " 50%|██████████████████████████████████████████                                          | 1/2 [00:05<00:05,  5.17s/it]"
     ]
    },
    {
     "name": "stdout",
     "output_type": "stream",
     "text": [
      "tensor([3.8470, 3.9346, 3.8862, 3.7328, 3.7458, 3.9474, 3.8593, 3.8700, 3.8775,\n",
      "        3.7208, 3.9492, 3.8060, 3.8793, 3.7689, 3.8954, 3.8809, 3.5285, 3.9112,\n",
      "        3.8726, 3.7118, 3.8704, 3.7378, 3.9111, 3.9261, 3.8668, 3.9577, 3.7693,\n",
      "        3.9340, 3.9052, 3.8517, 3.6989, 3.9138, 3.7897, 3.9272, 3.8301, 3.9088,\n",
      "        3.9043, 3.9627, 3.8998, 3.8341, 3.7555, 3.9502, 3.8457, 3.2250, 3.8084,\n",
      "        3.9513, 3.9644, 3.8903, 3.8499, 3.6255, 3.9120, 3.7672, 3.9757, 3.8385,\n",
      "        3.9405, 3.8796, 3.8545, 3.7596, 3.8274, 3.1573, 3.9255, 3.8516, 3.8974,\n",
      "        3.8387, 3.8753, 3.8334, 3.8788, 3.3291, 3.9003, 3.9376, 3.8592, 3.8853,\n",
      "        3.6916, 3.7849, 3.8345, 3.9143, 3.8053, 3.9229, 3.9135, 3.9038, 3.9006,\n",
      "        3.8665, 3.8938, 3.9957, 3.9113, 3.8547, 3.8542, 3.8725, 3.9090, 3.7328,\n",
      "        3.9273, 3.8895, 3.9165, 3.7791, 3.9169, 3.9188, 3.9708, 3.8771, 3.8805,\n",
      "        3.8142, 3.8762, 3.8598, 3.8628, 3.9260, 3.8898, 4.0176, 3.8642, 3.9178,\n",
      "        3.8863, 3.9316, 3.9149, 3.8700, 3.9306, 3.8220, 3.8770, 3.8811, 3.8581,\n",
      "        3.9197, 3.8103, 3.9111, 3.9157, 3.9190, 3.8943, 3.8874, 3.4877, 3.8990,\n",
      "        3.7878, 3.7994], device='cuda:0')\n"
     ]
    },
    {
     "name": "stderr",
     "output_type": "stream",
     "text": [
      "100%|████████████████████████████████████████████████████████████████████████████████████| 2/2 [00:07<00:00,  3.61s/it]"
     ]
    },
    {
     "name": "stdout",
     "output_type": "stream",
     "text": [
      "tensor([3.8855, 3.8448, 3.8444, 3.7994, 3.8871, 3.8750, 3.8640, 3.9659, 3.8753,\n",
      "        3.8650, 3.7581, 3.8002, 3.9155, 3.8805, 3.9317, 3.8191, 3.9092, 3.8986,\n",
      "        3.7337, 3.7540, 3.8527, 3.9458, 3.9349, 3.9156, 3.9282, 3.9175, 3.9214,\n",
      "        3.7663, 3.8597, 3.7175, 3.8495, 3.8381, 3.9817, 3.9144, 3.9184, 3.8681,\n",
      "        3.8736, 3.8674, 3.9128, 3.9408, 3.8241, 3.8895, 3.8737, 3.9119, 3.9185,\n",
      "        3.8724, 3.9019, 3.8986, 3.9080, 3.8494, 3.9016, 3.8001, 3.8515, 3.8843,\n",
      "        3.9550, 3.4948, 3.8948, 3.9038, 3.8476, 3.9668, 3.6116, 3.9536, 3.9707,\n",
      "        3.9694, 3.8177, 3.8610, 3.1172, 3.9074, 3.7545, 3.9417, 3.8412, 3.8797,\n",
      "        3.8597, 3.9598, 3.9784, 3.8923, 3.8853, 3.9254, 3.8694, 3.9544, 3.9216,\n",
      "        3.8094, 3.8942, 3.9044, 3.9333, 3.8916, 3.8921, 3.9349, 3.9628, 3.8221,\n",
      "        3.9130, 3.9003, 3.9645, 3.9061, 3.9515, 3.8627, 3.8978, 3.8789, 3.8401,\n",
      "        3.7967, 3.8656, 3.1866, 3.9015, 3.8071, 3.7510, 3.8115, 3.9066, 3.9189,\n",
      "        3.9213, 3.8985, 3.8831, 3.8846, 3.8068, 3.9396, 3.8570, 3.8999, 3.8951,\n",
      "        3.8828, 3.9770, 3.4533, 3.8320, 3.9213, 2.9771, 3.8363, 3.9110, 3.8691,\n",
      "        3.8849, 3.8868], device='cuda:0')\n"
     ]
    },
    {
     "name": "stderr",
     "output_type": "stream",
     "text": [
      "\n"
     ]
    }
   ],
   "source": [
    "cos_dif, success_fgsm, success_pgd = fgsm_pgd_cos_dif(fgsm_model, train_dataset, epsilon=0.06, device=device, batch_size=batch_size, subset_size=256, n_steps_pgd=20)"
   ]
  },
  {
   "cell_type": "code",
   "execution_count": 102,
   "metadata": {},
   "outputs": [
    {
     "data": {
      "text/plain": [
       "(tensor(0.9896, device='cuda:0'), tensor(0.9885, device='cuda:0'))"
      ]
     },
     "execution_count": 102,
     "metadata": {},
     "output_type": "execute_result"
    }
   ],
   "source": [
    "cos_dif[(~success_fgsm & success_pgd)].mean(), cos_dif[success_fgsm].mean()"
   ]
  },
  {
   "cell_type": "code",
   "execution_count": 103,
   "metadata": {},
   "outputs": [
    {
     "name": "stderr",
     "output_type": "stream",
     "text": [
      "100%|██████████████████████████████████████████████████████████████████████████████████| 79/79 [02:39<00:00,  2.01s/it]\n"
     ]
    },
    {
     "data": {
      "text/plain": [
       "(tensor(0.9973, device='cuda:0'), tensor(0.9970, device='cuda:0'))"
      ]
     },
     "execution_count": 103,
     "metadata": {},
     "output_type": "execute_result"
    }
   ],
   "source": [
    "cos_dif, success_fgsm, success_pgd = fgsm_pgd_cos_dif(fgsm_model, train_dataset, epsilon=0.03, device=device, batch_size=batch_size, subset_size=10000, n_steps_pgd=20)\n",
    "cos_dif[(~success_fgsm & success_pgd)].mean(), cos_dif[success_fgsm].mean()"
   ]
  },
  {
   "cell_type": "code",
   "execution_count": 104,
   "metadata": {},
   "outputs": [
    {
     "name": "stderr",
     "output_type": "stream",
     "text": [
      "100%|██████████████████████████████████████████████████████████████████████████████████| 79/79 [02:39<00:00,  2.02s/it]\n"
     ]
    },
    {
     "data": {
      "text/plain": [
       "(tensor(0.9999, device='cuda:0'), tensor(0.9999, device='cuda:0'))"
      ]
     },
     "execution_count": 104,
     "metadata": {},
     "output_type": "execute_result"
    }
   ],
   "source": [
    "cos_dif, success_fgsm, success_pgd = fgsm_pgd_cos_dif(fgsm_model, train_dataset, epsilon=0.006, device=device, batch_size=batch_size, subset_size=10000, n_steps_pgd=20)\n",
    "cos_dif[(~success_fgsm & success_pgd)].mean(), cos_dif[success_fgsm].mean()"
   ]
  }
 ],
 "metadata": {
  "kernelspec": {
   "display_name": "Python [conda env:pytorch-env] *",
   "language": "python",
   "name": "conda-env-pytorch-env-py"
  },
  "language_info": {
   "codemirror_mode": {
    "name": "ipython",
    "version": 3
   },
   "file_extension": ".py",
   "mimetype": "text/x-python",
   "name": "python",
   "nbconvert_exporter": "python",
   "pygments_lexer": "ipython3",
   "version": "3.8.5"
  }
 },
 "nbformat": 4,
 "nbformat_minor": 4
}
