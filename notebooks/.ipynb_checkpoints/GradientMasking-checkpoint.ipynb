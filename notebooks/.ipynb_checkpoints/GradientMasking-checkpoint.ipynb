{
 "cells": [
  {
   "cell_type": "markdown",
   "metadata": {},
   "source": [
    "# Evaluate Gradient Masking\n",
    "\n",
    "This notebook runs some checks to determine if the networks may be gradient masked.\n",
    "These checks may take some time and are not necessarily suitable as metrics themselves."
   ]
  },
  {
   "cell_type": "code",
   "execution_count": 1,
   "metadata": {},
   "outputs": [],
   "source": [
    "import argparse\n",
    "import tqdm\n",
    "import numpy as np\n",
    "import torch\n",
    "import torch.nn as nn\n",
    "import torch.nn.functional as F\n",
    "import torch.optim as optim\n",
    "from torchvision import datasets, transforms, models\n",
    "from torch.optim.lr_scheduler import StepLR\n",
    "import matplotlib.pyplot as plt\n",
    "from foolbox import PyTorchModel, accuracy, samples\n",
    "from foolbox.attacks import LinfPGD, FGSM\n",
    "from advertorch.attacks import LinfSPSAAttack\n",
    "from src.trainers import Trainer, FGSMTrainer\n",
    "from robustbench.model_zoo.models import Carmon2019UnlabeledNet\n",
    "from src.utils import adversarial_accuracy, fgsm_\n",
    "import eagerpy as ep\n",
    "from src.Nets import CIFAR_Wide_Res_Net, CIFAR_Res_Net, CIFAR_Net, ResNet18GradReg\n",
    "from src.gradient_masking_tests import run_masking_benchmarks\n",
    "%load_ext autoreload\n",
    "%autoreload 2\n",
    "%aimport src.Nets, src.trainers"
   ]
  },
  {
   "cell_type": "markdown",
   "metadata": {},
   "source": [
    "## Setup to import trained CIFAR-10 Models"
   ]
  },
  {
   "cell_type": "code",
   "execution_count": 2,
   "metadata": {},
   "outputs": [
    {
     "name": "stdout",
     "output_type": "stream",
     "text": [
      "Files already downloaded and verified\n",
      "Files already downloaded and verified\n"
     ]
    }
   ],
   "source": [
    "# setup\n",
    "device = torch.device(\"cuda\")\n",
    "batch_size = 32\n",
    "# remove the normalize\n",
    "transform = transform = transforms.Compose(\n",
    "            [transforms.ToTensor()]\n",
    ")\n",
    "        \n",
    "normalized_min = (0 - 0.5) / 0.5\n",
    "normalized_max = (1 - 0.5) / 0.5\n",
    "train_dataset = datasets.CIFAR10(root='../data', train=True,\n",
    "                                download=True, transform=transform)\n",
    "train_loader = torch.utils.data.DataLoader(train_dataset, batch_size=batch_size,\n",
    "                                  shuffle=True, num_workers=2)\n",
    "test_dataset = datasets.CIFAR10(root='../data', train=False,\n",
    "                               download=True, transform=transform)\n",
    "test_loader = torch.utils.data.DataLoader(test_dataset, batch_size=batch_size,\n",
    "                                 shuffle=False, num_workers=2)\n",
    "classes = classes = ('plane', 'car', 'bird', 'cat',\n",
    "   'deer', 'dog', 'frog', 'horse', 'ship', 'truck')"
   ]
  },
  {
   "cell_type": "markdown",
   "metadata": {},
   "source": [
    "## Load Trained Models"
   ]
  },
  {
   "cell_type": "code",
   "execution_count": 13,
   "metadata": {
    "scrolled": true
   },
   "outputs": [
    {
     "data": {
      "text/plain": [
       "<All keys matched successfully>"
      ]
     },
     "execution_count": 13,
     "metadata": {},
     "output_type": "execute_result"
    }
   ],
   "source": [
    "# # Regular CIFAR-10  ResNet Model\n",
    "model = CIFAR_Res_Net(device).eval()\n",
    "model.load_state_dict(torch.load(\"../models/cifar_res_net.model\"))\n",
    "# CIFAR-10  ResNet Model trained with large FGSM steps\n",
    "fgsm_model = CIFAR_Res_Net(device).eval()\n",
    "fgsm_model.load_state_dict(torch.load(\"../models/cifar_res_net_fgsm06.model\"))\n",
    "# # # CIFAR-10  ResNet Model trained with small FGSM steps\n",
    "fgsm_model_small = CIFAR_Res_Net(device).eval()\n",
    "fgsm_model_small.load_state_dict(torch.load(\"../models/cifar_res_net_20e_fgsm03.model\"))\n",
    "# # # CIFAR-10  ResNet Model trained with large Step-ll steps\n",
    "step_ll_model = CIFAR_Res_Net(device).eval()\n",
    "step_ll_model.load_state_dict(torch.load(\"../models/cifar_res_net_20e_stepll.model\"))\n",
    "# # CIFAR-10  ResNet Model trained through input gradient regularization\n",
    "gradient_norm_model = CIFAR_Res_Net(device).eval()\n",
    "state_dict = torch.load(\"D:/Libraries/Documents/tulip/cifar10/logs/cifar10/ResNet18/200e/best.pth.tar\")['state_dict']\n",
    "gradient_norm_model.load_state_dict(state_dict)"
   ]
  },
  {
   "cell_type": "markdown",
   "metadata": {},
   "source": [
    "# Run Benchmarks\n",
    "### The benchmarks consist of:\n",
    "- Standard Accuracy\n",
    "- FGSM attack at different epsilons\n",
    "- PGD attack\n",
    "- Unbounded PGD attack\n",
    "- Black Box (SPSA) Attack\n",
    "\n",
    "For a gradient masked model, we might expect that:\n",
    "- FGSM accuracy does not drop as epsilon increases\n",
    "- PGD preforms worse than FGSM (turns out to not ever be the case)\n",
    "- Unbounded PGD attack does not reach 0% accuracy\n",
    "- Black box accuracy is lower than white box accuracy \n",
    "\n",
    "Notice that random attacks are stronger as epsilon increases"
   ]
  },
  {
   "cell_type": "code",
   "execution_count": 10,
   "metadata": {},
   "outputs": [
    {
     "name": "stderr",
     "output_type": "stream",
     "text": [
      "100%|████████████████████████████████████████████████████████████████████████████████| 313/313 [00:04<00:00, 69.27it/s]\n",
      "100%|████████████████████████████████████████████████████████████████████████████████| 313/313 [00:11<00:00, 27.40it/s]\n",
      "100%|████████████████████████████████████████████████████████████████████████████████| 313/313 [00:11<00:00, 27.41it/s]\n",
      "100%|████████████████████████████████████████████████████████████████████████████████| 313/313 [00:11<00:00, 27.47it/s]\n",
      "100%|████████████████████████████████████████████████████████████████████████████████| 313/313 [00:52<00:00,  5.95it/s]\n",
      "100%|████████████████████████████████████████████████████████████████████████████████| 313/313 [00:52<00:00,  5.95it/s]\n",
      "100%|██████████████████████████████████████████████████████████████████████████████████| 13/13 [00:35<00:00,  2.71s/it]\n",
      "100%|████████████████████████████████████████████████████████████████████████████████| 313/313 [00:04<00:00, 65.86it/s]\n",
      "100%|████████████████████████████████████████████████████████████████████████████████| 313/313 [00:04<00:00, 65.67it/s]\n",
      "100%|████████████████████████████████████████████████████████████████████████████████| 313/313 [00:04<00:00, 65.99it/s]"
     ]
    },
    {
     "name": "stdout",
     "output_type": "stream",
     "text": [
      "Model accuracy: 85.21%\n",
      "FGSM attack model accuracy -- eps = 0.006: 36.980000000000004%, eps = 0.03: 3.9800000000000004%, eps = 0.06: 1.9%\n",
      "PGD accuracy: 0.0%\n",
      "Unbounded PGD model accuracy: 0.0%\n",
      "SPSA accuracy: 17.0%\n",
      "Random attack model accuracy -- eps = 0.006: 85.09%, eps = 0.03: 82.85%, eps = 0.06: 73.15%\n"
     ]
    },
    {
     "name": "stderr",
     "output_type": "stream",
     "text": [
      "\n"
     ]
    }
   ],
   "source": [
    "# Regular Model\n",
    "run_masking_benchmarks(model, test_dataset, epsilon=0.06, device=device, batch_size=batch_size)"
   ]
  },
  {
   "cell_type": "markdown",
   "metadata": {},
   "source": [
    "Strangely, the fgsm model with large steps produces a model where increasing epsilon not only does not make the attack stronger, but instead, makes it much weaker.\n",
    "\n",
    "In contrast, the model is significantly less robust at small epsilons.\n",
    "\n",
    "It might be the case that we have created a subspace, beyond the decision boundary, making the model appear robust there.\n",
    "\n",
    "However, this still does not explain how the model is now much more susceptible at smaller epsilons!\n",
    "\n",
    "This seems to indicate the gradient is still informative?\n",
    "\n",
    "#### The fgsm attack on eps=0.06 is WORSE than no attack at all!\n",
    "\n",
    "Random attacks do not really get stronger as epsilon increases"
   ]
  },
  {
   "cell_type": "code",
   "execution_count": 11,
   "metadata": {},
   "outputs": [
    {
     "name": "stderr",
     "output_type": "stream",
     "text": [
      "100%|████████████████████████████████████████████████████████████████████████████████| 313/313 [00:04<00:00, 69.69it/s]\n",
      "100%|████████████████████████████████████████████████████████████████████████████████| 313/313 [00:11<00:00, 27.29it/s]\n",
      "100%|████████████████████████████████████████████████████████████████████████████████| 313/313 [00:11<00:00, 27.52it/s]\n",
      "100%|████████████████████████████████████████████████████████████████████████████████| 313/313 [00:11<00:00, 27.44it/s]\n",
      "100%|████████████████████████████████████████████████████████████████████████████████| 313/313 [00:52<00:00,  5.95it/s]\n",
      "100%|████████████████████████████████████████████████████████████████████████████████| 313/313 [00:52<00:00,  5.95it/s]\n",
      "100%|██████████████████████████████████████████████████████████████████████████████████| 13/13 [00:35<00:00,  2.71s/it]\n",
      "100%|████████████████████████████████████████████████████████████████████████████████| 313/313 [00:04<00:00, 65.94it/s]\n",
      "100%|████████████████████████████████████████████████████████████████████████████████| 313/313 [00:04<00:00, 66.49it/s]\n",
      "100%|████████████████████████████████████████████████████████████████████████████████| 313/313 [00:04<00:00, 65.53it/s]"
     ]
    },
    {
     "name": "stdout",
     "output_type": "stream",
     "text": [
      "Model accuracy: 72.15%\n",
      "FGSM attack model accuracy -- eps = 0.006: 10.24%, eps = 0.03: 74.28%, eps = 0.06: 85.22%\n",
      "Gradient Masking Warning: Increasing epsilon did not improve the attack!!\n",
      "PGD accuracy: 0.0%\n",
      "Unbounded PGD model accuracy: 0.0%\n",
      "SPSA accuracy: 5.0%\n",
      "Gradient Masking Warning: Black Box attack was stronger than FGSM attack!!\n",
      "Random attack model accuracy -- eps = 0.006: 73.1%, eps = 0.03: 75.32%, eps = 0.06: 72.05%\n"
     ]
    },
    {
     "name": "stderr",
     "output_type": "stream",
     "text": [
      "\n"
     ]
    }
   ],
   "source": [
    "# fgsm model with large steps\n",
    "run_masking_benchmarks(fgsm_model, test_dataset, epsilon=0.06, device=device, batch_size=batch_size)"
   ]
  },
  {
   "cell_type": "code",
   "execution_count": 14,
   "metadata": {},
   "outputs": [
    {
     "name": "stderr",
     "output_type": "stream",
     "text": [
      "100%|████████████████████████████████████████████████████████████████████████████████| 313/313 [00:04<00:00, 67.46it/s]\n",
      "100%|████████████████████████████████████████████████████████████████████████████████| 313/313 [00:11<00:00, 27.25it/s]\n",
      "100%|████████████████████████████████████████████████████████████████████████████████| 313/313 [00:11<00:00, 27.52it/s]\n",
      "100%|████████████████████████████████████████████████████████████████████████████████| 313/313 [00:11<00:00, 27.52it/s]\n",
      "100%|████████████████████████████████████████████████████████████████████████████████| 313/313 [00:52<00:00,  5.93it/s]\n",
      "100%|████████████████████████████████████████████████████████████████████████████████| 313/313 [00:52<00:00,  5.95it/s]\n",
      "100%|██████████████████████████████████████████████████████████████████████████████████| 13/13 [00:35<00:00,  2.76s/it]\n",
      "100%|████████████████████████████████████████████████████████████████████████████████| 313/313 [00:05<00:00, 61.72it/s]\n",
      "100%|████████████████████████████████████████████████████████████████████████████████| 313/313 [00:04<00:00, 65.25it/s]\n",
      "100%|████████████████████████████████████████████████████████████████████████████████| 313/313 [00:04<00:00, 65.38it/s]"
     ]
    },
    {
     "name": "stdout",
     "output_type": "stream",
     "text": [
      "Model accuracy: 69.11%\n",
      "FGSM attack model accuracy -- eps = 0.006: 62.519999999999996%, eps = 0.03: 37.0%, eps = 0.06: 17.14%\n",
      "PGD accuracy: 9.68%\n",
      "Unbounded PGD model accuracy: 0.0%\n",
      "SPSA accuracy: 37.0%\n",
      "Random attack model accuracy -- eps = 0.006: 69.43%, eps = 0.03: 69.28%, eps = 0.06: 69.23%\n"
     ]
    },
    {
     "name": "stderr",
     "output_type": "stream",
     "text": [
      "\n"
     ]
    }
   ],
   "source": [
    "# fgsm model with small steps\n",
    "run_masking_benchmarks(fgsm_model_small, test_dataset, epsilon=0.06, device=device, batch_size=batch_size)"
   ]
  },
  {
   "cell_type": "markdown",
   "metadata": {},
   "source": [
    "### Step-ll potential gradient masking!\n",
    "We notice that increasing epsilon does not improve the attack. \n",
    "\n",
    "However, unlike with FGSM, the model is more robust at small epsilons.\n",
    "\n",
    "This together with black box outpreforming white box attacks, suggests an incidence of gradient masking\n",
    "\n",
    "Random attacks do not really get stronger (actually get a bit weaker) as epsilon increases"
   ]
  },
  {
   "cell_type": "code",
   "execution_count": 15,
   "metadata": {},
   "outputs": [
    {
     "name": "stderr",
     "output_type": "stream",
     "text": [
      "100%|████████████████████████████████████████████████████████████████████████████████| 313/313 [00:04<00:00, 70.08it/s]\n",
      "100%|████████████████████████████████████████████████████████████████████████████████| 313/313 [00:11<00:00, 27.45it/s]\n",
      "100%|████████████████████████████████████████████████████████████████████████████████| 313/313 [00:11<00:00, 27.37it/s]\n",
      "100%|████████████████████████████████████████████████████████████████████████████████| 313/313 [00:11<00:00, 26.69it/s]\n",
      "100%|████████████████████████████████████████████████████████████████████████████████| 313/313 [00:53<00:00,  5.88it/s]\n",
      "100%|████████████████████████████████████████████████████████████████████████████████| 313/313 [00:53<00:00,  5.90it/s]\n",
      "100%|██████████████████████████████████████████████████████████████████████████████████| 13/13 [00:35<00:00,  2.71s/it]\n",
      "100%|████████████████████████████████████████████████████████████████████████████████| 313/313 [00:04<00:00, 65.77it/s]\n",
      "100%|████████████████████████████████████████████████████████████████████████████████| 313/313 [00:04<00:00, 65.92it/s]\n",
      "100%|████████████████████████████████████████████████████████████████████████████████| 313/313 [00:04<00:00, 66.21it/s]"
     ]
    },
    {
     "name": "stdout",
     "output_type": "stream",
     "text": [
      "Model accuracy: 73.55000000000001%\n",
      "FGSM attack model accuracy -- eps = 0.006: 54.04%, eps = 0.03: 57.410000000000004%, eps = 0.06: 55.58%\n",
      "Gradient Masking Warning: Increasing epsilon did not improve the attack!!\n",
      "PGD accuracy: 1.6%\n",
      "Unbounded PGD model accuracy: 0.0%\n",
      "SPSA accuracy: 27.0%\n",
      "Gradient Masking Warning: Black Box attack was stronger than FGSM attack!!\n",
      "Random attack model accuracy -- eps = 0.006: 73.94%, eps = 0.03: 77.83%, eps = 0.06: 76.89%\n"
     ]
    },
    {
     "name": "stderr",
     "output_type": "stream",
     "text": [
      "\n"
     ]
    }
   ],
   "source": [
    "# step-ll model\n",
    "run_masking_benchmarks(step_ll_model, test_dataset, epsilon=0.06, device=device, batch_size=batch_size)"
   ]
  },
  {
   "cell_type": "markdown",
   "metadata": {},
   "source": [
    "Gradient normalization model does become more robust.\n",
    "\n",
    "Tried with 200 epochs, as in paper. all other nets 20e.\n",
    "\n",
    "Not able to replicate reported accuracy at eps=0.03 (reported is ~42%)\n",
    "\n",
    "Once more, random attacks get stronger as epsilon increases"
   ]
  },
  {
   "cell_type": "code",
   "execution_count": 16,
   "metadata": {},
   "outputs": [
    {
     "name": "stderr",
     "output_type": "stream",
     "text": [
      "100%|████████████████████████████████████████████████████████████████████████████████| 313/313 [00:04<00:00, 70.54it/s]\n",
      "100%|████████████████████████████████████████████████████████████████████████████████| 313/313 [00:11<00:00, 26.91it/s]\n",
      "100%|████████████████████████████████████████████████████████████████████████████████| 313/313 [00:11<00:00, 26.87it/s]\n",
      "100%|████████████████████████████████████████████████████████████████████████████████| 313/313 [00:11<00:00, 27.01it/s]\n",
      "100%|████████████████████████████████████████████████████████████████████████████████| 313/313 [00:52<00:00,  5.93it/s]\n",
      "100%|████████████████████████████████████████████████████████████████████████████████| 313/313 [00:52<00:00,  5.93it/s]\n",
      "100%|██████████████████████████████████████████████████████████████████████████████████| 13/13 [00:35<00:00,  2.72s/it]\n",
      "100%|████████████████████████████████████████████████████████████████████████████████| 313/313 [00:04<00:00, 64.71it/s]\n",
      "100%|████████████████████████████████████████████████████████████████████████████████| 313/313 [00:04<00:00, 63.97it/s]\n",
      "100%|████████████████████████████████████████████████████████████████████████████████| 313/313 [00:04<00:00, 63.74it/s]"
     ]
    },
    {
     "name": "stdout",
     "output_type": "stream",
     "text": [
      "Model accuracy: 92.47999999999999%\n",
      "FGSM attack model accuracy -- eps = 0.006: 72.28%, eps = 0.03: 13.850000000000001%, eps = 0.06: 3.45%\n",
      "PGD accuracy: 0.0%\n",
      "Unbounded PGD model accuracy: 0.0%\n",
      "SPSA accuracy: 9.0%\n",
      "Random attack model accuracy -- eps = 0.006: 92.45%, eps = 0.03: 90.09%, eps = 0.06: 81.96%\n"
     ]
    },
    {
     "name": "stderr",
     "output_type": "stream",
     "text": [
      "\n"
     ]
    }
   ],
   "source": [
    "run_masking_benchmarks(gradient_norm_model, test_dataset, epsilon=0.06, device=device, batch_size=batch_size)"
   ]
  },
  {
   "cell_type": "markdown",
   "metadata": {},
   "source": [
    "## Wide RESNET Model"
   ]
  },
  {
   "cell_type": "code",
   "execution_count": 7,
   "metadata": {},
   "outputs": [
    {
     "name": "stderr",
     "output_type": "stream",
     "text": [
      "100%|████████████████████████████████████████████████████████████████████████████████| 313/313 [00:28<00:00, 11.02it/s]\n",
      "100%|████████████████████████████████████████████████████████████████████████████████| 313/313 [00:46<00:00,  6.78it/s]\n",
      "100%|████████████████████████████████████████████████████████████████████████████████| 313/313 [00:46<00:00,  6.79it/s]\n",
      "100%|████████████████████████████████████████████████████████████████████████████████| 313/313 [00:46<00:00,  6.73it/s]\n",
      "100%|████████████████████████████████████████████████████████████████████████████████| 313/313 [10:44<00:00,  2.06s/it]\n",
      "100%|████████████████████████████████████████████████████████████████████████████████| 313/313 [10:43<00:00,  2.05s/it]\n",
      "100%|██████████████████████████████████████████████████████████████████████████████████| 13/13 [03:41<00:00, 17.02s/it]"
     ]
    },
    {
     "name": "stdout",
     "output_type": "stream",
     "text": [
      "Model accuracy: 84.27%\n",
      "FGSM attack model accuracy -- eps = 0.006: 31.900000000000002%, eps = 0.03: 5.33%, eps = 0.06: 4.5600000000000005%\n",
      "PGD accuracy: 0.0%\n",
      "Unbounded PGD model accuracy: 0.0%\n",
      "SPSA accuracy: 11.0%\n"
     ]
    },
    {
     "name": "stderr",
     "output_type": "stream",
     "text": [
      "\n"
     ]
    }
   ],
   "source": [
    "run_masking_benchmarks(wide_model, test_dataset, epsilon=0.06, device=device, batch_size=batch_size)"
   ]
  },
  {
   "cell_type": "code",
   "execution_count": 8,
   "metadata": {},
   "outputs": [
    {
     "name": "stderr",
     "output_type": "stream",
     "text": [
      "100%|████████████████████████████████████████████████████████████████████████████████| 313/313 [00:15<00:00, 20.21it/s]\n",
      "100%|████████████████████████████████████████████████████████████████████████████████| 313/313 [00:46<00:00,  6.70it/s]\n",
      "100%|████████████████████████████████████████████████████████████████████████████████| 313/313 [00:46<00:00,  6.77it/s]\n",
      "100%|████████████████████████████████████████████████████████████████████████████████| 313/313 [00:45<00:00,  6.85it/s]\n",
      "100%|████████████████████████████████████████████████████████████████████████████████| 313/313 [10:28<00:00,  2.01s/it]\n",
      "100%|████████████████████████████████████████████████████████████████████████████████| 313/313 [10:26<00:00,  2.00s/it]\n",
      "100%|██████████████████████████████████████████████████████████████████████████████████| 13/13 [03:34<00:00, 16.49s/it]"
     ]
    },
    {
     "name": "stdout",
     "output_type": "stream",
     "text": [
      "Model accuracy: 63.190000000000005%\n",
      "FGSM attack model accuracy -- eps = 0.006: 12.4%, eps = 0.03: 72.77%, eps = 0.06: 85.47%\n",
      "Gradient Masking Warning: Increasing epsilon did not improve the attack!!\n",
      "PGD accuracy: 0.0%\n",
      "Unbounded PGD model accuracy: 0.0%\n",
      "SPSA accuracy: 0.0%\n",
      "Gradient Masking Warning: Black Box attack was stronger than FGSM attack!!\n"
     ]
    },
    {
     "name": "stderr",
     "output_type": "stream",
     "text": [
      "\n"
     ]
    }
   ],
   "source": [
    "run_masking_benchmarks(wide_fgsm_model, test_dataset, epsilon=0.06, device=device, batch_size=batch_size)"
   ]
  }
 ],
 "metadata": {
  "kernelspec": {
   "display_name": "Python 3",
   "language": "python",
   "name": "python3"
  },
  "language_info": {
   "codemirror_mode": {
    "name": "ipython",
    "version": 3
   },
   "file_extension": ".py",
   "mimetype": "text/x-python",
   "name": "python",
   "nbconvert_exporter": "python",
   "pygments_lexer": "ipython3",
   "version": "3.8.5"
  }
 },
 "nbformat": 4,
 "nbformat_minor": 4
}
