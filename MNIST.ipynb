{
 "cells": [
  {
   "cell_type": "code",
   "execution_count": 1,
   "metadata": {},
   "outputs": [],
   "source": [
    "from __future__ import print_function\n",
    "import argparse\n",
    "import torch\n",
    "import torch.nn as nn\n",
    "import torch.nn.functional as F\n",
    "import torch.optim as optim\n",
    "from torchvision import datasets, transforms\n",
    "from torch.optim.lr_scheduler import StepLR\n",
    "import matplotlib.pyplot as plt"
   ]
  },
  {
   "cell_type": "code",
   "execution_count": 2,
   "metadata": {},
   "outputs": [],
   "source": [
    "device = torch.device(\"cuda\")\n",
    "use_cuda = True\n",
    "batch_size = 64\n",
    "test_batch_size = 1000\n",
    "epochs = 14\n",
    "log_interval = 100\n",
    "transform=transforms.Compose([\n",
    "        transforms.ToTensor(),\n",
    "        transforms.Normalize((0.1307,), (0.3081,))\n",
    "        ])\n",
    "normalized_min = (0 - 0.1307) / 0.3081\n",
    "normalized_max = (1 - 0.1307) / 0.3081\n",
    "train_dataset = datasets.MNIST('data', train=True, download=True,\n",
    "                       transform=transform)\n",
    "test_dataset = datasets.MNIST('data', train=True, download=True,\n",
    "                       transform=transform)\n",
    "train_loader = torch.utils.data.DataLoader(train_dataset, batch_size=batch_size, num_workers=2, shuffle=True)\n",
    "test_loader = torch.utils.data.DataLoader(test_dataset, batch_size=test_batch_size, num_workers=2, shuffle=False)"
   ]
  },
  {
   "cell_type": "code",
   "execution_count": 3,
   "metadata": {},
   "outputs": [],
   "source": [
    "class Net(nn.Module):\n",
    "    def __init__(self):\n",
    "        super(Net, self).__init__()\n",
    "        self.conv1 = nn.Conv2d(1, 32, 3, 1)\n",
    "        self.conv2 = nn.Conv2d(32, 64, 3, 1)\n",
    "        self.dropout1 = nn.Dropout2d(0.25)\n",
    "        self.dropout2 = nn.Dropout2d(0.5)\n",
    "        self.fc1 = nn.Linear(9216, 128)\n",
    "        self.fc2 = nn.Linear(128, 10)\n",
    "\n",
    "    def forward(self, x):\n",
    "        x = self.conv1(x)\n",
    "        x = F.relu(x)\n",
    "        x = self.conv2(x)\n",
    "        x = F.relu(x)\n",
    "        x = F.max_pool2d(x, 2)\n",
    "        x = self.dropout1(x)\n",
    "        x = torch.flatten(x, 1)\n",
    "        x = self.fc1(x)\n",
    "        x = F.relu(x)\n",
    "        x = self.dropout2(x)\n",
    "        x = self.fc2(x)\n",
    "        return x"
   ]
  },
  {
   "cell_type": "code",
   "execution_count": 4,
   "metadata": {},
   "outputs": [],
   "source": [
    "def train(model, device, train_loader, optimizer, epoch):\n",
    "    model.train()\n",
    "    criterion = nn.CrossEntropyLoss()\n",
    "    for batch_idx, (data, target) in enumerate(train_loader):\n",
    "        data, target = data.to(device), target.to(device)\n",
    "        optimizer.zero_grad()\n",
    "        output = model(data)\n",
    "        loss = criterion(output, target)\n",
    "        loss.backward()\n",
    "        optimizer.step()\n",
    "        if batch_idx % log_interval == 0:\n",
    "            print('Train Epoch: {} [{}/{} ({:.0f}%)]\\tLoss: {:.6f}'.format(\n",
    "                epoch, batch_idx * len(data), len(train_loader.dataset),\n",
    "                100. * batch_idx / len(train_loader), loss.item()))"
   ]
  },
  {
   "cell_type": "code",
   "execution_count": 5,
   "metadata": {},
   "outputs": [],
   "source": [
    "def test(model, device, test_loader):\n",
    "    model.eval()\n",
    "    test_loss = 0\n",
    "    correct = 0\n",
    "    criterion = nn.CrossEntropyLoss()\n",
    "    with torch.no_grad():\n",
    "        for data, target in test_loader:\n",
    "            data, target = data.to(device), target.to(device)\n",
    "            output = model(data)\n",
    "            test_loss += criterion(output, target).sum().item()  # sum up batch loss\n",
    "            pred = output.argmax(dim=1, keepdim=True)  # get the index of the max log-probability\n",
    "            correct += pred.eq(target.view_as(pred)).sum().item()\n",
    "\n",
    "    test_loss /= len(test_loader.dataset)\n",
    "\n",
    "    print('\\nTest set: Average loss: {:.4f}, Accuracy: {}/{} ({:.0f}%)\\n'.format(\n",
    "        test_loss, correct, len(test_loader.dataset),\n",
    "        100. * correct / len(test_loader.dataset)))\n"
   ]
  },
  {
   "cell_type": "code",
   "execution_count": 6,
   "metadata": {},
   "outputs": [
    {
     "name": "stdout",
     "output_type": "stream",
     "text": [
      "Train Epoch: 1 [0/60000 (0%)]\tLoss: 2.289829\n",
      "Train Epoch: 1 [6400/60000 (11%)]\tLoss: 1.240890\n",
      "Train Epoch: 1 [12800/60000 (21%)]\tLoss: 0.496695\n",
      "Train Epoch: 1 [19200/60000 (32%)]\tLoss: 0.666997\n",
      "Train Epoch: 1 [25600/60000 (43%)]\tLoss: 0.483966\n",
      "Train Epoch: 1 [32000/60000 (53%)]\tLoss: 0.228598\n",
      "Train Epoch: 1 [38400/60000 (64%)]\tLoss: 0.360383\n",
      "Train Epoch: 1 [44800/60000 (75%)]\tLoss: 0.357736\n",
      "Train Epoch: 1 [51200/60000 (85%)]\tLoss: 0.349641\n",
      "Train Epoch: 1 [57600/60000 (96%)]\tLoss: 0.278837\n",
      "\n",
      "Test set: Average loss: 0.0002, Accuracy: 56138/60000 (94%)\n",
      "\n",
      "Train Epoch: 2 [0/60000 (0%)]\tLoss: 0.499964\n",
      "Train Epoch: 2 [6400/60000 (11%)]\tLoss: 0.150696\n",
      "Train Epoch: 2 [12800/60000 (21%)]\tLoss: 0.312374\n",
      "Train Epoch: 2 [19200/60000 (32%)]\tLoss: 0.224071\n",
      "Train Epoch: 2 [25600/60000 (43%)]\tLoss: 0.290569\n",
      "Train Epoch: 2 [32000/60000 (53%)]\tLoss: 0.218040\n",
      "Train Epoch: 2 [38400/60000 (64%)]\tLoss: 0.184635\n",
      "Train Epoch: 2 [44800/60000 (75%)]\tLoss: 0.140762\n",
      "Train Epoch: 2 [51200/60000 (85%)]\tLoss: 0.157989\n",
      "Train Epoch: 2 [57600/60000 (96%)]\tLoss: 0.137529\n",
      "\n",
      "Test set: Average loss: 0.0001, Accuracy: 57379/60000 (96%)\n",
      "\n"
     ]
    }
   ],
   "source": [
    "model = Net().to(device)\n",
    "optimizer = optim.SGD(model.parameters(), lr=0.001, momentum=0.9)\n",
    "\n",
    "for epoch in range(1, epochs + 1):\n",
    "        train(model, device, train_loader, optimizer, epoch)\n",
    "        test(model, device, test_loader)"
   ]
  },
  {
   "cell_type": "markdown",
   "metadata": {},
   "source": [
    "## Attack"
   ]
  },
  {
   "cell_type": "code",
   "execution_count": 16,
   "metadata": {},
   "outputs": [],
   "source": [
    "def fgsm_(model, x, target, eps, targeted=True, device='cpu', clip_min=None, clip_max=None):\n",
    "    \"\"\"Internal process for all FGSM and PGD attacks.\"\"\"    \n",
    "    # create a copy of the input, remove all previous associations to the compute graph...\n",
    "    input_ = x.clone().detach_().to(device)\n",
    "    # ... and make sure we are differentiating toward that variable\n",
    "    input_.requires_grad_()\n",
    "\n",
    "    # run the model and obtain the loss\n",
    "    \n",
    "    model.zero_grad()\n",
    "    logits = model(input_)\n",
    "    loss = nn.CrossEntropyLoss()(logits, target)\n",
    "    loss.backward()\n",
    "    #perfrom either targeted or untargeted attack\n",
    "    if targeted:\n",
    "        out = input_ - eps * input_.grad.sign()\n",
    "    else:\n",
    "        out = input_ + eps * input_.grad.sign()\n",
    "    \n",
    "    #if desired clip the ouput back to the image domain\n",
    "    if (clip_min is not None) or (clip_max is not None):\n",
    "        out.clamp_(min=clip_min, max=clip_max)\n",
    "    return out\n"
   ]
  },
  {
   "cell_type": "code",
   "execution_count": 17,
   "metadata": {},
   "outputs": [],
   "source": [
    "def pgd_(model, x, target, step, eps, iters=7, targeted=True, device='cpu', clip_min=None, clip_max=None):\n",
    "    projection_min = (x - eps).clamp_(min=clip_min)\n",
    "    projection_max = (x + eps).clamp_(max=clip_max)\n",
    "    \n",
    "    # generate a random point in the +-eps box around x\n",
    "    offset = torch.rand_like(x)\n",
    "    offset = (offset*2*eps - eps)\n",
    "    x = x + offset\n",
    "    for _ in range(iters):\n",
    "        x = fgsm_(model, x, target, step, targeted=targeted, device=device, clip_min=None, clip_max=None)\n",
    "        # project\n",
    "        x = torch.where(x < projection_min, projection_min, x)\n",
    "        x = torch.where(x > projection_max, projection_max, x)\n",
    "        \n",
    "    if (clip_min is not None) or (clip_max is not None):\n",
    "        x.clamp_(min=clip_min, max=clip_max)\n",
    "    return x"
   ]
  },
  {
   "cell_type": "code",
   "execution_count": 18,
   "metadata": {},
   "outputs": [],
   "source": [
    "def adversarial_accuracy(model, dataset_loader):\n",
    "    correct = 0\n",
    "    for batch_idx, (data, target) in enumerate(dataset_loader):\n",
    "        data, target = data.to(device), target.to(device)\n",
    "        adv = pgd_(model, data, target, 0.1, 0.5, iters=7, targeted=False, device=device, clip_min=normalized_min, clip_max=normalized_max)\n",
    "        output = model(adv)\n",
    "        pred = output.argmax(dim=1, keepdim=True)\n",
    "        correct += pred.eq(target.view_as(pred)).sum().item()\n",
    "        if (batch_idx % 100 == 0):\n",
    "            print('{} / {}'.format(batch_idx * dataset_loader.batch_size, len(dataset_loader.dataset)))\n",
    "    print ((correct/len(dataset_loader.dataset) * 100))"
   ]
  },
  {
   "cell_type": "code",
   "execution_count": 24,
   "metadata": {},
   "outputs": [
    {
     "name": "stdout",
     "output_type": "stream",
     "text": [
      "0 / 1000\n",
      "200 / 1000\n",
      "400 / 1000\n",
      "600 / 1000\n",
      "800 / 1000\n",
      "88.7\n"
     ]
    }
   ],
   "source": [
    "adversarial_dataset = torch.utils.data.Subset(test_dataset, [i for i in range(1000)])\n",
    "adversarial_loader = torch.utils.data.DataLoader(adversarial_dataset, batch_size=2, num_workers=2, shuffle=False)\n",
    "adversarial_accuracy(model, adversarial_loader)"
   ]
  },
  {
   "cell_type": "markdown",
   "metadata": {},
   "source": [
    "## Adversarial Training"
   ]
  },
  {
   "cell_type": "code",
   "execution_count": 22,
   "metadata": {},
   "outputs": [],
   "source": [
    "def adv_train(model, device, train_loader, optimizer, epochs):\n",
    "    model.train()\n",
    "    criterion = nn.CrossEntropyLoss()\n",
    "    for epoch in range(epochs + 1):\n",
    "        for batch_idx, (data, target) in enumerate(train_loader):\n",
    "            data, target = data.to(device), target.to(device)\n",
    "            adv_data = pgd_(model, data, target, 0.1, 0.5, iters=7, targeted=False, device=device, clip_min=normalized_min, clip_max=normalized_max)\n",
    "            optimizer.zero_grad()\n",
    "            output = model(adv_data)\n",
    "            loss = criterion(output, target)\n",
    "            loss.backward()\n",
    "            optimizer.step()\n",
    "            if batch_idx % log_interval == 0:\n",
    "                print('Train Epoch: {} [{}/{} ({:.0f}%)]\\tLoss: {:.6f}'.format(\n",
    "                    epoch, batch_idx * len(data), len(train_loader.dataset),\n",
    "                    100. * batch_idx / len(train_loader), loss.item()))"
   ]
  },
  {
   "cell_type": "code",
   "execution_count": 23,
   "metadata": {},
   "outputs": [
    {
     "name": "stdout",
     "output_type": "stream",
     "text": [
      "Train Epoch: 0 [0/60000 (0%)]\tLoss: 1.166683\n",
      "Train Epoch: 0 [6400/60000 (11%)]\tLoss: 0.718253\n",
      "Train Epoch: 0 [12800/60000 (21%)]\tLoss: 0.672499\n",
      "Train Epoch: 0 [19200/60000 (32%)]\tLoss: 0.457467\n",
      "Train Epoch: 0 [25600/60000 (43%)]\tLoss: 0.656278\n",
      "Train Epoch: 0 [32000/60000 (53%)]\tLoss: 0.622606\n",
      "Train Epoch: 0 [38400/60000 (64%)]\tLoss: 0.891890\n",
      "Train Epoch: 0 [44800/60000 (75%)]\tLoss: 0.652796\n",
      "Train Epoch: 0 [51200/60000 (85%)]\tLoss: 0.674215\n",
      "Train Epoch: 0 [57600/60000 (96%)]\tLoss: 0.522886\n",
      "Train Epoch: 1 [0/60000 (0%)]\tLoss: 0.486919\n",
      "Train Epoch: 1 [6400/60000 (11%)]\tLoss: 0.349537\n",
      "Train Epoch: 1 [12800/60000 (21%)]\tLoss: 0.377484\n",
      "Train Epoch: 1 [19200/60000 (32%)]\tLoss: 0.888761\n",
      "Train Epoch: 1 [25600/60000 (43%)]\tLoss: 0.392955\n",
      "Train Epoch: 1 [32000/60000 (53%)]\tLoss: 0.328932\n",
      "Train Epoch: 1 [38400/60000 (64%)]\tLoss: 0.477003\n",
      "Train Epoch: 1 [44800/60000 (75%)]\tLoss: 0.580120\n",
      "Train Epoch: 1 [51200/60000 (85%)]\tLoss: 0.322453\n",
      "Train Epoch: 1 [57600/60000 (96%)]\tLoss: 0.407743\n",
      "Train Epoch: 2 [0/60000 (0%)]\tLoss: 0.261882\n",
      "Train Epoch: 2 [6400/60000 (11%)]\tLoss: 0.321945\n",
      "Train Epoch: 2 [12800/60000 (21%)]\tLoss: 0.246888\n",
      "Train Epoch: 2 [19200/60000 (32%)]\tLoss: 0.428115\n",
      "Train Epoch: 2 [25600/60000 (43%)]\tLoss: 0.415291\n",
      "Train Epoch: 2 [32000/60000 (53%)]\tLoss: 0.343024\n",
      "Train Epoch: 2 [38400/60000 (64%)]\tLoss: 0.420531\n",
      "Train Epoch: 2 [44800/60000 (75%)]\tLoss: 0.650494\n",
      "Train Epoch: 2 [51200/60000 (85%)]\tLoss: 0.437264\n",
      "Train Epoch: 2 [57600/60000 (96%)]\tLoss: 0.341822\n"
     ]
    }
   ],
   "source": [
    "adv_train(model, device, train_loader, optimizer, 2)"
   ]
  }
 ],
 "metadata": {
  "kernelspec": {
   "display_name": "pytorch-env",
   "language": "python",
   "name": "pytorch-env"
  },
  "language_info": {
   "codemirror_mode": {
    "name": "ipython",
    "version": 3
   },
   "file_extension": ".py",
   "mimetype": "text/x-python",
   "name": "python",
   "nbconvert_exporter": "python",
   "pygments_lexer": "ipython3",
   "version": "3.6.9"
  }
 },
 "nbformat": 4,
 "nbformat_minor": 2
}
