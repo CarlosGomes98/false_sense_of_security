{
 "cells": [
  {
   "cell_type": "code",
   "execution_count": 1,
   "metadata": {},
   "outputs": [],
   "source": [
    "from __future__ import print_function\n",
    "import argparse\n",
    "import numpy as np\n",
    "import torch\n",
    "import torch.nn as nn\n",
    "import torch.nn.functional as F\n",
    "import torch.optim as optim\n",
    "from torchvision import datasets, transforms\n",
    "from torch.optim.lr_scheduler import StepLR\n",
    "import matplotlib.pyplot as plt\n",
    "from utils import pgd_, fgsm_, gradient_information, adversarial_accuracy, gradient_norm\n",
    "from Nets import MNIST_Net, Gradient_Masked_MNIST, PGD_MNIST\n",
    "%load_ext autoreload\n",
    "%autoreload 2\n",
    "%aimport utils, Nets"
   ]
  },
  {
   "cell_type": "markdown",
   "metadata": {},
   "source": [
    "## Train a NeuralNet to run experiments on"
   ]
  },
  {
   "cell_type": "code",
   "execution_count": 2,
   "metadata": {
    "scrolled": true
   },
   "outputs": [
    {
     "name": "stdout",
     "output_type": "stream",
     "text": [
      "Train Epoch: 1 [0/60000 (0%)]\tLoss: 2.332214\n",
      "Train Epoch: 1 [32000/60000 (53%)]\tLoss: 0.447761\n",
      "\n",
      "Test set: Average loss: 0.0002, Accuracy: 56098/60000 (93%)\n",
      "\n",
      "Train Epoch: 2 [0/60000 (0%)]\tLoss: 0.291600\n",
      "Train Epoch: 2 [32000/60000 (53%)]\tLoss: 0.156302\n",
      "\n",
      "Test set: Average loss: 0.0002, Accuracy: 57132/60000 (95%)\n",
      "\n",
      "Train Epoch: 3 [0/60000 (0%)]\tLoss: 0.214490\n",
      "Train Epoch: 3 [32000/60000 (53%)]\tLoss: 0.050031\n",
      "\n",
      "Test set: Average loss: 0.0001, Accuracy: 57703/60000 (96%)\n",
      "\n",
      "Train Epoch: 4 [0/60000 (0%)]\tLoss: 0.216857\n",
      "Train Epoch: 4 [32000/60000 (53%)]\tLoss: 0.129562\n",
      "\n",
      "Test set: Average loss: 0.0001, Accuracy: 58154/60000 (97%)\n",
      "\n",
      "Train Epoch: 5 [0/60000 (0%)]\tLoss: 0.178554\n",
      "Train Epoch: 5 [32000/60000 (53%)]\tLoss: 0.213824\n",
      "\n",
      "Test set: Average loss: 0.0001, Accuracy: 58495/60000 (97%)\n",
      "\n",
      "Train Epoch: 6 [0/60000 (0%)]\tLoss: 0.056753\n",
      "Train Epoch: 6 [32000/60000 (53%)]\tLoss: 0.120665\n",
      "\n",
      "Test set: Average loss: 0.0001, Accuracy: 58714/60000 (98%)\n",
      "\n",
      "Train Epoch: 7 [0/60000 (0%)]\tLoss: 0.226165\n",
      "Train Epoch: 7 [32000/60000 (53%)]\tLoss: 0.205376\n",
      "\n",
      "Test set: Average loss: 0.0001, Accuracy: 58876/60000 (98%)\n",
      "\n",
      "Train Epoch: 8 [0/60000 (0%)]\tLoss: 0.261058\n",
      "Train Epoch: 8 [32000/60000 (53%)]\tLoss: 0.092145\n",
      "\n",
      "Test set: Average loss: 0.0001, Accuracy: 59015/60000 (98%)\n",
      "\n",
      "Train Epoch: 9 [0/60000 (0%)]\tLoss: 0.155344\n",
      "Train Epoch: 9 [32000/60000 (53%)]\tLoss: 0.232256\n",
      "\n",
      "Test set: Average loss: 0.0000, Accuracy: 59120/60000 (99%)\n",
      "\n",
      "Train Epoch: 10 [0/60000 (0%)]\tLoss: 0.088717\n",
      "Train Epoch: 10 [32000/60000 (53%)]\tLoss: 0.116985\n",
      "\n",
      "Test set: Average loss: 0.0000, Accuracy: 59218/60000 (99%)\n",
      "\n",
      "Train Epoch: 11 [0/60000 (0%)]\tLoss: 0.057990\n",
      "Train Epoch: 11 [32000/60000 (53%)]\tLoss: 0.044351\n",
      "\n",
      "Test set: Average loss: 0.0000, Accuracy: 59305/60000 (99%)\n",
      "\n",
      "Train Epoch: 12 [0/60000 (0%)]\tLoss: 0.072014\n",
      "Train Epoch: 12 [32000/60000 (53%)]\tLoss: 0.056262\n",
      "\n",
      "Test set: Average loss: 0.0000, Accuracy: 59371/60000 (99%)\n",
      "\n",
      "Train Epoch: 13 [0/60000 (0%)]\tLoss: 0.066145\n",
      "Train Epoch: 13 [32000/60000 (53%)]\tLoss: 0.008659\n",
      "\n",
      "Test set: Average loss: 0.0000, Accuracy: 59429/60000 (99%)\n",
      "\n",
      "Train Epoch: 14 [0/60000 (0%)]\tLoss: 0.115060\n",
      "Train Epoch: 14 [32000/60000 (53%)]\tLoss: 0.013014\n",
      "\n",
      "Test set: Average loss: 0.0000, Accuracy: 59453/60000 (99%)\n",
      "\n"
     ]
    }
   ],
   "source": [
    "device = torch.device(\"cuda\")\n",
    "batch_size = 64\n",
    "test_batch_size = 1000\n",
    "epochs = 14\n",
    "log_interval = 500\n",
    "\n",
    "model = MNIST_Net(device=device, log_interval=log_interval, batch_size=batch_size, test_batch_size=test_batch_size)\n",
    "model.train_on_data(epochs)"
   ]
  },
  {
   "cell_type": "markdown",
   "metadata": {},
   "source": [
    "## Attack"
   ]
  },
  {
   "cell_type": "code",
   "execution_count": 3,
   "metadata": {},
   "outputs": [
    {
     "name": "stdout",
     "output_type": "stream",
     "text": [
      "0 / 1000\n",
      "200 / 1000\n",
      "400 / 1000\n",
      "600 / 1000\n",
      "800 / 1000\n",
      "16.400000000000002\n"
     ]
    }
   ],
   "source": [
    "adversarial_dataset = torch.utils.data.Subset(model.test_dataset, [i for i in range(1000)])\n",
    "adversarial_loader = torch.utils.data.DataLoader(adversarial_dataset, batch_size=2, num_workers=2, shuffle=False)\n",
    "adversarial_accuracy(model, adversarial_loader, attack=fgsm_, eps=1)"
   ]
  },
  {
   "cell_type": "markdown",
   "metadata": {},
   "source": [
    "## Load Gradient Masked Network"
   ]
  },
  {
   "cell_type": "code",
   "execution_count": 4,
   "metadata": {
    "scrolled": true
   },
   "outputs": [
    {
     "name": "stdout",
     "output_type": "stream",
     "text": [
      "Train Epoch: 1 [0/60000 (0%)]\tLoss: 2.379560\n",
      "Train Epoch: 1 [32000/60000 (53%)]\tLoss: 1.775419\n",
      "\n",
      "Test set: Average loss: 0.0005, Accuracy: 55055/60000 (92%)\n",
      "\n",
      "Train Epoch: 2 [0/60000 (0%)]\tLoss: 1.120899\n",
      "Train Epoch: 2 [32000/60000 (53%)]\tLoss: 1.143433\n",
      "\n",
      "Test set: Average loss: 0.0003, Accuracy: 57152/60000 (95%)\n",
      "\n",
      "Train Epoch: 3 [0/60000 (0%)]\tLoss: 1.156818\n",
      "Train Epoch: 3 [32000/60000 (53%)]\tLoss: 0.869239\n",
      "\n",
      "Test set: Average loss: 0.0002, Accuracy: 57769/60000 (96%)\n",
      "\n",
      "Train Epoch: 4 [0/60000 (0%)]\tLoss: 0.545322\n",
      "Train Epoch: 4 [32000/60000 (53%)]\tLoss: 0.854055\n",
      "\n",
      "Test set: Average loss: 0.0001, Accuracy: 58161/60000 (97%)\n",
      "\n",
      "Train Epoch: 5 [0/60000 (0%)]\tLoss: 1.018372\n",
      "Train Epoch: 5 [32000/60000 (53%)]\tLoss: 0.588856\n",
      "\n",
      "Test set: Average loss: 0.0001, Accuracy: 58355/60000 (97%)\n",
      "\n",
      "Train Epoch: 6 [0/60000 (0%)]\tLoss: 1.055253\n",
      "Train Epoch: 6 [32000/60000 (53%)]\tLoss: 0.886482\n",
      "\n",
      "Test set: Average loss: 0.0001, Accuracy: 58488/60000 (97%)\n",
      "\n",
      "Train Epoch: 7 [0/60000 (0%)]\tLoss: 0.428201\n",
      "Train Epoch: 7 [32000/60000 (53%)]\tLoss: 0.418781\n",
      "\n",
      "Test set: Average loss: 0.0001, Accuracy: 58751/60000 (98%)\n",
      "\n",
      "Train Epoch: 8 [0/60000 (0%)]\tLoss: 0.550756\n",
      "Train Epoch: 8 [32000/60000 (53%)]\tLoss: 0.711991\n",
      "\n",
      "Test set: Average loss: 0.0001, Accuracy: 58749/60000 (98%)\n",
      "\n",
      "Train Epoch: 9 [0/60000 (0%)]\tLoss: 0.516003\n",
      "Train Epoch: 9 [32000/60000 (53%)]\tLoss: 0.429984\n",
      "\n",
      "Test set: Average loss: 0.0001, Accuracy: 58973/60000 (98%)\n",
      "\n",
      "Train Epoch: 10 [0/60000 (0%)]\tLoss: 0.628199\n",
      "Train Epoch: 10 [32000/60000 (53%)]\tLoss: 0.475676\n",
      "\n",
      "Test set: Average loss: 0.0001, Accuracy: 59034/60000 (98%)\n",
      "\n",
      "Train Epoch: 11 [0/60000 (0%)]\tLoss: 0.373001\n",
      "Train Epoch: 11 [32000/60000 (53%)]\tLoss: 0.379505\n",
      "\n",
      "Test set: Average loss: 0.0001, Accuracy: 59107/60000 (99%)\n",
      "\n",
      "Train Epoch: 12 [0/60000 (0%)]\tLoss: 0.398785\n",
      "Train Epoch: 12 [32000/60000 (53%)]\tLoss: 0.484409\n",
      "\n",
      "Test set: Average loss: 0.0001, Accuracy: 59176/60000 (99%)\n",
      "\n",
      "Train Epoch: 13 [0/60000 (0%)]\tLoss: 0.130776\n",
      "Train Epoch: 13 [32000/60000 (53%)]\tLoss: 0.334998\n",
      "\n",
      "Test set: Average loss: 0.0001, Accuracy: 59172/60000 (99%)\n",
      "\n",
      "Train Epoch: 14 [0/60000 (0%)]\tLoss: 0.300039\n",
      "Train Epoch: 14 [32000/60000 (53%)]\tLoss: 0.276011\n",
      "\n",
      "Test set: Average loss: 0.0001, Accuracy: 59221/60000 (99%)\n",
      "\n"
     ]
    }
   ],
   "source": [
    "masked_model = Gradient_Masked_MNIST(device=device, log_interval=log_interval, batch_size=batch_size, test_batch_size=test_batch_size)\n",
    "masked_model.train_on_data(epochs)"
   ]
  },
  {
   "cell_type": "markdown",
   "metadata": {},
   "source": [
    "## Attack"
   ]
  },
  {
   "cell_type": "code",
   "execution_count": 5,
   "metadata": {},
   "outputs": [
    {
     "name": "stdout",
     "output_type": "stream",
     "text": [
      "0 / 1000\n",
      "200 / 1000\n",
      "400 / 1000\n",
      "600 / 1000\n",
      "800 / 1000\n",
      "88.9\n"
     ]
    }
   ],
   "source": [
    "adversarial_dataset = torch.utils.data.Subset(masked_model.test_dataset, [i for i in range(1000)])\n",
    "adversarial_loader = torch.utils.data.DataLoader(adversarial_dataset, batch_size=2, num_workers=2, shuffle=False)\n",
    "adversarial_accuracy(masked_model, adversarial_loader, attack=fgsm_, eps=1)"
   ]
  },
  {
   "cell_type": "markdown",
   "metadata": {},
   "source": [
    "## Load PGD trained network"
   ]
  },
  {
   "cell_type": "code",
   "execution_count": 23,
   "metadata": {
    "scrolled": true
   },
   "outputs": [
    {
     "name": "stdout",
     "output_type": "stream",
     "text": [
      "Train Epoch: 1 [0/60000 (0%)]\tLoss: 2.491678\n",
      "Train Epoch: 1 [32000/60000 (53%)]\tLoss: 2.173534\n",
      "\n",
      "Test set: Average loss: 0.0009, Accuracy: 50384/60000 (84%)\n",
      "\n",
      "Train Epoch: 2 [0/60000 (0%)]\tLoss: 1.678436\n",
      "Train Epoch: 2 [32000/60000 (53%)]\tLoss: 1.394930\n",
      "\n",
      "Test set: Average loss: 0.0004, Accuracy: 55457/60000 (92%)\n",
      "\n",
      "Train Epoch: 3 [0/60000 (0%)]\tLoss: 1.257905\n",
      "Train Epoch: 3 [32000/60000 (53%)]\tLoss: 1.185738\n",
      "\n",
      "Test set: Average loss: 0.0003, Accuracy: 57132/60000 (95%)\n",
      "\n",
      "Train Epoch: 4 [0/60000 (0%)]\tLoss: 1.072365\n",
      "Train Epoch: 4 [32000/60000 (53%)]\tLoss: 1.035070\n",
      "\n",
      "Test set: Average loss: 0.0002, Accuracy: 57800/60000 (96%)\n",
      "\n",
      "Train Epoch: 5 [0/60000 (0%)]\tLoss: 0.723136\n",
      "Train Epoch: 5 [32000/60000 (53%)]\tLoss: 0.646094\n",
      "\n",
      "Test set: Average loss: 0.0001, Accuracy: 58186/60000 (97%)\n",
      "\n",
      "Train Epoch: 6 [0/60000 (0%)]\tLoss: 0.829211\n",
      "Train Epoch: 6 [32000/60000 (53%)]\tLoss: 0.933726\n",
      "\n",
      "Test set: Average loss: 0.0001, Accuracy: 58364/60000 (97%)\n",
      "\n",
      "Train Epoch: 7 [0/60000 (0%)]\tLoss: 0.662220\n",
      "Train Epoch: 7 [32000/60000 (53%)]\tLoss: 0.550378\n",
      "\n",
      "Test set: Average loss: 0.0001, Accuracy: 58545/60000 (98%)\n",
      "\n",
      "Train Epoch: 8 [0/60000 (0%)]\tLoss: 0.838995\n",
      "Train Epoch: 8 [32000/60000 (53%)]\tLoss: 0.515276\n",
      "\n",
      "Test set: Average loss: 0.0001, Accuracy: 58669/60000 (98%)\n",
      "\n",
      "Train Epoch: 9 [0/60000 (0%)]\tLoss: 0.403169\n",
      "Train Epoch: 9 [32000/60000 (53%)]\tLoss: 0.685607\n",
      "\n",
      "Test set: Average loss: 0.0001, Accuracy: 58762/60000 (98%)\n",
      "\n",
      "Train Epoch: 10 [0/60000 (0%)]\tLoss: 0.570159\n",
      "Train Epoch: 10 [32000/60000 (53%)]\tLoss: 0.414489\n",
      "\n",
      "Test set: Average loss: 0.0001, Accuracy: 58821/60000 (98%)\n",
      "\n",
      "Train Epoch: 11 [0/60000 (0%)]\tLoss: 0.545179\n",
      "Train Epoch: 11 [32000/60000 (53%)]\tLoss: 0.363765\n",
      "\n",
      "Test set: Average loss: 0.0001, Accuracy: 58929/60000 (98%)\n",
      "\n",
      "Train Epoch: 12 [0/60000 (0%)]\tLoss: 0.220089\n",
      "Train Epoch: 12 [32000/60000 (53%)]\tLoss: 0.396394\n",
      "\n",
      "Test set: Average loss: 0.0001, Accuracy: 58995/60000 (98%)\n",
      "\n",
      "Train Epoch: 13 [0/60000 (0%)]\tLoss: 0.445228\n",
      "Train Epoch: 13 [32000/60000 (53%)]\tLoss: 0.227983\n",
      "\n",
      "Test set: Average loss: 0.0001, Accuracy: 59029/60000 (98%)\n",
      "\n",
      "Train Epoch: 14 [0/60000 (0%)]\tLoss: 0.441371\n",
      "Train Epoch: 14 [32000/60000 (53%)]\tLoss: 0.365554\n",
      "\n",
      "Test set: Average loss: 0.0001, Accuracy: 59086/60000 (98%)\n",
      "\n"
     ]
    }
   ],
   "source": [
    "pgd_model = PGD_MNIST(device=device, log_interval=log_interval, batch_size=batch_size, test_batch_size=test_batch_size, step=0.05, eps=1, iters=20)\n",
    "pgd_model.train_on_data(epochs)"
   ]
  },
  {
   "cell_type": "markdown",
   "metadata": {},
   "source": [
    "## Attack"
   ]
  },
  {
   "cell_type": "code",
   "execution_count": 24,
   "metadata": {},
   "outputs": [
    {
     "name": "stdout",
     "output_type": "stream",
     "text": [
      "0 / 1000\n",
      "200 / 1000\n",
      "400 / 1000\n",
      "600 / 1000\n",
      "800 / 1000\n",
      "90.9\n"
     ]
    }
   ],
   "source": [
    "adversarial_dataset = torch.utils.data.Subset(pgd_model.test_dataset, [i for i in range(1000)])\n",
    "adversarial_loader = torch.utils.data.DataLoader(adversarial_dataset, batch_size=2, num_workers=2, shuffle=False)\n",
    "adversarial_accuracy(pgd_model, adversarial_loader, attack=fgsm_, eps=1)"
   ]
  },
  {
   "cell_type": "markdown",
   "metadata": {},
   "source": [
    "## Gradient masking metric\n",
    "Check alignment of gradient at adv point with (adv point - original point)"
   ]
  },
  {
   "cell_type": "markdown",
   "metadata": {},
   "source": [
    "### Normal network"
   ]
  },
  {
   "cell_type": "code",
   "execution_count": 8,
   "metadata": {},
   "outputs": [],
   "source": [
    "n_examples = 1000\n",
    "x = torch.cat([model.train_dataset[i][0].unsqueeze(0) for i in range(n_examples)]).to(device)\n",
    "y = torch.LongTensor([model.train_dataset[i][1] for i in range(n_examples)]).to(device)"
   ]
  },
  {
   "cell_type": "code",
   "execution_count": 9,
   "metadata": {},
   "outputs": [
    {
     "data": {
      "text/plain": [
       "[(1, 0.20531067),\n",
       " (6, 0.5354743),\n",
       " (11, 0.550822),\n",
       " (16, 0.55232334),\n",
       " (21, 0.55256784),\n",
       " (26, 0.5516728),\n",
       " (31, 0.5516398),\n",
       " (36, 0.5519692)]"
      ]
     },
     "execution_count": 9,
     "metadata": {},
     "output_type": "execute_result"
    }
   ],
   "source": [
    "[(i, np.nanmean(gradient_information(model, x, y, iters=i*10, clip_min=model.normalized_min, clip_max=model.normalized_max, device=device).detach().cpu().numpy())) for i in range(1, 40, 5)]"
   ]
  },
  {
   "cell_type": "markdown",
   "metadata": {},
   "source": [
    "### FGSM trained network"
   ]
  },
  {
   "cell_type": "code",
   "execution_count": 58,
   "metadata": {},
   "outputs": [],
   "source": [
    "n_examples = 1000\n",
    "x = torch.cat([masked_model.train_dataset[i][0].unsqueeze(0) for i in range(n_examples)]).to(device)\n",
    "y = torch.LongTensor([masked_model.train_dataset[i][1] for i in range(n_examples)]).to(device)"
   ]
  },
  {
   "cell_type": "code",
   "execution_count": 11,
   "metadata": {},
   "outputs": [
    {
     "data": {
      "text/plain": [
       "[(1, 0.18873714),\n",
       " (6, 0.48728827),\n",
       " (11, 0.5040706),\n",
       " (16, 0.50230885),\n",
       " (21, 0.5038546),\n",
       " (26, 0.5071839),\n",
       " (31, 0.5036746),\n",
       " (36, 0.49869025)]"
      ]
     },
     "execution_count": 11,
     "metadata": {},
     "output_type": "execute_result"
    }
   ],
   "source": [
    "[(i, np.nanmean(gradient_information(masked_model, x, y, iters=i*10, clip_min=masked_model.normalized_min, clip_max=masked_model.normalized_max, device=device).detach().cpu().numpy())) for i in range(1, 40, 5)]"
   ]
  },
  {
   "cell_type": "markdown",
   "metadata": {},
   "source": [
    "### PGD trained network"
   ]
  },
  {
   "cell_type": "code",
   "execution_count": 25,
   "metadata": {},
   "outputs": [],
   "source": [
    "n_examples = 1000\n",
    "x = torch.cat([pgd_model.train_dataset[i][0].unsqueeze(0) for i in range(n_examples)]).to(device)\n",
    "y = torch.LongTensor([pgd_model.train_dataset[i][1] for i in range(n_examples)]).to(device)"
   ]
  },
  {
   "cell_type": "code",
   "execution_count": 26,
   "metadata": {},
   "outputs": [
    {
     "data": {
      "text/plain": [
       "[(1, 0.10904554),\n",
       " (6, 0.3140713),\n",
       " (11, 0.33384696),\n",
       " (16, 0.32671914),\n",
       " (21, 0.32991028),\n",
       " (26, 0.32651478),\n",
       " (31, 0.32870236),\n",
       " (36, 0.32701364)]"
      ]
     },
     "execution_count": 26,
     "metadata": {},
     "output_type": "execute_result"
    }
   ],
   "source": [
    "[(i, np.nanmean(gradient_information(pgd_model, x, y, iters=i*10, clip_min=pgd_model.normalized_min, clip_max=pgd_model.normalized_max, device=device).detach().cpu().numpy())) for i in range(1, 40, 5)]"
   ]
  },
  {
   "cell_type": "markdown",
   "metadata": {},
   "source": [
    "### Check gradient norms"
   ]
  },
  {
   "cell_type": "code",
   "execution_count": 27,
   "metadata": {},
   "outputs": [],
   "source": [
    "n_examples = 1000\n",
    "x = torch.cat([masked_model.train_dataset[i][0].unsqueeze(0) for i in range(n_examples)]).to(device)\n",
    "y = torch.LongTensor([masked_model.train_dataset[i][1] for i in range(n_examples)]).to(device)"
   ]
  },
  {
   "cell_type": "code",
   "execution_count": 28,
   "metadata": {},
   "outputs": [
    {
     "data": {
      "text/plain": [
       "(tensor(2.4784e-05, device='cuda:0'),\n",
       " tensor(2.4713e-05, device='cuda:0'),\n",
       " tensor(2.0038e-05, device='cuda:0'))"
      ]
     },
     "execution_count": 28,
     "metadata": {},
     "output_type": "execute_result"
    }
   ],
   "source": [
    "gradient_norm(model, x, y, device=device), gradient_norm(masked_model, x, y, device=device), gradient_norm(pgd_model, x, y, device=device)"
   ]
  },
  {
   "cell_type": "markdown",
   "metadata": {},
   "source": [
    "## Adversarial Training"
   ]
  },
  {
   "cell_type": "code",
   "execution_count": 48,
   "metadata": {},
   "outputs": [],
   "source": [
    "def adv_train(model, device, train_loader, optimizer, epochs):\n",
    "    model.train()\n",
    "    criterion = nn.CrossEntropyLoss()\n",
    "    for epoch in range(epochs + 1):\n",
    "        for batch_idx, (data, target) in enumerate(train_loader):\n",
    "            data, target = data.to(device), target.to(device)\n",
    "            adv_data = pgd_(model, data, target, 0.1, 0.5, iters=7, targeted=False, device=device, clip_min=normalized_min, clip_max=normalized_max)\n",
    "            optimizer.zero_grad()\n",
    "            output = model(adv_data)\n",
    "            loss = criterion(output, target)\n",
    "            loss.backward()\n",
    "            optimizer.step()\n",
    "            if batch_idx % log_interval == 0:\n",
    "                print('Train Epoch: {} [{}/{} ({:.0f}%)]\\tLoss: {:.6f}'.format(\n",
    "                    epoch, batch_idx * len(data), len(train_loader.dataset),\n",
    "                    100. * batch_idx / len(train_loader), loss.item()))"
   ]
  },
  {
   "cell_type": "code",
   "execution_count": 55,
   "metadata": {},
   "outputs": [
    {
     "name": "stdout",
     "output_type": "stream",
     "text": [
      "Train Epoch: 0 [0/60000 (0%)]\tLoss: 0.735852\n",
      "Train Epoch: 0 [6400/60000 (11%)]\tLoss: 0.935562\n",
      "Train Epoch: 0 [12800/60000 (21%)]\tLoss: 0.539442\n",
      "Train Epoch: 0 [19200/60000 (32%)]\tLoss: 0.542072\n",
      "Train Epoch: 0 [25600/60000 (43%)]\tLoss: 0.375298\n",
      "Train Epoch: 0 [32000/60000 (53%)]\tLoss: 0.234662\n",
      "Train Epoch: 0 [38400/60000 (64%)]\tLoss: 0.547802\n",
      "Train Epoch: 0 [44800/60000 (75%)]\tLoss: 0.331915\n",
      "Train Epoch: 0 [51200/60000 (85%)]\tLoss: 0.199902\n",
      "Train Epoch: 0 [57600/60000 (96%)]\tLoss: 0.282771\n",
      "Train Epoch: 1 [0/60000 (0%)]\tLoss: 0.450014\n",
      "Train Epoch: 1 [6400/60000 (11%)]\tLoss: 0.228553\n",
      "Train Epoch: 1 [12800/60000 (21%)]\tLoss: 0.216324\n",
      "Train Epoch: 1 [19200/60000 (32%)]\tLoss: 0.487287\n",
      "Train Epoch: 1 [25600/60000 (43%)]\tLoss: 0.375047\n",
      "Train Epoch: 1 [32000/60000 (53%)]\tLoss: 0.198464\n",
      "Train Epoch: 1 [38400/60000 (64%)]\tLoss: 0.329873\n",
      "Train Epoch: 1 [44800/60000 (75%)]\tLoss: 0.318543\n",
      "Train Epoch: 1 [51200/60000 (85%)]\tLoss: 0.161249\n",
      "Train Epoch: 1 [57600/60000 (96%)]\tLoss: 0.292225\n",
      "Train Epoch: 2 [0/60000 (0%)]\tLoss: 0.281543\n",
      "Train Epoch: 2 [6400/60000 (11%)]\tLoss: 0.347752\n",
      "Train Epoch: 2 [12800/60000 (21%)]\tLoss: 0.295510\n",
      "Train Epoch: 2 [19200/60000 (32%)]\tLoss: 0.263011\n",
      "Train Epoch: 2 [25600/60000 (43%)]\tLoss: 0.110007\n",
      "Train Epoch: 2 [32000/60000 (53%)]\tLoss: 0.204418\n",
      "Train Epoch: 2 [38400/60000 (64%)]\tLoss: 0.459473\n",
      "Train Epoch: 2 [44800/60000 (75%)]\tLoss: 0.264250\n",
      "Train Epoch: 2 [51200/60000 (85%)]\tLoss: 0.281901\n",
      "Train Epoch: 2 [57600/60000 (96%)]\tLoss: 0.141139\n",
      "Train Epoch: 3 [0/60000 (0%)]\tLoss: 0.151221\n",
      "Train Epoch: 3 [6400/60000 (11%)]\tLoss: 0.554338\n",
      "Train Epoch: 3 [12800/60000 (21%)]\tLoss: 0.308031\n",
      "Train Epoch: 3 [19200/60000 (32%)]\tLoss: 0.278305\n",
      "Train Epoch: 3 [25600/60000 (43%)]\tLoss: 0.292606\n",
      "Train Epoch: 3 [32000/60000 (53%)]\tLoss: 0.424270\n",
      "Train Epoch: 3 [38400/60000 (64%)]\tLoss: 0.162756\n",
      "Train Epoch: 3 [44800/60000 (75%)]\tLoss: 0.169706\n",
      "Train Epoch: 3 [51200/60000 (85%)]\tLoss: 0.328725\n",
      "Train Epoch: 3 [57600/60000 (96%)]\tLoss: 0.124903\n",
      "Train Epoch: 4 [0/60000 (0%)]\tLoss: 0.212911\n",
      "Train Epoch: 4 [6400/60000 (11%)]\tLoss: 0.305090\n",
      "Train Epoch: 4 [12800/60000 (21%)]\tLoss: 0.225275\n",
      "Train Epoch: 4 [19200/60000 (32%)]\tLoss: 0.199005\n",
      "Train Epoch: 4 [25600/60000 (43%)]\tLoss: 0.369389\n",
      "Train Epoch: 4 [32000/60000 (53%)]\tLoss: 0.138393\n",
      "Train Epoch: 4 [38400/60000 (64%)]\tLoss: 0.281870\n",
      "Train Epoch: 4 [44800/60000 (75%)]\tLoss: 0.351363\n",
      "Train Epoch: 4 [51200/60000 (85%)]\tLoss: 0.108229\n",
      "Train Epoch: 4 [57600/60000 (96%)]\tLoss: 0.282040\n"
     ]
    }
   ],
   "source": [
    "undefended_model = type(model)().to(device)\n",
    "undefended_model.load_state_dict(model.state_dict())\n",
    "adv_train(model, device, train_loader, optimizer, 4)"
   ]
  },
  {
   "cell_type": "code",
   "execution_count": 56,
   "metadata": {},
   "outputs": [
    {
     "name": "stdout",
     "output_type": "stream",
     "text": [
      "0 / 1000\n",
      "200 / 1000\n",
      "400 / 1000\n",
      "600 / 1000\n",
      "800 / 1000\n",
      "94.19999999999999\n"
     ]
    }
   ],
   "source": [
    "adversarial_accuracy(model, adversarial_loader)"
   ]
  },
  {
   "cell_type": "markdown",
   "metadata": {},
   "source": [
    "## Black Box Attack"
   ]
  },
  {
   "cell_type": "code",
   "execution_count": 29,
   "metadata": {},
   "outputs": [],
   "source": [
    "def black_box_adversarial_accuracy(model, surrogate_model, dataset_loader):\n",
    "    correct = 0\n",
    "    for batch_idx, (data, target) in enumerate(dataset_loader):\n",
    "        data, target = data.to(device), target.to(device)\n",
    "        adv = fgsm_(surrogate_model, data, target, 1, targeted=False, device=device, clip_min=model.normalized_min, clip_max=model.normalized_max)\n",
    "        output = model(adv)\n",
    "        pred = output.argmax(dim=1, keepdim=True)\n",
    "        correct += pred.eq(target.view_as(pred)).sum().item()\n",
    "        if (batch_idx % 100 == 0):\n",
    "            print('{} / {}'.format(batch_idx * dataset_loader.batch_size, len(dataset_loader.dataset)))\n",
    "    print ((correct/len(dataset_loader.dataset) * 100))"
   ]
  },
  {
   "cell_type": "code",
   "execution_count": 31,
   "metadata": {},
   "outputs": [
    {
     "name": "stdout",
     "output_type": "stream",
     "text": [
      "Train Epoch: 1 [0/60000 (0%)]\tLoss: 2.335029\n",
      "Train Epoch: 1 [32000/60000 (53%)]\tLoss: 0.339845\n",
      "\n",
      "Test set: Average loss: 0.0002, Accuracy: 55863/60000 (93%)\n",
      "\n",
      "Train Epoch: 2 [0/60000 (0%)]\tLoss: 0.225276\n",
      "Train Epoch: 2 [32000/60000 (53%)]\tLoss: 0.206128\n",
      "\n",
      "Test set: Average loss: 0.0002, Accuracy: 57001/60000 (95%)\n",
      "\n",
      "Train Epoch: 3 [0/60000 (0%)]\tLoss: 0.188225\n",
      "Train Epoch: 3 [32000/60000 (53%)]\tLoss: 0.256518\n",
      "\n",
      "Test set: Average loss: 0.0001, Accuracy: 57487/60000 (96%)\n",
      "\n",
      "Train Epoch: 4 [0/60000 (0%)]\tLoss: 0.271961\n",
      "Train Epoch: 4 [32000/60000 (53%)]\tLoss: 0.137379\n",
      "\n",
      "Test set: Average loss: 0.0001, Accuracy: 57873/60000 (96%)\n",
      "\n",
      "Train Epoch: 5 [0/60000 (0%)]\tLoss: 0.064551\n",
      "Train Epoch: 5 [32000/60000 (53%)]\tLoss: 0.137387\n",
      "\n",
      "Test set: Average loss: 0.0001, Accuracy: 58089/60000 (97%)\n",
      "\n",
      "Train Epoch: 6 [0/60000 (0%)]\tLoss: 0.274478\n",
      "Train Epoch: 6 [32000/60000 (53%)]\tLoss: 0.066578\n",
      "\n",
      "Test set: Average loss: 0.0001, Accuracy: 58334/60000 (97%)\n",
      "\n",
      "Train Epoch: 7 [0/60000 (0%)]\tLoss: 0.165251\n",
      "Train Epoch: 7 [32000/60000 (53%)]\tLoss: 0.240458\n",
      "\n",
      "Test set: Average loss: 0.0001, Accuracy: 58462/60000 (97%)\n",
      "\n",
      "Train Epoch: 8 [0/60000 (0%)]\tLoss: 0.095614\n",
      "Train Epoch: 8 [32000/60000 (53%)]\tLoss: 0.219351\n",
      "\n",
      "Test set: Average loss: 0.0001, Accuracy: 58558/60000 (98%)\n",
      "\n",
      "Train Epoch: 9 [0/60000 (0%)]\tLoss: 0.254483\n",
      "Train Epoch: 9 [32000/60000 (53%)]\tLoss: 0.255266\n",
      "\n",
      "Test set: Average loss: 0.0001, Accuracy: 58609/60000 (98%)\n",
      "\n",
      "Train Epoch: 10 [0/60000 (0%)]\tLoss: 0.063199\n",
      "Train Epoch: 10 [32000/60000 (53%)]\tLoss: 0.065971\n",
      "\n",
      "Test set: Average loss: 0.0001, Accuracy: 58717/60000 (98%)\n",
      "\n",
      "Train Epoch: 11 [0/60000 (0%)]\tLoss: 0.212738\n",
      "Train Epoch: 11 [32000/60000 (53%)]\tLoss: 0.297242\n",
      "\n",
      "Test set: Average loss: 0.0001, Accuracy: 58753/60000 (98%)\n",
      "\n",
      "Train Epoch: 12 [0/60000 (0%)]\tLoss: 0.136508\n",
      "Train Epoch: 12 [32000/60000 (53%)]\tLoss: 0.030658\n",
      "\n",
      "Test set: Average loss: 0.0001, Accuracy: 58726/60000 (98%)\n",
      "\n",
      "Train Epoch: 13 [0/60000 (0%)]\tLoss: 0.076423\n",
      "Train Epoch: 13 [32000/60000 (53%)]\tLoss: 0.176909\n",
      "\n",
      "Test set: Average loss: 0.0001, Accuracy: 58797/60000 (98%)\n",
      "\n",
      "Train Epoch: 14 [0/60000 (0%)]\tLoss: 0.126136\n",
      "Train Epoch: 14 [32000/60000 (53%)]\tLoss: 0.097731\n",
      "\n",
      "Test set: Average loss: 0.0001, Accuracy: 58847/60000 (98%)\n",
      "\n",
      "0 / 1000\n",
      "200 / 1000\n",
      "400 / 1000\n",
      "600 / 1000\n",
      "800 / 1000\n",
      "66.10000000000001\n"
     ]
    }
   ],
   "source": [
    "surrogate_model = MNIST_Net(device=device, log_interval=log_interval, batch_size=batch_size, test_batch_size=test_batch_size, oracle=masked_model)\n",
    "surrogate_model.train_on_data(epochs)\n",
    "adversarial_dataset = torch.utils.data.Subset(masked_model.test_dataset, [i for i in range(1000)])\n",
    "adversarial_loader = torch.utils.data.DataLoader(adversarial_dataset, batch_size=2, num_workers=2, shuffle=False)\n",
    "black_box_adversarial_accuracy(masked_model, surrogate_model, adversarial_loader)"
   ]
  }
 ],
 "metadata": {
  "kernelspec": {
   "display_name": "Python [conda env:pytorch-env] *",
   "language": "python",
   "name": "conda-env-pytorch-env-py"
  },
  "language_info": {
   "codemirror_mode": {
    "name": "ipython",
    "version": 3
   },
   "file_extension": ".py",
   "mimetype": "text/x-python",
   "name": "python",
   "nbconvert_exporter": "python",
   "pygments_lexer": "ipython3",
   "version": "3.8.5"
  }
 },
 "nbformat": 4,
 "nbformat_minor": 4
}
