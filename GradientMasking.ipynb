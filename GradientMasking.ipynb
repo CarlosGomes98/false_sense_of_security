{
 "cells": [
  {
   "cell_type": "code",
   "execution_count": 105,
   "metadata": {},
   "outputs": [
    {
     "name": "stdout",
     "output_type": "stream",
     "text": [
      "The autoreload extension is already loaded. To reload it, use:\n",
      "  %reload_ext autoreload\n"
     ]
    }
   ],
   "source": [
    "import argparse\n",
    "import numpy as np\n",
    "import torch\n",
    "import torch.nn as nn\n",
    "import torch.nn.functional as F\n",
    "import torch.optim as optim\n",
    "from torchvision import datasets, transforms, models\n",
    "from torch.optim.lr_scheduler import StepLR\n",
    "import matplotlib.pyplot as plt\n",
    "from foolbox import PyTorchModel, accuracy, samples\n",
    "from foolbox.attacks import LinfPGD, LinfFastGradientAttack\n",
    "from trainers import Trainer, FGSMTrainer\n",
    "from robustbench.model_zoo.models import Carmon2019UnlabeledNet\n",
    "from utils import adversarial_accuracy, fgsm_\n",
    "import eagerpy as ep\n",
    "from Nets import CIFAR_Wide_Res_Net\n",
    "%load_ext autoreload\n",
    "%autoreload 2\n",
    "%aimport Nets, trainers"
   ]
  },
  {
   "cell_type": "code",
   "execution_count": 98,
   "metadata": {},
   "outputs": [
    {
     "name": "stdout",
     "output_type": "stream",
     "text": [
      "Files already downloaded and verified\n",
      "Files already downloaded and verified\n"
     ]
    }
   ],
   "source": [
    "# setup\n",
    "device = torch.device(\"cuda\")\n",
    "batch_size = 128\n",
    "# remove the normalize\n",
    "transform = transform = transforms.Compose(\n",
    "            [transforms.ToTensor(),\n",
    "             transforms.Normalize((0.5, 0.5, 0.5), (0.5, 0.5, 0.5))]\n",
    ")\n",
    "        \n",
    "normalized_min = (0 - 0.5) / 0.5\n",
    "normalized_max = (1 - 0.5) / 0.5\n",
    "train_dataset = datasets.CIFAR10(root='./data', train=True,\n",
    "                                download=True, transform=transform)\n",
    "train_loader = torch.utils.data.DataLoader(train_dataset, batch_size=batch_size,\n",
    "                                  shuffle=True, num_workers=2)\n",
    "test_dataset = datasets.CIFAR10(root='./data', train=False,\n",
    "                               download=True, transform=transform)\n",
    "test_loader = torch.utils.data.DataLoader(test_dataset, batch_size=batch_size,\n",
    "                                 shuffle=False, num_workers=2)\n",
    "classes = classes = ('plane', 'car', 'bird', 'cat',\n",
    "   'deer', 'dog', 'frog', 'horse', 'ship', 'truck')"
   ]
  },
  {
   "cell_type": "code",
   "execution_count": 99,
   "metadata": {
    "scrolled": true
   },
   "outputs": [
    {
     "data": {
      "text/plain": [
       "<All keys matched successfully>"
      ]
     },
     "execution_count": 99,
     "metadata": {},
     "output_type": "execute_result"
    }
   ],
   "source": [
    "model = CIFAR_Wide_Res_Net(device).eval()\n",
    "model.load_state_dict(torch.load(\"models/cifar_10_wide_res_net_22e.model\"))"
   ]
  },
  {
   "cell_type": "code",
   "execution_count": 100,
   "metadata": {},
   "outputs": [
    {
     "data": {
      "text/plain": [
       "<All keys matched successfully>"
      ]
     },
     "execution_count": 100,
     "metadata": {},
     "output_type": "execute_result"
    }
   ],
   "source": [
    "fgsm_model = CIFAR_Wide_Res_Net(device).eval()\n",
    "fgsm_model.load_state_dict(torch.load(\"models/fgsm_eps8.model\"))"
   ]
  },
  {
   "cell_type": "code",
   "execution_count": 101,
   "metadata": {},
   "outputs": [],
   "source": [
    "def get_accuracy(model, attack=None, epsilon=0.03):\n",
    "    fmodel = PyTorchModel(model, bounds=(-1, 1))\n",
    "    correct = 0\n",
    "    for images, labels in test_loader:\n",
    "        images, labels = images.to(device), labels.type(torch.cuda.LongTensor)\n",
    "        if attack is None:\n",
    "            correct += accuracy(fmodel, images, labels) * images.shape[0]\n",
    "        else:\n",
    "            raw_advs, clipped_advs, success = attack(fmodel, images, labels, epsilons=epsilon)\n",
    "            correct += (~success).sum().item()\n",
    "    return correct / len(test_loader.dataset)"
   ]
  },
  {
   "cell_type": "code",
   "execution_count": 26,
   "metadata": {},
   "outputs": [
    {
     "name": "stdout",
     "output_type": "stream",
     "text": [
      "Model accuracy: 85.0%, FGSM model accuracy: 80.38%\n"
     ]
    }
   ],
   "source": [
    "print(\"Model accuracy: {}%, FGSM model accuracy: {}%\".format(get_accuracy(model)*100, get_accuracy(fgsm_model)*100))"
   ]
  },
  {
   "cell_type": "code",
   "execution_count": 102,
   "metadata": {},
   "outputs": [
    {
     "name": "stdout",
     "output_type": "stream",
     "text": [
      "Model accuracy FGSM attack for eps=0.03: 9.98%, FGSM model accuracy: 57.74%\n"
     ]
    }
   ],
   "source": [
    "eps = 0.03\n",
    "attack = FGSM()\n",
    "print(\"Model accuracy FGSM attack for eps={}: {}%, FGSM model accuracy: {}%\".format(eps, get_accuracy(model, attack=attack, epsilon=eps)*100, get_accuracy(fgsm_model, attack=attack, epsilon=eps)*100))"
   ]
  },
  {
   "cell_type": "code",
   "execution_count": 104,
   "metadata": {},
   "outputs": [
    {
     "name": "stdout",
     "output_type": "stream",
     "text": [
      "0 / 10000\n",
      "1280 / 10000\n",
      "2560 / 10000\n",
      "3840 / 10000\n",
      "5120 / 10000\n",
      "6400 / 10000\n",
      "7680 / 10000\n",
      "8960 / 10000\n"
     ]
    },
    {
     "data": {
      "text/plain": [
       "37.75"
      ]
     },
     "execution_count": 104,
     "metadata": {},
     "output_type": "execute_result"
    }
   ],
   "source": [
    "adversarial_accuracy(fgsm_model, test_loader, attack=fgsm_, eps=0.03, device=device, normalized_min=normalized_min, normalized_max=normalized_max, random_step=False)"
   ]
  },
  {
   "cell_type": "code",
   "execution_count": 66,
   "metadata": {},
   "outputs": [
    {
     "name": "stdout",
     "output_type": "stream",
     "text": [
      "robust accuracy for perturbations with\n",
      "  Linf norm ≤ 0.0   :  0.0 %\n"
     ]
    }
   ],
   "source": [
    "# apply the attack\n",
    "attack = LinfPGD()\n",
    "epsilons = [\n",
    "    0.0,\n",
    "    0.0002,\n",
    "    0.0005,\n",
    "    0.0008,\n",
    "    0.001,\n",
    "    0.0015,\n",
    "    0.002,\n",
    "    0.003,\n",
    "    0.01,\n",
    "    0.1,\n",
    "    0.3,\n",
    "    0.5,\n",
    "    1.0,\n",
    "]\n",
    "raw_advs, clipped_advs, success = attack(fmodel, images, labels, epsilons=epsilons)\n",
    "\n",
    "# # calculate and report the robust accuracy (the accuracy of the model when\n",
    "# # it is attacked)\n",
    "robust_accuracy = 1 - success.type(torch.cuda.FloatTensor).mean(axis=-1)\n",
    "print(\"robust accuracy for perturbations with\")\n",
    "for eps, acc in zip(epsilons, robust_accuracy):\n",
    "    print(f\"  Linf norm ≤ {eps:<6}: {acc.item() * 100:4.1f} %\")"
   ]
  }
 ],
 "metadata": {
  "kernelspec": {
   "display_name": "Python 3",
   "language": "python",
   "name": "python3"
  },
  "language_info": {
   "codemirror_mode": {
    "name": "ipython",
    "version": 3
   },
   "file_extension": ".py",
   "mimetype": "text/x-python",
   "name": "python",
   "nbconvert_exporter": "python",
   "pygments_lexer": "ipython3",
   "version": "3.8.5"
  }
 },
 "nbformat": 4,
 "nbformat_minor": 4
}
