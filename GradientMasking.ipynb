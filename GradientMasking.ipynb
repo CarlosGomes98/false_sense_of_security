{
 "cells": [
  {
   "cell_type": "code",
   "execution_count": 1,
   "metadata": {},
   "outputs": [],
   "source": [
    "import argparse\n",
    "import tqdm\n",
    "import numpy as np\n",
    "import torch\n",
    "import torch.nn as nn\n",
    "import torch.nn.functional as F\n",
    "import torch.optim as optim\n",
    "from torchvision import datasets, transforms, models\n",
    "from torch.optim.lr_scheduler import StepLR\n",
    "import matplotlib.pyplot as plt\n",
    "from foolbox import PyTorchModel, accuracy, samples\n",
    "from foolbox.attacks import LinfPGD, FGSM\n",
    "from advertorch.attacks import LinfSPSAAttack\n",
    "from trainers import Trainer, FGSMTrainer\n",
    "from robustbench.model_zoo.models import Carmon2019UnlabeledNet\n",
    "from utils import adversarial_accuracy, fgsm_\n",
    "import eagerpy as ep\n",
    "from Nets import CIFAR_Wide_Res_Net, CIFAR_Res_Net\n",
    "%load_ext autoreload\n",
    "%autoreload 2\n",
    "%aimport Nets, trainers"
   ]
  },
  {
   "cell_type": "markdown",
   "metadata": {},
   "source": [
    "## Setup to import trained CIFAR-10 Models"
   ]
  },
  {
   "cell_type": "code",
   "execution_count": 2,
   "metadata": {},
   "outputs": [
    {
     "name": "stdout",
     "output_type": "stream",
     "text": [
      "Files already downloaded and verified\n",
      "Files already downloaded and verified\n"
     ]
    }
   ],
   "source": [
    "# setup\n",
    "device = torch.device(\"cuda\")\n",
    "batch_size = 8\n",
    "# remove the normalize\n",
    "transform = transform = transforms.Compose(\n",
    "            [transforms.ToTensor()]\n",
    ")\n",
    "        \n",
    "normalized_min = (0 - 0.5) / 0.5\n",
    "normalized_max = (1 - 0.5) / 0.5\n",
    "train_dataset = datasets.CIFAR10(root='./data', train=True,\n",
    "                                download=True, transform=transform)\n",
    "train_loader = torch.utils.data.DataLoader(train_dataset, batch_size=batch_size,\n",
    "                                  shuffle=True, num_workers=2)\n",
    "test_dataset = datasets.CIFAR10(root='./data', train=False,\n",
    "                               download=True, transform=transform)\n",
    "test_loader = torch.utils.data.DataLoader(test_dataset, batch_size=batch_size,\n",
    "                                 shuffle=False, num_workers=2)\n",
    "classes = classes = ('plane', 'car', 'bird', 'cat',\n",
    "   'deer', 'dog', 'frog', 'horse', 'ship', 'truck')"
   ]
  },
  {
   "cell_type": "markdown",
   "metadata": {},
   "source": [
    "## Load Regular CIFAR-10 Model"
   ]
  },
  {
   "cell_type": "code",
   "execution_count": 6,
   "metadata": {
    "scrolled": true
   },
   "outputs": [
    {
     "data": {
      "text/plain": [
       "<All keys matched successfully>"
      ]
     },
     "execution_count": 6,
     "metadata": {},
     "output_type": "execute_result"
    }
   ],
   "source": [
    "model = CIFAR_Res_Net(device).eval()\n",
    "model.load_state_dict(torch.load(\"models/cifar_res_net.model\"))"
   ]
  },
  {
   "cell_type": "markdown",
   "metadata": {},
   "source": [
    "## Load CIFAR-10 Model trained with large FGSM steps"
   ]
  },
  {
   "cell_type": "code",
   "execution_count": 7,
   "metadata": {},
   "outputs": [
    {
     "data": {
      "text/plain": [
       "<All keys matched successfully>"
      ]
     },
     "execution_count": 7,
     "metadata": {},
     "output_type": "execute_result"
    }
   ],
   "source": [
    "fgsm_model = CIFAR_Res_Net(device).eval()\n",
    "fgsm_model.load_state_dict(torch.load(\"models/cifar_res_net_fgsm06.model\"))"
   ]
  },
  {
   "cell_type": "code",
   "execution_count": 8,
   "metadata": {},
   "outputs": [],
   "source": [
    "def get_accuracy(model, attack=None, epsilon=0.03):\n",
    "    fmodel = PyTorchModel(model, bounds=(0, 1))\n",
    "    correct = 0\n",
    "    for images, labels in test_loader:\n",
    "        images, labels = images.to(device), labels.type(torch.cuda.LongTensor)\n",
    "        if attack is None:\n",
    "            correct += accuracy(fmodel, images, labels) * images.shape[0]\n",
    "        else:\n",
    "            raw_advs, clipped_advs, success = attack(fmodel, images, labels, epsilons=epsilon)\n",
    "            correct += (~success).sum().item()\n",
    "    return correct / len(test_loader.dataset)"
   ]
  },
  {
   "cell_type": "code",
   "execution_count": 9,
   "metadata": {},
   "outputs": [
    {
     "name": "stdout",
     "output_type": "stream",
     "text": [
      "Model accuracy: 84.58%, FGSM model accuracy: 72.44%\n"
     ]
    }
   ],
   "source": [
    "print(\"Model accuracy: {}%, FGSM model accuracy: {}%\".format(get_accuracy(model)*100, get_accuracy(fgsm_model)*100))"
   ]
  },
  {
   "cell_type": "code",
   "execution_count": 10,
   "metadata": {},
   "outputs": [
    {
     "name": "stdout",
     "output_type": "stream",
     "text": [
      "FGSM attack with eps=0.03. Model accuracy: 4.569999999999999%, FGSM model accuracy: 74.5%\n"
     ]
    }
   ],
   "source": [
    "eps = 0.03\n",
    "attack = FGSM()\n",
    "print(\"FGSM attack with eps={}. Model accuracy: {}%, FGSM model accuracy: {}%\".format(eps, get_accuracy(model, attack=attack, epsilon=eps)*100, get_accuracy(fgsm_model, attack=attack, epsilon=eps)*100))"
   ]
  },
  {
   "cell_type": "code",
   "execution_count": 11,
   "metadata": {},
   "outputs": [
    {
     "name": "stdout",
     "output_type": "stream",
     "text": [
      "FGSM attack with eps=0.03 and random step. Model accuracy: 6.94%, FGSM model accuracy: 44.519999999999996%\n"
     ]
    }
   ],
   "source": [
    "eps = 0.03\n",
    "attack = FGSM(random_start=True)\n",
    "print(\"FGSM attack with eps={} and random step. Model accuracy: {}%, FGSM model accuracy: {}%\".format(eps, get_accuracy(model, attack=attack, epsilon=eps)*100, get_accuracy(fgsm_model, attack=attack, epsilon=eps)*100))"
   ]
  },
  {
   "cell_type": "markdown",
   "metadata": {},
   "source": [
    "## Test for gradient masking"
   ]
  },
  {
   "cell_type": "code",
   "execution_count": 12,
   "metadata": {},
   "outputs": [],
   "source": [
    "def spsa_accuracy(model, eps=0.03, iters=1, nb_sample=128):\n",
    "    attack = LinfSPSAAttack(model, eps, nb_iter=iters, nb_sample=nb_sample, loss_fn=nn.CrossEntropyLoss(reduction='none'))\n",
    "    subset = torch.utils.data.Subset(test_dataset, np.random.randint(0, len(test_dataset), size=100).tolist())\n",
    "    subset_loader = torch.utils.data.DataLoader(subset, batch_size=batch_size,\n",
    "                                 shuffle=False, num_workers=2)\n",
    "    correct = 0\n",
    "    for images, labels in tqdm.tqdm(subset_loader):\n",
    "        images, labels = images.to(device), labels.type(torch.cuda.LongTensor)\n",
    "        adv = attack.perturb(images, labels)\n",
    "        preds = model(adv).argmax(-1)\n",
    "        correct += (preds == labels).sum().item()\n",
    "    return correct / len(subset_loader.dataset)"
   ]
  },
  {
   "cell_type": "code",
   "execution_count": 13,
   "metadata": {},
   "outputs": [
    {
     "name": "stderr",
     "output_type": "stream",
     "text": [
      "100%|██████████████████████████████████████████████████████████████████████████████████| 13/13 [01:20<00:00,  6.16s/it]\n"
     ]
    },
    {
     "data": {
      "text/plain": [
       "0.06"
      ]
     },
     "execution_count": 13,
     "metadata": {},
     "output_type": "execute_result"
    }
   ],
   "source": [
    "spsa_accuracy(fgsm_model, iters=10, nb_sample=300)"
   ]
  },
  {
   "cell_type": "code",
   "execution_count": 14,
   "metadata": {},
   "outputs": [
    {
     "name": "stderr",
     "output_type": "stream",
     "text": [
      "100%|██████████████████████████████████████████████████████████████████████████████████| 13/13 [01:20<00:00,  6.17s/it]\n"
     ]
    },
    {
     "data": {
      "text/plain": [
       "0.19"
      ]
     },
     "execution_count": 14,
     "metadata": {},
     "output_type": "execute_result"
    }
   ],
   "source": [
    "spsa_accuracy(model, iters=10, nb_sample=300)"
   ]
  }
 ],
 "metadata": {
  "kernelspec": {
   "display_name": "Python 3",
   "language": "python",
   "name": "python3"
  },
  "language_info": {
   "codemirror_mode": {
    "name": "ipython",
    "version": 3
   },
   "file_extension": ".py",
   "mimetype": "text/x-python",
   "name": "python",
   "nbconvert_exporter": "python",
   "pygments_lexer": "ipython3",
   "version": "3.8.5"
  }
 },
 "nbformat": 4,
 "nbformat_minor": 4
}
