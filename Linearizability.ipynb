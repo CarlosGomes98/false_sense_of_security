{
 "cells": [
  {
   "cell_type": "code",
   "execution_count": 12,
   "metadata": {},
   "outputs": [
    {
     "name": "stdout",
     "output_type": "stream",
     "text": [
      "The autoreload extension is already loaded. To reload it, use:\n",
      "  %reload_ext autoreload\n"
     ]
    }
   ],
   "source": [
    "import argparse\n",
    "import math\n",
    "import tqdm\n",
    "import numpy as np\n",
    "import torch\n",
    "import torch.nn as nn\n",
    "import torch.nn.functional as F\n",
    "import torch.optim as optim\n",
    "from torchvision import datasets, transforms, models\n",
    "from torch.optim.lr_scheduler import StepLR\n",
    "import matplotlib.pyplot as plt\n",
    "from foolbox import PyTorchModel, accuracy, samples\n",
    "from foolbox.attacks import LinfPGD, FGSM, LinfDeepFoolAttack\n",
    "from advertorch.attacks import LinfSPSAAttack\n",
    "from src.trainers import Trainer, FGSMTrainer\n",
    "from robustbench.model_zoo.models import Carmon2019UnlabeledNet\n",
    "from src.utils import adversarial_accuracy, fgsm_\n",
    "from src.gradient_masking_tests import gradient_norm, fgsm_pgd_cos_dif, multi_scale_fgsm, gradient_information\n",
    "import eagerpy as ep\n",
    "from src.Nets import CIFAR_Wide_Res_Net, CIFAR_Res_Net, CIFAR_Net, ResNet18GradReg\n",
    "%load_ext autoreload\n",
    "%autoreload 2\n",
    "%aimport src.Nets, src.trainers, src.gradient_masking_tests"
   ]
  },
  {
   "cell_type": "code",
   "execution_count": 8,
   "metadata": {},
   "outputs": [
    {
     "name": "stdout",
     "output_type": "stream",
     "text": [
      "Files already downloaded and verified\n",
      "Files already downloaded and verified\n"
     ]
    }
   ],
   "source": [
    "# setup\n",
    "device = torch.device(\"cuda\")\n",
    "batch_size = 128\n",
    "# remove the normalize\n",
    "transform = transform = transforms.Compose(\n",
    "            [transforms.ToTensor()]\n",
    ")\n",
    "        \n",
    "normalized_min = (0 - 0.5) / 0.5\n",
    "normalized_max = (1 - 0.5) / 0.5\n",
    "train_dataset = datasets.CIFAR10(root='data', train=True,\n",
    "                                download=True, transform=transform)\n",
    "train_loader = torch.utils.data.DataLoader(train_dataset, batch_size=batch_size,\n",
    "                                  shuffle=True, num_workers=2)\n",
    "test_dataset = datasets.CIFAR10(root='data', train=False,\n",
    "                               download=True, transform=transform)\n",
    "test_loader = torch.utils.data.DataLoader(test_dataset, batch_size=batch_size,\n",
    "                                 shuffle=False, num_workers=2)\n",
    "classes = classes = ('plane', 'car', 'bird', 'cat',\n",
    "   'deer', 'dog', 'frog', 'horse', 'ship', 'truck')"
   ]
  },
  {
   "cell_type": "code",
   "execution_count": 9,
   "metadata": {},
   "outputs": [
    {
     "data": {
      "text/plain": [
       "<All keys matched successfully>"
      ]
     },
     "execution_count": 9,
     "metadata": {},
     "output_type": "execute_result"
    }
   ],
   "source": [
    "# # Regular CIFAR-10  ResNet Model\n",
    "model = CIFAR_Res_Net(device).eval()\n",
    "model.load_state_dict(torch.load(\"models/cifar_res_net.model\"))\n",
    "step_ll_model = CIFAR_Res_Net(device).eval()\n",
    "step_ll_model.load_state_dict(torch.load(\"models/cifar_res_net_20e_stepll.model\"))\n",
    "fgsm_model = CIFAR_Res_Net(device).eval()\n",
    "fgsm_model.load_state_dict(torch.load(\"models/cifar_res_net_fgsm06.model\"))\n",
    "# # # CIFAR-10  ResNet Model trained with small FGSM steps\n",
    "fgsm_model_small = CIFAR_Res_Net(device).eval()\n",
    "fgsm_model_small.load_state_dict(torch.load(\"models/cifar_res_net_20e_fgsm03.model\"))\n",
    "gradient_norm_model = CIFAR_Res_Net(device).eval()\n",
    "gradient_norm_model.load_state_dict(torch.load(\"models/cifar_res_net_grad_reg_20e_ld2.model\"))\n",
    "# # CIFAR-10  ResNet Model trained through input gradient regularization ld5\n",
    "gradient_norm_model_strong = CIFAR_Res_Net(device).eval()\n",
    "gradient_norm_model_strong.load_state_dict(torch.load(\"models/cifar_res_net_grad_reg_20e_ld5.model\"))"
   ]
  },
  {
   "cell_type": "code",
   "execution_count": 18,
   "metadata": {},
   "outputs": [],
   "source": [
    "# smaller is better\n",
    "def linearization_error(model, dataset, subset=100, batch_size=128, n_perturbations=128*10, epsilons=[0.03]):\n",
    "    epsilon_errors = []\n",
    "    for epsilon in epsilons:\n",
    "        mean_errors = []\n",
    "        for counter, data in enumerate(dataset):\n",
    "            if counter > subset:\n",
    "                break\n",
    "\n",
    "            model.zero_grad()\n",
    "            x = data[0].reshape((1,) + data[0].shape).to(device)\n",
    "            x.requires_grad_()\n",
    "            y = torch.log(model(x)[0, data[1]])\n",
    "            g = torch.autograd.grad(y, x)[0]\n",
    "            errors = []\n",
    "            with torch.no_grad():\n",
    "                for _ in range(math.ceil(n_perturbations/batch_size)):\n",
    "                    perturbation = (torch.rand((batch_size, 3, 32, 32)) > 0.5).float().to(device)\n",
    "                    perturbation[perturbation == 0] = -1\n",
    "                    perturbation *= epsilon\n",
    "#                     perturbation = torch.rand((batch_size, 3, 32, 32)).to(device)\n",
    "#                     perturbation = perturbation * epsilon * 2\n",
    "#                     perturbation = perturbation - epsilon\n",
    "                    y_prime = torch.log(model(x.repeat(batch_size, 1, 1, 1) + perturbation)[:, data[1]])\n",
    "                    approx = y.repeat(batch_size) + torch.sum(perturbation * g)\n",
    "                    errors.append(torch.abs(y_prime - approx)/y_prime)\n",
    "            mean_errors.append(torch.cat(errors).mean())\n",
    "\n",
    "        epsilon_errors.append(torch.stack(mean_errors).mean())\n",
    "    \n",
    "    for epsilon, error in zip(epsilons, epsilon_errors):\n",
    "        print(\"Epsilon {}: {} error\".format(epsilon, error))"
   ]
  },
  {
   "cell_type": "markdown",
   "metadata": {},
   "source": [
    "## Error with perturbation where each coordinate is either -eps or eps"
   ]
  },
  {
   "cell_type": "code",
   "execution_count": 17,
   "metadata": {},
   "outputs": [
    {
     "name": "stdout",
     "output_type": "stream",
     "text": [
      "Epsilon 0.003: 0.06999900192022324 error\n",
      "Epsilon 0.03: 0.7696435451507568 error\n",
      "Epsilon 0.06: 2.1171889305114746 error\n",
      "Epsilon 0.1: 6.860876083374023 error\n",
      "Epsilon 0.003: 0.04398001357913017 error\n",
      "Epsilon 0.03: 0.36212143301963806 error\n",
      "Epsilon 0.06: 0.7624298334121704 error\n",
      "Epsilon 0.1: 1.3676996231079102 error\n",
      "Epsilon 0.003: 0.24454203248023987 error\n",
      "Epsilon 0.03: 2.3595657348632812 error\n",
      "Epsilon 0.06: 5.2559075355529785 error\n",
      "Epsilon 0.1: 0.7985435128211975 error\n",
      "Epsilon 0.003: 0.010167415253818035 error\n",
      "Epsilon 0.03: 0.1098482683300972 error\n",
      "Epsilon 0.06: 0.20659400522708893 error\n",
      "Epsilon 0.1: 0.4114561080932617 error\n",
      "Epsilon 0.003: 0.07267075777053833 error\n",
      "Epsilon 0.03: 0.8342500925064087 error\n",
      "Epsilon 0.06: 2.1449363231658936 error\n",
      "Epsilon 0.1: 8.656185150146484 error\n",
      "Epsilon 0.003: 0.06968510150909424 error\n",
      "Epsilon 0.03: 0.7737661004066467 error\n",
      "Epsilon 0.06: 2.3319265842437744 error\n",
      "Epsilon 0.1: 0.6373311877250671 error\n"
     ]
    },
    {
     "data": {
      "text/plain": [
       "(None, None, None, None, None, None)"
      ]
     },
     "execution_count": 17,
     "metadata": {},
     "output_type": "execute_result"
    }
   ],
   "source": [
    "linearization_error(model, train_dataset, epsilons=[0.003, 0.03, 0.06, 0.1]), linearization_error(step_ll_model, train_dataset, epsilons=[0.003, 0.03, 0.06, 0.1]), linearization_error(fgsm_model, train_dataset, epsilons=[0.003, 0.03, 0.06, 0.1]), linearization_error(fgsm_model_small, train_dataset, epsilons=[0.003, 0.03, 0.06, 0.1]), linearization_error(gradient_norm_model, train_dataset, epsilons=[0.003, 0.03, 0.06, 0.1]), linearization_error(gradient_norm_model_strong, train_dataset, epsilons=[0.003, 0.03, 0.06, 0.1])"
   ]
  },
  {
   "cell_type": "markdown",
   "metadata": {},
   "source": [
    "### Error with perturbation where each coordinate is between -eps and eps"
   ]
  },
  {
   "cell_type": "code",
   "execution_count": 15,
   "metadata": {},
   "outputs": [
    {
     "name": "stdout",
     "output_type": "stream",
     "text": [
      "Epsilon 0.003: 0.03815454617142677 error\n",
      "Epsilon 0.03: 0.4226369559764862 error\n",
      "Epsilon 0.06: 0.8199584484100342 error\n",
      "Epsilon 0.1: 1.7994372844696045 error\n",
      "Epsilon 0.003: 0.025198251008987427 error\n",
      "Epsilon 0.03: 0.24969780445098877 error\n",
      "Epsilon 0.06: 0.43689537048339844 error\n",
      "Epsilon 0.1: 0.7465355396270752 error\n",
      "Epsilon 0.003: 0.14818336069583893 error\n",
      "Epsilon 0.03: 1.387202501296997 error\n",
      "Epsilon 0.06: 2.8605973720550537 error\n",
      "Epsilon 0.1: 5.861645698547363 error\n",
      "Epsilon 0.003: 0.005847875960171223 error\n",
      "Epsilon 0.03: 0.06287860125303268 error\n",
      "Epsilon 0.06: 0.11734139174222946 error\n",
      "Epsilon 0.1: 0.20575229823589325 error\n",
      "Epsilon 0.003: 0.042265862226486206 error\n",
      "Epsilon 0.03: 0.4272255301475525 error\n",
      "Epsilon 0.06: 0.9979784488677979 error\n",
      "Epsilon 0.1: 2.279103994369507 error\n",
      "Epsilon 0.003: 0.04246997833251953 error\n",
      "Epsilon 0.03: 0.4104810655117035 error\n",
      "Epsilon 0.06: 0.9477697610855103 error\n",
      "Epsilon 0.1: 1.9157569408416748 error\n"
     ]
    },
    {
     "data": {
      "text/plain": [
       "(None, None, None, None, None, None)"
      ]
     },
     "execution_count": 15,
     "metadata": {},
     "output_type": "execute_result"
    }
   ],
   "source": [
    "linearization_error(model, train_dataset, epsilons=[0.003, 0.03, 0.06, 0.1]), linearization_error(step_ll_model, train_dataset, epsilons=[0.003, 0.03, 0.06, 0.1]), linearization_error(fgsm_model, train_dataset, epsilons=[0.003, 0.03, 0.06, 0.1]), linearization_error(fgsm_model_small, train_dataset, epsilons=[0.003, 0.03, 0.06, 0.1]), linearization_error(gradient_norm_model, train_dataset, epsilons=[0.003, 0.03, 0.06, 0.1]), linearization_error(gradient_norm_model_strong, train_dataset, epsilons=[0.003, 0.03, 0.06, 0.1])"
   ]
  },
  {
   "cell_type": "markdown",
   "metadata": {},
   "source": [
    "## Error with perturbation where each coordinate is either -eps or eps log model"
   ]
  },
  {
   "cell_type": "code",
   "execution_count": 20,
   "metadata": {},
   "outputs": [
    {
     "name": "stdout",
     "output_type": "stream",
     "text": [
      "Epsilon 0.003: 0.024346143007278442 error\n",
      "Epsilon 0.03: 0.24965445697307587 error\n",
      "Epsilon 0.06: nan error\n",
      "Epsilon 0.1: nan error\n",
      "Epsilon 0.003: 0.017943227663636208 error\n",
      "Epsilon 0.03: 0.17095135152339935 error\n",
      "Epsilon 0.06: 0.33173343539237976 error\n",
      "Epsilon 0.1: 0.5918441414833069 error\n",
      "Epsilon 0.003: 0.11144037544727325 error\n",
      "Epsilon 0.03: 0.9863528609275818 error\n",
      "Epsilon 0.06: 2.3250176906585693 error\n",
      "Epsilon 0.1: nan error\n",
      "Epsilon 0.003: 0.005174829158931971 error\n",
      "Epsilon 0.03: 0.05059431120753288 error\n",
      "Epsilon 0.06: 0.1036352887749672 error\n",
      "Epsilon 0.1: 0.18683189153671265 error\n",
      "Epsilon 0.003: 0.026193438097834587 error\n",
      "Epsilon 0.03: 0.27394384145736694 error\n",
      "Epsilon 0.06: nan error\n",
      "Epsilon 0.1: nan error\n",
      "Epsilon 0.003: 0.02506929449737072 error\n",
      "Epsilon 0.03: 0.2510705888271332 error\n",
      "Epsilon 0.06: nan error\n",
      "Epsilon 0.1: nan error\n"
     ]
    },
    {
     "data": {
      "text/plain": [
       "(None, None, None, None, None, None)"
      ]
     },
     "execution_count": 20,
     "metadata": {},
     "output_type": "execute_result"
    }
   ],
   "source": [
    "linearization_error(model, train_dataset, epsilons=[0.003, 0.03, 0.06, 0.1]), linearization_error(step_ll_model, train_dataset, epsilons=[0.003, 0.03, 0.06, 0.1]), linearization_error(fgsm_model, train_dataset, epsilons=[0.003, 0.03, 0.06, 0.1]), linearization_error(fgsm_model_small, train_dataset, epsilons=[0.003, 0.03, 0.06, 0.1]), linearization_error(gradient_norm_model, train_dataset, epsilons=[0.003, 0.03, 0.06, 0.1]), linearization_error(gradient_norm_model_strong, train_dataset, epsilons=[0.003, 0.03, 0.06, 0.1])"
   ]
  },
  {
   "cell_type": "code",
   "execution_count": null,
   "metadata": {},
   "outputs": [],
   "source": [
    "fmodel = PyTorchModel(model, bounds=(0, 1))\n",
    "attack = FGSM()\n",
    "for data, target in train_loader:\n",
    "    _, adv, success = attack(fmodel, data.to(device), target.to(device), epsilons=10)\n",
    "    print(adv)\n",
    "    break"
   ]
  },
  {
   "cell_type": "code",
   "execution_count": 60,
   "metadata": {},
   "outputs": [
    {
     "data": {
      "text/plain": [
       "<matplotlib.image.AxesImage at 0x268150f0dc0>"
      ]
     },
     "execution_count": 60,
     "metadata": {},
     "output_type": "execute_result"
    },
    {
     "data": {
      "image/png": "[encoded data removed]",
      "text/plain": [
       "<Figure size 432x288 with 1 Axes>"
      ]
     },
     "metadata": {
      "needs_background": "light"
     },
     "output_type": "display_data"
    }
   ],
   "source": [
    "plt.imshow(adv[0].cpu().squeeze().permute(1, 2, 0).numpy())"
   ]
  },
  {
   "cell_type": "code",
   "execution_count": 46,
   "metadata": {},
   "outputs": [
    {
     "data": {
      "text/plain": [
       "<matplotlib.image.AxesImage at 0x2680ec086a0>"
      ]
     },
     "execution_count": 46,
     "metadata": {},
     "output_type": "execute_result"
    },
    {
     "data": {
      "image/png": "[encoded data removed]",
      "text/plain": [
       "<Figure size 432x288 with 1 Axes>"
      ]
     },
     "metadata": {
      "needs_background": "light"
     },
     "output_type": "display_data"
    }
   ],
   "source": [
    "plt.imshow(train_dataset[0][0].cpu().permute(1, 2, 0).numpy())"
   ]
  },
  {
   "cell_type": "code",
   "execution_count": null,
   "metadata": {},
   "outputs": [],
   "source": [
    "gradient_information(model, train_dataset, iters=50, device=device, subset_size=5000), gradient_information(fgsm_model, train_dataset, iters=50, device=device, subset_size=5000), gradient_information(fgsm_model_small, train_dataset, iters=50, device=device, subset_size=5000), gradient_information(step_ll_model, train_dataset, iters=50, device=device, subset_size=5000)"
   ]
  }
 ],
 "metadata": {
  "kernelspec": {
   "display_name": "Python [conda env:pytorch-env] *",
   "language": "python",
   "name": "conda-env-pytorch-env-py"
  },
  "language_info": {
   "codemirror_mode": {
    "name": "ipython",
    "version": 3
   },
   "file_extension": ".py",
   "mimetype": "text/x-python",
   "name": "python",
   "nbconvert_exporter": "python",
   "pygments_lexer": "ipython3",
   "version": "3.8.5"
  }
 },
 "nbformat": 4,
 "nbformat_minor": 4
}
