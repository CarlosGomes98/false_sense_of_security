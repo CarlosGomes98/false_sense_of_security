{
 "cells": [
  {
   "cell_type": "code",
   "execution_count": 12,
   "metadata": {},
   "outputs": [
    {
     "name": "stdout",
     "output_type": "stream",
     "text": [
      "The autoreload extension is already loaded. To reload it, use:\n",
      "  %reload_ext autoreload\n"
     ]
    }
   ],
   "source": [
    "import argparse\n",
    "import math\n",
    "import tqdm\n",
    "import numpy as np\n",
    "import torch\n",
    "import torch.nn as nn\n",
    "import torch.nn.functional as F\n",
    "import torch.optim as optim\n",
    "from torchvision import datasets, transforms, models\n",
    "from torch.optim.lr_scheduler import StepLR\n",
    "import matplotlib.pyplot as plt\n",
    "from foolbox import PyTorchModel, accuracy, samples\n",
    "from foolbox.attacks import LinfPGD, FGSM, LinfDeepFoolAttack\n",
    "from advertorch.attacks import LinfSPSAAttack\n",
    "from src.trainers import Trainer, FGSMTrainer\n",
    "from robustbench.model_zoo.models import Carmon2019UnlabeledNet\n",
    "from src.utils import adversarial_accuracy, fgsm_\n",
    "from src.gradient_masking_tests import gradient_norm, fgsm_pgd_cos_dif, multi_scale_fgsm, gradient_information\n",
    "import eagerpy as ep\n",
    "from src.Nets import CIFAR_Wide_Res_Net, CIFAR_Res_Net, CIFAR_Net, ResNet18GradReg\n",
    "%load_ext autoreload\n",
    "%autoreload 2\n",
    "%aimport src.Nets, src.trainers, src.gradient_masking_tests"
   ]
  },
  {
   "cell_type": "code",
   "execution_count": 8,
   "metadata": {},
   "outputs": [
    {
     "name": "stdout",
     "output_type": "stream",
     "text": [
      "Files already downloaded and verified\n",
      "Files already downloaded and verified\n"
     ]
    }
   ],
   "source": [
    "# setup\n",
    "device = torch.device(\"cuda\")\n",
    "batch_size = 128\n",
    "# remove the normalize\n",
    "transform = transform = transforms.Compose(\n",
    "            [transforms.ToTensor()]\n",
    ")\n",
    "        \n",
    "normalized_min = (0 - 0.5) / 0.5\n",
    "normalized_max = (1 - 0.5) / 0.5\n",
    "train_dataset = datasets.CIFAR10(root='data', train=True,\n",
    "                                download=True, transform=transform)\n",
    "train_loader = torch.utils.data.DataLoader(train_dataset, batch_size=batch_size,\n",
    "                                  shuffle=True, num_workers=2)\n",
    "test_dataset = datasets.CIFAR10(root='data', train=False,\n",
    "                               download=True, transform=transform)\n",
    "test_loader = torch.utils.data.DataLoader(test_dataset, batch_size=batch_size,\n",
    "                                 shuffle=False, num_workers=2)\n",
    "classes = classes = ('plane', 'car', 'bird', 'cat',\n",
    "   'deer', 'dog', 'frog', 'horse', 'ship', 'truck')"
   ]
  },
  {
   "cell_type": "code",
   "execution_count": 9,
   "metadata": {},
   "outputs": [
    {
     "data": {
      "text/plain": [
       "<All keys matched successfully>"
      ]
     },
     "execution_count": 9,
     "metadata": {},
     "output_type": "execute_result"
    }
   ],
   "source": [
    "# # Regular CIFAR-10  ResNet Model\n",
    "model = CIFAR_Res_Net(device).eval()\n",
    "model.load_state_dict(torch.load(\"models/cifar_res_net.model\"))\n",
    "step_ll_model = CIFAR_Res_Net(device).eval()\n",
    "step_ll_model.load_state_dict(torch.load(\"models/cifar_res_net_20e_stepll.model\"))\n",
    "fgsm_model = CIFAR_Res_Net(device).eval()\n",
    "fgsm_model.load_state_dict(torch.load(\"models/cifar_res_net_fgsm06.model\"))\n",
    "# # # CIFAR-10  ResNet Model trained with small FGSM steps\n",
    "fgsm_model_small = CIFAR_Res_Net(device).eval()\n",
    "fgsm_model_small.load_state_dict(torch.load(\"models/cifar_res_net_20e_fgsm03.model\"))\n",
    "gradient_norm_model = CIFAR_Res_Net(device).eval()\n",
    "gradient_norm_model.load_state_dict(torch.load(\"models/cifar_res_net_grad_reg_20e_ld2.model\"))\n",
    "# # CIFAR-10  ResNet Model trained through input gradient regularization ld5\n",
    "gradient_norm_model_strong = CIFAR_Res_Net(device).eval()\n",
    "gradient_norm_model_strong.load_state_dict(torch.load(\"models/cifar_res_net_grad_reg_20e_ld5.model\"))"
   ]
  },
  {
   "cell_type": "markdown",
   "metadata": {},
   "source": [
    "## Error with perturbation where each coordinate is either -eps or eps"
   ]
  },
  {
   "cell_type": "code",
   "execution_count": 17,
   "metadata": {},
   "outputs": [
    {
     "name": "stdout",
     "output_type": "stream",
     "text": [
      "Epsilon 0.003: 0.06999900192022324 error\n",
      "Epsilon 0.03: 0.7696435451507568 error\n",
      "Epsilon 0.06: 2.1171889305114746 error\n",
      "Epsilon 0.1: 6.860876083374023 error\n",
      "Epsilon 0.003: 0.04398001357913017 error\n",
      "Epsilon 0.03: 0.36212143301963806 error\n",
      "Epsilon 0.06: 0.7624298334121704 error\n",
      "Epsilon 0.1: 1.3676996231079102 error\n",
      "Epsilon 0.003: 0.24454203248023987 error\n",
      "Epsilon 0.03: 2.3595657348632812 error\n",
      "Epsilon 0.06: 5.2559075355529785 error\n",
      "Epsilon 0.1: 0.7985435128211975 error\n",
      "Epsilon 0.003: 0.010167415253818035 error\n",
      "Epsilon 0.03: 0.1098482683300972 error\n",
      "Epsilon 0.06: 0.20659400522708893 error\n",
      "Epsilon 0.1: 0.4114561080932617 error\n",
      "Epsilon 0.003: 0.07267075777053833 error\n",
      "Epsilon 0.03: 0.8342500925064087 error\n",
      "Epsilon 0.06: 2.1449363231658936 error\n",
      "Epsilon 0.1: 8.656185150146484 error\n",
      "Epsilon 0.003: 0.06968510150909424 error\n",
      "Epsilon 0.03: 0.7737661004066467 error\n",
      "Epsilon 0.06: 2.3319265842437744 error\n",
      "Epsilon 0.1: 0.6373311877250671 error\n"
     ]
    },
    {
     "data": {
      "text/plain": [
       "(None, None, None, None, None, None)"
      ]
     },
     "execution_count": 17,
     "metadata": {},
     "output_type": "execute_result"
    }
   ],
   "source": [
    "for cur_model, name in zip([model, step_ll_model, fgsm_model, fgsm_model_small, gradient_norm_model], ['normal', 'step ll', 'fgsm', 'fgsm small', 'grad norm']):\n",
    "    print(name + ': ')\n",
    "    linearization_error(cur_model, train_dataset, epsilons=[0.003, 0.03, 0.06, 0.1], device=device)"
   ]
  },
  {
   "cell_type": "code",
   "execution_count": 23,
   "metadata": {},
   "outputs": [
    {
     "data": {
      "text/plain": [
       "(tensor(0.0811, device='cuda:0', grad_fn=<MeanBackward0>),\n",
       " tensor(0.0929, device='cuda:0', grad_fn=<MeanBackward0>),\n",
       " tensor(0.0448, device='cuda:0', grad_fn=<MeanBackward0>),\n",
       " tensor(0.0111, device='cuda:0', grad_fn=<MeanBackward0>))"
      ]
     },
     "execution_count": 23,
     "metadata": {},
     "output_type": "execute_result"
    }
   ],
   "source": [
    "gradient_information(model, train_dataset, iters=50, device=device, subset_size=5000), gradient_information(fgsm_model, train_dataset, iters=50, device=device, subset_size=5000), gradient_information(fgsm_model_small, train_dataset, iters=50, device=device, subset_size=5000), gradient_information(step_ll_model, train_dataset, iters=50, device=device, subset_size=5000)"
   ]
  },
  {
   "cell_type": "code",
   "execution_count": 24,
   "metadata": {},
   "outputs": [
    {
     "data": {
      "text/plain": [
       "(tensor(0.0823, device='cuda:0', grad_fn=<MeanBackward0>),\n",
       " tensor(0.0832, device='cuda:0', grad_fn=<MeanBackward0>),\n",
       " tensor(0.0253, device='cuda:0', grad_fn=<MeanBackward0>),\n",
       " tensor(0.0174, device='cuda:0', grad_fn=<MeanBackward0>))"
      ]
     },
     "execution_count": 24,
     "metadata": {},
     "output_type": "execute_result"
    }
   ],
   "source": [
    "gradient_information(model, test_dataset, iters=50, device=device, subset_size=5000), gradient_information(fgsm_model, test_dataset, iters=50, device=device, subset_size=5000), gradient_information(fgsm_model_small, test_dataset, iters=50, device=device, subset_size=5000), gradient_information(step_ll_model, test_dataset, iters=50, device=device, subset_size=5000)"
   ]
  }
 ],
 "metadata": {
  "kernelspec": {
   "display_name": "Python 3",
   "language": "python",
   "name": "python3"
  },
  "language_info": {
   "codemirror_mode": {
    "name": "ipython",
    "version": 3
   },
   "file_extension": ".py",
   "mimetype": "text/x-python",
   "name": "python",
   "nbconvert_exporter": "python",
   "pygments_lexer": "ipython3",
   "version": "3.8.5"
  }
 },
 "nbformat": 4,
 "nbformat_minor": 4
}
